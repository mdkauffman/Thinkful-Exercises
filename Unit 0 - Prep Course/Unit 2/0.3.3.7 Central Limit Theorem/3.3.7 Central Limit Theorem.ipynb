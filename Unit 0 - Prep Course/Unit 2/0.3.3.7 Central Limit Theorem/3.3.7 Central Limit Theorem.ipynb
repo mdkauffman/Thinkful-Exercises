{
 "cells": [
  {
   "cell_type": "code",
   "execution_count": 248,
   "metadata": {},
   "outputs": [],
   "source": [
    "import matplotlib.pyplot as plt\n",
    "import numpy as np\n",
    "import pandas as pd\n",
    "%matplotlib inline"
   ]
  },
  {
   "cell_type": "code",
   "execution_count": 264,
   "metadata": {},
   "outputs": [
    {
     "name": "stdout",
     "output_type": "stream",
     "text": [
      "2.02\n",
      "1.356318546654878\n",
      "5.05\n",
      "1.6209565077447328\n"
     ]
    }
   ],
   "source": [
    "pop1 = np.random.binomial(10, 0.2, 10000)\n",
    "pop2 = np.random.binomial(10,0.5, 10000) \n",
    "\n",
    "sample1 = np.random.choice(pop1, 100, replace=True)\n",
    "sample2 = np.random.choice(pop2, 100, replace=True)\n",
    "\n",
    "print(sample1.mean())\n",
    "print(sample1.std())\n",
    "\n",
    "print(sample2.mean())\n",
    "print(sample2.std())\n"
   ]
  },
  {
   "cell_type": "code",
   "execution_count": 283,
   "metadata": {},
   "outputs": [
    {
     "name": "stdout",
     "output_type": "stream",
     "text": [
      "2.049\n",
      "1.2948355107889187\n",
      "5.03\n",
      "1.6146516652207064\n"
     ]
    }
   ],
   "source": [
    "pop1 = np.random.binomial(10, 0.2, 10000)\n",
    "pop2 = np.random.binomial(10,0.5, 10000) \n",
    "\n",
    "sample1 = np.random.choice(pop1, 1000, replace=True)\n",
    "sample2 = np.random.choice(pop2, 1000, replace=True)\n",
    "\n",
    "print(sample1.mean())\n",
    "print(sample1.std())\n",
    "\n",
    "print(sample2.mean())\n",
    "print(sample2.std())\n"
   ]
  },
  {
   "cell_type": "code",
   "execution_count": 287,
   "metadata": {},
   "outputs": [
    {
     "name": "stdout",
     "output_type": "stream",
     "text": [
      "1.8\n",
      "1.32664991614216\n",
      "5.25\n",
      "1.9461500456028564\n"
     ]
    }
   ],
   "source": [
    "pop1 = np.random.binomial(10, 0.2, 10000)\n",
    "pop2 = np.random.binomial(10,0.5, 10000) \n",
    "\n",
    "sample1 = np.random.choice(pop1, 20, replace=True)\n",
    "sample2 = np.random.choice(pop2, 20, replace=True)\n",
    "\n",
    "print(sample1.mean())\n",
    "print(sample1.std())\n",
    "\n",
    "print(sample2.mean())\n",
    "print(sample2.std())\n",
    "\n"
   ]
  },
  {
   "cell_type": "code",
   "execution_count": 252,
   "metadata": {},
   "outputs": [
    {
     "name": "stdout",
     "output_type": "stream",
     "text": [
      "3.17\n",
      "1.3420506696842707\n",
      "5.23\n",
      "1.5611213918206361\n",
      "10.006368601086644\n",
      "Ttest_indResult(statistic=9.956211049139354, pvalue=4.0470493699716126e-19)\n"
     ]
    }
   ],
   "source": [
    "pop1 = np.random.binomial(10, 0.3, 10000)\n",
    "pop2 = np.random.binomial(10,0.5, 10000) \n",
    "\n",
    "sample1 = np.random.choice(pop1, 100, replace=True)\n",
    "sample2 = np.random.choice(pop2, 100, replace=True)\n",
    "\n",
    "print(sample1.mean())\n",
    "print(sample1.std())\n",
    "\n",
    "print(sample2.mean())\n",
    "print(sample2.std())\n",
    "\n",
    "diff=sample2.mean( ) -sample1.mean()\n",
    "size = np.array([len(sample1), len(sample2)])\n",
    "sd = np.array([sample1.std(), sample2.std()])\n",
    "diff_se = (sum(sd ** 2 / size)) ** 0.5  \n",
    "print(diff/diff_se)\n",
    "\n",
    "from scipy.stats import ttest_ind\n",
    "print(ttest_ind(sample2, sample1, equal_var=False))\n"
   ]
  },
  {
   "cell_type": "code",
   "execution_count": 253,
   "metadata": {},
   "outputs": [
    {
     "name": "stdout",
     "output_type": "stream",
     "text": [
      "3.94\n",
      "1.5988746042138515\n",
      "4.8\n",
      "1.6309506430300094\n",
      "3.765416385364591\n",
      "Ttest_indResult(statistic=3.7465419989131874, pvalue=0.0002351343722417068)\n"
     ]
    }
   ],
   "source": [
    "pop1 = np.random.binomial(10, 0.4, 10000)\n",
    "pop2 = np.random.binomial(10,0.5, 10000) \n",
    "\n",
    "sample1 = np.random.choice(pop1, 100, replace=True)\n",
    "sample2 = np.random.choice(pop2, 100, replace=True)\n",
    "\n",
    "print(sample1.mean())\n",
    "print(sample1.std())\n",
    "\n",
    "print(sample2.mean())\n",
    "print(sample2.std())\n",
    "\n",
    "diff=sample2.mean( ) -sample1.mean()\n",
    "size = np.array([len(sample1), len(sample2)])\n",
    "sd = np.array([sample1.std(), sample2.std()])\n",
    "diff_se = (sum(sd ** 2 / size)) ** 0.5  \n",
    "print(diff/diff_se)\n",
    "\n",
    "from scipy.stats import ttest_ind\n",
    "print(ttest_ind(sample2, sample1, equal_var=False))"
   ]
  },
  {
   "cell_type": "code",
   "execution_count": 288,
   "metadata": {},
   "outputs": [
    {
     "name": "stdout",
     "output_type": "stream",
     "text": [
      "pop1\n",
      "9.991479363448043\n",
      "14.251281788910207\n",
      "pop2\n",
      "10.938766598953425\n",
      "140.58036838933634\n",
      "sample1\n",
      "6.474289809929863\n",
      "15.334017348720542\n",
      "sample2\n",
      "13.7456801637689\n",
      "158.17248822571125\n"
     ]
    },
    {
     "data": {
      "image/png": "[encoded data removed]",
      "text/plain": [
       "<Figure size 432x288 with 1 Axes>"
      ]
     },
     "metadata": {
      "needs_background": "light"
     },
     "output_type": "display_data"
    },
    {
     "name": "stdout",
     "output_type": "stream",
     "text": [
      "0.457567558423646\n",
      "Ttest_indResult(statistic=0.45527397225907706, pvalue=0.6498906946598876)\n"
     ]
    }
   ],
   "source": [
    "pop1 = np.random.laplace(10, 10, 10000)\n",
    "pop2 = np.random.laplace(10,100, 10000) \n",
    "\n",
    "sample1 = np.random.choice(pop1, 100, replace=True)\n",
    "sample2 = np.random.choice(pop2, 100, replace=True)\n",
    "print('pop1')\n",
    "print(pop1.mean())\n",
    "print(pop1.std())\n",
    "print('pop2')\n",
    "print(pop2.mean())\n",
    "print(pop2.std())\n",
    "print('sample1')\n",
    "print(sample1.mean())\n",
    "print(sample1.std())\n",
    "print('sample2')\n",
    "print(sample2.mean())\n",
    "print(sample2.std())\n",
    "\n",
    "plt.hist(sample2)\n",
    "plt.hist(sample1)\n",
    "plt.show()\n",
    "\n",
    "diff=sample2.mean( ) -sample1.mean()\n",
    "size = np.array([len(sample1), len(sample2)])\n",
    "sd = np.array([sample1.std(), sample2.std()])\n",
    "diff_se = (sum(sd ** 2 / size)) ** 0.5  \n",
    "print(diff/diff_se)\n",
    "\n",
    "from scipy.stats import ttest_ind\n",
    "print(ttest_ind(sample2, sample1, equal_var=False))"
   ]
  },
  {
   "cell_type": "code",
   "execution_count": 255,
   "metadata": {},
   "outputs": [
    {
     "name": "stdout",
     "output_type": "stream",
     "text": [
      "pop1\n",
      "10.176559022685424\n",
      "14.136659866017492\n",
      "pop2\n",
      "99.90221844018242\n",
      "13.955407593523121\n",
      "sample1\n",
      "8.154966109187237\n",
      "13.13854248491183\n",
      "sample2\n",
      "98.86994995723231\n",
      "15.349925653798508\n"
     ]
    },
    {
     "data": {
      "image/png": "[encoded data removed]",
      "text/plain": [
       "<Figure size 432x288 with 1 Axes>"
      ]
     },
     "metadata": {
      "needs_background": "light"
     },
     "output_type": "display_data"
    },
    {
     "name": "stdout",
     "output_type": "stream",
     "text": [
      "44.897322631760574\n",
      "Ttest_indResult(statistic=44.6722719783245, pvalue=7.554066523177409e-104)\n"
     ]
    }
   ],
   "source": [
    "pop1 = np.random.laplace(10, 10, 10000)\n",
    "pop2 = np.random.laplace(100,10, 10000) \n",
    "\n",
    "sample1 = np.random.choice(pop1, 100, replace=True)\n",
    "sample2 = np.random.choice(pop2, 100, replace=True)\n",
    "print('pop1')\n",
    "print(pop1.mean())\n",
    "print(pop1.std())\n",
    "print('pop2')\n",
    "print(pop2.mean())\n",
    "print(pop2.std())\n",
    "print('sample1')\n",
    "print(sample1.mean())\n",
    "print(sample1.std())\n",
    "print('sample2')\n",
    "print(sample2.mean())\n",
    "print(sample2.std())\n",
    "\n",
    "plt.hist(sample2)\n",
    "plt.hist(sample1)\n",
    "plt.show()\n",
    "\n",
    "diff=sample2.mean( ) -sample1.mean()\n",
    "size = np.array([len(sample1), len(sample2)])\n",
    "sd = np.array([sample1.std(), sample2.std()])\n",
    "diff_se = (sum(sd ** 2 / size)) ** 0.5  \n",
    "print(diff/diff_se)\n",
    "\n",
    "from scipy.stats import ttest_ind\n",
    "print(ttest_ind(sample2, sample1, equal_var=False))"
   ]
  },
  {
   "cell_type": "code",
   "execution_count": null,
   "metadata": {},
   "outputs": [],
   "source": []
  }
 ],
 "metadata": {
  "kernelspec": {
   "display_name": "Python 3",
   "language": "python",
   "name": "python3"
  },
  "language_info": {
   "codemirror_mode": {
    "name": "ipython",
    "version": 3
   },
   "file_extension": ".py",
   "mimetype": "text/x-python",
   "name": "python",
   "nbconvert_exporter": "python",
   "pygments_lexer": "ipython3",
   "version": "3.7.0"
  }
 },
 "nbformat": 4,
 "nbformat_minor": 2
}
