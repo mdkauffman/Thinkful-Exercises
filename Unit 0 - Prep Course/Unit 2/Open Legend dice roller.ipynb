{
 "cells": [
  {
   "cell_type": "code",
   "execution_count": 2,
   "metadata": {
    "scrolled": true
   },
   "outputs": [],
   "source": [
    "import random\n",
    "\n",
    "\n",
    "\n",
    "\n"
   ]
  },
  {
   "cell_type": "code",
   "execution_count": 3,
   "metadata": {},
   "outputs": [],
   "source": [
    "def OLroll(level,advantage):\n",
    "\n",
    "    result = []\n",
    "    total = 0\n",
    "    d20_result = []\n",
    "    first_rolls = []\n",
    "    die_roll = 0\n",
    "    non_d20s = []\n",
    "    initial_result = []\n",
    "    explosions = []\n",
    "    explosion_result = []\n",
    "\n",
    "### setting the number and size of non-d20s based on attribute level\n",
    "    if level == 1:\n",
    "        d_size = 4\n",
    "        d_num = 1\n",
    "    elif level == 2:\n",
    "        d_size = 6\n",
    "        d_num = 1\n",
    "    elif level == 3:\n",
    "        d_size = 8\n",
    "        d_num = 1\n",
    "    elif level == 4:\n",
    "        d_size = 10\n",
    "        d_num = 1\n",
    "    elif level == 5:\n",
    "        d_size = 6\n",
    "        d_num = 2\n",
    "    elif level == 6:\n",
    "        d_size = 8\n",
    "        d_num = 2\n",
    "    elif level == 7:\n",
    "        d_size = 10\n",
    "        d_num = 2\n",
    "    elif level == 8:\n",
    "        d_size = 8\n",
    "        d_num = 3\n",
    "    elif level == 9:\n",
    "        d_size = 10\n",
    "        d_num = 3\n",
    "    elif level == 10:\n",
    "        d_size = 8\n",
    "        d_num = 4\n",
    "\n",
    "### setting number of non-d20s to roll based on level and advantage/disadvantage\n",
    "    total_dice = list(range(0,(d_num + abs(advantage))))\n",
    "\n",
    "### rolling the d20s\n",
    "    d20 = int(random.uniform(1, 21))\n",
    "    result.append(d20)\n",
    "    d20_result.append(d20)\n",
    "\n",
    "    for x in range(20):\n",
    "        if d20 != 20:\n",
    "            break\n",
    "        d20_x = int(random.uniform(1, 21))\n",
    "        explosion_result.append(d20_x)\n",
    "        result.append(d20_x)\n",
    "        d20_result.append(d20_x)\n",
    "        if d20_x != 20:\n",
    "            break\n",
    "            \n",
    "### rolling the non-d20s\n",
    "    for x in total_dice:\n",
    "        die_roll = int(random.uniform(1,(d_size + 1)))\n",
    "        first_rolls.append(die_roll)\n",
    "    first_rolls.sort()\n",
    "    print(first_rolls)\n",
    "    for x in range(d_num):\n",
    "        if advantage < 0:\n",
    "            initial_result.append(first_rolls[0])\n",
    "            del first_rolls[0]\n",
    "        else:\n",
    "            initial_result.append(first_rolls[-1])\n",
    "            del first_rolls[-1]\n",
    "\n",
    "### exploding the non-d20s\n",
    "    for x in initial_result:\n",
    "        if x == d_size:\n",
    "            die_roll = int(random.uniform(1,(d_size + 1)))\n",
    "            initial_result.append(die_roll)\n",
    "            explosion_result.append(die_roll)\n",
    "\n",
    "### adding up the final results\n",
    "    result += initial_result\n",
    "\n",
    "    print('The d20 rolls were: ' + str(d20_result))\n",
    "    print('The initial rolls were: ' + str(initial_result))\n",
    "    print('The explosions were: ' + str(explosion_result))\n",
    "    print('The final rolls are: ' + str(result))\n",
    "    print('The total is: ' + str(sum(result)))\n",
    "\n",
    "    total = sum(result)\n",
    "    \n",
    "    return total\n",
    "    \n",
    "    \n",
    "\n"
   ]
  },
  {
   "cell_type": "code",
   "execution_count": 111,
   "metadata": {
    "scrolled": false
   },
   "outputs": [
    {
     "name": "stdout",
     "output_type": "stream",
     "text": [
      "[1, 3, 5, 6]\n",
      "The d20 rolls were: [14]\n",
      "The initial rolls were: [6, 5, 3]\n",
      "The explosions were: [3]\n",
      "The final rolls are: [14, 6, 5, 3]\n",
      "The total is: 28\n"
     ]
    },
    {
     "data": {
      "text/plain": [
       "28"
      ]
     },
     "execution_count": 111,
     "metadata": {},
     "output_type": "execute_result"
    }
   ],
   "source": [
    "OLroll(2,1)\n"
   ]
  },
  {
   "cell_type": "code",
   "execution_count": null,
   "metadata": {},
   "outputs": [],
   "source": []
  },
  {
   "cell_type": "code",
   "execution_count": null,
   "metadata": {},
   "outputs": [],
   "source": []
  }
 ],
 "metadata": {
  "kernelspec": {
   "display_name": "Python 3",
   "language": "python",
   "name": "python3"
  },
  "language_info": {
   "codemirror_mode": {
    "name": "ipython",
    "version": 3
   },
   "file_extension": ".py",
   "mimetype": "text/x-python",
   "name": "python",
   "nbconvert_exporter": "python",
   "pygments_lexer": "ipython3",
   "version": "3.7.0"
  }
 },
 "nbformat": 4,
 "nbformat_minor": 2
}
