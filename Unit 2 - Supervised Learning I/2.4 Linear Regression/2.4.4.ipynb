{
 "cells": [
  {
   "cell_type": "code",
   "execution_count": 367,
   "metadata": {},
   "outputs": [],
   "source": [
    "%matplotlib inline\n",
    "import numpy as np\n",
    "import pandas as pd\n",
    "import scipy\n",
    "import sklearn\n",
    "import matplotlib.pyplot as plt\n",
    "import seaborn as sns\n",
    "pd.set_option('display.max_rows', 1000)\n",
    "import math\n",
    "import warnings\n",
    "from sklearn import linear_model\n",
    "\n",
    "from IPython.display import display\n",
    "\n",
    "# Display preferences.\n",
    "%matplotlib inline\n",
    "pd.options.display.float_format = '{:.3f}'.format\n",
    "\n",
    "# Suppress annoying harmless error.\n",
    "warnings.filterwarnings(\n",
    "    action=\"ignore\",\n",
    "    module=\"scipy\",\n",
    "    message=\"^internal gelsd\"\n",
    ")\n",
    "\n",
    "from sklearn.metrics import confusion_matrix\n",
    "from sklearn.naive_bayes import BernoulliNB\n",
    "from sklearn.model_selection import train_test_split\n",
    "from sklearn.model_selection import cross_val_score"
   ]
  },
  {
   "cell_type": "code",
   "execution_count": 393,
   "metadata": {},
   "outputs": [],
   "source": [
    "# Grab and process the raw data.\n",
    "#crimestats_baseline = pd.read_csv('table_8_offenses_known_to_law_enforcement_new_york_by_city_2013.csv')\n",
    "crimestats_baseline = pd.read_csv('Thinkful 2_4 dataframe.csv')\n",
    "crimestats = crimestats_baseline"
   ]
  },
  {
   "cell_type": "code",
   "execution_count": 371,
   "metadata": {},
   "outputs": [
    {
     "data": {
      "text/html": [
       "<div>\n",
       "<style scoped>\n",
       "    .dataframe tbody tr th:only-of-type {\n",
       "        vertical-align: middle;\n",
       "    }\n",
       "\n",
       "    .dataframe tbody tr th {\n",
       "        vertical-align: top;\n",
       "    }\n",
       "\n",
       "    .dataframe thead th {\n",
       "        text-align: right;\n",
       "    }\n",
       "</style>\n",
       "<table border=\"1\" class=\"dataframe\">\n",
       "  <thead>\n",
       "    <tr style=\"text-align: right;\">\n",
       "      <th></th>\n",
       "      <th>City</th>\n",
       "      <th>Population</th>\n",
       "      <th>Violent_Crime</th>\n",
       "      <th>Murder_and_Nonnegligent_Manslaughter</th>\n",
       "      <th>Rape_Legacy</th>\n",
       "      <th>Robbery</th>\n",
       "      <th>Aggravated_Assault</th>\n",
       "      <th>Property_Crime</th>\n",
       "      <th>Burglary</th>\n",
       "      <th>Larceny_Theft</th>\n",
       "      <th>Motor_Vehicle_Theft</th>\n",
       "    </tr>\n",
       "  </thead>\n",
       "  <tbody>\n",
       "    <tr>\n",
       "      <th>4</th>\n",
       "      <td>Adams Village</td>\n",
       "      <td>1,861</td>\n",
       "      <td>0</td>\n",
       "      <td>0</td>\n",
       "      <td>0</td>\n",
       "      <td>0</td>\n",
       "      <td>0</td>\n",
       "      <td>12</td>\n",
       "      <td>2</td>\n",
       "      <td>10</td>\n",
       "      <td>0</td>\n",
       "    </tr>\n",
       "    <tr>\n",
       "      <th>5</th>\n",
       "      <td>Addison Town and Village</td>\n",
       "      <td>2,577</td>\n",
       "      <td>3</td>\n",
       "      <td>0</td>\n",
       "      <td>0</td>\n",
       "      <td>0</td>\n",
       "      <td>3</td>\n",
       "      <td>24</td>\n",
       "      <td>3</td>\n",
       "      <td>20</td>\n",
       "      <td>1</td>\n",
       "    </tr>\n",
       "  </tbody>\n",
       "</table>\n",
       "</div>"
      ],
      "text/plain": [
       "                       City Population Violent_Crime  \\\n",
       "4             Adams Village      1,861             0   \n",
       "5  Addison Town and Village      2,577             3   \n",
       "\n",
       "  Murder_and_Nonnegligent_Manslaughter Rape_Legacy Robbery Aggravated_Assault  \\\n",
       "4                                    0           0       0                  0   \n",
       "5                                    0           0       0                  3   \n",
       "\n",
       "  Property_Crime Burglary Larceny_Theft Motor_Vehicle_Theft  \n",
       "4             12        2            10                   0  \n",
       "5             24        3            20                   1  "
      ]
     },
     "execution_count": 371,
     "metadata": {},
     "output_type": "execute_result"
    }
   ],
   "source": [
    "\n",
    "crimestats.head(2)\n"
   ]
  },
  {
   "cell_type": "code",
   "execution_count": 394,
   "metadata": {},
   "outputs": [],
   "source": [
    "# renaming the columns to fix the non-standard text in them\n",
    "crimestats.columns = ['City', 'Population', 'Violent_Crime', 'Murder_and_Nonnegligent_Manslaughter', 'Rape_Revised','Rape_Legacy','Robbery','Aggravated_Assault','Property_Crime','Burglary','Larceny_Theft','Motor_Vehicle_Theft','Arson']\n",
    "\n",
    "#dropping the first four rows to remove the non-numeric title fluff\n",
    "crimestats.drop([0,1,2,3], axis=0, inplace=True)\n",
    "\n",
    "#dropping the last three rows to remove the non-numeric title fluff\n",
    "crimestats.drop([352,353,354], axis=0, inplace=True)\n",
    "\n",
    "# dropping the Rape 1 column due to it not having any contents\n",
    "crimestats.drop('Rape_Revised', axis=1, inplace=True)\n",
    "\n",
    "# dropping the Arson column due to it having so many NaN values\n",
    "crimestats.drop('Arson', axis=1, inplace=True)\n",
    "\n",
    "# Remove 293: Seneca Falls Town due to the massive differential in per-1000-people burglary, property crime, \n",
    "# and larceny that it has relative to other cities.\n",
    "# Remove 220: New York (city) because of just how much of an outlier it is from the rest of the cities.\n",
    "crimestats.drop(293, axis=0, inplace=True)\n",
    "crimestats.drop(220, axis=0, inplace=True)\n",
    "\n",
    "# Removing outliers that showed up in model execution\n",
    "crimestats.drop(7, axis=0, inplace=True)\n",
    "crimestats.drop(11, axis=0, inplace=True)\n",
    "crimestats.drop(39, axis=0, inplace=True)\n",
    "crimestats.drop(130, axis=0, inplace=True)\n",
    "crimestats.drop(276, axis=0, inplace=True)\n",
    "crimestats.drop(314, axis=0, inplace=True)\n",
    "crimestats.drop(350, axis=0, inplace=True)\n",
    "\n"
   ]
  },
  {
   "cell_type": "code",
   "execution_count": 395,
   "metadata": {},
   "outputs": [],
   "source": [
    "# cleaning up the data by removing commas and changing the contents from str to int\n",
    "\n",
    "def comma_cleaning_and_int(x):\n",
    "    crimestats[x] = crimestats[x].str.replace(',', '')\n",
    "    crimestats[x] = crimestats[x].astype(int)\n",
    "\n",
    "comma_cleaning_and_int('Population')\n",
    "comma_cleaning_and_int('Violent_Crime')\n",
    "comma_cleaning_and_int('Murder_and_Nonnegligent_Manslaughter')\n",
    "comma_cleaning_and_int('Rape_Legacy')\n",
    "comma_cleaning_and_int('Robbery')\n",
    "comma_cleaning_and_int('Aggravated_Assault')\n",
    "comma_cleaning_and_int('Property_Crime')\n",
    "comma_cleaning_and_int('Burglary')\n",
    "comma_cleaning_and_int('Larceny_Theft')\n",
    "comma_cleaning_and_int('Motor_Vehicle_Theft')\n"
   ]
  },
  {
   "cell_type": "code",
   "execution_count": 396,
   "metadata": {},
   "outputs": [],
   "source": [
    "# adding in features requested in the drill\n",
    "\n",
    "def yesno(x):\n",
    "    if x > 0:\n",
    "        return 1\n",
    "    else:\n",
    "        return 0\n",
    "\n",
    "crimestats['murder_yesno'] = crimestats.apply(lambda row: yesno(row['Murder_and_Nonnegligent_Manslaughter']), axis=1)\n",
    "\n",
    "crimestats['robbery_yesno'] = crimestats.apply(lambda row: yesno(row['Robbery']), axis=1)\n"
   ]
  },
  {
   "cell_type": "code",
   "execution_count": 397,
   "metadata": {},
   "outputs": [],
   "source": [
    "# creating features using the ratio of crime to population\n",
    "\n",
    "def popratio(x,y):\n",
    "    return (1000*(x/y))\n",
    "\n",
    "crimestats['violent_crime_per1000'] = 1000 * crimestats['Violent_Crime'] / crimestats['Population']\n",
    "\n",
    "crimestats['murder_per1000'] = 1000 * crimestats['Murder_and_Nonnegligent_Manslaughter'] / crimestats['Population']\n",
    "\n",
    "crimestats['rape_per1000'] = 1000 * crimestats['Rape_Legacy'] / crimestats['Population']\n",
    "\n",
    "crimestats['robbery_per1000'] = 1000 * crimestats['Robbery'] / crimestats['Population']\n",
    "\n",
    "crimestats['assault_per1000'] = 1000 * crimestats['Aggravated_Assault'] / crimestats['Population']\n",
    "\n",
    "crimestats['propertycrime_per1000'] = 1000 * crimestats['Property_Crime'] / crimestats['Population']\n",
    "\n",
    "crimestats['burglary_per1000'] = 1000 * crimestats['Burglary'] / crimestats['Population']\n",
    "\n",
    "crimestats['larceny_per1000'] = 1000 * crimestats['Larceny_Theft'] / crimestats['Population']\n",
    "\n",
    "crimestats['motorvehicle_crime_per1000'] = 1000 * crimestats['Motor_Vehicle_Theft'] / crimestats['Population']\n"
   ]
  },
  {
   "cell_type": "code",
   "execution_count": 398,
   "metadata": {},
   "outputs": [
    {
     "data": {
      "image/png": "[encoded data removed]",
      "text/plain": [
       "<Figure size 1080x1080 with 9 Axes>"
      ]
     },
     "metadata": {},
     "output_type": "display_data"
    }
   ],
   "source": [
    "# boxplots to find the outliers in each per-1000 variable\n",
    "\n",
    "sns.set(style=\"whitegrid\")\n",
    "plt.figure(figsize=(15, 15))\n",
    "plt.subplot(3, 3, 1)\n",
    "sns.boxplot(y = 'violent_crime_per1000', data=crimestats, palette='pastel')  \n",
    "plt.subplot(3, 3, 2)\n",
    "sns.boxplot(y = 'murder_per1000', data=crimestats, palette='pastel')  \n",
    "plt.subplot(3, 3, 3)\n",
    "sns.boxplot(y = 'rape_per1000', data=crimestats, palette='pastel')  \n",
    "plt.subplot(3, 3, 4)\n",
    "sns.boxplot(y = 'robbery_per1000', data=crimestats, palette='pastel')  \n",
    "plt.subplot(3, 3, 5)\n",
    "sns.boxplot(y = 'assault_per1000', data=crimestats, palette='pastel')  \n",
    "plt.subplot(3, 3, 6)\n",
    "sns.boxplot(y = 'propertycrime_per1000', data=crimestats, palette='pastel')  \n",
    "plt.subplot(3, 3, 7)\n",
    "sns.boxplot(y = 'burglary_per1000', data=crimestats, palette='pastel')  \n",
    "plt.subplot(3, 3, 8)\n",
    "sns.boxplot(y = 'larceny_per1000', data=crimestats, palette='pastel')  \n",
    "plt.subplot(3, 3, 9)\n",
    "sns.boxplot(y = 'motorvehicle_crime_per1000', data=crimestats, palette='pastel')  \n",
    "plt.show()\n",
    "\n"
   ]
  },
  {
   "cell_type": "code",
   "execution_count": 399,
   "metadata": {},
   "outputs": [
    {
     "name": "stdout",
     "output_type": "stream",
     "text": [
      "              City  violent_crime_per1000\n",
      "213       Newburgh                 15.225\n",
      "222  Niagara Falls                 11.780\n",
      " \n",
      "                     City  murder_per1000\n",
      "144     Hempstead Village           0.181\n",
      "213              Newburgh           0.175\n",
      "266          Poughkeepsie           0.227\n",
      "285  Saranac Lake Village           0.186\n",
      " \n",
      "                 City  rape_per1000\n",
      "145  Herkimer Village         1.170\n",
      "184     Lyons Village         1.411\n",
      "300    Sidney Village         1.051\n",
      " \n",
      "         City  robbery_per1000\n",
      "213  Newburgh            5.250\n",
      " \n",
      "                  City  assault_per1000\n",
      "213           Newburgh            9.065\n",
      "222      Niagara Falls            8.129\n",
      "348  Woodridge Village            8.444\n",
      " \n",
      "                     City  propertycrime_per1000\n",
      "159  Johnson City Village                 63.837\n",
      " \n",
      "                   City  burglary_per1000\n",
      "203  Monticello Village            16.256\n",
      "222       Niagara Falls            15.048\n",
      " \n",
      "                     City  larceny_per1000\n",
      "159  Johnson City Village           55.698\n",
      " \n",
      "                       City  motorvehicle_crime_per1000\n",
      "235  Old Brookville Village                       4.606\n"
     ]
    }
   ],
   "source": [
    "# figuring out whether the outliers were specific cities, and whether or not they needed to be removed\n",
    "\n",
    "print(crimestats.loc[crimestats['violent_crime_per1000'] > 10, ['City', 'violent_crime_per1000']])\n",
    "print(' ')\n",
    "print(crimestats.loc[crimestats['murder_per1000'] > .16, ['City', 'murder_per1000']])\n",
    "print(' ')\n",
    "print(crimestats.loc[crimestats['rape_per1000'] > 1, ['City', 'rape_per1000']])\n",
    "print(' ')\n",
    "print(crimestats.loc[crimestats['robbery_per1000'] > 4, ['City', 'robbery_per1000']])\n",
    "print(' ')\n",
    "print(crimestats.loc[crimestats['assault_per1000'] > 6, ['City', 'assault_per1000']])\n",
    "print(' ')\n",
    "print(crimestats.loc[crimestats['propertycrime_per1000'] > 60, ['City', 'propertycrime_per1000']])\n",
    "print(' ')\n",
    "print(crimestats.loc[crimestats['burglary_per1000'] > 15, ['City', 'burglary_per1000']])\n",
    "print(' ')\n",
    "print(crimestats.loc[crimestats['larceny_per1000'] > 55, ['City', 'larceny_per1000']])\n",
    "print(' ')\n",
    "print(crimestats.loc[crimestats['motorvehicle_crime_per1000'] > 3, ['City', 'motorvehicle_crime_per1000']])\n"
   ]
  },
  {
   "cell_type": "code",
   "execution_count": 400,
   "metadata": {},
   "outputs": [],
   "source": [
    "crimestats['propertycrime_per1000_sqrt'] = crimestats['propertycrime_per1000']**.5\n",
    "# crimestats['propertycrime_per1000_log'] = np.log(crimestats['propertycrime_per1000'])"
   ]
  },
  {
   "cell_type": "code",
   "execution_count": 448,
   "metadata": {},
   "outputs": [
    {
     "name": "stdout",
     "output_type": "stream",
     "text": [
      "\n",
      "Coefficients: \n",
      " [[ 2.22499968e-02 -2.06503592e+01 -9.95300286e+01  5.10397433e+01\n",
      "   1.37420313e+01]]\n",
      "\n",
      "Intercept: \n",
      " [-153.89390278]\n",
      "\n",
      "R-squared:\n",
      "0.8331482517668788\n"
     ]
    }
   ],
   "source": [
    "# Instantiate and fit our model.\n",
    "regr = linear_model.LinearRegression()\n",
    "Y = crimestats['Property_Crime'].values.reshape(-1, 1)\n",
    "X = crimestats[['Population','propertycrime_per1000_sqrt', 'robbery_yesno', 'violent_crime_per1000', 'larceny_per1000']]\n",
    "regr.fit(X, Y)\n",
    "\n",
    "# Inspect the results.\n",
    "print('\\nCoefficients: \\n', regr.coef_)\n",
    "print('\\nIntercept: \\n', regr.intercept_)\n",
    "print('\\nR-squared:')\n",
    "print(regr.score(X, Y))"
   ]
  },
  {
   "cell_type": "markdown",
   "metadata": {},
   "source": [
    "Feature selection is based on basic logic and trial-and-error.  \n",
    "\n",
    "Population is critical otherwise the model has no basis for how much property crime to estimate for a city.  Property crime per 1000 (square root) is likewise a necessity for teaching the model how much property crime is normal for a city, without using any correlation with population size.  The square root was used because it produced a more normal residual result than the unmodified feature.\n",
    "\n",
    "Robbery_yesno was used because it offered a categorical value for property-related crimes, and seemed to have a positive effect on the model.  Violent crime per 1000 was used because it offered another measure of crime that wasn't heavily correlated with property crime.  Larceny per 1000 was chosen during an experimental run because of its more-representational boxplot, and kept (despite its heavy correlation with property crime per 1000) because it seemed to reduce overfitting.\n",
    "\n",
    "\n",
    "On a side note, I am uncertain as to how to merge two or more features into one using PCA.  Any suggestions or pointers would be appreciated."
   ]
  },
  {
   "cell_type": "code",
   "execution_count": 451,
   "metadata": {},
   "outputs": [
    {
     "data": {
      "text/html": [
       "<div>\n",
       "<style scoped>\n",
       "    .dataframe tbody tr th:only-of-type {\n",
       "        vertical-align: middle;\n",
       "    }\n",
       "\n",
       "    .dataframe tbody tr th {\n",
       "        vertical-align: top;\n",
       "    }\n",
       "\n",
       "    .dataframe thead th {\n",
       "        text-align: right;\n",
       "    }\n",
       "</style>\n",
       "<table border=\"1\" class=\"dataframe\">\n",
       "  <thead>\n",
       "    <tr style=\"text-align: right;\">\n",
       "      <th></th>\n",
       "      <th>Population</th>\n",
       "      <th>propertycrime_per1000_sqrt</th>\n",
       "      <th>robbery_yesno</th>\n",
       "      <th>violent_crime_per1000</th>\n",
       "      <th>larceny_per1000</th>\n",
       "    </tr>\n",
       "  </thead>\n",
       "  <tbody>\n",
       "    <tr>\n",
       "      <th>Population</th>\n",
       "      <td>1.000</td>\n",
       "      <td>0.186</td>\n",
       "      <td>0.458</td>\n",
       "      <td>0.305</td>\n",
       "      <td>0.131</td>\n",
       "    </tr>\n",
       "    <tr>\n",
       "      <th>propertycrime_per1000_sqrt</th>\n",
       "      <td>0.186</td>\n",
       "      <td>1.000</td>\n",
       "      <td>0.485</td>\n",
       "      <td>0.513</td>\n",
       "      <td>0.950</td>\n",
       "    </tr>\n",
       "    <tr>\n",
       "      <th>robbery_yesno</th>\n",
       "      <td>0.458</td>\n",
       "      <td>0.485</td>\n",
       "      <td>1.000</td>\n",
       "      <td>0.326</td>\n",
       "      <td>0.435</td>\n",
       "    </tr>\n",
       "    <tr>\n",
       "      <th>violent_crime_per1000</th>\n",
       "      <td>0.305</td>\n",
       "      <td>0.513</td>\n",
       "      <td>0.326</td>\n",
       "      <td>1.000</td>\n",
       "      <td>0.433</td>\n",
       "    </tr>\n",
       "    <tr>\n",
       "      <th>larceny_per1000</th>\n",
       "      <td>0.131</td>\n",
       "      <td>0.950</td>\n",
       "      <td>0.435</td>\n",
       "      <td>0.433</td>\n",
       "      <td>1.000</td>\n",
       "    </tr>\n",
       "  </tbody>\n",
       "</table>\n",
       "</div>"
      ],
      "text/plain": [
       "                            Population  propertycrime_per1000_sqrt  \\\n",
       "Population                       1.000                       0.186   \n",
       "propertycrime_per1000_sqrt       0.186                       1.000   \n",
       "robbery_yesno                    0.458                       0.485   \n",
       "violent_crime_per1000            0.305                       0.513   \n",
       "larceny_per1000                  0.131                       0.950   \n",
       "\n",
       "                            robbery_yesno  violent_crime_per1000  \\\n",
       "Population                          0.458                  0.305   \n",
       "propertycrime_per1000_sqrt          0.485                  0.513   \n",
       "robbery_yesno                       1.000                  0.326   \n",
       "violent_crime_per1000               0.326                  1.000   \n",
       "larceny_per1000                     0.435                  0.433   \n",
       "\n",
       "                            larceny_per1000  \n",
       "Population                            0.131  \n",
       "propertycrime_per1000_sqrt            0.950  \n",
       "robbery_yesno                         0.435  \n",
       "violent_crime_per1000                 0.433  \n",
       "larceny_per1000                       1.000  "
      ]
     },
     "metadata": {},
     "output_type": "display_data"
    },
    {
     "data": {
      "text/plain": [
       "array([0.83682193, 0.8845385 , 0.53002457, 0.81486359, 0.83164823,\n",
       "       0.76543859, 0.80814699, 0.43553427, 0.85978159, 0.84998471])"
      ]
     },
     "execution_count": 451,
     "metadata": {},
     "output_type": "execute_result"
    }
   ],
   "source": [
    "predicted = regr.predict(X).ravel()\n",
    "actual = crimestats['Property_Crime']\n",
    "residual = actual - predicted\n",
    "\n",
    "correlation_matrix = X.corr()\n",
    "display(correlation_matrix)\n",
    "\n",
    "# Cross Validation, 10 samples\n",
    "sklearn.model_selection.cross_val_score(regr, X, Y, cv = 10)"
   ]
  },
  {
   "cell_type": "markdown",
   "metadata": {},
   "source": [
    "Cross validation seems to indicate there are still fitting issues with the model, as two of the ten results are around -.3 from the mean of the rest."
   ]
  },
  {
   "cell_type": "code",
   "execution_count": 452,
   "metadata": {},
   "outputs": [
    {
     "data": {
      "image/png": "[encoded data removed]",
      "text/plain": [
       "<Figure size 432x288 with 1 Axes>"
      ]
     },
     "metadata": {},
     "output_type": "display_data"
    }
   ],
   "source": [
    "plt.hist(residual)\n",
    "plt.title('Residual counts')\n",
    "plt.xlabel('Residual')\n",
    "plt.ylabel('Count')\n",
    "plt.show()"
   ]
  },
  {
   "cell_type": "code",
   "execution_count": 453,
   "metadata": {},
   "outputs": [
    {
     "data": {
      "image/png": "[encoded data removed]",
      "text/plain": [
       "<Figure size 432x288 with 1 Axes>"
      ]
     },
     "metadata": {},
     "output_type": "display_data"
    }
   ],
   "source": [
    "plt.scatter(predicted, residual)\n",
    "plt.xlabel('Predicted')\n",
    "plt.ylabel('Residual')\n",
    "plt.axhline(y=0)\n",
    "plt.title('Residual vs. Predicted')\n",
    "plt.show()\n",
    "\n"
   ]
  },
  {
   "cell_type": "code",
   "execution_count": 455,
   "metadata": {},
   "outputs": [
    {
     "name": "stdout",
     "output_type": "stream",
     "text": [
      "(271, 5) (271, 1)\n",
      "(68, 5) (68, 1)\n",
      "Score: 0.871659516223968\n"
     ]
    },
    {
     "data": {
      "text/plain": [
       "Text(0, 0.5, 'Predictions')"
      ]
     },
     "execution_count": 455,
     "metadata": {},
     "output_type": "execute_result"
    },
    {
     "data": {
      "image/png": "[encoded data removed]",
      "text/plain": [
       "<Figure size 432x288 with 1 Axes>"
      ]
     },
     "metadata": {},
     "output_type": "display_data"
    }
   ],
   "source": [
    "# Holdout, test size 20%\n",
    "X_train, X_test, y_train, y_test = train_test_split(X, Y, test_size=0.2, random_state=3)\n",
    "\n",
    "print(X_train.shape, y_train.shape)\n",
    "print(X_test.shape, y_test.shape)\n",
    "\n",
    "model = regr.fit(X_train, y_train)\n",
    "predictions = regr.predict(X_test)\n",
    "print('Score: ' + str(model.score(X_test, y_test)))\n",
    "\n",
    "plt.scatter(y_test, predictions)\n",
    "plt.xlabel('True Values')\n",
    "plt.ylabel('Predictions')\n",
    "\n"
   ]
  },
  {
   "cell_type": "markdown",
   "metadata": {},
   "source": []
  },
  {
   "cell_type": "code",
   "execution_count": 444,
   "metadata": {},
   "outputs": [
    {
     "data": {
      "text/plain": [
       "31887.48788575339"
      ]
     },
     "execution_count": 444,
     "metadata": {},
     "output_type": "execute_result"
    }
   ],
   "source": [
    "sklearn.metrics.mean_squared_error(actual, predicted)"
   ]
  },
  {
   "cell_type": "code",
   "execution_count": 445,
   "metadata": {},
   "outputs": [
    {
     "name": "stdout",
     "output_type": "stream",
     "text": [
      "Empty DataFrame\n",
      "Columns: [City, Population, Property_Crime, predictions]\n",
      "Index: []\n"
     ]
    }
   ],
   "source": [
    "# A survey of the predicted results to see which are excessive outliers; \n",
    "# most were removed in order to improve model performance.\n",
    "\n",
    "cs_results = crimestats\n",
    "cs_results['predictions'] = predicted\n",
    "\n",
    "print(cs_results.loc[cs_results['predictions'] > 3000, ['City', 'Population','Property_Crime','predictions']])\n"
   ]
  },
  {
   "cell_type": "code",
   "execution_count": null,
   "metadata": {},
   "outputs": [],
   "source": []
  }
 ],
 "metadata": {
  "kernelspec": {
   "display_name": "Python 3",
   "language": "python",
   "name": "python3"
  },
  "language_info": {
   "codemirror_mode": {
    "name": "ipython",
    "version": 3
   },
   "file_extension": ".py",
   "mimetype": "text/x-python",
   "name": "python",
   "nbconvert_exporter": "python",
   "pygments_lexer": "ipython3",
   "version": "3.7.0"
  }
 },
 "nbformat": 4,
 "nbformat_minor": 2
}
