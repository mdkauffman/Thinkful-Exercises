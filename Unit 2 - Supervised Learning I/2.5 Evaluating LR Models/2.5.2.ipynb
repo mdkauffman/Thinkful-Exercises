{
 "cells": [
  {
   "cell_type": "code",
   "execution_count": 6,
   "metadata": {},
   "outputs": [],
   "source": [
    "%matplotlib inline\n",
    "import numpy as np\n",
    "import pandas as pd\n",
    "import scipy\n",
    "import sklearn\n",
    "import matplotlib.pyplot as plt\n",
    "import seaborn as sns\n",
    "pd.set_option('display.max_rows', 1000)\n",
    "import math\n",
    "import warnings\n",
    "from sklearn import linear_model\n",
    "\n",
    "from IPython.display import display\n",
    "\n",
    "# Display preferences.\n",
    "%matplotlib inline\n",
    "pd.options.display.float_format = '{:.3f}'.format\n",
    "\n",
    "# Suppress annoying harmless error.\n",
    "warnings.filterwarnings(\n",
    "    action=\"ignore\",\n",
    "    module=\"scipy\",\n",
    "    message=\"^internal gelsd\"\n",
    ")\n",
    "\n",
    "from sklearn.metrics import confusion_matrix\n",
    "from sklearn.naive_bayes import BernoulliNB\n",
    "from sklearn.model_selection import train_test_split\n",
    "from sklearn.model_selection import cross_val_score\n",
    "\n"
   ]
  },
  {
   "cell_type": "code",
   "execution_count": 7,
   "metadata": {},
   "outputs": [],
   "source": [
    "# Grab and process the raw data.\n",
    "#crimestats_baseline = pd.read_csv('table_8_offenses_known_to_law_enforcement_new_york_by_city_2013.csv')\n",
    "crimestats_baseline = pd.read_csv('Thinkful 2_4 dataframe.csv')\n",
    "crimestats = crimestats_baseline"
   ]
  },
  {
   "cell_type": "code",
   "execution_count": 8,
   "metadata": {},
   "outputs": [
    {
     "data": {
      "text/html": [
       "<div>\n",
       "<style scoped>\n",
       "    .dataframe tbody tr th:only-of-type {\n",
       "        vertical-align: middle;\n",
       "    }\n",
       "\n",
       "    .dataframe tbody tr th {\n",
       "        vertical-align: top;\n",
       "    }\n",
       "\n",
       "    .dataframe thead th {\n",
       "        text-align: right;\n",
       "    }\n",
       "</style>\n",
       "<table border=\"1\" class=\"dataframe\">\n",
       "  <thead>\n",
       "    <tr style=\"text-align: right;\">\n",
       "      <th></th>\n",
       "      <th>Table 8</th>\n",
       "      <th>Unnamed: 1</th>\n",
       "      <th>Unnamed: 2</th>\n",
       "      <th>Unnamed: 3</th>\n",
       "      <th>Unnamed: 4</th>\n",
       "      <th>Unnamed: 5</th>\n",
       "      <th>Unnamed: 6</th>\n",
       "      <th>Unnamed: 7</th>\n",
       "      <th>Unnamed: 8</th>\n",
       "      <th>Unnamed: 9</th>\n",
       "      <th>Unnamed: 10</th>\n",
       "      <th>Unnamed: 11</th>\n",
       "      <th>Unnamed: 12</th>\n",
       "    </tr>\n",
       "  </thead>\n",
       "  <tbody>\n",
       "    <tr>\n",
       "      <th>0</th>\n",
       "      <td>NEW YORK</td>\n",
       "      <td>NaN</td>\n",
       "      <td>NaN</td>\n",
       "      <td>NaN</td>\n",
       "      <td>NaN</td>\n",
       "      <td>NaN</td>\n",
       "      <td>NaN</td>\n",
       "      <td>NaN</td>\n",
       "      <td>NaN</td>\n",
       "      <td>NaN</td>\n",
       "      <td>NaN</td>\n",
       "      <td>NaN</td>\n",
       "      <td>NaN</td>\n",
       "    </tr>\n",
       "    <tr>\n",
       "      <th>1</th>\n",
       "      <td>Offenses Known to Law Enforcement</td>\n",
       "      <td>NaN</td>\n",
       "      <td>NaN</td>\n",
       "      <td>NaN</td>\n",
       "      <td>NaN</td>\n",
       "      <td></td>\n",
       "      <td>NaN</td>\n",
       "      <td>NaN</td>\n",
       "      <td>NaN</td>\n",
       "      <td>NaN</td>\n",
       "      <td>NaN</td>\n",
       "      <td>NaN</td>\n",
       "      <td>NaN</td>\n",
       "    </tr>\n",
       "    <tr>\n",
       "      <th>2</th>\n",
       "      <td>by City, 2013</td>\n",
       "      <td>NaN</td>\n",
       "      <td>NaN</td>\n",
       "      <td>NaN</td>\n",
       "      <td>NaN</td>\n",
       "      <td>NaN</td>\n",
       "      <td>NaN</td>\n",
       "      <td>NaN</td>\n",
       "      <td>NaN</td>\n",
       "      <td>NaN</td>\n",
       "      <td>NaN</td>\n",
       "      <td>NaN</td>\n",
       "      <td>NaN</td>\n",
       "    </tr>\n",
       "    <tr>\n",
       "      <th>3</th>\n",
       "      <td>City</td>\n",
       "      <td>Population</td>\n",
       "      <td>Violent\\ncrime</td>\n",
       "      <td>Murder and\\nnonnegligent\\nmanslaughter</td>\n",
       "      <td>Rape\\n(revised\\ndefinition)1</td>\n",
       "      <td>Rape\\n(legacy\\ndefinition)2</td>\n",
       "      <td>Robbery</td>\n",
       "      <td>Aggravated\\nassault</td>\n",
       "      <td>Property\\ncrime</td>\n",
       "      <td>Burglary</td>\n",
       "      <td>Larceny-\\ntheft</td>\n",
       "      <td>Motor\\nvehicle\\ntheft</td>\n",
       "      <td>Arson3</td>\n",
       "    </tr>\n",
       "    <tr>\n",
       "      <th>4</th>\n",
       "      <td>Adams Village</td>\n",
       "      <td>1,861</td>\n",
       "      <td>0</td>\n",
       "      <td>0</td>\n",
       "      <td>NaN</td>\n",
       "      <td>0</td>\n",
       "      <td>0</td>\n",
       "      <td>0</td>\n",
       "      <td>12</td>\n",
       "      <td>2</td>\n",
       "      <td>10</td>\n",
       "      <td>0</td>\n",
       "      <td>0</td>\n",
       "    </tr>\n",
       "  </tbody>\n",
       "</table>\n",
       "</div>"
      ],
      "text/plain": [
       "                             Table 8  Unnamed: 1      Unnamed: 2  \\\n",
       "0                           NEW YORK         NaN             NaN   \n",
       "1  Offenses Known to Law Enforcement         NaN             NaN   \n",
       "2                      by City, 2013         NaN             NaN   \n",
       "3                               City  Population  Violent\\ncrime   \n",
       "4                      Adams Village       1,861               0   \n",
       "\n",
       "                               Unnamed: 3                    Unnamed: 4  \\\n",
       "0                                     NaN                           NaN   \n",
       "1                                     NaN                           NaN   \n",
       "2                                     NaN                           NaN   \n",
       "3  Murder and\\nnonnegligent\\nmanslaughter  Rape\\n(revised\\ndefinition)1   \n",
       "4                                       0                           NaN   \n",
       "\n",
       "                    Unnamed: 5 Unnamed: 6           Unnamed: 7  \\\n",
       "0                          NaN        NaN                  NaN   \n",
       "1                                     NaN                  NaN   \n",
       "2                          NaN        NaN                  NaN   \n",
       "3  Rape\\n(legacy\\ndefinition)2    Robbery  Aggravated\\nassault   \n",
       "4                            0          0                    0   \n",
       "\n",
       "        Unnamed: 8 Unnamed: 9      Unnamed: 10            Unnamed: 11  \\\n",
       "0              NaN        NaN              NaN                    NaN   \n",
       "1              NaN        NaN              NaN                    NaN   \n",
       "2              NaN        NaN              NaN                    NaN   \n",
       "3  Property\\ncrime   Burglary  Larceny-\\ntheft  Motor\\nvehicle\\ntheft   \n",
       "4               12          2               10                      0   \n",
       "\n",
       "  Unnamed: 12  \n",
       "0         NaN  \n",
       "1         NaN  \n",
       "2         NaN  \n",
       "3      Arson3  \n",
       "4           0  "
      ]
     },
     "execution_count": 8,
     "metadata": {},
     "output_type": "execute_result"
    }
   ],
   "source": [
    "\n",
    "crimestats.head(5)\n"
   ]
  },
  {
   "cell_type": "code",
   "execution_count": 9,
   "metadata": {},
   "outputs": [],
   "source": [
    "# renaming the columns to fix the non-standard text in them\n",
    "crimestats.columns = ['City', 'Population', 'Violent_Crime', 'Murder_and_Nonnegligent_Manslaughter', 'Rape_Revised','Rape_Legacy','Robbery','Aggravated_Assault','Property_Crime','Burglary','Larceny_Theft','Motor_Vehicle_Theft','Arson']\n",
    "\n",
    "#dropping the first four rows to remove the non-numeric title fluff\n",
    "crimestats.drop([0,1,2,3], axis=0, inplace=True)\n",
    "\n",
    "#dropping the last three rows to remove the non-numeric title fluff\n",
    "crimestats.drop([352,353,354], axis=0, inplace=True)\n",
    "\n",
    "# dropping the Rape 1 column due to it not having any contents\n",
    "crimestats.drop('Rape_Revised', axis=1, inplace=True)\n",
    "\n",
    "# dropping the Arson column due to it having so many NaN values\n",
    "crimestats.drop('Arson', axis=1, inplace=True)\n",
    "\n",
    "# Remove 293: Seneca Falls Town due to the massive differential in per-1000-people burglary, property crime, \n",
    "# and larceny that it has relative to other cities.\n",
    "# Remove 220: New York (city) because of just how much of an outlier it is from the rest of the cities.\n",
    "crimestats.drop(293, axis=0, inplace=True)\n",
    "crimestats.drop(220, axis=0, inplace=True)\n",
    "\n",
    "# Removing outliers that showed up in model execution\n",
    "crimestats.drop(7, axis=0, inplace=True)\n",
    "crimestats.drop(11, axis=0, inplace=True)\n",
    "crimestats.drop(39, axis=0, inplace=True)\n",
    "crimestats.drop(130, axis=0, inplace=True)\n",
    "crimestats.drop(276, axis=0, inplace=True)\n",
    "crimestats.drop(314, axis=0, inplace=True)\n",
    "crimestats.drop(350, axis=0, inplace=True)\n",
    "\n"
   ]
  },
  {
   "cell_type": "code",
   "execution_count": 10,
   "metadata": {},
   "outputs": [],
   "source": [
    "# cleaning up the data by removing commas and changing the contents from str to int\n",
    "\n",
    "def comma_cleaning_and_int(x):\n",
    "    crimestats[x] = crimestats[x].str.replace(',', '')\n",
    "    crimestats[x] = crimestats[x].astype(int)\n",
    "\n",
    "comma_cleaning_and_int('Population')\n",
    "comma_cleaning_and_int('Violent_Crime')\n",
    "comma_cleaning_and_int('Murder_and_Nonnegligent_Manslaughter')\n",
    "comma_cleaning_and_int('Rape_Legacy')\n",
    "comma_cleaning_and_int('Robbery')\n",
    "comma_cleaning_and_int('Aggravated_Assault')\n",
    "comma_cleaning_and_int('Property_Crime')\n",
    "comma_cleaning_and_int('Burglary')\n",
    "comma_cleaning_and_int('Larceny_Theft')\n",
    "comma_cleaning_and_int('Motor_Vehicle_Theft')\n"
   ]
  },
  {
   "cell_type": "code",
   "execution_count": 11,
   "metadata": {},
   "outputs": [],
   "source": [
    "# adding in features requested in the drill\n",
    "\n",
    "def yesno(x):\n",
    "    if x > 0:\n",
    "        return 1\n",
    "    else:\n",
    "        return 0\n",
    "\n",
    "crimestats['murder_yesno'] = crimestats.apply(lambda row: yesno(row['Murder_and_Nonnegligent_Manslaughter']), axis=1)\n",
    "\n",
    "crimestats['robbery_yesno'] = crimestats.apply(lambda row: yesno(row['Robbery']), axis=1)\n"
   ]
  },
  {
   "cell_type": "code",
   "execution_count": 12,
   "metadata": {},
   "outputs": [],
   "source": [
    "# creating features using the ratio of crime to population\n",
    "\n",
    "def popratio(x,y):\n",
    "    return (1000*(x/y))\n",
    "\n",
    "crimestats['violent_crime_per1000'] = 1000 * crimestats['Violent_Crime'] / crimestats['Population']\n",
    "\n",
    "crimestats['murder_per1000'] = 1000 * crimestats['Murder_and_Nonnegligent_Manslaughter'] / crimestats['Population']\n",
    "\n",
    "crimestats['rape_per1000'] = 1000 * crimestats['Rape_Legacy'] / crimestats['Population']\n",
    "\n",
    "crimestats['robbery_per1000'] = 1000 * crimestats['Robbery'] / crimestats['Population']\n",
    "\n",
    "crimestats['assault_per1000'] = 1000 * crimestats['Aggravated_Assault'] / crimestats['Population']\n",
    "\n",
    "crimestats['propertycrime_per1000'] = 1000 * crimestats['Property_Crime'] / crimestats['Population']\n",
    "\n",
    "crimestats['burglary_per1000'] = 1000 * crimestats['Burglary'] / crimestats['Population']\n",
    "\n",
    "crimestats['larceny_per1000'] = 1000 * crimestats['Larceny_Theft'] / crimestats['Population']\n",
    "\n",
    "crimestats['motorvehicle_crime_per1000'] = 1000 * crimestats['Motor_Vehicle_Theft'] / crimestats['Population']\n"
   ]
  },
  {
   "cell_type": "code",
   "execution_count": 13,
   "metadata": {},
   "outputs": [
    {
     "data": {
      "image/png": "[encoded data removed]",
      "text/plain": [
       "<Figure size 1080x1080 with 9 Axes>"
      ]
     },
     "metadata": {},
     "output_type": "display_data"
    }
   ],
   "source": [
    "# boxplots to find the outliers in each per-1000 variable\n",
    "\n",
    "sns.set(style=\"whitegrid\")\n",
    "plt.figure(figsize=(15, 15))\n",
    "plt.subplot(3, 3, 1)\n",
    "sns.boxplot(y = 'violent_crime_per1000', data=crimestats, palette='pastel')  \n",
    "plt.subplot(3, 3, 2)\n",
    "sns.boxplot(y = 'murder_per1000', data=crimestats, palette='pastel')  \n",
    "plt.subplot(3, 3, 3)\n",
    "sns.boxplot(y = 'rape_per1000', data=crimestats, palette='pastel')  \n",
    "plt.subplot(3, 3, 4)\n",
    "sns.boxplot(y = 'robbery_per1000', data=crimestats, palette='pastel')  \n",
    "plt.subplot(3, 3, 5)\n",
    "sns.boxplot(y = 'assault_per1000', data=crimestats, palette='pastel')  \n",
    "plt.subplot(3, 3, 6)\n",
    "sns.boxplot(y = 'propertycrime_per1000', data=crimestats, palette='pastel')  \n",
    "plt.subplot(3, 3, 7)\n",
    "sns.boxplot(y = 'burglary_per1000', data=crimestats, palette='pastel')  \n",
    "plt.subplot(3, 3, 8)\n",
    "sns.boxplot(y = 'larceny_per1000', data=crimestats, palette='pastel')  \n",
    "plt.subplot(3, 3, 9)\n",
    "sns.boxplot(y = 'motorvehicle_crime_per1000', data=crimestats, palette='pastel')  \n",
    "plt.show()\n",
    "\n"
   ]
  },
  {
   "cell_type": "code",
   "execution_count": 14,
   "metadata": {},
   "outputs": [
    {
     "name": "stdout",
     "output_type": "stream",
     "text": [
      "              City  violent_crime_per1000\n",
      "213       Newburgh                 15.225\n",
      "222  Niagara Falls                 11.780\n",
      " \n",
      "                     City  murder_per1000\n",
      "144     Hempstead Village           0.181\n",
      "213              Newburgh           0.175\n",
      "266          Poughkeepsie           0.227\n",
      "285  Saranac Lake Village           0.186\n",
      " \n",
      "                 City  rape_per1000\n",
      "145  Herkimer Village         1.170\n",
      "184     Lyons Village         1.411\n",
      "300    Sidney Village         1.051\n",
      " \n",
      "         City  robbery_per1000\n",
      "213  Newburgh            5.250\n",
      " \n",
      "                  City  assault_per1000\n",
      "213           Newburgh            9.065\n",
      "222      Niagara Falls            8.129\n",
      "348  Woodridge Village            8.444\n",
      " \n",
      "                     City  propertycrime_per1000\n",
      "159  Johnson City Village                 63.837\n",
      " \n",
      "                   City  burglary_per1000\n",
      "203  Monticello Village            16.256\n",
      "222       Niagara Falls            15.048\n",
      " \n",
      "                     City  larceny_per1000\n",
      "159  Johnson City Village           55.698\n",
      " \n",
      "                       City  motorvehicle_crime_per1000\n",
      "235  Old Brookville Village                       4.606\n"
     ]
    }
   ],
   "source": [
    "# figuring out whether the outliers were specific cities, and whether or not they needed to be removed\n",
    "\n",
    "print(crimestats.loc[crimestats['violent_crime_per1000'] > 10, ['City', 'violent_crime_per1000']])\n",
    "print(' ')\n",
    "print(crimestats.loc[crimestats['murder_per1000'] > .16, ['City', 'murder_per1000']])\n",
    "print(' ')\n",
    "print(crimestats.loc[crimestats['rape_per1000'] > 1, ['City', 'rape_per1000']])\n",
    "print(' ')\n",
    "print(crimestats.loc[crimestats['robbery_per1000'] > 4, ['City', 'robbery_per1000']])\n",
    "print(' ')\n",
    "print(crimestats.loc[crimestats['assault_per1000'] > 6, ['City', 'assault_per1000']])\n",
    "print(' ')\n",
    "print(crimestats.loc[crimestats['propertycrime_per1000'] > 60, ['City', 'propertycrime_per1000']])\n",
    "print(' ')\n",
    "print(crimestats.loc[crimestats['burglary_per1000'] > 15, ['City', 'burglary_per1000']])\n",
    "print(' ')\n",
    "print(crimestats.loc[crimestats['larceny_per1000'] > 55, ['City', 'larceny_per1000']])\n",
    "print(' ')\n",
    "print(crimestats.loc[crimestats['motorvehicle_crime_per1000'] > 3, ['City', 'motorvehicle_crime_per1000']])\n"
   ]
  },
  {
   "cell_type": "code",
   "execution_count": 15,
   "metadata": {},
   "outputs": [],
   "source": [
    "crimestats['propertycrime_per1000_sqrt'] = crimestats['propertycrime_per1000']**.5\n",
    "# crimestats['propertycrime_per1000_log'] = np.log(crimestats['propertycrime_per1000'])"
   ]
  },
  {
   "cell_type": "code",
   "execution_count": 16,
   "metadata": {},
   "outputs": [],
   "source": [
    "from sklearn.decomposition import PCA\n",
    "\n",
    "pca = PCA(n_components=1) \n",
    "X_reg1 = pca.fit_transform(crimestats[['propertycrime_per1000_sqrt', 'burglary_per1000', 'larceny_per1000']])\n",
    "crimestats['property_crime_pca'] = X_reg1\n",
    "\n",
    "X_reg2 = pca.fit_transform(crimestats[['violent_crime_per1000', 'robbery_per1000']])\n",
    "crimestats['violent_crime_pca'] = X_reg2"
   ]
  },
  {
   "cell_type": "code",
   "execution_count": 17,
   "metadata": {},
   "outputs": [
    {
     "name": "stdout",
     "output_type": "stream",
     "text": [
      "\n",
      "Coefficients: \n",
      " [[ 2.21609631e-02 -1.07935683e+02  1.11526472e+01  4.72607986e+01]]\n",
      "\n",
      "Intercept: \n",
      " [51.74410197]\n",
      "\n",
      "R-squared:\n",
      "0.8350934318479228\n"
     ]
    },
    {
     "name": "stderr",
     "output_type": "stream",
     "text": [
      "/usr/local/lib/python3.7/site-packages/sklearn/linear_model/base.py:485: RuntimeWarning: internal gelsd driver lwork query error, required iwork dimension not returned. This is likely the result of LAPACK bug 0038, fixed in LAPACK 3.2.2 (released July 21, 2010). Falling back to 'gelss' driver.\n",
      "  linalg.lstsq(X, y)\n"
     ]
    }
   ],
   "source": [
    "# Instantiate and fit our model.\n",
    "regr = linear_model.LinearRegression()\n",
    "Y = crimestats['Property_Crime'].values.reshape(-1, 1)\n",
    "X = crimestats[['Population','robbery_yesno', 'property_crime_pca', 'violent_crime_pca']]\n",
    "regr.fit(X, Y)\n",
    "\n",
    "# Inspect the results.\n",
    "print('\\nCoefficients: \\n', regr.coef_)\n",
    "print('\\nIntercept: \\n', regr.intercept_)\n",
    "print('\\nR-squared:')\n",
    "print(regr.score(X, Y))"
   ]
  },
  {
   "cell_type": "code",
   "execution_count": 18,
   "metadata": {},
   "outputs": [
    {
     "data": {
      "text/html": [
       "<div>\n",
       "<style scoped>\n",
       "    .dataframe tbody tr th:only-of-type {\n",
       "        vertical-align: middle;\n",
       "    }\n",
       "\n",
       "    .dataframe tbody tr th {\n",
       "        vertical-align: top;\n",
       "    }\n",
       "\n",
       "    .dataframe thead th {\n",
       "        text-align: right;\n",
       "    }\n",
       "</style>\n",
       "<table border=\"1\" class=\"dataframe\">\n",
       "  <thead>\n",
       "    <tr style=\"text-align: right;\">\n",
       "      <th></th>\n",
       "      <th>Population</th>\n",
       "      <th>robbery_yesno</th>\n",
       "      <th>property_crime_pca</th>\n",
       "      <th>violent_crime_pca</th>\n",
       "    </tr>\n",
       "  </thead>\n",
       "  <tbody>\n",
       "    <tr>\n",
       "      <th>Population</th>\n",
       "      <td>1.000</td>\n",
       "      <td>0.458</td>\n",
       "      <td>0.134</td>\n",
       "      <td>0.321</td>\n",
       "    </tr>\n",
       "    <tr>\n",
       "      <th>robbery_yesno</th>\n",
       "      <td>0.458</td>\n",
       "      <td>1.000</td>\n",
       "      <td>0.438</td>\n",
       "      <td>0.341</td>\n",
       "    </tr>\n",
       "    <tr>\n",
       "      <th>property_crime_pca</th>\n",
       "      <td>0.134</td>\n",
       "      <td>0.438</td>\n",
       "      <td>1.000</td>\n",
       "      <td>0.448</td>\n",
       "    </tr>\n",
       "    <tr>\n",
       "      <th>violent_crime_pca</th>\n",
       "      <td>0.321</td>\n",
       "      <td>0.341</td>\n",
       "      <td>0.448</td>\n",
       "      <td>1.000</td>\n",
       "    </tr>\n",
       "  </tbody>\n",
       "</table>\n",
       "</div>"
      ],
      "text/plain": [
       "                    Population  robbery_yesno  property_crime_pca  \\\n",
       "Population               1.000          0.458               0.134   \n",
       "robbery_yesno            0.458          1.000               0.438   \n",
       "property_crime_pca       0.134          0.438               1.000   \n",
       "violent_crime_pca        0.321          0.341               0.448   \n",
       "\n",
       "                    violent_crime_pca  \n",
       "Population                      0.321  \n",
       "robbery_yesno                   0.341  \n",
       "property_crime_pca              0.448  \n",
       "violent_crime_pca               1.000  "
      ]
     },
     "metadata": {},
     "output_type": "display_data"
    },
    {
     "data": {
      "text/plain": [
       "array([0.83890984, 0.88411271, 0.58805301, 0.82338273, 0.84046466,\n",
       "       0.75846562, 0.80954827, 0.44401856, 0.86211137, 0.85217856])"
      ]
     },
     "execution_count": 18,
     "metadata": {},
     "output_type": "execute_result"
    }
   ],
   "source": [
    "predicted = regr.predict(X).ravel()\n",
    "actual = crimestats['Property_Crime']\n",
    "residual = actual - predicted\n",
    "\n",
    "correlation_matrix = X.corr()\n",
    "display(correlation_matrix)\n",
    "\n",
    "# Cross Validation, 10 samples\n",
    "sklearn.model_selection.cross_val_score(regr, X, Y, cv = 10)"
   ]
  },
  {
   "cell_type": "code",
   "execution_count": 19,
   "metadata": {},
   "outputs": [
    {
     "data": {
      "text/plain": [
       "(array([744.60313924,  78.23871489,  79.51586254, 144.04039027]),\n",
       " array([2.41817165e-87, 5.21602360e-17, 3.08918712e-17, 7.15734969e-28]))"
      ]
     },
     "execution_count": 19,
     "metadata": {},
     "output_type": "execute_result"
    }
   ],
   "source": [
    "# F-test and p-values of the features selected\n",
    "sklearn.feature_selection.f_regression(crimestats[['Population','robbery_yesno', 'property_crime_pca', 'violent_crime_pca']], crimestats['Property_Crime'])"
   ]
  },
  {
   "cell_type": "code",
   "execution_count": 20,
   "metadata": {},
   "outputs": [
    {
     "data": {
      "image/png": "[encoded data removed]",
      "text/plain": [
       "<Figure size 432x288 with 1 Axes>"
      ]
     },
     "metadata": {},
     "output_type": "display_data"
    }
   ],
   "source": [
    "plt.hist(residual)\n",
    "plt.title('Residual counts')\n",
    "plt.xlabel('Residual')\n",
    "plt.ylabel('Count')\n",
    "plt.show()"
   ]
  },
  {
   "cell_type": "code",
   "execution_count": 21,
   "metadata": {},
   "outputs": [
    {
     "data": {
      "image/png": "[encoded data removed]",
      "text/plain": [
       "<Figure size 432x288 with 1 Axes>"
      ]
     },
     "metadata": {},
     "output_type": "display_data"
    }
   ],
   "source": [
    "plt.scatter(predicted, residual)\n",
    "plt.xlabel('Predicted')\n",
    "plt.ylabel('Residual')\n",
    "plt.axhline(y=0)\n",
    "plt.title('Residual vs. Predicted')\n",
    "plt.show()\n",
    "\n"
   ]
  },
  {
   "cell_type": "code",
   "execution_count": 22,
   "metadata": {},
   "outputs": [
    {
     "name": "stdout",
     "output_type": "stream",
     "text": [
      "(271, 4) (271, 1)\n",
      "(68, 4) (68, 1)\n",
      "Score: 0.8739842920507183\n"
     ]
    },
    {
     "data": {
      "text/plain": [
       "Text(0, 0.5, 'Predictions')"
      ]
     },
     "execution_count": 22,
     "metadata": {},
     "output_type": "execute_result"
    },
    {
     "data": {
      "image/png": "[encoded data removed]",
      "text/plain": [
       "<Figure size 432x288 with 1 Axes>"
      ]
     },
     "metadata": {},
     "output_type": "display_data"
    }
   ],
   "source": [
    "# Holdout, test size 20%\n",
    "X_train, X_test, y_train, y_test = train_test_split(X, Y, test_size=0.2, random_state=3)\n",
    "\n",
    "print(X_train.shape, y_train.shape)\n",
    "print(X_test.shape, y_test.shape)\n",
    "\n",
    "model = regr.fit(X_train, y_train)\n",
    "predictions = regr.predict(X_test)\n",
    "print('Score: ' + str(model.score(X_test, y_test)))\n",
    "\n",
    "plt.scatter(y_test, predictions)\n",
    "plt.xlabel('True Values')\n",
    "plt.ylabel('Predictions')\n",
    "\n"
   ]
  },
  {
   "cell_type": "markdown",
   "metadata": {},
   "source": []
  },
  {
   "cell_type": "code",
   "execution_count": 23,
   "metadata": {},
   "outputs": [
    {
     "data": {
      "text/plain": [
       "31515.739271029626"
      ]
     },
     "execution_count": 23,
     "metadata": {},
     "output_type": "execute_result"
    }
   ],
   "source": [
    "sklearn.metrics.mean_squared_error(actual, predicted)"
   ]
  },
  {
   "cell_type": "code",
   "execution_count": 24,
   "metadata": {},
   "outputs": [
    {
     "name": "stdout",
     "output_type": "stream",
     "text": [
      "Empty DataFrame\n",
      "Columns: [City, Population, Property_Crime, predictions]\n",
      "Index: []\n"
     ]
    }
   ],
   "source": [
    "# A survey of the predicted results to see which are excessive outliers; \n",
    "# most were removed in order to improve model performance.\n",
    "\n",
    "cs_results = crimestats\n",
    "cs_results['predictions'] = predicted\n",
    "\n",
    "print(cs_results.loc[cs_results['predictions'] > 3000, ['City', 'Population','Property_Crime','predictions']])\n"
   ]
  },
  {
   "cell_type": "markdown",
   "metadata": {},
   "source": [
    "***2014 data model***"
   ]
  },
  {
   "cell_type": "code",
   "execution_count": 25,
   "metadata": {},
   "outputs": [],
   "source": [
    "crimestats_baseline_2014 = pd.read_csv('Thinkful 2_5 dataframe NY crime 2014.csv')\n",
    "crimestats14 = crimestats_baseline_2014"
   ]
  },
  {
   "cell_type": "code",
   "execution_count": 26,
   "metadata": {},
   "outputs": [
    {
     "data": {
      "text/html": [
       "<div>\n",
       "<style scoped>\n",
       "    .dataframe tbody tr th:only-of-type {\n",
       "        vertical-align: middle;\n",
       "    }\n",
       "\n",
       "    .dataframe tbody tr th {\n",
       "        vertical-align: top;\n",
       "    }\n",
       "\n",
       "    .dataframe thead th {\n",
       "        text-align: right;\n",
       "    }\n",
       "</style>\n",
       "<table border=\"1\" class=\"dataframe\">\n",
       "  <thead>\n",
       "    <tr style=\"text-align: right;\">\n",
       "      <th></th>\n",
       "      <th>Table 8</th>\n",
       "      <th>Unnamed: 1</th>\n",
       "      <th>Unnamed: 2</th>\n",
       "      <th>Unnamed: 3</th>\n",
       "      <th>Unnamed: 4</th>\n",
       "      <th>Unnamed: 5</th>\n",
       "      <th>Unnamed: 6</th>\n",
       "      <th>Unnamed: 7</th>\n",
       "      <th>Unnamed: 8</th>\n",
       "      <th>Unnamed: 9</th>\n",
       "      <th>Unnamed: 10</th>\n",
       "      <th>Unnamed: 11</th>\n",
       "      <th>Unnamed: 12</th>\n",
       "    </tr>\n",
       "  </thead>\n",
       "  <tbody>\n",
       "    <tr>\n",
       "      <th>0</th>\n",
       "      <td>NEW YORK</td>\n",
       "      <td>NaN</td>\n",
       "      <td>NaN</td>\n",
       "      <td>NaN</td>\n",
       "      <td>NaN</td>\n",
       "      <td>NaN</td>\n",
       "      <td>NaN</td>\n",
       "      <td>NaN</td>\n",
       "      <td>NaN</td>\n",
       "      <td>NaN</td>\n",
       "      <td>NaN</td>\n",
       "      <td>NaN</td>\n",
       "      <td>NaN</td>\n",
       "    </tr>\n",
       "    <tr>\n",
       "      <th>1</th>\n",
       "      <td>Offenses Known to Law Enforcement</td>\n",
       "      <td>NaN</td>\n",
       "      <td>NaN</td>\n",
       "      <td>NaN</td>\n",
       "      <td>NaN</td>\n",
       "      <td></td>\n",
       "      <td>NaN</td>\n",
       "      <td>NaN</td>\n",
       "      <td>NaN</td>\n",
       "      <td>NaN</td>\n",
       "      <td>NaN</td>\n",
       "      <td>NaN</td>\n",
       "      <td>NaN</td>\n",
       "    </tr>\n",
       "  </tbody>\n",
       "</table>\n",
       "</div>"
      ],
      "text/plain": [
       "                             Table 8 Unnamed: 1 Unnamed: 2 Unnamed: 3  \\\n",
       "0                           NEW YORK        NaN        NaN        NaN   \n",
       "1  Offenses Known to Law Enforcement        NaN        NaN        NaN   \n",
       "\n",
       "  Unnamed: 4 Unnamed: 5 Unnamed: 6 Unnamed: 7 Unnamed: 8 Unnamed: 9  \\\n",
       "0        NaN        NaN        NaN        NaN        NaN        NaN   \n",
       "1        NaN                   NaN        NaN        NaN        NaN   \n",
       "\n",
       "  Unnamed: 10 Unnamed: 11 Unnamed: 12  \n",
       "0         NaN         NaN         NaN  \n",
       "1         NaN         NaN         NaN  "
      ]
     },
     "execution_count": 26,
     "metadata": {},
     "output_type": "execute_result"
    }
   ],
   "source": [
    "crimestats14.head(2)\n"
   ]
  },
  {
   "cell_type": "code",
   "execution_count": 27,
   "metadata": {},
   "outputs": [],
   "source": [
    "# renaming the columns to fix the non-standard text in them\n",
    "crimestats14.columns = ['City', 'Population', 'Violent_Crime', 'Murder_and_Nonnegligent_Manslaughter', 'Rape_Revised','Rape_Legacy','Robbery','Aggravated_Assault','Property_Crime','Burglary','Larceny_Theft','Motor_Vehicle_Theft','Arson']\n",
    "\n",
    "#dropping the first four rows to remove the non-numeric title fluff\n",
    "crimestats14.drop([0,1,2,3], axis=0, inplace=True)\n",
    "\n"
   ]
  },
  {
   "cell_type": "code",
   "execution_count": 28,
   "metadata": {},
   "outputs": [],
   "source": [
    "#dropping the last three rows to remove the non-numeric title fluff\n",
    "crimestats14.drop([377,376,375,374,373], axis=0, inplace=True)\n",
    "\n",
    "# dropping the Rape columns due to them having so many NaN values\n",
    "crimestats14.drop('Rape_Revised', axis=1, inplace=True)\n",
    "crimestats14.drop('Rape_Legacy', axis=1, inplace=True)\n",
    "\n",
    "# dropping the Arson column due to it having so many NaN values\n",
    "crimestats14.drop('Arson', axis=1, inplace=True)\n"
   ]
  },
  {
   "cell_type": "code",
   "execution_count": 29,
   "metadata": {},
   "outputs": [],
   "source": [
    "# cleaning up the data by removing commas and changing the contents from str to int\n",
    "crimestats14.fillna(0, inplace=True)\n",
    "\n",
    "def comma_cleaning_and_int(x):\n",
    "    crimestats14[x] = crimestats14[x].astype(str)\n",
    "    crimestats14[x] = crimestats14[x].str.replace(',', '')\n",
    "    crimestats14[x] = crimestats14[x].astype(int)\n",
    "\n",
    "comma_cleaning_and_int('Population')\n",
    "comma_cleaning_and_int('Violent_Crime')\n",
    "comma_cleaning_and_int('Murder_and_Nonnegligent_Manslaughter')\n",
    "comma_cleaning_and_int('Robbery')\n",
    "comma_cleaning_and_int('Aggravated_Assault')\n",
    "comma_cleaning_and_int('Property_Crime')\n",
    "comma_cleaning_and_int('Burglary')\n",
    "comma_cleaning_and_int('Larceny_Theft')\n",
    "comma_cleaning_and_int('Motor_Vehicle_Theft')\n"
   ]
  },
  {
   "cell_type": "code",
   "execution_count": 30,
   "metadata": {},
   "outputs": [],
   "source": [
    "# adding in features requested in the drill\n",
    "\n",
    "def yesno(x):\n",
    "    if x > 0:\n",
    "        return 1\n",
    "    else:\n",
    "        return 0\n",
    "\n",
    "crimestats14['murder_yesno'] = crimestats14.apply(lambda row: yesno(row['Murder_and_Nonnegligent_Manslaughter']), axis=1)\n",
    "\n",
    "crimestats14['robbery_yesno'] = crimestats14.apply(lambda row: yesno(row['Robbery']), axis=1)\n"
   ]
  },
  {
   "cell_type": "code",
   "execution_count": 31,
   "metadata": {},
   "outputs": [],
   "source": [
    "# creating features using the ratio of crime to population\n",
    "\n",
    "def popratio(x,y):\n",
    "    return (1000*(x/y))\n",
    "\n",
    "crimestats14['violent_crime_per1000'] = 1000 * crimestats14['Violent_Crime'] / crimestats14['Population']\n",
    "\n",
    "crimestats14['murder_per1000'] = 1000 * crimestats14['Murder_and_Nonnegligent_Manslaughter'] / crimestats14['Population']\n",
    "\n",
    "crimestats14['robbery_per1000'] = 1000 * crimestats14['Robbery'] / crimestats14['Population']\n",
    "\n",
    "crimestats14['assault_per1000'] = 1000 * crimestats14['Aggravated_Assault'] / crimestats14['Population']\n",
    "\n",
    "crimestats14['propertycrime_per1000'] = 1000 * crimestats14['Property_Crime'] / crimestats14['Population']\n",
    "\n",
    "crimestats14['burglary_per1000'] = 1000 * crimestats14['Burglary'] / crimestats14['Population']\n",
    "\n",
    "crimestats14['larceny_per1000'] = 1000 * crimestats14['Larceny_Theft'] / crimestats14['Population']\n",
    "\n",
    "crimestats14['motorvehicle_crime_per1000'] = 1000 * crimestats14['Motor_Vehicle_Theft'] / crimestats14['Population']\n"
   ]
  },
  {
   "cell_type": "code",
   "execution_count": 32,
   "metadata": {},
   "outputs": [
    {
     "data": {
      "image/png": "[encoded data removed]",
      "text/plain": [
       "<Figure size 1080x1080 with 8 Axes>"
      ]
     },
     "metadata": {},
     "output_type": "display_data"
    }
   ],
   "source": [
    "# boxplots to find the outliers in each per-1000 variable\n",
    "\n",
    "sns.set(style=\"whitegrid\")\n",
    "plt.figure(figsize=(15, 15))\n",
    "plt.subplot(3, 3, 1)\n",
    "sns.boxplot(y = 'violent_crime_per1000', data=crimestats14, palette='pastel')  \n",
    "plt.subplot(3, 3, 2)\n",
    "sns.boxplot(y = 'murder_per1000', data=crimestats14, palette='pastel')  \n",
    "plt.subplot(3, 3, 3)\n",
    "sns.boxplot(y = 'robbery_per1000', data=crimestats14, palette='pastel')  \n",
    "plt.subplot(3, 3, 5)\n",
    "sns.boxplot(y = 'assault_per1000', data=crimestats14, palette='pastel')  \n",
    "plt.subplot(3, 3, 6)\n",
    "sns.boxplot(y = 'propertycrime_per1000', data=crimestats14, palette='pastel')  \n",
    "plt.subplot(3, 3, 7)\n",
    "sns.boxplot(y = 'burglary_per1000', data=crimestats14, palette='pastel')  \n",
    "plt.subplot(3, 3, 8)\n",
    "sns.boxplot(y = 'larceny_per1000', data=crimestats14, palette='pastel')  \n",
    "plt.subplot(3, 3, 9)\n",
    "sns.boxplot(y = 'motorvehicle_crime_per1000', data=crimestats14, palette='pastel')  \n",
    "plt.show()\n",
    "\n"
   ]
  },
  {
   "cell_type": "code",
   "execution_count": 33,
   "metadata": {},
   "outputs": [
    {
     "name": "stdout",
     "output_type": "stream",
     "text": [
      "               City  violent_crime_per1000\n",
      "42         Buffalo4                 12.282\n",
      "225       Newburgh4                 14.483\n",
      "233  Niagara Falls4                 11.785\n",
      " \n",
      "                        City  murder_per1000\n",
      "11           Alfred Village4           0.248\n",
      "42                  Buffalo4           0.232\n",
      "56   Cayuga Heights Village4           0.264\n",
      "215      Monticello Village4           0.299\n",
      " \n",
      "                  City  robbery_per1000\n",
      "42            Buffalo4            4.942\n",
      "151  Hempstead Village            4.451\n",
      "225          Newburgh4            4.370\n",
      " \n",
      "                 City  assault_per1000\n",
      "42           Buffalo4            6.435\n",
      "152  Herkimer Village            6.147\n",
      "225         Newburgh4            9.585\n",
      "233    Niagara Falls4            7.931\n",
      " \n",
      "                      City  propertycrime_per1000\n",
      "96   East Syracuse Village                 67.987\n",
      "169  Johnson City Village4                 73.529\n",
      "245   Ocean Beach Village4                303.797\n",
      " \n",
      "                     City  burglary_per1000\n",
      "215   Monticello Village4            17.630\n",
      "245  Ocean Beach Village4            37.975\n",
      " \n",
      "                      City  larceny_per1000\n",
      "96   East Syracuse Village           56.436\n",
      "169  Johnson City Village4           64.085\n",
      "245   Ocean Beach Village4          265.823\n",
      " \n",
      "                  City  motorvehicle_crime_per1000\n",
      "20   Asharoken Village                       3.049\n",
      "42            Buffalo4                       3.746\n",
      "164        Inlet Town4                       3.049\n",
      "287         Rochester4                       3.199\n"
     ]
    }
   ],
   "source": [
    "# figuring out whether the outliers were specific cities, and whether or not they needed to be removed\n",
    "\n",
    "print(crimestats14.loc[crimestats14['violent_crime_per1000'] > 10, ['City', 'violent_crime_per1000']])\n",
    "print(' ')\n",
    "print(crimestats14.loc[crimestats14['murder_per1000'] > .16, ['City', 'murder_per1000']])\n",
    "print(' ')\n",
    "print(crimestats14.loc[crimestats14['robbery_per1000'] > 4, ['City', 'robbery_per1000']])\n",
    "print(' ')\n",
    "print(crimestats14.loc[crimestats14['assault_per1000'] > 6, ['City', 'assault_per1000']])\n",
    "print(' ')\n",
    "print(crimestats14.loc[crimestats14['propertycrime_per1000'] > 60, ['City', 'propertycrime_per1000']])\n",
    "print(' ')\n",
    "print(crimestats14.loc[crimestats14['burglary_per1000'] > 15, ['City', 'burglary_per1000']])\n",
    "print(' ')\n",
    "print(crimestats14.loc[crimestats14['larceny_per1000'] > 55, ['City', 'larceny_per1000']])\n",
    "print(' ')\n",
    "print(crimestats14.loc[crimestats14['motorvehicle_crime_per1000'] > 3, ['City', 'motorvehicle_crime_per1000']])\n"
   ]
  },
  {
   "cell_type": "code",
   "execution_count": 34,
   "metadata": {},
   "outputs": [],
   "source": [
    "# Remove outliers in boxplot data\n",
    "crimestats14.drop(11, axis=0, inplace=True)\n",
    "crimestats14.drop(42, axis=0, inplace=True)\n",
    "crimestats14.drop(56, axis=0, inplace=True)\n",
    "crimestats14.drop(225, axis=0, inplace=True)\n",
    "crimestats14.drop(233, axis=0, inplace=True)\n",
    "crimestats14.drop(215, axis=0, inplace=True)\n",
    "crimestats14.drop(151, axis=0, inplace=True)\n",
    "crimestats14.drop(245, axis=0, inplace=True)\n",
    "\n",
    "# Remove 231: New York (city) because of just how much of an outlier it is from the rest of the cities.\n",
    "crimestats14.drop(231, axis=0, inplace=True)\n",
    "\n",
    "# Remove outliers in model run\n",
    "crimestats14.drop(287, axis=0, inplace=True)\n",
    "crimestats14.drop(330, axis=0, inplace=True)\n",
    "crimestats14.drop(370, axis=0, inplace=True)\n",
    "\n"
   ]
  },
  {
   "cell_type": "code",
   "execution_count": 35,
   "metadata": {},
   "outputs": [],
   "source": [
    "crimestats14['propertycrime_per1000_sqrt'] = crimestats14['propertycrime_per1000']**.5\n",
    "# crimestats['propertycrime_per1000_log'] = np.log(crimestats['propertycrime_per1000'])"
   ]
  },
  {
   "cell_type": "code",
   "execution_count": 36,
   "metadata": {},
   "outputs": [
    {
     "ename": "ValueError",
     "evalue": "Wrong number of items passed 3, placement implies 1",
     "output_type": "error",
     "traceback": [
      "\u001b[0;31m---------------------------------------------------------------------------\u001b[0m",
      "\u001b[0;31mKeyError\u001b[0m                                  Traceback (most recent call last)",
      "\u001b[0;32m/usr/local/lib/python3.7/site-packages/pandas/core/indexes/base.py\u001b[0m in \u001b[0;36mget_loc\u001b[0;34m(self, key, method, tolerance)\u001b[0m\n\u001b[1;32m   3077\u001b[0m             \u001b[0;32mtry\u001b[0m\u001b[0;34m:\u001b[0m\u001b[0;34m\u001b[0m\u001b[0m\n\u001b[0;32m-> 3078\u001b[0;31m                 \u001b[0;32mreturn\u001b[0m \u001b[0mself\u001b[0m\u001b[0;34m.\u001b[0m\u001b[0m_engine\u001b[0m\u001b[0;34m.\u001b[0m\u001b[0mget_loc\u001b[0m\u001b[0;34m(\u001b[0m\u001b[0mkey\u001b[0m\u001b[0;34m)\u001b[0m\u001b[0;34m\u001b[0m\u001b[0m\n\u001b[0m\u001b[1;32m   3079\u001b[0m             \u001b[0;32mexcept\u001b[0m \u001b[0mKeyError\u001b[0m\u001b[0;34m:\u001b[0m\u001b[0;34m\u001b[0m\u001b[0m\n",
      "\u001b[0;32mpandas/_libs/index.pyx\u001b[0m in \u001b[0;36mpandas._libs.index.IndexEngine.get_loc\u001b[0;34m()\u001b[0m\n",
      "\u001b[0;32mpandas/_libs/index.pyx\u001b[0m in \u001b[0;36mpandas._libs.index.IndexEngine.get_loc\u001b[0;34m()\u001b[0m\n",
      "\u001b[0;32mpandas/_libs/hashtable_class_helper.pxi\u001b[0m in \u001b[0;36mpandas._libs.hashtable.PyObjectHashTable.get_item\u001b[0;34m()\u001b[0m\n",
      "\u001b[0;32mpandas/_libs/hashtable_class_helper.pxi\u001b[0m in \u001b[0;36mpandas._libs.hashtable.PyObjectHashTable.get_item\u001b[0;34m()\u001b[0m\n",
      "\u001b[0;31mKeyError\u001b[0m: 'property_crime_pca'",
      "\nDuring handling of the above exception, another exception occurred:\n",
      "\u001b[0;31mKeyError\u001b[0m                                  Traceback (most recent call last)",
      "\u001b[0;32m/usr/local/lib/python3.7/site-packages/pandas/core/internals.py\u001b[0m in \u001b[0;36mset\u001b[0;34m(self, item, value, check)\u001b[0m\n\u001b[1;32m   4242\u001b[0m         \u001b[0;32mtry\u001b[0m\u001b[0;34m:\u001b[0m\u001b[0;34m\u001b[0m\u001b[0m\n\u001b[0;32m-> 4243\u001b[0;31m             \u001b[0mloc\u001b[0m \u001b[0;34m=\u001b[0m \u001b[0mself\u001b[0m\u001b[0;34m.\u001b[0m\u001b[0mitems\u001b[0m\u001b[0;34m.\u001b[0m\u001b[0mget_loc\u001b[0m\u001b[0;34m(\u001b[0m\u001b[0mitem\u001b[0m\u001b[0;34m)\u001b[0m\u001b[0;34m\u001b[0m\u001b[0m\n\u001b[0m\u001b[1;32m   4244\u001b[0m         \u001b[0;32mexcept\u001b[0m \u001b[0mKeyError\u001b[0m\u001b[0;34m:\u001b[0m\u001b[0;34m\u001b[0m\u001b[0m\n",
      "\u001b[0;32m/usr/local/lib/python3.7/site-packages/pandas/core/indexes/base.py\u001b[0m in \u001b[0;36mget_loc\u001b[0;34m(self, key, method, tolerance)\u001b[0m\n\u001b[1;32m   3079\u001b[0m             \u001b[0;32mexcept\u001b[0m \u001b[0mKeyError\u001b[0m\u001b[0;34m:\u001b[0m\u001b[0;34m\u001b[0m\u001b[0m\n\u001b[0;32m-> 3080\u001b[0;31m                 \u001b[0;32mreturn\u001b[0m \u001b[0mself\u001b[0m\u001b[0;34m.\u001b[0m\u001b[0m_engine\u001b[0m\u001b[0;34m.\u001b[0m\u001b[0mget_loc\u001b[0m\u001b[0;34m(\u001b[0m\u001b[0mself\u001b[0m\u001b[0;34m.\u001b[0m\u001b[0m_maybe_cast_indexer\u001b[0m\u001b[0;34m(\u001b[0m\u001b[0mkey\u001b[0m\u001b[0;34m)\u001b[0m\u001b[0;34m)\u001b[0m\u001b[0;34m\u001b[0m\u001b[0m\n\u001b[0m\u001b[1;32m   3081\u001b[0m \u001b[0;34m\u001b[0m\u001b[0m\n",
      "\u001b[0;32mpandas/_libs/index.pyx\u001b[0m in \u001b[0;36mpandas._libs.index.IndexEngine.get_loc\u001b[0;34m()\u001b[0m\n",
      "\u001b[0;32mpandas/_libs/index.pyx\u001b[0m in \u001b[0;36mpandas._libs.index.IndexEngine.get_loc\u001b[0;34m()\u001b[0m\n",
      "\u001b[0;32mpandas/_libs/hashtable_class_helper.pxi\u001b[0m in \u001b[0;36mpandas._libs.hashtable.PyObjectHashTable.get_item\u001b[0;34m()\u001b[0m\n",
      "\u001b[0;32mpandas/_libs/hashtable_class_helper.pxi\u001b[0m in \u001b[0;36mpandas._libs.hashtable.PyObjectHashTable.get_item\u001b[0;34m()\u001b[0m\n",
      "\u001b[0;31mKeyError\u001b[0m: 'property_crime_pca'",
      "\nDuring handling of the above exception, another exception occurred:\n",
      "\u001b[0;31mValueError\u001b[0m                                Traceback (most recent call last)",
      "\u001b[0;32m<ipython-input-36-51c45989fe44>\u001b[0m in \u001b[0;36m<module>\u001b[0;34m\u001b[0m\n\u001b[1;32m      3\u001b[0m \u001b[0mpca\u001b[0m \u001b[0;34m=\u001b[0m \u001b[0mPCA\u001b[0m\u001b[0;34m(\u001b[0m\u001b[0mn_components\u001b[0m\u001b[0;34m=\u001b[0m\u001b[0;36m3\u001b[0m\u001b[0;34m)\u001b[0m\u001b[0;34m\u001b[0m\u001b[0m\n\u001b[1;32m      4\u001b[0m \u001b[0mX_reg1\u001b[0m \u001b[0;34m=\u001b[0m \u001b[0mpca\u001b[0m\u001b[0;34m.\u001b[0m\u001b[0mfit_transform\u001b[0m\u001b[0;34m(\u001b[0m\u001b[0mcrimestats14\u001b[0m\u001b[0;34m[\u001b[0m\u001b[0;34m[\u001b[0m\u001b[0;34m'propertycrime_per1000_sqrt'\u001b[0m\u001b[0;34m,\u001b[0m \u001b[0;34m'burglary_per1000'\u001b[0m\u001b[0;34m,\u001b[0m \u001b[0;34m'larceny_per1000'\u001b[0m\u001b[0;34m]\u001b[0m\u001b[0;34m]\u001b[0m\u001b[0;34m)\u001b[0m\u001b[0;34m\u001b[0m\u001b[0m\n\u001b[0;32m----> 5\u001b[0;31m \u001b[0mcrimestats14\u001b[0m\u001b[0;34m[\u001b[0m\u001b[0;34m'property_crime_pca'\u001b[0m\u001b[0;34m]\u001b[0m \u001b[0;34m=\u001b[0m \u001b[0mX_reg1\u001b[0m\u001b[0;34m\u001b[0m\u001b[0m\n\u001b[0m\u001b[1;32m      6\u001b[0m \u001b[0;34m\u001b[0m\u001b[0m\n\u001b[1;32m      7\u001b[0m \u001b[0mpca\u001b[0m \u001b[0;34m=\u001b[0m \u001b[0mPCA\u001b[0m\u001b[0;34m(\u001b[0m\u001b[0mn_components\u001b[0m\u001b[0;34m=\u001b[0m\u001b[0;36m2\u001b[0m\u001b[0;34m)\u001b[0m\u001b[0;34m\u001b[0m\u001b[0m\n",
      "\u001b[0;32m/usr/local/lib/python3.7/site-packages/pandas/core/frame.py\u001b[0m in \u001b[0;36m__setitem__\u001b[0;34m(self, key, value)\u001b[0m\n\u001b[1;32m   3117\u001b[0m         \u001b[0;32melse\u001b[0m\u001b[0;34m:\u001b[0m\u001b[0;34m\u001b[0m\u001b[0m\n\u001b[1;32m   3118\u001b[0m             \u001b[0;31m# set column\u001b[0m\u001b[0;34m\u001b[0m\u001b[0;34m\u001b[0m\u001b[0m\n\u001b[0;32m-> 3119\u001b[0;31m             \u001b[0mself\u001b[0m\u001b[0;34m.\u001b[0m\u001b[0m_set_item\u001b[0m\u001b[0;34m(\u001b[0m\u001b[0mkey\u001b[0m\u001b[0;34m,\u001b[0m \u001b[0mvalue\u001b[0m\u001b[0;34m)\u001b[0m\u001b[0;34m\u001b[0m\u001b[0m\n\u001b[0m\u001b[1;32m   3120\u001b[0m \u001b[0;34m\u001b[0m\u001b[0m\n\u001b[1;32m   3121\u001b[0m     \u001b[0;32mdef\u001b[0m \u001b[0m_setitem_slice\u001b[0m\u001b[0;34m(\u001b[0m\u001b[0mself\u001b[0m\u001b[0;34m,\u001b[0m \u001b[0mkey\u001b[0m\u001b[0;34m,\u001b[0m \u001b[0mvalue\u001b[0m\u001b[0;34m)\u001b[0m\u001b[0;34m:\u001b[0m\u001b[0;34m\u001b[0m\u001b[0m\n",
      "\u001b[0;32m/usr/local/lib/python3.7/site-packages/pandas/core/frame.py\u001b[0m in \u001b[0;36m_set_item\u001b[0;34m(self, key, value)\u001b[0m\n\u001b[1;32m   3193\u001b[0m         \u001b[0mself\u001b[0m\u001b[0;34m.\u001b[0m\u001b[0m_ensure_valid_index\u001b[0m\u001b[0;34m(\u001b[0m\u001b[0mvalue\u001b[0m\u001b[0;34m)\u001b[0m\u001b[0;34m\u001b[0m\u001b[0m\n\u001b[1;32m   3194\u001b[0m         \u001b[0mvalue\u001b[0m \u001b[0;34m=\u001b[0m \u001b[0mself\u001b[0m\u001b[0;34m.\u001b[0m\u001b[0m_sanitize_column\u001b[0m\u001b[0;34m(\u001b[0m\u001b[0mkey\u001b[0m\u001b[0;34m,\u001b[0m \u001b[0mvalue\u001b[0m\u001b[0;34m)\u001b[0m\u001b[0;34m\u001b[0m\u001b[0m\n\u001b[0;32m-> 3195\u001b[0;31m         \u001b[0mNDFrame\u001b[0m\u001b[0;34m.\u001b[0m\u001b[0m_set_item\u001b[0m\u001b[0;34m(\u001b[0m\u001b[0mself\u001b[0m\u001b[0;34m,\u001b[0m \u001b[0mkey\u001b[0m\u001b[0;34m,\u001b[0m \u001b[0mvalue\u001b[0m\u001b[0;34m)\u001b[0m\u001b[0;34m\u001b[0m\u001b[0m\n\u001b[0m\u001b[1;32m   3196\u001b[0m \u001b[0;34m\u001b[0m\u001b[0m\n\u001b[1;32m   3197\u001b[0m         \u001b[0;31m# check if we are modifying a copy\u001b[0m\u001b[0;34m\u001b[0m\u001b[0;34m\u001b[0m\u001b[0m\n",
      "\u001b[0;32m/usr/local/lib/python3.7/site-packages/pandas/core/generic.py\u001b[0m in \u001b[0;36m_set_item\u001b[0;34m(self, key, value)\u001b[0m\n\u001b[1;32m   2598\u001b[0m \u001b[0;34m\u001b[0m\u001b[0m\n\u001b[1;32m   2599\u001b[0m     \u001b[0;32mdef\u001b[0m \u001b[0m_set_item\u001b[0m\u001b[0;34m(\u001b[0m\u001b[0mself\u001b[0m\u001b[0;34m,\u001b[0m \u001b[0mkey\u001b[0m\u001b[0;34m,\u001b[0m \u001b[0mvalue\u001b[0m\u001b[0;34m)\u001b[0m\u001b[0;34m:\u001b[0m\u001b[0;34m\u001b[0m\u001b[0m\n\u001b[0;32m-> 2600\u001b[0;31m         \u001b[0mself\u001b[0m\u001b[0;34m.\u001b[0m\u001b[0m_data\u001b[0m\u001b[0;34m.\u001b[0m\u001b[0mset\u001b[0m\u001b[0;34m(\u001b[0m\u001b[0mkey\u001b[0m\u001b[0;34m,\u001b[0m \u001b[0mvalue\u001b[0m\u001b[0;34m)\u001b[0m\u001b[0;34m\u001b[0m\u001b[0m\n\u001b[0m\u001b[1;32m   2601\u001b[0m         \u001b[0mself\u001b[0m\u001b[0;34m.\u001b[0m\u001b[0m_clear_item_cache\u001b[0m\u001b[0;34m(\u001b[0m\u001b[0;34m)\u001b[0m\u001b[0;34m\u001b[0m\u001b[0m\n\u001b[1;32m   2602\u001b[0m \u001b[0;34m\u001b[0m\u001b[0m\n",
      "\u001b[0;32m/usr/local/lib/python3.7/site-packages/pandas/core/internals.py\u001b[0m in \u001b[0;36mset\u001b[0;34m(self, item, value, check)\u001b[0m\n\u001b[1;32m   4244\u001b[0m         \u001b[0;32mexcept\u001b[0m \u001b[0mKeyError\u001b[0m\u001b[0;34m:\u001b[0m\u001b[0;34m\u001b[0m\u001b[0m\n\u001b[1;32m   4245\u001b[0m             \u001b[0;31m# This item wasn't present, just insert at end\u001b[0m\u001b[0;34m\u001b[0m\u001b[0;34m\u001b[0m\u001b[0m\n\u001b[0;32m-> 4246\u001b[0;31m             \u001b[0mself\u001b[0m\u001b[0;34m.\u001b[0m\u001b[0minsert\u001b[0m\u001b[0;34m(\u001b[0m\u001b[0mlen\u001b[0m\u001b[0;34m(\u001b[0m\u001b[0mself\u001b[0m\u001b[0;34m.\u001b[0m\u001b[0mitems\u001b[0m\u001b[0;34m)\u001b[0m\u001b[0;34m,\u001b[0m \u001b[0mitem\u001b[0m\u001b[0;34m,\u001b[0m \u001b[0mvalue\u001b[0m\u001b[0;34m)\u001b[0m\u001b[0;34m\u001b[0m\u001b[0m\n\u001b[0m\u001b[1;32m   4247\u001b[0m             \u001b[0;32mreturn\u001b[0m\u001b[0;34m\u001b[0m\u001b[0m\n\u001b[1;32m   4248\u001b[0m \u001b[0;34m\u001b[0m\u001b[0m\n",
      "\u001b[0;32m/usr/local/lib/python3.7/site-packages/pandas/core/internals.py\u001b[0m in \u001b[0;36minsert\u001b[0;34m(self, loc, item, value, allow_duplicates)\u001b[0m\n\u001b[1;32m   4345\u001b[0m \u001b[0;34m\u001b[0m\u001b[0m\n\u001b[1;32m   4346\u001b[0m         block = make_block(values=value, ndim=self.ndim,\n\u001b[0;32m-> 4347\u001b[0;31m                            placement=slice(loc, loc + 1))\n\u001b[0m\u001b[1;32m   4348\u001b[0m \u001b[0;34m\u001b[0m\u001b[0m\n\u001b[1;32m   4349\u001b[0m         \u001b[0;32mfor\u001b[0m \u001b[0mblkno\u001b[0m\u001b[0;34m,\u001b[0m \u001b[0mcount\u001b[0m \u001b[0;32min\u001b[0m \u001b[0m_fast_count_smallints\u001b[0m\u001b[0;34m(\u001b[0m\u001b[0mself\u001b[0m\u001b[0;34m.\u001b[0m\u001b[0m_blknos\u001b[0m\u001b[0;34m[\u001b[0m\u001b[0mloc\u001b[0m\u001b[0;34m:\u001b[0m\u001b[0;34m]\u001b[0m\u001b[0;34m)\u001b[0m\u001b[0;34m:\u001b[0m\u001b[0;34m\u001b[0m\u001b[0m\n",
      "\u001b[0;32m/usr/local/lib/python3.7/site-packages/pandas/core/internals.py\u001b[0m in \u001b[0;36mmake_block\u001b[0;34m(values, placement, klass, ndim, dtype, fastpath)\u001b[0m\n\u001b[1;32m   3203\u001b[0m                      placement=placement, dtype=dtype)\n\u001b[1;32m   3204\u001b[0m \u001b[0;34m\u001b[0m\u001b[0m\n\u001b[0;32m-> 3205\u001b[0;31m     \u001b[0;32mreturn\u001b[0m \u001b[0mklass\u001b[0m\u001b[0;34m(\u001b[0m\u001b[0mvalues\u001b[0m\u001b[0;34m,\u001b[0m \u001b[0mndim\u001b[0m\u001b[0;34m=\u001b[0m\u001b[0mndim\u001b[0m\u001b[0;34m,\u001b[0m \u001b[0mplacement\u001b[0m\u001b[0;34m=\u001b[0m\u001b[0mplacement\u001b[0m\u001b[0;34m)\u001b[0m\u001b[0;34m\u001b[0m\u001b[0m\n\u001b[0m\u001b[1;32m   3206\u001b[0m \u001b[0;34m\u001b[0m\u001b[0m\n\u001b[1;32m   3207\u001b[0m \u001b[0;31m# TODO: flexible with index=None and/or items=None\u001b[0m\u001b[0;34m\u001b[0m\u001b[0;34m\u001b[0m\u001b[0m\n",
      "\u001b[0;32m/usr/local/lib/python3.7/site-packages/pandas/core/internals.py\u001b[0m in \u001b[0;36m__init__\u001b[0;34m(self, values, placement, ndim)\u001b[0m\n\u001b[1;32m    123\u001b[0m             raise ValueError(\n\u001b[1;32m    124\u001b[0m                 \u001b[0;34m'Wrong number of items passed {val}, placement implies '\u001b[0m\u001b[0;34m\u001b[0m\u001b[0m\n\u001b[0;32m--> 125\u001b[0;31m                 '{mgr}'.format(val=len(self.values), mgr=len(self.mgr_locs)))\n\u001b[0m\u001b[1;32m    126\u001b[0m \u001b[0;34m\u001b[0m\u001b[0m\n\u001b[1;32m    127\u001b[0m     \u001b[0;32mdef\u001b[0m \u001b[0m_check_ndim\u001b[0m\u001b[0;34m(\u001b[0m\u001b[0mself\u001b[0m\u001b[0;34m,\u001b[0m \u001b[0mvalues\u001b[0m\u001b[0;34m,\u001b[0m \u001b[0mndim\u001b[0m\u001b[0;34m)\u001b[0m\u001b[0;34m:\u001b[0m\u001b[0;34m\u001b[0m\u001b[0m\n",
      "\u001b[0;31mValueError\u001b[0m: Wrong number of items passed 3, placement implies 1"
     ]
    }
   ],
   "source": [
    "from sklearn.decomposition import PCA\n",
    "\n",
    "pca = PCA(n_components=3) \n",
    "X_reg1 = pca.fit_transform(crimestats14[['propertycrime_per1000_sqrt', 'burglary_per1000', 'larceny_per1000']])\n",
    "crimestats14['property_crime_pca'] = X_reg1\n",
    "\n",
    "pca = PCA(n_components=2) \n",
    "X_reg2 = pca.fit_transform(crimestats14[['violent_crime_per1000', 'robbery_per1000']])\n",
    "crimestats14['violent_crime_pca'] = X_reg2"
   ]
  },
  {
   "cell_type": "code",
   "execution_count": null,
   "metadata": {},
   "outputs": [],
   "source": [
    "# Instantiate and fit our model.\n",
    "regr = linear_model.LinearRegression()\n",
    "Y = crimestats14['Property_Crime'].values.reshape(-1, 1)\n",
    "X = crimestats14[['Population','robbery_yesno', 'property_crime_pca', 'violent_crime_pca']]\n",
    "regr.fit(X, Y)\n",
    "\n",
    "# Inspect the results.\n",
    "print('\\nCoefficients: \\n', regr.coef_)\n",
    "print('\\nIntercept: \\n', regr.intercept_)\n",
    "print('\\nR-squared:')\n",
    "print(regr.score(X, Y))"
   ]
  },
  {
   "cell_type": "code",
   "execution_count": null,
   "metadata": {},
   "outputs": [],
   "source": [
    "# test the model, trained on 2014 data, on the 2013 dataset\n",
    "X = crimestats[['Population','robbery_yesno', 'property_crime_pca', 'violent_crime_pca']]\n",
    "Y = crimestats['Property_Crime'].values.reshape(-1, 1)\n",
    "regr.score(X, Y)"
   ]
  },
  {
   "cell_type": "code",
   "execution_count": null,
   "metadata": {},
   "outputs": [],
   "source": [
    "predicted = regr.predict(X).ravel()\n",
    "actual = Y\n",
    "residual = actual - predicted\n",
    "\n",
    "correlation_matrix = X.corr()\n",
    "display(correlation_matrix)\n",
    "\n",
    "# Cross Validation, 10 samples\n",
    "sklearn.model_selection.cross_val_score(regr, X, Y, cv = 10)"
   ]
  },
  {
   "cell_type": "code",
   "execution_count": null,
   "metadata": {},
   "outputs": [],
   "source": [
    "# F-test and p-values of the features selected\n",
    "sklearn.feature_selection.f_regression(crimestats14[['Population','robbery_yesno', 'property_crime_pca', 'violent_crime_pca']], crimestats14['Property_Crime'])"
   ]
  },
  {
   "cell_type": "code",
   "execution_count": null,
   "metadata": {},
   "outputs": [],
   "source": [
    "plt.hist(residual)\n",
    "plt.title('Residual counts')\n",
    "plt.xlabel('Residual')\n",
    "plt.ylabel('Count')\n",
    "plt.show()"
   ]
  },
  {
   "cell_type": "code",
   "execution_count": null,
   "metadata": {},
   "outputs": [],
   "source": [
    "plt.scatter(predicted, residual)\n",
    "plt.xlabel('Predicted')\n",
    "plt.ylabel('Residual')\n",
    "plt.axhline(y=0)\n",
    "plt.title('Residual vs. Predicted')\n",
    "plt.show()\n",
    "\n"
   ]
  },
  {
   "cell_type": "code",
   "execution_count": null,
   "metadata": {},
   "outputs": [],
   "source": [
    "# Holdout, test size 20%\n",
    "X_train, X_test, y_train, y_test = train_test_split(X, Y, test_size=0.2, random_state=3)\n",
    "\n",
    "print(X_train.shape, y_train.shape)\n",
    "print(X_test.shape, y_test.shape)\n",
    "\n",
    "model = regr.fit(X_train, y_train)\n",
    "predictions = regr.predict(X_test)\n",
    "print('Score: ' + str(model.score(X_test, y_test)))\n",
    "\n",
    "plt.scatter(y_test, predictions)\n",
    "plt.xlabel('True Values')\n",
    "plt.ylabel('Predictions')\n",
    "\n"
   ]
  },
  {
   "cell_type": "code",
   "execution_count": null,
   "metadata": {},
   "outputs": [],
   "source": [
    "sklearn.metrics.mean_squared_error(actual, predicted)"
   ]
  },
  {
   "cell_type": "code",
   "execution_count": null,
   "metadata": {},
   "outputs": [],
   "source": [
    "# A survey of the predicted results to see which are excessive outliers; \n",
    "# most were removed in order to improve model performance.\n",
    "\n",
    "cs_results = crimestats14\n",
    "cs_results['predictions'] = predicted\n",
    "\n",
    "print(cs_results.loc[cs_results['predictions'] > 3000, ['City', 'Population','Property_Crime','predictions']])\n"
   ]
  },
  {
   "cell_type": "code",
   "execution_count": null,
   "metadata": {},
   "outputs": [],
   "source": []
  },
  {
   "cell_type": "markdown",
   "metadata": {},
   "source": [
    "Used PCA to merge correlated /1000 features together, into two independent features, both of which have noticeable impact on R^2 and significant p-values according to the F-test, using both data sets.  Results of the model are decent in both, though may still be a bit over-fitted based on the 10-sample cross-validation, which still shows a couple of samples in both datasets with around -.3 compared to the mean of the rest.  \n",
    "\n",
    "Results of a model trained on 2013 data to estimate the property crime rates based on 2014 data were nearly the same as the model trained on the 2014 dataset, so it seems to work reasonably well on other datasets that have been prepared similarly."
   ]
  },
  {
   "cell_type": "code",
   "execution_count": null,
   "metadata": {},
   "outputs": [],
   "source": []
  }
 ],
 "metadata": {
  "kernelspec": {
   "display_name": "Python 3",
   "language": "python",
   "name": "python3"
  },
  "language_info": {
   "codemirror_mode": {
    "name": "ipython",
    "version": 3
   },
   "file_extension": ".py",
   "mimetype": "text/x-python",
   "name": "python",
   "nbconvert_exporter": "python",
   "pygments_lexer": "ipython3",
   "version": "3.7.0"
  }
 },
 "nbformat": 4,
 "nbformat_minor": 2
}
