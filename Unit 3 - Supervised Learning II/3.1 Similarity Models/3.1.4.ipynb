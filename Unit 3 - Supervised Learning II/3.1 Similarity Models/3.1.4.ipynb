{
 "cells": [
  {
   "cell_type": "code",
   "execution_count": 56,
   "metadata": {},
   "outputs": [],
   "source": [
    "%matplotlib inline\n",
    "import numpy as np\n",
    "import pandas as pd\n",
    "import scipy\n",
    "import sklearn\n",
    "import matplotlib.pyplot as plt\n",
    "import seaborn as sns\n",
    "pd.set_option('display.max_rows', 1000)\n",
    "import math\n",
    "import warnings\n",
    "from sklearn import linear_model\n",
    "\n",
    "from IPython.display import display\n",
    "\n",
    "# Display preferences.\n",
    "%matplotlib inline\n",
    "pd.options.display.float_format = '{:.3f}'.format\n",
    "\n",
    "# Suppress annoying harmless error.\n",
    "warnings.filterwarnings(\n",
    "    action=\"ignore\",\n",
    "    module=\"scipy\",\n",
    "    message=\"^internal gelsd\"\n",
    ")\n",
    "\n",
    "from sklearn.metrics import confusion_matrix\n",
    "from sklearn.naive_bayes import BernoulliNB\n",
    "from sklearn.model_selection import train_test_split\n",
    "from sklearn.model_selection import cross_val_score\n",
    "\n",
    "from sklearn.decomposition import PCA\n",
    "from sklearn import neighbors\n"
   ]
  },
  {
   "cell_type": "code",
   "execution_count": 31,
   "metadata": {},
   "outputs": [],
   "source": [
    "# importing data sets\n",
    "\n",
    "# 2013\n",
    "crimestats_baseline_2013 = pd.read_csv('Thinkful 2_4 dataframe.csv')\n",
    "crimestats13 = crimestats_baseline_2013\n",
    "\n",
    "# 2014\n",
    "crimestats_baseline_2014 = pd.read_csv('Thinkful 2_5 dataframe NY crime 2014.csv')\n",
    "crimestats14 = crimestats_baseline_2014\n"
   ]
  },
  {
   "cell_type": "code",
   "execution_count": 32,
   "metadata": {},
   "outputs": [],
   "source": [
    "# cleaning 2013 data\n",
    "\n",
    "# renaming the columns to fix the non-standard text in them\n",
    "crimestats13.columns = ['City', 'Population', 'Violent_Crime', 'Murder_and_Nonnegligent_Manslaughter', 'Rape_Revised','Rape_Legacy','Robbery','Aggravated_Assault','Property_Crime','Burglary','Larceny_Theft','Motor_Vehicle_Theft','Arson']\n",
    "\n",
    "#dropping the first four rows to remove the non-numeric title fluff\n",
    "crimestats13.drop([0,1,2,3], axis=0, inplace=True)\n",
    "\n",
    "#dropping the last three rows to remove the non-numeric title fluff\n",
    "crimestats13.drop([352,353,354], axis=0, inplace=True)\n",
    "\n",
    "# dropping the Rape 1 column due to it not having any contents\n",
    "crimestats13.drop('Rape_Revised', axis=1, inplace=True)\n",
    "crimestats13.drop('Rape_Legacy', axis=1, inplace=True)\n",
    "\n",
    "# dropping the Arson column due to it having so many NaN values\n",
    "crimestats13.drop('Arson', axis=1, inplace=True)\n",
    "\n",
    "# Remove 293: Seneca Falls Town due to the massive differential in per-1000-people burglary, property crime, \n",
    "# and larceny that it has relative to other cities.\n",
    "# Remove 220: New York (city) because of just how much of an outlier it is from the rest of the cities.\n",
    "crimestats13.drop(293, axis=0, inplace=True)\n",
    "crimestats13.drop(220, axis=0, inplace=True)\n",
    "\n",
    "# Removing outliers that showed up in model execution\n",
    "crimestats13.drop(7, axis=0, inplace=True)\n",
    "crimestats13.drop(11, axis=0, inplace=True)\n",
    "crimestats13.drop(39, axis=0, inplace=True)\n",
    "crimestats13.drop(130, axis=0, inplace=True)\n",
    "crimestats13.drop(276, axis=0, inplace=True)\n",
    "crimestats13.drop(314, axis=0, inplace=True)\n",
    "crimestats13.drop(350, axis=0, inplace=True)\n",
    "\n",
    "# cleaning up the data by removing commas and changing the contents from str to int\n",
    "def comma_cleaning_and_int(x):\n",
    "    crimestats13[x] = crimestats13[x].str.replace(',', '')\n",
    "    crimestats13[x] = crimestats13[x].astype(int)\n",
    "\n",
    "comma_cleaning_and_int('Population')\n",
    "comma_cleaning_and_int('Violent_Crime')\n",
    "comma_cleaning_and_int('Murder_and_Nonnegligent_Manslaughter')\n",
    "comma_cleaning_and_int('Robbery')\n",
    "comma_cleaning_and_int('Aggravated_Assault')\n",
    "comma_cleaning_and_int('Property_Crime')\n",
    "comma_cleaning_and_int('Burglary')\n",
    "comma_cleaning_and_int('Larceny_Theft')\n",
    "comma_cleaning_and_int('Motor_Vehicle_Theft')\n",
    "\n",
    "# adding in features requested in the drill\n",
    "def yesno(x):\n",
    "    if x > 0:\n",
    "        return 1\n",
    "    else:\n",
    "        return 0\n",
    "\n",
    "crimestats13['murder_yesno'] = crimestats13.apply(lambda row: yesno(row['Murder_and_Nonnegligent_Manslaughter']), axis=1)\n",
    "crimestats13['robbery_yesno'] = crimestats13.apply(lambda row: yesno(row['Robbery']), axis=1)\n",
    "\n",
    "# creating features using the ratio of crime to population\n",
    "def popratio(x,y):\n",
    "    return (1000*(x/y))\n",
    "\n",
    "crimestats13['violent_crime_per1000'] = 1000 * crimestats13['Violent_Crime'] / crimestats13['Population']\n",
    "crimestats13['murder_per1000'] = 1000 * crimestats13['Murder_and_Nonnegligent_Manslaughter'] / crimestats13['Population']\n",
    "crimestats13['robbery_per1000'] = 1000 * crimestats13['Robbery'] / crimestats13['Population']\n",
    "crimestats13['assault_per1000'] = 1000 * crimestats13['Aggravated_Assault'] / crimestats13['Population']\n",
    "crimestats13['propertycrime_per1000'] = 1000 * crimestats13['Property_Crime'] / crimestats13['Population']\n",
    "crimestats13['burglary_per1000'] = 1000 * crimestats13['Burglary'] / crimestats13['Population']\n",
    "crimestats13['larceny_per1000'] = 1000 * crimestats13['Larceny_Theft'] / crimestats13['Population']\n",
    "crimestats13['motorvehicle_crime_per1000'] = 1000 * crimestats13['Motor_Vehicle_Theft'] / crimestats13['Population']\n",
    "\n",
    "# creating a sqrt feature for property crime\n",
    "crimestats13['propertycrime_per1000_sqrt'] = crimestats13['propertycrime_per1000']**.5\n",
    "\n",
    "# creating PCA features for violent and property crimes\n",
    "pca = PCA(n_components=1) \n",
    "X_reg1 = pca.fit_transform(crimestats13[['propertycrime_per1000_sqrt', 'burglary_per1000', 'larceny_per1000']])\n",
    "crimestats13['property_crime_pca'] = X_reg1\n",
    "\n",
    "X_reg2 = pca.fit_transform(crimestats13[['violent_crime_per1000', 'robbery_per1000']])\n",
    "crimestats13['violent_crime_pca'] = X_reg2"
   ]
  },
  {
   "cell_type": "code",
   "execution_count": 33,
   "metadata": {},
   "outputs": [],
   "source": [
    "# cleaning 2014 data\n",
    "\n",
    "# renaming the columns to fix the non-standard text in them\n",
    "crimestats14.columns = ['City', 'Population', 'Violent_Crime', 'Murder_and_Nonnegligent_Manslaughter', 'Rape_Revised','Rape_Legacy','Robbery','Aggravated_Assault','Property_Crime','Burglary','Larceny_Theft','Motor_Vehicle_Theft','Arson']\n",
    "\n",
    "#dropping the first four rows to remove the non-numeric title fluff\n",
    "crimestats14.drop([0,1,2,3], axis=0, inplace=True)\n",
    "\n",
    "#dropping the last three rows to remove the non-numeric title fluff\n",
    "crimestats14.drop([377,376,375,374,373], axis=0, inplace=True)\n",
    "\n",
    "# dropping the Rape columns due to them having so many NaN values\n",
    "crimestats14.drop('Rape_Revised', axis=1, inplace=True)\n",
    "crimestats14.drop('Rape_Legacy', axis=1, inplace=True)\n",
    "\n",
    "# dropping the Arson column due to it having so many NaN values\n",
    "crimestats14.drop('Arson', axis=1, inplace=True)\n",
    "\n",
    "# cleaning up the data by removing commas and changing the contents from str to int\n",
    "crimestats14.fillna(0, inplace=True)\n",
    "\n",
    "def comma_cleaning_and_int(x):\n",
    "    crimestats14[x] = crimestats14[x].astype(str)\n",
    "    crimestats14[x] = crimestats14[x].str.replace(',', '')\n",
    "    crimestats14[x] = crimestats14[x].astype(int)\n",
    "\n",
    "comma_cleaning_and_int('Population')\n",
    "comma_cleaning_and_int('Violent_Crime')\n",
    "comma_cleaning_and_int('Murder_and_Nonnegligent_Manslaughter')\n",
    "comma_cleaning_and_int('Robbery')\n",
    "comma_cleaning_and_int('Aggravated_Assault')\n",
    "comma_cleaning_and_int('Property_Crime')\n",
    "comma_cleaning_and_int('Burglary')\n",
    "comma_cleaning_and_int('Larceny_Theft')\n",
    "comma_cleaning_and_int('Motor_Vehicle_Theft')\n",
    "\n",
    "# adding in features requested in the drill\n",
    "crimestats14['murder_yesno'] = crimestats14.apply(lambda row: yesno(row['Murder_and_Nonnegligent_Manslaughter']), axis=1)\n",
    "crimestats14['robbery_yesno'] = crimestats14.apply(lambda row: yesno(row['Robbery']), axis=1)\n",
    "\n",
    "# creating features using the ratio of crime to population\n",
    "crimestats14['violent_crime_per1000'] = 1000 * crimestats14['Violent_Crime'] / crimestats14['Population']\n",
    "crimestats14['murder_per1000'] = 1000 * crimestats14['Murder_and_Nonnegligent_Manslaughter'] / crimestats14['Population']\n",
    "crimestats14['robbery_per1000'] = 1000 * crimestats14['Robbery'] / crimestats14['Population']\n",
    "crimestats14['assault_per1000'] = 1000 * crimestats14['Aggravated_Assault'] / crimestats14['Population']\n",
    "crimestats14['propertycrime_per1000'] = 1000 * crimestats14['Property_Crime'] / crimestats14['Population']\n",
    "crimestats14['burglary_per1000'] = 1000 * crimestats14['Burglary'] / crimestats14['Population']\n",
    "crimestats14['larceny_per1000'] = 1000 * crimestats14['Larceny_Theft'] / crimestats14['Population']\n",
    "crimestats14['motorvehicle_crime_per1000'] = 1000 * crimestats14['Motor_Vehicle_Theft'] / crimestats14['Population']\n",
    "\n",
    "# Remove outliers in boxplot data\n",
    "crimestats14.drop(11, axis=0, inplace=True)\n",
    "crimestats14.drop(42, axis=0, inplace=True)\n",
    "crimestats14.drop(56, axis=0, inplace=True)\n",
    "crimestats14.drop(225, axis=0, inplace=True)\n",
    "crimestats14.drop(233, axis=0, inplace=True)\n",
    "crimestats14.drop(215, axis=0, inplace=True)\n",
    "crimestats14.drop(151, axis=0, inplace=True)\n",
    "crimestats14.drop(245, axis=0, inplace=True)\n",
    "\n",
    "# Remove 231: New York (city) because of just how much of an outlier it is from the rest of the cities.\n",
    "crimestats14.drop(231, axis=0, inplace=True)\n",
    "\n",
    "# Remove outliers in model run\n",
    "crimestats14.drop(287, axis=0, inplace=True)\n",
    "crimestats14.drop(330, axis=0, inplace=True)\n",
    "crimestats14.drop(370, axis=0, inplace=True)\n",
    "\n",
    "# creating a sqrt feature for property crime\n",
    "crimestats14['propertycrime_per1000_sqrt'] = crimestats14['propertycrime_per1000']**.5\n",
    "\n",
    "# creating PCA features for violent and property crimes\n",
    "pca = PCA(n_components=1) \n",
    "X_reg1 = pca.fit_transform(crimestats14[['propertycrime_per1000_sqrt', 'burglary_per1000', 'larceny_per1000']])\n",
    "crimestats14['property_crime_pca'] = X_reg1\n",
    "\n",
    "X_reg2 = pca.fit_transform(crimestats14[['violent_crime_per1000', 'robbery_per1000']])\n",
    "crimestats14['violent_crime_pca'] = X_reg2"
   ]
  },
  {
   "cell_type": "code",
   "execution_count": 137,
   "metadata": {},
   "outputs": [
    {
     "name": "stdout",
     "output_type": "stream",
     "text": [
      "\n",
      "Coefficients: \n",
      " [[ 2.21609631e-02 -1.07935683e+02  1.11526472e+01  4.72607986e+01]]\n",
      "\n",
      "Intercept: \n",
      " [51.74410197]\n",
      "\n",
      "2013 R-squared:\n",
      "0.8350934318479228\n",
      "\n",
      "2014 test R-squared: \n",
      " 0.8410394295551001\n"
     ]
    }
   ],
   "source": [
    "# basic linear regression model\n",
    "\n",
    "regr = linear_model.LinearRegression()\n",
    "\n",
    "crimestats_train = crimestats13\n",
    "crimestats_test = crimestats14\n",
    "\n",
    "Y_train = crimestats_train['Property_Crime'].values.reshape(-1, 1)\n",
    "X_train = crimestats_train[['Population','robbery_yesno', 'property_crime_pca', 'violent_crime_pca']]\n",
    "\n",
    "Y_test = crimestats_test['Property_Crime'].values.reshape(-1, 1)\n",
    "X_test = crimestats_test[['Population','robbery_yesno', 'property_crime_pca', 'violent_crime_pca']]\n",
    "\n",
    "regr.fit(X_train, Y_train)\n",
    "\n",
    "# Inspect the results.\n",
    "print('\\nCoefficients: \\n', regr.coef_)\n",
    "print('\\nIntercept: \\n', regr.intercept_)\n",
    "print('\\n2013 R-squared:')\n",
    "print(regr.score(X_train, Y_train))\n",
    "\n",
    "# test it on 2014 data\n",
    "print('\\n2014 test R-squared: \\n', regr.score(X_test, Y_test))\n"
   ]
  },
  {
   "cell_type": "code",
   "execution_count": 138,
   "metadata": {},
   "outputs": [
    {
     "data": {
      "text/html": [
       "<div>\n",
       "<style scoped>\n",
       "    .dataframe tbody tr th:only-of-type {\n",
       "        vertical-align: middle;\n",
       "    }\n",
       "\n",
       "    .dataframe tbody tr th {\n",
       "        vertical-align: top;\n",
       "    }\n",
       "\n",
       "    .dataframe thead th {\n",
       "        text-align: right;\n",
       "    }\n",
       "</style>\n",
       "<table border=\"1\" class=\"dataframe\">\n",
       "  <thead>\n",
       "    <tr style=\"text-align: right;\">\n",
       "      <th></th>\n",
       "      <th>Population</th>\n",
       "      <th>robbery_yesno</th>\n",
       "      <th>property_crime_pca</th>\n",
       "      <th>violent_crime_pca</th>\n",
       "    </tr>\n",
       "  </thead>\n",
       "  <tbody>\n",
       "    <tr>\n",
       "      <th>Population</th>\n",
       "      <td>1.000</td>\n",
       "      <td>0.473</td>\n",
       "      <td>0.190</td>\n",
       "      <td>0.369</td>\n",
       "    </tr>\n",
       "    <tr>\n",
       "      <th>robbery_yesno</th>\n",
       "      <td>0.473</td>\n",
       "      <td>1.000</td>\n",
       "      <td>0.377</td>\n",
       "      <td>0.442</td>\n",
       "    </tr>\n",
       "    <tr>\n",
       "      <th>property_crime_pca</th>\n",
       "      <td>0.190</td>\n",
       "      <td>0.377</td>\n",
       "      <td>1.000</td>\n",
       "      <td>0.522</td>\n",
       "    </tr>\n",
       "    <tr>\n",
       "      <th>violent_crime_pca</th>\n",
       "      <td>0.369</td>\n",
       "      <td>0.442</td>\n",
       "      <td>0.522</td>\n",
       "      <td>1.000</td>\n",
       "    </tr>\n",
       "  </tbody>\n",
       "</table>\n",
       "</div>"
      ],
      "text/plain": [
       "                    Population  robbery_yesno  property_crime_pca  \\\n",
       "Population               1.000          0.473               0.190   \n",
       "robbery_yesno            0.473          1.000               0.377   \n",
       "property_crime_pca       0.190          0.377               1.000   \n",
       "violent_crime_pca        0.369          0.442               0.522   \n",
       "\n",
       "                    violent_crime_pca  \n",
       "Population                      0.369  \n",
       "robbery_yesno                   0.442  \n",
       "property_crime_pca              0.522  \n",
       "violent_crime_pca               1.000  "
      ]
     },
     "metadata": {},
     "output_type": "display_data"
    },
    {
     "data": {
      "text/plain": [
       "array([0.86710116, 0.89462542, 0.6715176 , 0.88993686, 0.83572963,\n",
       "       0.38823976, 0.70693663, 0.42289366, 0.87737735, 0.83129928])"
      ]
     },
     "execution_count": 138,
     "metadata": {},
     "output_type": "execute_result"
    }
   ],
   "source": [
    "# running the model against the 2014 data\n",
    "\n",
    "predicted = regr.predict(X_test).ravel()\n",
    "actual = Y_test\n",
    "residual = actual - predicted\n",
    "\n",
    "correlation_matrix = X_test.corr()\n",
    "display(correlation_matrix)\n",
    "\n",
    "# Cross Validation, 10 samples\n",
    "sklearn.model_selection.cross_val_score(regr, X_test, Y_test, cv = 10)\n",
    "\n"
   ]
  },
  {
   "cell_type": "code",
   "execution_count": 139,
   "metadata": {},
   "outputs": [
    {
     "data": {
      "text/plain": [
       "(array([744.60313924,  78.23871489,  79.51586254, 144.04039027]),\n",
       " array([2.41817165e-87, 5.21602360e-17, 3.08918712e-17, 7.15734969e-28]))"
      ]
     },
     "execution_count": 139,
     "metadata": {},
     "output_type": "execute_result"
    }
   ],
   "source": [
    "# F-test and p-values of the features selected\n",
    "sklearn.feature_selection.f_regression(crimestats13[['Population','robbery_yesno', 'property_crime_pca', 'violent_crime_pca']], crimestats13['Property_Crime'])"
   ]
  },
  {
   "cell_type": "code",
   "execution_count": 140,
   "metadata": {},
   "outputs": [
    {
     "data": {
      "image/png": "[encoded data removed]",
      "text/plain": [
       "<Figure size 432x288 with 1 Axes>"
      ]
     },
     "metadata": {
      "needs_background": "light"
     },
     "output_type": "display_data"
    },
    {
     "data": {
      "image/png": "[encoded data removed]",
      "text/plain": [
       "<Figure size 432x288 with 1 Axes>"
      ]
     },
     "metadata": {
      "needs_background": "light"
     },
     "output_type": "display_data"
    },
    {
     "data": {
      "text/plain": [
       "33527.72158446327"
      ]
     },
     "execution_count": 140,
     "metadata": {},
     "output_type": "execute_result"
    }
   ],
   "source": [
    "predicted = regr.predict(X_test)\n",
    "actual = Y_test\n",
    "residual = actual - predicted\n",
    "\n",
    "plt.scatter(predicted, residual)\n",
    "plt.xlabel('Predicted')\n",
    "plt.ylabel('Residual')\n",
    "plt.axhline(y=0)\n",
    "plt.title('Residual vs. Predicted')\n",
    "plt.show()\n",
    "\n",
    "plt.hist(residual)\n",
    "plt.title('Residual counts')\n",
    "plt.xlabel('Residual')\n",
    "plt.ylabel('Count')\n",
    "plt.show()\n",
    "\n",
    "sklearn.metrics.mean_squared_error(actual, predicted)"
   ]
  },
  {
   "cell_type": "code",
   "execution_count": 141,
   "metadata": {},
   "outputs": [
    {
     "data": {
      "text/plain": [
       "array([0.62803569, 0.7230135 , 0.60440074, 0.84503832, 0.62026251,\n",
       "       0.64937168, 0.62196363, 0.56423482, 0.63785176, 0.65677563])"
      ]
     },
     "execution_count": 141,
     "metadata": {},
     "output_type": "execute_result"
    }
   ],
   "source": [
    "# KNN models\n",
    "\n",
    "# Y_train = crimestats_train['Property_Crime'].values.reshape(-1, 1)\n",
    "# X_train = crimestats_train[['Population','robbery_yesno', 'property_crime_pca', 'violent_crime_pca']]\n",
    "\n",
    "# Y_test = crimestats_test['Property_Crime'].values.reshape(-1, 1)\n",
    "# X_test = crimestats_test[['Population','robbery_yesno', 'property_crime_pca', 'violent_crime_pca']]\n",
    "\n",
    "k = 48\n",
    "\n",
    "knn = neighbors.KNeighborsRegressor(n_neighbors=k)\n",
    "knn_w = neighbors.KNeighborsRegressor(n_neighbors=k, weights='distance')\n",
    "\n",
    "knn.fit(X_train, Y_train)\n",
    "knn_w.fit(X_train, Y_train)\n",
    "\n",
    "sklearn.model_selection.cross_val_score(knn_w, X_test, Y_test, cv = 10)\n"
   ]
  },
  {
   "cell_type": "code",
   "execution_count": 142,
   "metadata": {},
   "outputs": [
    {
     "data": {
      "image/png": "[encoded data removed]",
      "text/plain": [
       "<Figure size 432x288 with 1 Axes>"
      ]
     },
     "metadata": {
      "needs_background": "light"
     },
     "output_type": "display_data"
    },
    {
     "data": {
      "image/png": "[encoded data removed]",
      "text/plain": [
       "<Figure size 432x288 with 1 Axes>"
      ]
     },
     "metadata": {
      "needs_background": "light"
     },
     "output_type": "display_data"
    },
    {
     "data": {
      "text/plain": [
       "48480.61494799799"
      ]
     },
     "execution_count": 142,
     "metadata": {},
     "output_type": "execute_result"
    }
   ],
   "source": [
    "predicted = knn_w.predict(X_test)\n",
    "actual = Y_test\n",
    "residual = actual - predicted\n",
    "\n",
    "plt.scatter(predicted, residual)\n",
    "plt.xlabel('Predicted')\n",
    "plt.ylabel('Residual')\n",
    "plt.axhline(y=0)\n",
    "plt.title('Residual vs. Predicted')\n",
    "plt.show()\n",
    "\n",
    "plt.hist(residual)\n",
    "plt.title('Residual counts')\n",
    "plt.xlabel('Residual')\n",
    "plt.ylabel('Count')\n",
    "plt.show()\n",
    "\n",
    "sklearn.metrics.mean_squared_error(actual, predicted)"
   ]
  },
  {
   "cell_type": "code",
   "execution_count": 143,
   "metadata": {},
   "outputs": [
    {
     "name": "stdout",
     "output_type": "stream",
     "text": [
      "Linear Regression Accuracy: 0.74 (+/- 0.12)\n",
      "Unweighted KNN Accuracy: 0.57 (+/- 0.16)\n",
      "Distance-Weighted KNN Accuracy: 0.66 (+/- 0.15)\n"
     ]
    }
   ],
   "source": [
    "# Comparing the mean accuracy of the models\n",
    "\n",
    "score_r = cross_val_score(regr, X_test, Y_test, cv=10)\n",
    "print(\"Linear Regression Accuracy: %0.2f (+/- %0.2f)\" % (score_r.mean(), score.std() * 2))\n",
    "score = cross_val_score(knn, X_test, Y_test, cv=10)\n",
    "print(\"Unweighted KNN Accuracy: %0.2f (+/- %0.2f)\" % (score.mean(), score.std() * 2))\n",
    "score_w = cross_val_score(knn_w, X_test, Y_test, cv=10)\n",
    "print(\"Distance-Weighted KNN Accuracy: %0.2f (+/- %0.2f)\" % (score_w.mean(), score_w.std() * 2))"
   ]
  },
  {
   "cell_type": "markdown",
   "metadata": {},
   "source": [
    "The linear regression is, at least with these features, the clear winner between linear and knn regression.  Even with optimized k, the KNNR model can only get to 66% accuracy, while the LR model achieves 74% accuracy, with similar standard deviations.  \n",
    "\n",
    "As for whether there would be a preferable, it's worth noting that the KNNR model makes more large overestimates and more small underestimates, which shifts the average error upwards and implies that some further tinkering, either with features or by pruning out the right kinds of outliers, might result in a more accurate model.  \n",
    "\n",
    "However, I have no idea how *much* tinkering would be required, and in any case I think that Linear Regression is the more appropriate tool for this particular dataset, specifically because net crime levels are not as \"clumpy\" as you really need for KNN to function properly.  "
   ]
  },
  {
   "cell_type": "code",
   "execution_count": 133,
   "metadata": {},
   "outputs": [
    {
     "name": "stdout",
     "output_type": "stream",
     "text": [
      "Linear Regression Accuracy: 0.99 (+/- 0.12)\n",
      "Distance-Weighted KNN Accuracy: 0.96 (+/- 0.08)\n"
     ]
    }
   ],
   "source": [
    "# Testing the models' accuracy when estimating Property Crime *rates* as opposed to total property crime\n",
    "\n",
    "Y_train = crimestats_train['propertycrime_per1000'].values.reshape(-1, 1)\n",
    "X_train = crimestats_train[['robbery_yesno', 'property_crime_pca', 'violent_crime_pca']]\n",
    "\n",
    "Y_test = crimestats_test['propertycrime_per1000'].values.reshape(-1, 1)\n",
    "X_test = crimestats_test[['robbery_yesno', 'property_crime_pca', 'violent_crime_pca']]\n",
    "\n",
    "regr.fit(X_train, Y_train)\n",
    "knn_w.fit(X_train, Y_train)\n",
    "\n",
    "score_r = cross_val_score(regr, X_test, Y_test, cv=10)\n",
    "print(\"Linear Regression Accuracy: %0.2f (+/- %0.2f)\" % (score_r.mean(), score.std() * 2))\n",
    "score_w = cross_val_score(knn_w, X_test, Y_test, cv=10)\n",
    "print(\"Distance-Weighted KNN Accuracy: %0.2f (+/- %0.2f)\" % (score_w.mean(), score_w.std() * 2))"
   ]
  },
  {
   "cell_type": "code",
   "execution_count": 134,
   "metadata": {},
   "outputs": [
    {
     "data": {
      "image/png": "[encoded data removed]",
      "text/plain": [
       "<Figure size 432x288 with 1 Axes>"
      ]
     },
     "metadata": {
      "needs_background": "light"
     },
     "output_type": "display_data"
    },
    {
     "data": {
      "image/png": "[encoded data removed]",
      "text/plain": [
       "<Figure size 432x288 with 1 Axes>"
      ]
     },
     "metadata": {
      "needs_background": "light"
     },
     "output_type": "display_data"
    },
    {
     "data": {
      "text/plain": [
       "6270912279.551544"
      ]
     },
     "execution_count": 134,
     "metadata": {},
     "output_type": "execute_result"
    }
   ],
   "source": [
    "predicted_ratetest = regr.predict(X_test) * crimestats_test['Population'].values.reshape(-1, 1)\n",
    "actual_ratetest = Y_test * crimestats_test['Population'].values.reshape(-1, 1)\n",
    "residual_ratetest = actual - predicted\n",
    "\n",
    "plt.scatter(predicted_ratetest, residual_ratetest)\n",
    "plt.xlabel('Predicted')\n",
    "plt.ylabel('Residual')\n",
    "plt.axhline(y=0)\n",
    "plt.title('Residual vs. Predicted')\n",
    "plt.show()\n",
    "\n",
    "plt.hist(residual_ratetest)\n",
    "plt.title('Residual counts')\n",
    "plt.xlabel('Residual')\n",
    "plt.ylabel('Count')\n",
    "plt.show()\n",
    "\n",
    "sklearn.metrics.mean_squared_error(actual_ratetest, predicted_ratetest)"
   ]
  },
  {
   "cell_type": "code",
   "execution_count": 135,
   "metadata": {},
   "outputs": [
    {
     "name": "stdout",
     "output_type": "stream",
     "text": [
      "Linear Regression Accuracy: 0.74 (+/- 0.12)\n",
      "Distance-Weighted KNN Accuracy: 0.66 (+/- 0.15)\n"
     ]
    }
   ],
   "source": [
    "# Reset to Y = Property Crime\n",
    "\n",
    "Y_train = crimestats_train['Property_Crime'].values.reshape(-1, 1)\n",
    "X_train = crimestats_train[['Population','robbery_yesno', 'property_crime_pca', 'violent_crime_pca']]\n",
    "\n",
    "Y_test = crimestats_test['Property_Crime'].values.reshape(-1, 1)\n",
    "X_test = crimestats_test[['Population','robbery_yesno', 'property_crime_pca', 'violent_crime_pca']]\n",
    "\n",
    "regr.fit(X_train, Y_train)\n",
    "knn_w.fit(X_train, Y_train)\n",
    "\n",
    "score_r = cross_val_score(regr, X_test, Y_test, cv=10)\n",
    "print(\"Linear Regression Accuracy: %0.2f (+/- %0.2f)\" % (score_r.mean(), score.std() * 2))\n",
    "score_w = cross_val_score(knn_w, X_test, Y_test, cv=10)\n",
    "print(\"Distance-Weighted KNN Accuracy: %0.2f (+/- %0.2f)\" % (score_w.mean(), score_w.std() * 2))"
   ]
  },
  {
   "cell_type": "code",
   "execution_count": 47,
   "metadata": {},
   "outputs": [],
   "source": []
  },
  {
   "cell_type": "code",
   "execution_count": null,
   "metadata": {},
   "outputs": [],
   "source": []
  }
 ],
 "metadata": {
  "kernelspec": {
   "display_name": "Python 3",
   "language": "python",
   "name": "python3"
  },
  "language_info": {
   "codemirror_mode": {
    "name": "ipython",
    "version": 3
   },
   "file_extension": ".py",
   "mimetype": "text/x-python",
   "name": "python",
   "nbconvert_exporter": "python",
   "pygments_lexer": "ipython3",
   "version": "3.7.0"
  }
 },
 "nbformat": 4,
 "nbformat_minor": 2
}
