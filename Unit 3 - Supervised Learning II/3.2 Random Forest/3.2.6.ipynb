{
 "cells": [
  {
   "cell_type": "code",
   "execution_count": 80,
   "metadata": {},
   "outputs": [],
   "source": [
    "%matplotlib inline\n",
    "import numpy as np\n",
    "import pandas as pd\n",
    "import scipy\n",
    "import sklearn\n",
    "import matplotlib.pyplot as plt\n",
    "import seaborn as sns\n",
    "pd.set_option('display.max_rows', 1000)\n",
    "pd.set_option('display.max_columns', 1000)\n",
    "import math\n",
    "import warnings\n",
    "from sklearn import linear_model\n",
    "\n",
    "from IPython.display import display\n",
    "\n",
    "# Display preferences.\n",
    "%matplotlib inline\n",
    "pd.options.display.float_format = '{:.3f}'.format\n",
    "\n",
    "# Suppress annoying harmless error.\n",
    "warnings.filterwarnings(\n",
    "    action=\"ignore\",\n",
    "    module=\"scipy\",\n",
    "    message=\"^internal gelsd\"\n",
    ")\n",
    "\n",
    "from sklearn.exceptions import DataConversionWarning\n",
    "warnings.filterwarnings(action='ignore', category=DataConversionWarning)\n",
    "\n",
    "from sklearn.metrics import confusion_matrix\n",
    "from sklearn.naive_bayes import BernoulliNB\n",
    "from sklearn.model_selection import train_test_split\n",
    "from sklearn.model_selection import cross_val_score\n",
    "\n",
    "from sklearn.decomposition import PCA\n",
    "from sklearn import neighbors\n",
    "\n",
    "from sklearn import ensemble\n",
    "from sklearn.model_selection import cross_val_score\n",
    "from sklearn.model_selection import GridSearchCV\n",
    "\n",
    "from sklearn.datasets import load_digits\n",
    "from sklearn.feature_selection import SelectKBest, chi2, f_classif\n",
    "\n",
    "from timeit import default_timer as timer\n",
    "\n",
    "import pydotplus\n",
    "from sklearn import tree\n"
   ]
  },
  {
   "cell_type": "code",
   "execution_count": 81,
   "metadata": {},
   "outputs": [],
   "source": [
    "# importing data sets\n",
    "\n",
    "# 2013\n",
    "crimestats_baseline_2013 = pd.read_csv('Thinkful 2_4 dataframe.csv')\n",
    "crimestats13 = crimestats_baseline_2013\n",
    "\n"
   ]
  },
  {
   "cell_type": "code",
   "execution_count": 82,
   "metadata": {},
   "outputs": [],
   "source": [
    "# cleaning 2013 data\n",
    "\n",
    "# renaming the columns to fix the non-standard text in them\n",
    "crimestats13.columns = ['City', 'Population', 'Violent_Crime', 'Murder_and_Nonnegligent_Manslaughter', 'Rape_Revised','Rape_Legacy','Robbery','Aggravated_Assault','Property_Crime','Burglary','Larceny_Theft','Motor_Vehicle_Theft','Arson']\n",
    "\n",
    "#dropping the first four rows to remove the non-numeric title fluff\n",
    "crimestats13.drop([0,1,2,3], axis=0, inplace=True)\n",
    "\n",
    "#dropping the last three rows to remove the non-numeric title fluff\n",
    "crimestats13.drop([352,353,354], axis=0, inplace=True)\n",
    "\n",
    "# dropping the Rape 1 column due to it not having any contents\n",
    "crimestats13.drop('Rape_Revised', axis=1, inplace=True)\n",
    "crimestats13.drop('Rape_Legacy', axis=1, inplace=True)\n",
    "\n",
    "# dropping the Arson column due to it having so many NaN values\n",
    "crimestats13.drop('Arson', axis=1, inplace=True)\n",
    "\n",
    "# Remove 293: Seneca Falls Town due to the massive differential in per-1000-people burglary, property crime, \n",
    "# and larceny that it has relative to other cities.\n",
    "# Remove 220: New York (city) because of just how much of an outlier it is from the rest of the cities.\n",
    "crimestats13.drop(293, axis=0, inplace=True)\n",
    "crimestats13.drop(220, axis=0, inplace=True)\n",
    "\n",
    "# Removing outliers that showed up in model execution\n",
    "crimestats13.drop(7, axis=0, inplace=True)\n",
    "crimestats13.drop(11, axis=0, inplace=True)\n",
    "crimestats13.drop(39, axis=0, inplace=True)\n",
    "crimestats13.drop(130, axis=0, inplace=True)\n",
    "crimestats13.drop(276, axis=0, inplace=True)\n",
    "crimestats13.drop(314, axis=0, inplace=True)\n",
    "crimestats13.drop(350, axis=0, inplace=True)\n",
    "\n",
    "# cleaning up the data by removing commas and changing the contents from str to int\n",
    "def comma_cleaning_and_int(x):\n",
    "    crimestats13[x] = crimestats13[x].str.replace(',', '')\n",
    "    crimestats13[x] = crimestats13[x].astype(int)\n",
    "\n",
    "comma_cleaning_and_int('Population')\n",
    "comma_cleaning_and_int('Violent_Crime')\n",
    "comma_cleaning_and_int('Murder_and_Nonnegligent_Manslaughter')\n",
    "comma_cleaning_and_int('Robbery')\n",
    "comma_cleaning_and_int('Aggravated_Assault')\n",
    "comma_cleaning_and_int('Property_Crime')\n",
    "comma_cleaning_and_int('Burglary')\n",
    "comma_cleaning_and_int('Larceny_Theft')\n",
    "comma_cleaning_and_int('Motor_Vehicle_Theft')\n",
    "\n",
    "# adding in features requested in the drill\n",
    "def yesno(x):\n",
    "    if x > 0:\n",
    "        return 1\n",
    "    else:\n",
    "        return 0\n",
    "\n",
    "crimestats13['murder_yesno'] = crimestats13.apply(lambda row: yesno(row['Murder_and_Nonnegligent_Manslaughter']), axis=1)\n",
    "crimestats13['robbery_yesno'] = crimestats13.apply(lambda row: yesno(row['Robbery']), axis=1)\n",
    "\n",
    "# creating features using the ratio of crime to population\n",
    "def popratio(x,y):\n",
    "    return (1000*(x/y))\n",
    "\n",
    "crimestats13['violent_crime_per1000'] = 1000 * crimestats13['Violent_Crime'] / crimestats13['Population']\n",
    "crimestats13['murder_per1000'] = 1000 * crimestats13['Murder_and_Nonnegligent_Manslaughter'] / crimestats13['Population']\n",
    "crimestats13['robbery_per1000'] = 1000 * crimestats13['Robbery'] / crimestats13['Population']\n",
    "crimestats13['assault_per1000'] = 1000 * crimestats13['Aggravated_Assault'] / crimestats13['Population']\n",
    "crimestats13['propertycrime_per1000'] = 1000 * crimestats13['Property_Crime'] / crimestats13['Population']\n",
    "crimestats13['burglary_per1000'] = 1000 * crimestats13['Burglary'] / crimestats13['Population']\n",
    "crimestats13['larceny_per1000'] = 1000 * crimestats13['Larceny_Theft'] / crimestats13['Population']\n",
    "crimestats13['motorvehicle_crime_per1000'] = 1000 * crimestats13['Motor_Vehicle_Theft'] / crimestats13['Population']\n",
    "\n",
    "# creating a sqrt feature for property crime\n",
    "crimestats13['propertycrime_per1000_sqrt'] = crimestats13['propertycrime_per1000']**.5\n",
    "\n",
    "# creating PCA features for violent and property crimes\n",
    "pca = PCA(n_components=1) \n",
    "X_reg1 = pca.fit_transform(crimestats13[['propertycrime_per1000_sqrt', 'burglary_per1000', 'larceny_per1000', 'motorvehicle_crime_per1000', ]])\n",
    "crimestats13['property_crime_pca'] = X_reg1\n",
    "\n",
    "X_reg2 = pca.fit_transform(crimestats13[['violent_crime_per1000', 'robbery_per1000','assault_per1000','murder_per1000']])\n",
    "crimestats13['violent_crime_pca'] = X_reg2"
   ]
  },
  {
   "cell_type": "code",
   "execution_count": null,
   "metadata": {},
   "outputs": [],
   "source": []
  },
  {
   "cell_type": "code",
   "execution_count": 83,
   "metadata": {},
   "outputs": [
    {
     "name": "stderr",
     "output_type": "stream",
     "text": [
      "/usr/local/lib/python3.7/site-packages/sklearn/feature_selection/univariate_selection.py:115: RuntimeWarning: divide by zero encountered in true_divide\n",
      "  f = msb / msw\n"
     ]
    }
   ],
   "source": [
    "# creating base training & testing dataframes without city names\n",
    "X_train_all = crimestats13.drop('City', axis=1)\n",
    "\n",
    "# creating training sets\n",
    "Y_train = crimestats_train['Property_Crime'].values.reshape(-1, 1)\n",
    "X_train_picked = crimestats_train[['Population', 'property_crime_pca', 'violent_crime_pca']]\n",
    "X_train_best = SelectKBest(f_classif, k=10).fit_transform(crimestats_train, Y_train)\n"
   ]
  },
  {
   "cell_type": "code",
   "execution_count": 84,
   "metadata": {},
   "outputs": [],
   "source": [
    "# Creating the model objects\n",
    "rfc = ensemble.RandomForestRegressor()\n",
    "decision_tree = tree.DecisionTreeRegressor(max_depth=5)\n",
    "\n",
    "grid_param_RF = {\n",
    "    'n_estimators': [100,150,200,250,300],\n",
    "    'criterion': ['mse', 'mae'],\n",
    "    'max_features' : [.2,.4,.6,.8,1],\n",
    "}\n",
    "\n",
    "grid_search_RF = GridSearchCV(estimator = rfc,  \n",
    "                              param_grid = grid_param_RF,\n",
    "                              scoring = 'neg_mean_squared_error',\n",
    "                              cv = 10)\n",
    "\n",
    "# Set parameters and create Grid Search object for Decision Tree algorithms\n",
    "grid_param_DT = {\n",
    "    'max_depth': [1,2,3,4,5,6,7,8,9,10,15,20,30],\n",
    "    'criterion': ['mse', 'mae','friedman_mse'],\n",
    "    'max_features' : [.2,.4,.6,.8,1],\n",
    "}\n",
    "\n",
    "grid_search_DT = GridSearchCV(estimator = decision_tree,  \n",
    "                              param_grid = grid_param_DT,\n",
    "                              scoring = 'neg_mean_squared_error',\n",
    "                              cv = 10)\n",
    "\n"
   ]
  },
  {
   "cell_type": "code",
   "execution_count": 57,
   "metadata": {},
   "outputs": [
    {
     "name": "stderr",
     "output_type": "stream",
     "text": [
      "/usr/local/lib/python3.7/site-packages/sklearn/model_selection/_search.py:841: DeprecationWarning: The default of the `iid` parameter will change from True to False in version 0.22 and will be removed in 0.24. This will change numeric results when test-set sizes are unequal.\n",
      "  DeprecationWarning)\n"
     ]
    },
    {
     "name": "stdout",
     "output_type": "stream",
     "text": [
      "X_train_all recommended parameters, Decision Tree regression:\n",
      "{'criterion': 'mse', 'max_depth': 20, 'max_features': 0.8}\n",
      " \n"
     ]
    },
    {
     "name": "stderr",
     "output_type": "stream",
     "text": [
      "/usr/local/lib/python3.7/site-packages/sklearn/model_selection/_search.py:841: DeprecationWarning: The default of the `iid` parameter will change from True to False in version 0.22 and will be removed in 0.24. This will change numeric results when test-set sizes are unequal.\n",
      "  DeprecationWarning)\n"
     ]
    },
    {
     "name": "stdout",
     "output_type": "stream",
     "text": [
      "X_train_picked recommended parameters, Decision Tree regression:\n",
      "{'criterion': 'mse', 'max_depth': 8, 'max_features': 0.8}\n",
      " \n"
     ]
    },
    {
     "name": "stderr",
     "output_type": "stream",
     "text": [
      "/usr/local/lib/python3.7/site-packages/sklearn/model_selection/_search.py:841: DeprecationWarning: The default of the `iid` parameter will change from True to False in version 0.22 and will be removed in 0.24. This will change numeric results when test-set sizes are unequal.\n",
      "  DeprecationWarning)\n"
     ]
    },
    {
     "name": "stdout",
     "output_type": "stream",
     "text": [
      "X_train_best recommended parameters, Decision Tree regression:\n",
      "{'criterion': 'friedman_mse', 'max_depth': 10, 'max_features': 0.8}\n",
      " \n"
     ]
    },
    {
     "name": "stderr",
     "output_type": "stream",
     "text": [
      "/usr/local/lib/python3.7/site-packages/sklearn/model_selection/_search.py:841: DeprecationWarning: The default of the `iid` parameter will change from True to False in version 0.22 and will be removed in 0.24. This will change numeric results when test-set sizes are unequal.\n",
      "  DeprecationWarning)\n"
     ]
    },
    {
     "name": "stdout",
     "output_type": "stream",
     "text": [
      "X_train_all recommended parameters, Random Forest regression:\n",
      "{'criterion': 'mae', 'max_features': 0.8, 'n_estimators': 250}\n",
      " \n"
     ]
    },
    {
     "name": "stderr",
     "output_type": "stream",
     "text": [
      "/usr/local/lib/python3.7/site-packages/sklearn/model_selection/_search.py:841: DeprecationWarning: The default of the `iid` parameter will change from True to False in version 0.22 and will be removed in 0.24. This will change numeric results when test-set sizes are unequal.\n",
      "  DeprecationWarning)\n"
     ]
    },
    {
     "name": "stdout",
     "output_type": "stream",
     "text": [
      "X_train_picked recommended parameters, Random Forest regression:\n",
      "{'criterion': 'mae', 'max_features': 0.8, 'n_estimators': 200}\n",
      " \n"
     ]
    },
    {
     "name": "stderr",
     "output_type": "stream",
     "text": [
      "/usr/local/lib/python3.7/site-packages/sklearn/model_selection/_search.py:841: DeprecationWarning: The default of the `iid` parameter will change from True to False in version 0.22 and will be removed in 0.24. This will change numeric results when test-set sizes are unequal.\n",
      "  DeprecationWarning)\n"
     ]
    },
    {
     "name": "stdout",
     "output_type": "stream",
     "text": [
      "X_train_best recommended parameters, Random Forest regression:\n",
      "{'criterion': 'mae', 'max_features': 0.8, 'n_estimators': 100}\n",
      " \n"
     ]
    }
   ],
   "source": [
    "# Doing Gridsearch CV on all model/feature set combinations\n",
    "\n",
    "grid_search_DT.fit(X_train_all, Y_train)\n",
    "print('X_train_all recommended parameters, Decision Tree regression:')\n",
    "print(grid_search_DT.best_params_)\n",
    "print(' ')\n",
    "\n",
    "grid_search_DT.fit(X_train_picked, Y_train)\n",
    "print('X_train_picked recommended parameters, Decision Tree regression:')\n",
    "print(grid_search_DT.best_params_)\n",
    "print(' ')\n",
    "\n",
    "grid_search_DT.fit(X_train_best, Y_train)\n",
    "print('X_train_best recommended parameters, Decision Tree regression:')\n",
    "print(grid_search_DT.best_params_)\n",
    "print(' ')\n",
    "\n",
    "grid_search_RF.fit(X_train_all, Y_train)\n",
    "print('X_train_all recommended parameters, Random Forest regression:')\n",
    "print(grid_search_RF.best_params_)\n",
    "print(' ')\n",
    "\n",
    "grid_search_RF.fit(X_train_picked, Y_train)\n",
    "print('X_train_picked recommended parameters, Random Forest regression:')\n",
    "print(grid_search_RF.best_params_)\n",
    "print(' ')\n",
    "\n",
    "grid_search_RF.fit(X_train_best, Y_train)\n",
    "print('X_train_best recommended parameters, Random Forest regression:')\n",
    "print(grid_search_RF.best_params_)\n",
    "print(' ')\n",
    "\n"
   ]
  },
  {
   "cell_type": "code",
   "execution_count": 119,
   "metadata": {},
   "outputs": [
    {
     "name": "stdout",
     "output_type": "stream",
     "text": [
      "Decision Tree predictions of Property Crime, all features:\n",
      "[0.97881985 0.80957932 0.98918268 0.9884727  0.99258803 0.99885301\n",
      " 0.97779593 0.99839716 0.98967847 0.93753081]\n",
      "Average runtime: 0.05680933391995495 seconds\n",
      "Average Mean Squared Error: 0.0\n"
     ]
    }
   ],
   "source": [
    "# Decision Tree trained on X_train_all, the entirety of the cleaned numeric 2013 data\n",
    "\n",
    "decision_tree = tree.DecisionTreeRegressor(max_depth=20,max_features = .8,criterion = 'mse')\n",
    "score = 0\n",
    "\n",
    "start = timer()\n",
    "\n",
    "for n in range(0,50):\n",
    "    decision_tree.fit(X_train_all, Y_train)\n",
    "    cross_val_score(decision_tree, X_train_all, Y_train, cv=10)\n",
    "    predicted = decision_tree.predict(X_train_all)\n",
    "    actual = Y_train\n",
    "    score += sklearn.metrics.mean_squared_error(actual, predicted)\n",
    "\n",
    "end = timer()\n",
    "\n",
    "print('Decision Tree predictions of Property Crime, all features:')\n",
    "print(cross_val_score(decision_tree, X_train_all, Y_train, cv=10))\n",
    "print('Average runtime: '+ str((end - start)/50) + ' seconds')\n",
    "print('Average Mean Squared Error: ' + str(score/50))"
   ]
  },
  {
   "cell_type": "markdown",
   "metadata": {},
   "source": [
    "GridSearch CV recommended parameters for X_train_all, using Decision Tree regression:  max_depth=20, max_features = .8, criterion = 'mse'\n",
    "\n",
    "These parameters resulted in an average runtime of .054 seconds and a MSE of 0.\n",
    "Using the default parameters for DecisionTreeRegressor, the result was an average of .0579 seconds and an MSE of 0."
   ]
  },
  {
   "cell_type": "code",
   "execution_count": 120,
   "metadata": {},
   "outputs": [
    {
     "name": "stdout",
     "output_type": "stream",
     "text": [
      "Decision Tree predictions of Property Crime, using PCA features:\n",
      "[0.97394673 0.74019463 0.68000526 0.86581228 0.92368882 0.8528206\n",
      " 0.87779242 0.63112426 0.87063062 0.75325385]\n",
      "Average runtime: 0.036057757000016864 seconds\n",
      "Average Mean Squared Error: 454.22383805496594\n"
     ]
    }
   ],
   "source": [
    "# Decision Tree trained on X_train_picked, using population and PCA features\n",
    "\n",
    "decision_tree = tree.DecisionTreeRegressor(max_depth= 8, max_features = .8, criterion = 'mse')\n",
    "score = 0\n",
    "\n",
    "start = timer()\n",
    "\n",
    "for n in range(0,50):\n",
    "    decision_tree.fit(X_train_picked, Y_train)\n",
    "    cross_val_score(decision_tree, X_train_picked, Y_train, cv=10)\n",
    "    predicted = decision_tree.predict(X_train_picked)\n",
    "    actual = Y_train\n",
    "    score += sklearn.metrics.mean_squared_error(actual, predicted)\n",
    "\n",
    "end = timer()\n",
    "\n",
    "print('Decision Tree predictions of Property Crime, using PCA features:')\n",
    "print(cross_val_score(decision_tree, X_train_picked, Y_train, cv=10))\n",
    "print('Average runtime: '+ str((end - start)/50) + ' seconds')\n",
    "print('Average Mean Squared Error: ' + str(score/50))"
   ]
  },
  {
   "cell_type": "markdown",
   "metadata": {},
   "source": [
    "GridSearch CV recommended parameters for X_train_picked, using Decision Tree regression:  max_depth= 8, max_features = .8, criterion = 'mse'\n",
    "\n",
    "These parameters resulted in an average runtime of .0436 seconds and an average MSE of 271.03.\n",
    "Using the default parameters for DecisionTreeRegressor, the result was an average of .04 seconds and an MSE of 1191.42."
   ]
  },
  {
   "cell_type": "code",
   "execution_count": 129,
   "metadata": {},
   "outputs": [
    {
     "name": "stdout",
     "output_type": "stream",
     "text": [
      "Decision Tree predictions of Property Crime, using PCA features:\n",
      "[0.98081048 0.95952988 0.99611835 0.98787402 0.99849933 0.99671784\n",
      " 0.99793724 0.99351202 0.99064074 0.98459368]\n",
      "Average runtime: 0.02392657071999565 seconds\n",
      "Average Mean Squared Error: 0.04119984080161071\n"
     ]
    }
   ],
   "source": [
    "# Decision Tree trained on X_train_best, the 10 features created by SelectKBest\n",
    "\n",
    "decision_tree = tree.DecisionTreeRegressor(max_depth= 10, max_features = .8, criterion = 'friedman_mse')\n",
    "score = 0\n",
    "\n",
    "start = timer()\n",
    "\n",
    "for n in range(0,50):\n",
    "    decision_tree.fit(X_train_best, Y_train)\n",
    "    cross_val_score(decision_tree, X_train_best, Y_train, cv=10)\n",
    "    actual = Y_train\n",
    "    predicted = decision_tree.predict(X_train_best)\n",
    "    score += sklearn.metrics.mean_squared_error(actual, predicted)\n",
    "\n",
    "end = timer()\n",
    "\n",
    "print('Decision Tree predictions of Property Crime, using PCA features:')\n",
    "print(cross_val_score(decision_tree, X_train_best, Y_train, cv=10))\n",
    "print('Average runtime: '+ str((end - start)/50) + ' seconds')\n",
    "print('Average Mean Squared Error: ' + str(score/50))"
   ]
  },
  {
   "cell_type": "markdown",
   "metadata": {},
   "source": [
    "GridSearch CV recommended parameters for X_train_best, using Decision Tree regression:  max_depth= 10, max_features = .8, criterion = 'friedman_mse'\n",
    "\n",
    "These parameters resulted in an average runtime of .0222 seconds and an average MSE of .0411.\n",
    "Using the default parameters for DecisionTreeRegressor, the result was an average of .0235 seconds and an MSE of 0."
   ]
  },
  {
   "cell_type": "code",
   "execution_count": 134,
   "metadata": {},
   "outputs": [
    {
     "name": "stdout",
     "output_type": "stream",
     "text": [
      "Random Forest predictions of Property Crime, entirety of the cleaned 2013 dataset:\n",
      "[0.99700386 0.9481509  0.99907163 0.99748476 0.99896764 0.99960329\n",
      " 0.9894518  0.99981205 0.99214894 0.9994063 ]\n",
      "Average runtime: 5.990344341220043 seconds\n",
      "Average Mean Squared Error: 255.10616439787606\n"
     ]
    }
   ],
   "source": [
    "# Random Forest trained on crimestats_train, the entirety of the cleaned numeric 2013 data\n",
    "\n",
    "rfc = ensemble.RandomForestRegressor(n_estimators = 250, max_features = .8, criterion = 'mse')\n",
    "score = 0\n",
    "\n",
    "start = timer()\n",
    "\n",
    "for n in range(0,25):\n",
    "    rfc.fit(X_train_all, Y_train)  \n",
    "    cross_val_score(rfc, X_train_all, Y_train, cv=10)\n",
    "    actual = Y_train\n",
    "    predicted = rfc.predict(X_train_all)\n",
    "    score += sklearn.metrics.mean_squared_error(actual, predicted)\n",
    "\n",
    "end = timer()\n",
    "\n",
    "print('Random Forest predictions of Property Crime, entirety of the cleaned 2013 dataset:')\n",
    "print(cross_val_score(rfc, X_train_all, Y_train, cv=10))\n",
    "print('Average runtime: '+ str((end - start)/25) + ' seconds')\n",
    "print('Average Mean Squared Error: ' + str(score/25))\n"
   ]
  },
  {
   "cell_type": "markdown",
   "metadata": {},
   "source": [
    "GridSearch CV recommended parameters for X_train_all, using Random Forest regression:  n_estimators = 250, max_features = .8, criterion = 'mse'\n",
    "\n",
    "These parameters resulted in an average runtime of 5.99 seconds and an average MSE of 255.11.\n",
    "Using the default parameters for RandomForestRegressor, the result was an average of .34 seconds and an MSE of 443.22."
   ]
  },
  {
   "cell_type": "code",
   "execution_count": 139,
   "metadata": {},
   "outputs": [
    {
     "name": "stderr",
     "output_type": "stream",
     "text": [
      "/usr/local/lib/python3.7/site-packages/sklearn/ensemble/forest.py:246: FutureWarning: The default value of n_estimators will change from 10 in version 0.20 to 100 in 0.22.\n",
      "  \"10 in version 0.20 to 100 in 0.22.\", FutureWarning)\n"
     ]
    },
    {
     "name": "stdout",
     "output_type": "stream",
     "text": [
      "Random Forest predictions of Property Crime, entirety of the cleaned 2013 dataset:\n",
      "[0.97632936 0.92045763 0.97501787 0.93133827 0.95153778 0.96563046\n",
      " 0.96355918 0.84381568 0.96772118 0.98604475]\n",
      "Average runtime: 0.18611074032000033 seconds\n",
      "Average Mean Squared Error: 1705.32972979351\n"
     ]
    }
   ],
   "source": [
    "# Random Forest trained on X_train_picked, using population and PCA features\n",
    "\n",
    "rfc = ensemble.RandomForestRegressor(n_estimators = 200, max_features = .8, criterion = 'mae')\n",
    "score = 0\n",
    "\n",
    "start = timer()\n",
    "\n",
    "for n in range(0,25):\n",
    "    rfc.fit(X_train_picked, Y_train)  \n",
    "    cross_val_score(rfc, X_train_picked, Y_train, cv=10)\n",
    "    actual = Y_train\n",
    "    predicted = rfc.predict(X_train_picked)\n",
    "    score += sklearn.metrics.mean_squared_error(actual, predicted)\n",
    "\n",
    "end = timer()\n",
    "\n",
    "print('Random Forest predictions of Property Crime, entirety of the cleaned 2013 dataset:')\n",
    "print(cross_val_score(rfc, X_train_picked, Y_train, cv=10))\n",
    "print('Average runtime: '+ str((end - start)/25) + ' seconds')\n",
    "print('Average Mean Squared Error: ' + str(score/25))\n"
   ]
  },
  {
   "cell_type": "markdown",
   "metadata": {},
   "source": [
    "GridSearch CV recommended parameters for X_train_picked, using Random Forest regression:  n_estimators = 200, max_features = .8, criterion = 'mae'\n",
    "\n",
    "These parameters resulted in an average runtime of 6.962 seconds and an average MSE of 1216.\n",
    "Using the default parameters for RandomForestRegressor, the result was an average of .197 seconds and an MSE of 1764."
   ]
  },
  {
   "cell_type": "code",
   "execution_count": 138,
   "metadata": {},
   "outputs": [
    {
     "name": "stderr",
     "output_type": "stream",
     "text": [
      "/usr/local/lib/python3.7/site-packages/sklearn/ensemble/forest.py:246: FutureWarning: The default value of n_estimators will change from 10 in version 0.20 to 100 in 0.22.\n",
      "  \"10 in version 0.20 to 100 in 0.22.\", FutureWarning)\n"
     ]
    },
    {
     "name": "stdout",
     "output_type": "stream",
     "text": [
      "Random Forest predictions of Property Crime, entirety of the cleaned 2013 dataset:\n",
      "[0.9997741  0.95984919 0.99909822 0.99388549 0.99744806 0.99856756\n",
      " 0.99379989 0.99639888 0.992617   0.99391021]\n",
      "Average runtime: 0.20949420488002943 seconds\n",
      "Average Mean Squared Error: 409.70017345132743\n"
     ]
    }
   ],
   "source": [
    "# Random Forest trained on X_train_best, the 10 features created by SelectKBest\n",
    "\n",
    "rfc = ensemble.RandomForestRegressor()\n",
    "score = 0\n",
    "\n",
    "start = timer()\n",
    "\n",
    "for n in range(0,25):\n",
    "    rfc.fit(X_train_best, Y_train)  \n",
    "    cross_val_score(rfc, X_train_best, Y_train, cv=10)\n",
    "    actual = Y_train\n",
    "    predicted = rfc.predict(X_train_best)\n",
    "    score += sklearn.metrics.mean_squared_error(actual, predicted)\n",
    "\n",
    "end = timer()\n",
    "\n",
    "print('Random Forest predictions of Property Crime, entirety of the cleaned 2013 dataset:')\n",
    "print(cross_val_score(rfc, X_train_best, Y_train, cv=10))\n",
    "print('Average runtime: '+ str((end - start)/25) + ' seconds')\n",
    "print('Average Mean Squared Error: ' + str(score/25))"
   ]
  },
  {
   "cell_type": "markdown",
   "metadata": {},
   "source": [
    "GridSearch CV recommended parameters for X_train_picked, using Random Forest regression:  n_estimators = 100, max_features = .8, criterion = 'mae'\n",
    "\n",
    "These parameters resulted in an average runtime of 5.89 seconds and an average MSE of 181.4.\n",
    "Using the default parameters for RandomForestRegressor, the result was an average of .209 seconds and an MSE of 409.7."
   ]
  },
  {
   "cell_type": "code",
   "execution_count": null,
   "metadata": {},
   "outputs": [],
   "source": []
  },
  {
   "cell_type": "markdown",
   "metadata": {},
   "source": [
    "Grid Search CV suggests more time-intensive parameters, albeit ones that improve performance notably.  \n",
    "\n",
    "Decision Tree algorithm seemed to be able to function with nearly-zero error using both SelectKBest, with +/- 2% variation in Cross-Valuation tests. \n",
    "\n",
    "Random Forest using SelectKBest and default parameters produced a ~400 mse, very little variation in the Cross-Valuation, and an average runtime of ~.2 seconds, the best time & accuracy performance of all the Random Forest trials.  "
   ]
  },
  {
   "cell_type": "code",
   "execution_count": null,
   "metadata": {},
   "outputs": [],
   "source": []
  },
  {
   "cell_type": "code",
   "execution_count": null,
   "metadata": {},
   "outputs": [],
   "source": []
  }
 ],
 "metadata": {
  "kernelspec": {
   "display_name": "Python 3",
   "language": "python",
   "name": "python3"
  },
  "language_info": {
   "codemirror_mode": {
    "name": "ipython",
    "version": 3
   },
   "file_extension": ".py",
   "mimetype": "text/x-python",
   "name": "python",
   "nbconvert_exporter": "python",
   "pygments_lexer": "ipython3",
   "version": "3.7.0"
  }
 },
 "nbformat": 4,
 "nbformat_minor": 2
}
