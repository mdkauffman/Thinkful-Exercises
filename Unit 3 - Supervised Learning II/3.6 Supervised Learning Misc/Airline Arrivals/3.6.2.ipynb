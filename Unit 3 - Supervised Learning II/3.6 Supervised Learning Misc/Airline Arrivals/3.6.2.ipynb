{
 "cells": [
  {
   "cell_type": "markdown",
   "metadata": {},
   "source": [
    "The assignment was to take one or more datasets from http://stat-computing.org/dataexpo/2009/the-data.html and build a model that could accurately (85~) guess which flights would be delayed by 30 minutes or more based on information available when the aircraft took off.\n"
   ]
  },
  {
   "cell_type": "markdown",
   "metadata": {},
   "source": [
    "## Importing code"
   ]
  },
  {
   "cell_type": "code",
   "execution_count": 3,
   "metadata": {},
   "outputs": [],
   "source": [
    "%matplotlib inline\n",
    "import numpy as np\n",
    "import pandas as pd\n",
    "import scipy\n",
    "import sklearn\n",
    "import matplotlib.pyplot as plt\n",
    "import seaborn as sns\n",
    "pd.set_option('display.max_rows', 1000)\n",
    "pd.set_option('display.max_columns', 1000)\n",
    "import math\n",
    "import warnings\n",
    "from sklearn import linear_model\n",
    "from sklearn.linear_model import LogisticRegression\n",
    "from sklearn import ensemble\n",
    "from sklearn import datasets\n",
    "from sklearn.utils import shuffle\n",
    "from sklearn.metrics import mean_squared_error\n",
    "from sklearn.metrics import accuracy_score\n",
    "from sklearn.metrics import recall_score\n",
    "from sklearn.metrics import precision_score\n",
    "from sklearn.metrics import roc_auc_score\n",
    "from sklearn.svm import SVC\n",
    "from sklearn.metrics import classification_report\n",
    "\n",
    "\n",
    "from IPython.display import display\n",
    "\n",
    "# Display preferences.\n",
    "%matplotlib inline\n",
    "pd.options.display.float_format = '{:.3f}'.format\n",
    "\n",
    "# Suppress annoying harmless error.\n",
    "warnings.filterwarnings(\n",
    "    action=\"ignore\",\n",
    "    module=\"scipy\",\n",
    "    message=\"^internal gelsd\"\n",
    ")\n",
    "\n",
    "from sklearn.exceptions import DataConversionWarning\n",
    "warnings.filterwarnings(action='ignore', category=DataConversionWarning)\n",
    "\n",
    "from sklearn.metrics import confusion_matrix\n",
    "from sklearn.naive_bayes import BernoulliNB\n",
    "from sklearn.model_selection import train_test_split\n",
    "from sklearn.model_selection import cross_val_score\n",
    "\n",
    "from sklearn.decomposition import PCA\n",
    "from sklearn import neighbors\n",
    "from sklearn.neighbors import KNeighborsClassifier\n",
    "\n",
    "from sklearn import ensemble\n",
    "from sklearn.model_selection import cross_val_score\n",
    "from sklearn.model_selection import GridSearchCV\n",
    "from sklearn.svm import SVR\n",
    "\n",
    "from sklearn.datasets import load_digits\n",
    "from sklearn.feature_selection import SelectKBest, chi2, f_classif\n",
    "\n",
    "from timeit import default_timer as timer\n",
    "\n",
    "import pydotplus\n",
    "from sklearn import tree\n",
    "from sklearn import preprocessing\n",
    "%matplotlib inline\n",
    "sns.set_style('white')"
   ]
  },
  {
   "cell_type": "markdown",
   "metadata": {},
   "source": [
    "## Uploading & subsetting data"
   ]
  },
  {
   "cell_type": "code",
   "execution_count": 4,
   "metadata": {},
   "outputs": [],
   "source": [
    "# Upload 2006 dataset\n",
    "airline_data_2006 = pd.read_csv('airline2006.csv')\n"
   ]
  },
  {
   "cell_type": "code",
   "execution_count": 52,
   "metadata": {},
   "outputs": [],
   "source": [
    "# Upload 2007 dataset\n",
    "airline_data_2007 = pd.read_csv('airline2007.csv')\n"
   ]
  },
  {
   "cell_type": "code",
   "execution_count": 5,
   "metadata": {},
   "outputs": [],
   "source": [
    "# Sample smaller chunks of the 2006 dataset to speed up testing models\n",
    "half_data_2006 = airline_data_2006.sample(frac=.5, random_state=2, axis=0)\n",
    "quarter_data_2006 = airline_data_2006.sample(frac=.25, random_state=2, axis=0)\n",
    "tenth_data_2006 = airline_data_2006.sample(frac=.1, random_state=2, axis=0)\n",
    "hundreth_data_2006 = airline_data_2006.sample(frac=.01, random_state=2, axis=0)\n"
   ]
  },
  {
   "cell_type": "markdown",
   "metadata": {},
   "source": [
    "#### Variable Descriptions:\n",
    "\n",
    "1.\tYear\t1987-2008 \n",
    "2.\tMonth\t1-12\n",
    "3.\tDayofMonth\t1-31\n",
    "4.\tDayOfWeek\t1 (Monday) - 7 (Sunday)\n",
    "5.\tDepTime\tactual departure time (local, hhmm)\n",
    "6.\tCRSDepTime\tscheduled departure time (local, hhmm)\n",
    "7.\tArrTime\tactual arrival time (local, hhmm)\n",
    "8.\tCRSArrTime\tscheduled arrival time (local, hhmm)\n",
    "9.\tUniqueCarrier\tunique carrier code\n",
    "10.\tFlightNum\tflight number\n",
    "11.\tTailNum\tplane tail number\n",
    "12.\tActualElapsedTime\tin minutes\n",
    "13.\tCRSElapsedTime\tin minutes\n",
    "14.\tAirTime\tin minutes\n",
    "15.\tArrDelay\tarrival delay, in minutes\n",
    "16.\tDepDelay\tdeparture delay, in minutes\n",
    "17.\tOrigin\torigin IATA airport code\n",
    "18.\tDest\tdestination IATA airport code\n",
    "19.\tDistance\tin miles\n",
    "20.\tTaxiIn\ttaxi in time, in minutes\n",
    "21.\tTaxiOut\ttaxi out time in minutes\n",
    "22.\tCancelled\twas the flight cancelled?\n",
    "23.\tCancellationCode\treason for cancellation (A = carrier, B = weather, C = NAS, D = security)\n",
    "24.\tDiverted\t1 = yes, 0 = no\n",
    "25.\tCarrierDelay\tin minutes\n",
    "26.\tWeatherDelay\tin minutes\n",
    "27.\tNASDelay\tin minutes\n",
    "28.\tSecurityDelay\tin minutes\n",
    "29.\tLateAircraftDelay\tin minutes"
   ]
  },
  {
   "cell_type": "code",
   "execution_count": 6,
   "metadata": {},
   "outputs": [],
   "source": [
    "# create a report function that can be used for any model\n",
    "\n",
    "def accuracy_report(testing_X, testing_Y, model):\n",
    "    predictions = model.predict(testing_X)\n",
    "    print('Model score:')\n",
    "    print(model.score(testing_X, testing_Y))\n",
    "    print(\" \")\n",
    "    print(\"Classification Report:\")\n",
    "    y_prediction = model.predict(testing_X)\n",
    "    print(classification_report(testing_Y, y_prediction, target_names=['on-time', 'late']))\n",
    "    auc = roc_auc_score(testing_Y.values, predictions)\n",
    "    print('AUC score:%.3f'% auc)\n",
    "    print(\" \")\n",
    "    print('Model cross-valuation:')\n",
    "    print(sklearn.model_selection.cross_val_score(model, testing_X, testing_Y, cv = 5))\n",
    "    return"
   ]
  },
  {
   "cell_type": "markdown",
   "metadata": {},
   "source": [
    "## Cleaning data"
   ]
  },
  {
   "cell_type": "code",
   "execution_count": 7,
   "metadata": {},
   "outputs": [
    {
     "name": "stdout",
     "output_type": "stream",
     "text": [
      " \n"
     ]
    }
   ],
   "source": [
    "# Create a working dataframe so that operations can be performed on any dataframe by switching out a single variable.\n",
    "working_df = tenth_data_2006\n",
    "\n",
    "# drop cancelation code (column) and any rows where the flight was canceled.\n",
    "cancelled_flights = working_df.loc[working_df.Cancelled == 1]\n",
    "working_df = working_df.drop('CancellationCode', axis=1)\n",
    "working_df = working_df.drop('Cancelled', axis=1)\n",
    "working_df = working_df.drop(cancelled_flights.index)\n",
    "\n",
    "# Separate out UniqueCarrier, TailNum, FlightNum, Origin, and Dest \n",
    "# to remove non-numeric columns but also keep them available if needed later\n",
    "working_nonnumeric = working_df[['UniqueCarrier','TailNum','Origin','Dest','FlightNum']]\n",
    "working_df.drop(['UniqueCarrier','TailNum','Origin','Dest','FlightNum'], axis=1, inplace=True)\n",
    "\n",
    "# Add in a binary feature for delays of over 30 minutes\n",
    "working_df.loc[working_df.LateAircraftDelay >= 30, 'AircraftDelayed'] = 1\n",
    "working_df.loc[working_df.LateAircraftDelay < 30, 'AircraftDelayed'] = 0\n",
    "\n",
    "# Separate out LateAircraftDelay, TaxiIn, ArrDelay, ActualElapsedTime, ArrTime, and DepDelay, \n",
    "# due to them being variables that aren't known before a plane takes off.\n",
    "cheat_variables = working_df[['LateAircraftDelay',\n",
    "                              'TaxiIn', \n",
    "                              'ArrDelay', \n",
    "                              'ActualElapsedTime', \n",
    "                              'ArrTime', \n",
    "                              'AirTime',\n",
    "                              'DepDelay']]\n",
    "\n",
    "working_df.drop(['LateAircraftDelay', 'TaxiIn', 'ArrDelay', 'ActualElapsedTime', 'ArrTime', 'AirTime', 'DepDelay'], \n",
    "                axis=1, inplace=True)\n",
    "\n",
    "# Drop out any remaining rows with NA in them.\n",
    "working_df = working_df.dropna()\n",
    "print(\" \")"
   ]
  },
  {
   "cell_type": "markdown",
   "metadata": {},
   "source": [
    "## Engineering features"
   ]
  },
  {
   "cell_type": "code",
   "execution_count": 8,
   "metadata": {},
   "outputs": [],
   "source": [
    "# drop SecurityDelay, CRSElapsedTime, Distance, DayOfWeek, and Diverted,\n",
    "# due to them having near-zero correlation with delays\n",
    "working_df.drop(['SecurityDelay',\n",
    "                 'CRSElapsedTime',\n",
    "                 'Distance',\n",
    "                 'DayOfWeek',\n",
    "                 'Diverted'], axis=1, inplace=True)\n",
    "\n",
    "# calculate PCA based on departure and expected arrival times (DepTime, CRSDepTime, CRSArrTime)\n",
    "departure_arrival = working_df[['DepTime', 'CRSDepTime', 'CRSArrTime']]\n",
    "pca = PCA(n_components=1)\n",
    "departure_arrival_PCA = pca.fit_transform(departure_arrival)\n",
    "\n",
    "# calculate PCA based on delays (DepDelay, TaxiOut, CarrierDelay, WeatherDelay, NASDelay)\n",
    "delays = working_df[['TaxiOut', 'CarrierDelay', 'WeatherDelay', 'NASDelay']]\n",
    "pca = PCA(n_components=1)\n",
    "delays_PCA = pca.fit_transform(delays)\n",
    "\n",
    "# join the PCAs up with the working_df\n",
    "working_df['departure_arrival_PCA'] = departure_arrival_PCA * -1   \n",
    "working_df['delays_PCA'] = delays_PCA    \n",
    "\n",
    "# create new **.5 and **2 features of relevant variables to see which ones have an impact on the models\n",
    "#working_df['delays_PCA_squared'] = working_df.delays_PCA **2\n",
    "working_df['delays_PCA_sqrt'] = working_df.delays_PCA **.5\n",
    "#working_df['departure_PCA_squared'] = departure_arrival_PCA ** 2 \n",
    "#working_df['departure_PCA_sqrt'] = departure_arrival_PCA ** .5\n",
    "working_df['departure_discrepancy'] = working_df['DepTime'] - working_df['CRSDepTime']\n",
    "\n",
    "# drop unmodified versions\n",
    "working_df.drop(['delays_PCA'], axis=1, inplace=True)\n",
    "\n",
    "# drop Year, Month, and DayofMonth\n",
    "working_df.drop(['Year', 'Month', 'DayofMonth'], axis=1, inplace=True)\n",
    "\n",
    "# Drop out any remaining rows with NA in them.\n",
    "working_df = working_df.dropna()"
   ]
  },
  {
   "cell_type": "code",
   "execution_count": 9,
   "metadata": {},
   "outputs": [],
   "source": [
    "# Build a PCA out of all of the base variables\n",
    "\n",
    "all_variables = working_df[['DepTime', \n",
    "                            'CRSDepTime', \n",
    "                            'CRSArrTime', \n",
    "                            'TaxiOut', \n",
    "                            'CarrierDelay', \n",
    "                            'WeatherDelay', \n",
    "                            'NASDelay',\n",
    "                            'departure_discrepancy']]\n",
    "pca = PCA(n_components=5)\n",
    "all_variables_PCA = pca.fit_transform(all_variables)\n",
    "\n",
    "# Append the results to working_df\n",
    "working_df['all_PCA_1'] = all_variables_PCA[:,0]    \n",
    "working_df['all_PCA_2'] = all_variables_PCA[:,1]    \n",
    "working_df['all_PCA_3'] = all_variables_PCA[:,2]    \n",
    "working_df['all_PCA_4'] = all_variables_PCA[:,3]    \n",
    "working_df['all_PCA_5'] = all_variables_PCA[:,4]"
   ]
  },
  {
   "cell_type": "code",
   "execution_count": 120,
   "metadata": {},
   "outputs": [],
   "source": [
    "# After testing with SelectKBest to find the 10 highest performing features, drop the excess ones:\n",
    "\n",
    "# working_df.drop(['TaxiOut', 'WeatherDelay', 'NASDelay', 'all_PCA_2', 'all_PCA_3'], axis=1, inplace=True)\n",
    "\n",
    "# Note:  This significantly dropped the model's performance, without seeming to improve cross-valuation performance.\n",
    "# In other words, pruning the feature-set in this way doesn't noticeably reduce overfitting, but does significantly\n",
    "# reduce the model's capacity to predict delayed flights.\n"
   ]
  },
  {
   "cell_type": "markdown",
   "metadata": {},
   "source": [
    "## Surveying the data with SelectKBest & visualisations"
   ]
  },
  {
   "cell_type": "code",
   "execution_count": 100,
   "metadata": {},
   "outputs": [
    {
     "data": {
      "text/html": [
       "<div>\n",
       "<style scoped>\n",
       "    .dataframe tbody tr th:only-of-type {\n",
       "        vertical-align: middle;\n",
       "    }\n",
       "\n",
       "    .dataframe tbody tr th {\n",
       "        vertical-align: top;\n",
       "    }\n",
       "\n",
       "    .dataframe thead th {\n",
       "        text-align: right;\n",
       "    }\n",
       "</style>\n",
       "<table border=\"1\" class=\"dataframe\">\n",
       "  <thead>\n",
       "    <tr style=\"text-align: right;\">\n",
       "      <th></th>\n",
       "      <th>best_1</th>\n",
       "      <th>best_2</th>\n",
       "      <th>best_3</th>\n",
       "      <th>best_4</th>\n",
       "      <th>best_5</th>\n",
       "      <th>best_6</th>\n",
       "      <th>best_7</th>\n",
       "      <th>best_8</th>\n",
       "      <th>best_9</th>\n",
       "      <th>best_10</th>\n",
       "    </tr>\n",
       "  </thead>\n",
       "  <tbody>\n",
       "    <tr>\n",
       "      <th>0</th>\n",
       "      <td>1150.000</td>\n",
       "      <td>1135.000</td>\n",
       "      <td>1240.000</td>\n",
       "      <td>15.000</td>\n",
       "      <td>-368.837</td>\n",
       "      <td>3.213</td>\n",
       "      <td>15.000</td>\n",
       "      <td>590.593</td>\n",
       "      <td>1.578</td>\n",
       "      <td>-27.050</td>\n",
       "    </tr>\n",
       "    <tr>\n",
       "      <th>1</th>\n",
       "      <td>1508.000</td>\n",
       "      <td>1400.000</td>\n",
       "      <td>1516.000</td>\n",
       "      <td>0.000</td>\n",
       "      <td>151.591</td>\n",
       "      <td>2.678</td>\n",
       "      <td>108.000</td>\n",
       "      <td>65.805</td>\n",
       "      <td>-57.101</td>\n",
       "      <td>39.266</td>\n",
       "    </tr>\n",
       "    <tr>\n",
       "      <th>2</th>\n",
       "      <td>1419.000</td>\n",
       "      <td>1252.000</td>\n",
       "      <td>1902.000</td>\n",
       "      <td>31.000</td>\n",
       "      <td>228.028</td>\n",
       "      <td>5.163</td>\n",
       "      <td>167.000</td>\n",
       "      <td>-22.754</td>\n",
       "      <td>20.110</td>\n",
       "      <td>-21.718</td>\n",
       "    </tr>\n",
       "    <tr>\n",
       "      <th>3</th>\n",
       "      <td>1840.000</td>\n",
       "      <td>1800.000</td>\n",
       "      <td>1925.000</td>\n",
       "      <td>40.000</td>\n",
       "      <td>808.584</td>\n",
       "      <td>6.077</td>\n",
       "      <td>40.000</td>\n",
       "      <td>-587.030</td>\n",
       "      <td>23.308</td>\n",
       "      <td>-7.059</td>\n",
       "    </tr>\n",
       "    <tr>\n",
       "      <th>4</th>\n",
       "      <td>2309.000</td>\n",
       "      <td>2150.000</td>\n",
       "      <td>26.000</td>\n",
       "      <td>18.000</td>\n",
       "      <td>232.697</td>\n",
       "      <td>4.014</td>\n",
       "      <td>159.000</td>\n",
       "      <td>22.792</td>\n",
       "      <td>-32.805</td>\n",
       "      <td>-16.014</td>\n",
       "    </tr>\n",
       "    <tr>\n",
       "      <th>5</th>\n",
       "      <td>1034.000</td>\n",
       "      <td>1015.000</td>\n",
       "      <td>1431.000</td>\n",
       "      <td>19.000</td>\n",
       "      <td>-400.964</td>\n",
       "      <td>4.355</td>\n",
       "      <td>19.000</td>\n",
       "      <td>616.846</td>\n",
       "      <td>-7.741</td>\n",
       "      <td>1.891</td>\n",
       "    </tr>\n",
       "    <tr>\n",
       "      <th>6</th>\n",
       "      <td>1417.000</td>\n",
       "      <td>1350.000</td>\n",
       "      <td>1615.000</td>\n",
       "      <td>8.000</td>\n",
       "      <td>123.565</td>\n",
       "      <td>1.924</td>\n",
       "      <td>67.000</td>\n",
       "      <td>93.319</td>\n",
       "      <td>-1.782</td>\n",
       "      <td>-31.636</td>\n",
       "    </tr>\n",
       "    <tr>\n",
       "      <th>7</th>\n",
       "      <td>630.000</td>\n",
       "      <td>621.000</td>\n",
       "      <td>740.000</td>\n",
       "      <td>9.000</td>\n",
       "      <td>-1254.543</td>\n",
       "      <td>2.443</td>\n",
       "      <td>9.000</td>\n",
       "      <td>1475.317</td>\n",
       "      <td>-11.456</td>\n",
       "      <td>-23.542</td>\n",
       "    </tr>\n",
       "    <tr>\n",
       "      <th>8</th>\n",
       "      <td>1939.000</td>\n",
       "      <td>1655.000</td>\n",
       "      <td>1913.000</td>\n",
       "      <td>0.000</td>\n",
       "      <td>777.203</td>\n",
       "      <td>3.543</td>\n",
       "      <td>284.000</td>\n",
       "      <td>-570.352</td>\n",
       "      <td>-86.900</td>\n",
       "      <td>85.393</td>\n",
       "    </tr>\n",
       "    <tr>\n",
       "      <th>9</th>\n",
       "      <td>1741.000</td>\n",
       "      <td>1700.000</td>\n",
       "      <td>1820.000</td>\n",
       "      <td>31.000</td>\n",
       "      <td>633.257</td>\n",
       "      <td>5.140</td>\n",
       "      <td>41.000</td>\n",
       "      <td>-411.868</td>\n",
       "      <td>19.201</td>\n",
       "      <td>-19.034</td>\n",
       "    </tr>\n",
       "  </tbody>\n",
       "</table>\n",
       "</div>"
      ],
      "text/plain": [
       "    best_1   best_2   best_3  best_4    best_5  best_6  best_7   best_8  \\\n",
       "0 1150.000 1135.000 1240.000  15.000  -368.837   3.213  15.000  590.593   \n",
       "1 1508.000 1400.000 1516.000   0.000   151.591   2.678 108.000   65.805   \n",
       "2 1419.000 1252.000 1902.000  31.000   228.028   5.163 167.000  -22.754   \n",
       "3 1840.000 1800.000 1925.000  40.000   808.584   6.077  40.000 -587.030   \n",
       "4 2309.000 2150.000   26.000  18.000   232.697   4.014 159.000   22.792   \n",
       "5 1034.000 1015.000 1431.000  19.000  -400.964   4.355  19.000  616.846   \n",
       "6 1417.000 1350.000 1615.000   8.000   123.565   1.924  67.000   93.319   \n",
       "7  630.000  621.000  740.000   9.000 -1254.543   2.443   9.000 1475.317   \n",
       "8 1939.000 1655.000 1913.000   0.000   777.203   3.543 284.000 -570.352   \n",
       "9 1741.000 1700.000 1820.000  31.000   633.257   5.140  41.000 -411.868   \n",
       "\n",
       "   best_9  best_10  \n",
       "0   1.578  -27.050  \n",
       "1 -57.101   39.266  \n",
       "2  20.110  -21.718  \n",
       "3  23.308   -7.059  \n",
       "4 -32.805  -16.014  \n",
       "5  -7.741    1.891  \n",
       "6  -1.782  -31.636  \n",
       "7 -11.456  -23.542  \n",
       "8 -86.900   85.393  \n",
       "9  19.201  -19.034  "
      ]
     },
     "execution_count": 100,
     "metadata": {},
     "output_type": "execute_result"
    }
   ],
   "source": [
    "# Picking 5/10 SelectKBest features (replace k=5 with k=?? and delete the # from 6-10 to scale up)\n",
    "X_best = SelectKBest(f_classif, k=10).fit_transform(\n",
    "    working_df.drop(['AircraftDelayed'], axis=1), \n",
    "    working_df['AircraftDelayed'])\n",
    "X_best_df = pd.DataFrame({\n",
    "    'best_1':X_best[:,0],\n",
    "    'best_2':X_best[:,1],\n",
    "    'best_3':X_best[:,2],\n",
    "    'best_4':X_best[:,3],\n",
    "    'best_5':X_best[:,4],\n",
    "    'best_6':X_best[:,5],\n",
    "    'best_7':X_best[:,6],\n",
    "    'best_8':X_best[:,7],\n",
    "    'best_9':X_best[:,8],\n",
    "    'best_10':X_best[:,9]\n",
    "})\n",
    "\n",
    "X_best_df.head(10)"
   ]
  },
  {
   "cell_type": "code",
   "execution_count": 101,
   "metadata": {},
   "outputs": [
    {
     "data": {
      "text/html": [
       "<div>\n",
       "<style scoped>\n",
       "    .dataframe tbody tr th:only-of-type {\n",
       "        vertical-align: middle;\n",
       "    }\n",
       "\n",
       "    .dataframe tbody tr th {\n",
       "        vertical-align: top;\n",
       "    }\n",
       "\n",
       "    .dataframe thead th {\n",
       "        text-align: right;\n",
       "    }\n",
       "</style>\n",
       "<table border=\"1\" class=\"dataframe\">\n",
       "  <thead>\n",
       "    <tr style=\"text-align: right;\">\n",
       "      <th></th>\n",
       "      <th>DepTime</th>\n",
       "      <th>CRSDepTime</th>\n",
       "      <th>CRSArrTime</th>\n",
       "      <th>TaxiOut</th>\n",
       "      <th>CarrierDelay</th>\n",
       "      <th>WeatherDelay</th>\n",
       "      <th>NASDelay</th>\n",
       "      <th>AircraftDelayed</th>\n",
       "      <th>departure_arrival_PCA</th>\n",
       "      <th>delays_PCA_sqrt</th>\n",
       "      <th>departure_discrepancy</th>\n",
       "      <th>all_PCA_1</th>\n",
       "      <th>all_PCA_2</th>\n",
       "      <th>all_PCA_3</th>\n",
       "      <th>all_PCA_4</th>\n",
       "      <th>all_PCA_5</th>\n",
       "    </tr>\n",
       "  </thead>\n",
       "  <tbody>\n",
       "    <tr>\n",
       "      <th>634606</th>\n",
       "      <td>1150.000</td>\n",
       "      <td>1135</td>\n",
       "      <td>1240</td>\n",
       "      <td>3</td>\n",
       "      <td>15</td>\n",
       "      <td>0</td>\n",
       "      <td>3</td>\n",
       "      <td>0.000</td>\n",
       "      <td>-368.837</td>\n",
       "      <td>3.213</td>\n",
       "      <td>15.000</td>\n",
       "      <td>590.593</td>\n",
       "      <td>22.310</td>\n",
       "      <td>34.278</td>\n",
       "      <td>1.578</td>\n",
       "      <td>-27.050</td>\n",
       "    </tr>\n",
       "    <tr>\n",
       "      <th>6655841</th>\n",
       "      <td>1508.000</td>\n",
       "      <td>1400</td>\n",
       "      <td>1516</td>\n",
       "      <td>43</td>\n",
       "      <td>0</td>\n",
       "      <td>0</td>\n",
       "      <td>83</td>\n",
       "      <td>0.000</td>\n",
       "      <td>151.591</td>\n",
       "      <td>2.678</td>\n",
       "      <td>108.000</td>\n",
       "      <td>65.805</td>\n",
       "      <td>-61.791</td>\n",
       "      <td>66.147</td>\n",
       "      <td>-57.101</td>\n",
       "      <td>39.266</td>\n",
       "    </tr>\n",
       "    <tr>\n",
       "      <th>4636729</th>\n",
       "      <td>1419.000</td>\n",
       "      <td>1252</td>\n",
       "      <td>1902</td>\n",
       "      <td>13</td>\n",
       "      <td>31</td>\n",
       "      <td>0</td>\n",
       "      <td>0</td>\n",
       "      <td>1.000</td>\n",
       "      <td>228.028</td>\n",
       "      <td>5.163</td>\n",
       "      <td>167.000</td>\n",
       "      <td>-22.754</td>\n",
       "      <td>-153.246</td>\n",
       "      <td>-340.250</td>\n",
       "      <td>20.110</td>\n",
       "      <td>-21.718</td>\n",
       "    </tr>\n",
       "    <tr>\n",
       "      <th>2549851</th>\n",
       "      <td>1840.000</td>\n",
       "      <td>1800</td>\n",
       "      <td>1925</td>\n",
       "      <td>26</td>\n",
       "      <td>40</td>\n",
       "      <td>0</td>\n",
       "      <td>3</td>\n",
       "      <td>0.000</td>\n",
       "      <td>808.584</td>\n",
       "      <td>6.077</td>\n",
       "      <td>40.000</td>\n",
       "      <td>-587.030</td>\n",
       "      <td>55.051</td>\n",
       "      <td>23.495</td>\n",
       "      <td>23.308</td>\n",
       "      <td>-7.059</td>\n",
       "    </tr>\n",
       "    <tr>\n",
       "      <th>239070</th>\n",
       "      <td>2309.000</td>\n",
       "      <td>2150</td>\n",
       "      <td>26</td>\n",
       "      <td>25</td>\n",
       "      <td>18</td>\n",
       "      <td>0</td>\n",
       "      <td>13</td>\n",
       "      <td>1.000</td>\n",
       "      <td>232.697</td>\n",
       "      <td>4.014</td>\n",
       "      <td>159.000</td>\n",
       "      <td>22.792</td>\n",
       "      <td>-11.938</td>\n",
       "      <td>1916.584</td>\n",
       "      <td>-32.805</td>\n",
       "      <td>-16.014</td>\n",
       "    </tr>\n",
       "  </tbody>\n",
       "</table>\n",
       "</div>"
      ],
      "text/plain": [
       "         DepTime  CRSDepTime  CRSArrTime  TaxiOut  CarrierDelay  WeatherDelay  \\\n",
       "634606  1150.000        1135        1240        3            15             0   \n",
       "6655841 1508.000        1400        1516       43             0             0   \n",
       "4636729 1419.000        1252        1902       13            31             0   \n",
       "2549851 1840.000        1800        1925       26            40             0   \n",
       "239070  2309.000        2150          26       25            18             0   \n",
       "\n",
       "         NASDelay  AircraftDelayed  departure_arrival_PCA  delays_PCA_sqrt  \\\n",
       "634606          3            0.000               -368.837            3.213   \n",
       "6655841        83            0.000                151.591            2.678   \n",
       "4636729         0            1.000                228.028            5.163   \n",
       "2549851         3            0.000                808.584            6.077   \n",
       "239070         13            1.000                232.697            4.014   \n",
       "\n",
       "         departure_discrepancy  all_PCA_1  all_PCA_2  all_PCA_3  all_PCA_4  \\\n",
       "634606                  15.000    590.593     22.310     34.278      1.578   \n",
       "6655841                108.000     65.805    -61.791     66.147    -57.101   \n",
       "4636729                167.000    -22.754   -153.246   -340.250     20.110   \n",
       "2549851                 40.000   -587.030     55.051     23.495     23.308   \n",
       "239070                 159.000     22.792    -11.938   1916.584    -32.805   \n",
       "\n",
       "         all_PCA_5  \n",
       "634606     -27.050  \n",
       "6655841     39.266  \n",
       "4636729    -21.718  \n",
       "2549851     -7.059  \n",
       "239070     -16.014  "
      ]
     },
     "execution_count": 101,
     "metadata": {},
     "output_type": "execute_result"
    }
   ],
   "source": [
    "#working_df.describe()  \n",
    "working_df.head(5)"
   ]
  },
  {
   "cell_type": "code",
   "execution_count": 121,
   "metadata": {},
   "outputs": [
    {
     "data": {
      "text/plain": [
       "<matplotlib.axes._subplots.AxesSubplot at 0x170e97ef0>"
      ]
     },
     "execution_count": 121,
     "metadata": {},
     "output_type": "execute_result"
    },
    {
     "data": {
      "image/png": "[encoded data removed]",
      "text/plain": [
       "<Figure size 792x648 with 2 Axes>"
      ]
     },
     "metadata": {},
     "output_type": "display_data"
    }
   ],
   "source": [
    "# Compute the correlation matrix\n",
    "corr = working_df.corr()\n",
    "\n",
    "# Generate a mask for the upper triangle\n",
    "mask = np.zeros_like(corr, dtype=np.bool)\n",
    "mask[np.triu_indices_from(mask)] = True\n",
    "\n",
    "# Set up the matplotlib figure\n",
    "f, ax = plt.subplots(figsize=(11, 9))\n",
    "\n",
    "# Generate a custom diverging colormap\n",
    "cmap = sns.diverging_palette(220, 10, as_cmap=True)\n",
    "\n",
    "# Draw the heatmap with the mask and correct aspect ratio\n",
    "sns.heatmap(corr, mask=mask, cmap=cmap, vmax=.3, center=0,\n",
    "            square=True, linewidths=.5, cbar_kws={\"shrink\": .5})"
   ]
  },
  {
   "cell_type": "code",
   "execution_count": 77,
   "metadata": {},
   "outputs": [
    {
     "data": {
      "text/plain": [
       "<matplotlib.axes._subplots.AxesSubplot at 0x12db3b278>"
      ]
     },
     "execution_count": 77,
     "metadata": {},
     "output_type": "execute_result"
    },
    {
     "data": {
      "image/png": "[encoded data removed]",
      "text/plain": [
       "<Figure size 1440x1440 with 10 Axes>"
      ]
     },
     "metadata": {},
     "output_type": "display_data"
    }
   ],
   "source": [
    "plt.figure(figsize=(20,20))\n",
    "\n",
    "plt.subplot(341)\n",
    "sns.boxplot(x = 'AircraftDelayed', y = 'DepTime', data = working_df)\n",
    "\n",
    "plt.subplot(342)\n",
    "sns.boxplot(x = 'AircraftDelayed', y = 'CRSDepTime', data = working_df)\n",
    "\n",
    "plt.subplot(343)\n",
    "sns.boxplot(x = 'AircraftDelayed', y = 'CRSArrTime', data = working_df)\n",
    "\n",
    "plt.subplot(344)\n",
    "sns.boxplot(x = 'AircraftDelayed', y = 'TaxiOut', data = working_df)\n",
    "\n",
    "plt.subplot(345)\n",
    "sns.boxplot(x = 'AircraftDelayed', y = 'CarrierDelay', data = working_df)\n",
    "\n",
    "plt.subplot(346)\n",
    "sns.boxplot(x = 'AircraftDelayed', y = 'WeatherDelay', data = working_df)\n",
    "\n",
    "plt.subplot(347)\n",
    "sns.boxplot(x = 'AircraftDelayed', y = 'NASDelay', data = working_df)\n",
    "\n",
    "plt.subplot(348)\n",
    "sns.boxplot(x = 'AircraftDelayed', y = 'departure_arrival_PCA', data = working_df)\n",
    "\n",
    "plt.subplot(3,4,10)\n",
    "sns.boxplot(x = 'AircraftDelayed', y = 'delays_PCA_sqrt', data = working_df)\n",
    "\n",
    "plt.subplot(3,4,11)\n",
    "sns.boxplot(x = 'AircraftDelayed', y = 'departure_discrepancy', data = working_df)"
   ]
  },
  {
   "cell_type": "code",
   "execution_count": 122,
   "metadata": {},
   "outputs": [
    {
     "data": {
      "text/plain": [
       "<matplotlib.axes._subplots.AxesSubplot at 0x135017240>"
      ]
     },
     "execution_count": 122,
     "metadata": {},
     "output_type": "execute_result"
    },
    {
     "data": {
      "image/png": "[encoded data removed]",
      "text/plain": [
       "<Figure size 1440x1440 with 7 Axes>"
      ]
     },
     "metadata": {},
     "output_type": "display_data"
    }
   ],
   "source": [
    "plt.figure(figsize=(20,20))\n",
    "\n",
    "plt.subplot(241)\n",
    "sns.boxplot(x = 'AircraftDelayed', y = 'departure_arrival_PCA', data = working_df)\n",
    "\n",
    "plt.subplot(242)\n",
    "sns.boxplot(x = 'AircraftDelayed', y = 'delays_PCA_sqrt', data = working_df)\n",
    "\n",
    "plt.subplot(243)\n",
    "sns.boxplot(x = 'AircraftDelayed', y = 'all_PCA_1', data = working_df)\n",
    "\n",
    "plt.subplot(244)\n",
    "sns.boxplot(x = 'AircraftDelayed', y = 'all_PCA_2', data = working_df)\n",
    "\n",
    "plt.subplot(245)\n",
    "sns.boxplot(x = 'AircraftDelayed', y = 'all_PCA_3', data = working_df)\n",
    "\n",
    "plt.subplot(246)\n",
    "sns.boxplot(x = 'AircraftDelayed', y = 'all_PCA_4', data = working_df)\n",
    "\n",
    "plt.subplot(247)\n",
    "sns.boxplot(x = 'AircraftDelayed', y = 'all_PCA_5', data = working_df)"
   ]
  },
  {
   "cell_type": "markdown",
   "metadata": {},
   "source": [
    "## Preparing sample datasets for use in the model(s)"
   ]
  },
  {
   "cell_type": "code",
   "execution_count": 10,
   "metadata": {},
   "outputs": [
    {
     "name": "stdout",
     "output_type": "stream",
     "text": [
      " \n"
     ]
    }
   ],
   "source": [
    "# create samples for training & testing\n",
    "training_fraction = .8\n",
    "\n",
    "training_X = working_df.sample(frac=training_fraction, random_state=10)\n",
    "testing_X = working_df.drop(training_X.index)\n",
    "\n",
    "# separate the Class feature out into Y datasets\n",
    "training_Y = training_X['AircraftDelayed']\n",
    "testing_Y = testing_X['AircraftDelayed']\n",
    "\n",
    "# dropping the Class feature from the X datasets so that the model isn't able to cheat\n",
    "training_X.drop('AircraftDelayed', axis=1, inplace=True)\n",
    "testing_X.drop('AircraftDelayed', axis=1, inplace=True)\n",
    "print(\" \")"
   ]
  },
  {
   "cell_type": "markdown",
   "metadata": {},
   "source": [
    "## Running an assortment of models to find the most successful"
   ]
  },
  {
   "cell_type": "code",
   "execution_count": 126,
   "metadata": {
    "scrolled": true
   },
   "outputs": [
    {
     "name": "stdout",
     "output_type": "stream",
     "text": [
      "Random Forest results:\n",
      " \n",
      "Model score:\n",
      "0.9695774343456176\n",
      " \n",
      "Classification Report:\n",
      "              precision    recall  f1-score   support\n",
      "\n",
      "     on-time       0.97      0.99      0.98     16416\n",
      "        late       0.92      0.80      0.86      2090\n",
      "\n",
      "   micro avg       0.97      0.97      0.97     18506\n",
      "   macro avg       0.95      0.89      0.92     18506\n",
      "weighted avg       0.97      0.97      0.97     18506\n",
      "\n",
      "AUC score:0.894\n",
      " \n",
      "Model cross-valuation:\n",
      "[0.95867099 0.96379357 0.95974061 0.9610916  0.95974061]\n"
     ]
    }
   ],
   "source": [
    "# Random Forest model\n",
    "rfc = ensemble.RandomForestClassifier(n_estimators = 20)\n",
    "rfc.fit(training_X,training_Y)\n",
    "print('Random Forest results:')\n",
    "print(' ')\n",
    "accuracy_report(testing_X, testing_Y, rfc)"
   ]
  },
  {
   "cell_type": "code",
   "execution_count": 11,
   "metadata": {},
   "outputs": [
    {
     "name": "stdout",
     "output_type": "stream",
     "text": [
      "Decision Tree results:\n",
      " \n",
      "Model score:\n",
      "0.9638495623041176\n",
      " \n",
      "Classification Report:\n",
      "              precision    recall  f1-score   support\n",
      "\n",
      "     on-time       0.98      0.98      0.98     16416\n",
      "        late       0.84      0.84      0.84      2090\n",
      "\n",
      "   micro avg       0.96      0.96      0.96     18506\n",
      "   macro avg       0.91      0.91      0.91     18506\n",
      "weighted avg       0.96      0.96      0.96     18506\n",
      "\n",
      "AUC score:0.911\n",
      " \n",
      "Model cross-valuation:\n",
      "[0.954349   0.95568765 0.95595785 0.95541745 0.9505539 ]\n"
     ]
    }
   ],
   "source": [
    "# Decision Tree\n",
    "\n",
    "dtree = tree.DecisionTreeClassifier()\n",
    "dtree.fit(training_X,training_Y)\n",
    "print('Decision Tree results:')\n",
    "print(' ')\n",
    "accuracy_report(testing_X, testing_Y, dtree)"
   ]
  },
  {
   "cell_type": "code",
   "execution_count": 128,
   "metadata": {},
   "outputs": [
    {
     "name": "stdout",
     "output_type": "stream",
     "text": [
      "GBC results:\n",
      " \n",
      "Model score:\n",
      "0.9661190965092402\n",
      " \n",
      "Classification Report:\n",
      "              precision    recall  f1-score   support\n",
      "\n",
      "     on-time       0.97      0.99      0.98     16416\n",
      "        late       0.94      0.75      0.83      2090\n",
      "\n",
      "   micro avg       0.97      0.97      0.97     18506\n",
      "   macro avg       0.96      0.87      0.91     18506\n",
      "weighted avg       0.97      0.97      0.96     18506\n",
      "\n",
      "AUC score:0.870\n",
      " \n",
      "Model cross-valuation:\n",
      "[0.96245273 0.96190219 0.96001081 0.96649554 0.96379357]\n"
     ]
    }
   ],
   "source": [
    "# Gradient Boosting Classifier\n",
    "\n",
    "clf = ensemble.GradientBoostingClassifier()\n",
    "clf.fit(training_X,training_Y)\n",
    "print('GBC results:')\n",
    "print(' ')\n",
    "accuracy_report(testing_X, testing_Y, clf)\n"
   ]
  },
  {
   "cell_type": "code",
   "execution_count": null,
   "metadata": {},
   "outputs": [],
   "source": [
    "# SVM\n",
    "\n",
    "svm = SVC(gamma = 'scale')\n",
    "svm.fit(training_X,training_Y)\n",
    "print('SVM results:')\n",
    "print(' ')\n",
    "accuracy_report(testing_X, testing_Y, svm)\n"
   ]
  },
  {
   "cell_type": "code",
   "execution_count": 130,
   "metadata": {},
   "outputs": [
    {
     "name": "stdout",
     "output_type": "stream",
     "text": [
      "KNN results:\n",
      " \n",
      "Model score:\n",
      "0.9574192153896034\n",
      " \n",
      "Classification Report:\n",
      "              precision    recall  f1-score   support\n",
      "\n",
      "     on-time       0.96      0.99      0.98     16416\n",
      "        late       0.89      0.72      0.79      2090\n",
      "\n",
      "   micro avg       0.96      0.96      0.96     18506\n",
      "   macro avg       0.92      0.85      0.88     18506\n",
      "weighted avg       0.96      0.96      0.96     18506\n",
      "\n",
      "AUC score:0.852\n",
      " \n",
      "Model cross-valuation:\n",
      "[0.93787142 0.94650095 0.93542286 0.93650365 0.93488246]\n"
     ]
    }
   ],
   "source": [
    "# KNN\n",
    "\n",
    "neighbors = KNeighborsClassifier()\n",
    "neighbors.fit(training_X,training_Y)\n",
    "print('KNN results:')\n",
    "print(' ')\n",
    "accuracy_report(testing_X, testing_Y, neighbors)"
   ]
  },
  {
   "cell_type": "code",
   "execution_count": 131,
   "metadata": {},
   "outputs": [
    {
     "name": "stderr",
     "output_type": "stream",
     "text": [
      "/usr/local/lib/python3.7/site-packages/sklearn/linear_model/logistic.py:433: FutureWarning: Default solver will be changed to 'lbfgs' in 0.22. Specify a solver to silence this warning.\n",
      "  FutureWarning)\n"
     ]
    },
    {
     "name": "stdout",
     "output_type": "stream",
     "text": [
      "Logistic Regression results:\n",
      " \n",
      "Model score:\n",
      "0.9018156273640981\n",
      " \n",
      "Classification Report:\n",
      "              precision    recall  f1-score   support\n",
      "\n",
      "     on-time       0.90      1.00      0.95     16416\n",
      "        late       0.98      0.13      0.23      2090\n",
      "\n",
      "   micro avg       0.90      0.90      0.90     18506\n",
      "   macro avg       0.94      0.57      0.59     18506\n",
      "weighted avg       0.91      0.90      0.87     18506\n",
      "\n",
      "AUC score:0.566\n",
      " \n",
      "Model cross-valuation:\n"
     ]
    },
    {
     "name": "stderr",
     "output_type": "stream",
     "text": [
      "/usr/local/lib/python3.7/site-packages/sklearn/linear_model/logistic.py:433: FutureWarning: Default solver will be changed to 'lbfgs' in 0.22. Specify a solver to silence this warning.\n",
      "  FutureWarning)\n",
      "/usr/local/lib/python3.7/site-packages/sklearn/linear_model/logistic.py:433: FutureWarning: Default solver will be changed to 'lbfgs' in 0.22. Specify a solver to silence this warning.\n",
      "  FutureWarning)\n",
      "/usr/local/lib/python3.7/site-packages/sklearn/linear_model/logistic.py:433: FutureWarning: Default solver will be changed to 'lbfgs' in 0.22. Specify a solver to silence this warning.\n",
      "  FutureWarning)\n",
      "/usr/local/lib/python3.7/site-packages/sklearn/linear_model/logistic.py:433: FutureWarning: Default solver will be changed to 'lbfgs' in 0.22. Specify a solver to silence this warning.\n",
      "  FutureWarning)\n",
      "/usr/local/lib/python3.7/site-packages/sklearn/linear_model/logistic.py:433: FutureWarning: Default solver will be changed to 'lbfgs' in 0.22. Specify a solver to silence this warning.\n",
      "  FutureWarning)\n"
     ]
    },
    {
     "name": "stdout",
     "output_type": "stream",
     "text": [
      "[0.89816316 0.90759254 0.9019184  0.89759524 0.89408268]\n"
     ]
    }
   ],
   "source": [
    "# Logistic Regression\n",
    "\n",
    "lr = LogisticRegression()\n",
    "lr.fit(training_X,training_Y)\n",
    "print('Logistic Regression results:')\n",
    "print(' ')\n",
    "accuracy_report(testing_X, testing_Y, lr)"
   ]
  },
  {
   "cell_type": "code",
   "execution_count": 132,
   "metadata": {},
   "outputs": [
    {
     "name": "stdout",
     "output_type": "stream",
     "text": [
      "Naive Bayes results:\n",
      " \n",
      "Model score:\n",
      "0.8922511617853669\n",
      " \n",
      "Classification Report:\n",
      "              precision    recall  f1-score   support\n",
      "\n",
      "     on-time       0.90      1.00      0.94     16416\n",
      "        late       0.69      0.08      0.15      2090\n",
      "\n",
      "   micro avg       0.89      0.89      0.89     18506\n",
      "   macro avg       0.79      0.54      0.55     18506\n",
      "weighted avg       0.87      0.89      0.85     18506\n",
      "\n",
      "AUC score:0.539\n",
      " \n",
      "Model cross-valuation:\n",
      "[0.89222042 0.89516347 0.89057012 0.8921913  0.89111051]\n"
     ]
    }
   ],
   "source": [
    "# Naive Bayes\n",
    "\n",
    "bnb = BernoulliNB()\n",
    "bnb.fit(training_X,training_Y)\n",
    "print('Naive Bayes results:')\n",
    "print(' ')\n",
    "accuracy_report(testing_X, testing_Y, bnb)"
   ]
  },
  {
   "cell_type": "markdown",
   "metadata": {},
   "source": [
    "### Model comparison:\n",
    "RF is (by just a few percentage points) the best of the lot, getting a 98% l1-score for on-time arrivals and %86 l1-score for delayed flights.\n",
    "\n",
    "DT is good (98%) at predicting on-time, and its late predictions get a l1-score of 84%.\n",
    "\n",
    "GBC is good (98%) at predicting on-time, and its late predictions get a l1-score of 83%.\n",
    "\n",
    "SVM has stalled out the python kernel in recent attempts to get it to run, though in prior (successful) experimental runs it produced extremely lackluster results, so it's not a terrible loss that exact numbers for it are unavailable. \n",
    "\n",
    "KNN is good (98%) at predicting on-time flights, but its late predictions get a l1-score of 79%.\n",
    "\n",
    "LogR is mediocre (95%) at predicting on-time flights, and bad at predicting late ones (23%).\n",
    "\n",
    "NB is even worse (94%) at predicting on-time flights and at predicting late ones (15%).\n",
    "\n",
    "### Result:\n",
    "RFC seems to perform the best, slightly edging out DT or GBC in terms of recall for late arrivals, and so I chose RFC to be the primary model for this assignment.\n",
    "\n"
   ]
  },
  {
   "cell_type": "markdown",
   "metadata": {},
   "source": [
    "## Perform GridSearchCV to identify optimal parameters"
   ]
  },
  {
   "cell_type": "code",
   "execution_count": 25,
   "metadata": {},
   "outputs": [
    {
     "name": "stdout",
     "output_type": "stream",
     "text": [
      "RFC recommended parameters:\n",
      "{'max_features': 0.9, 'n_estimators': 22}\n",
      " \n"
     ]
    }
   ],
   "source": [
    "# Gridsearch CV for the RFC algorithm\n",
    "\n",
    "grid_param_RFC = {\n",
    "    'max_features': [.5,.7,.9,'sqrt','log2'],\n",
    "#    'max_depth': [None,1,2,3,4,5],\n",
    "    'n_estimators' : [17,18,19,20,21,22]\n",
    "}\n",
    "\n",
    "grid_search_RFC = GridSearchCV(estimator = rfc,  \n",
    "                              param_grid = grid_param_RFC,\n",
    "                              scoring = 'neg_mean_squared_error',\n",
    "                              cv = 5)\n",
    "\n",
    "grid_search_RFC.fit(testing_X, testing_Y)\n",
    "print('RFC recommended parameters:')\n",
    "print(grid_search_RFC.best_params_)\n",
    "print(' ')"
   ]
  },
  {
   "cell_type": "markdown",
   "metadata": {},
   "source": [
    "### Successive results for Gridsearch CV:\n",
    "\n",
    "1. {'max_depth': None, 'max_features': 0.7, 'n_estimators': 15}\n",
    "2. {'max_depth': None, 'max_features': 0.9, 'n_estimators': 21}\n",
    "3. {'max_depth': None, 'max_features': 0.7, 'n_estimators': 19}\n",
    "4. {'max_features': 0.9, 'n_estimators': 22}  (As all previous recommendations had featured max_depth: None, it was removed from this run.)\n",
    "\n"
   ]
  },
  {
   "cell_type": "markdown",
   "metadata": {},
   "source": [
    "### Result:\n",
    "I've chosen to use the parameters [max_depth = None, max_features = 0.9, n_estimators = 21] for the final model. Due to the variability of GSCV results for this algorithm, there is likely to be a \"better\" result, but barring spending hours performing exhaustive GSCV tests to find it, I'm going to make an estimate based on these four runs and go with that.\n",
    "\n",
    "\n",
    "## Set up 2007 data"
   ]
  },
  {
   "cell_type": "code",
   "execution_count": 138,
   "metadata": {},
   "outputs": [],
   "source": [
    "# Reserving the 2006 working dataset for future use\n",
    "working_df_2006 = working_df"
   ]
  },
  {
   "cell_type": "code",
   "execution_count": 134,
   "metadata": {},
   "outputs": [
    {
     "name": "stdout",
     "output_type": "stream",
     "text": [
      " \n"
     ]
    }
   ],
   "source": [
    "# Treating the 2007 dataset with the same process as the 2006 dataset\n",
    "\n",
    "# Create a working dataframe so that operations can be performed on any dataframe by switching out a single variable.\n",
    "working_df = airline_data_2007\n",
    "\n",
    "# drop cancelation code (column) and any rows where the flight was canceled.\n",
    "cancelled_flights = working_df.loc[working_df.Cancelled == 1]\n",
    "working_df = working_df.drop('CancellationCode', axis=1)\n",
    "working_df = working_df.drop('Cancelled', axis=1)\n",
    "working_df = working_df.drop(cancelled_flights.index)\n",
    "\n",
    "# Separate out UniqueCarrier, TailNum, FlightNum, Origin, and Dest \n",
    "# to remove non-numeric columns but also keep them available if needed later\n",
    "working_nonnumeric = working_df[['UniqueCarrier','TailNum','Origin','Dest','FlightNum']]\n",
    "working_df.drop(['UniqueCarrier','TailNum','Origin','Dest','FlightNum'], axis=1, inplace=True)\n",
    "\n",
    "# Add in a binary feature for delays of over 30 minutes\n",
    "working_df.loc[working_df.LateAircraftDelay >= 30, 'AircraftDelayed'] = 1\n",
    "working_df.loc[working_df.LateAircraftDelay < 30, 'AircraftDelayed'] = 0\n",
    "\n",
    "# Separate out LateAircraftDelay, TaxiIn, ArrDelay, ActualElapsedTime, ArrTime, and DepDelay, \n",
    "# due to them being variables that aren't known before a plane takes off.\n",
    "cheat_variables = working_df[['LateAircraftDelay',\n",
    "                              'TaxiIn', \n",
    "                              'ArrDelay', \n",
    "                              'ActualElapsedTime', \n",
    "                              'ArrTime', \n",
    "                              'AirTime',\n",
    "                              'DepDelay']]\n",
    "\n",
    "working_df.drop(['LateAircraftDelay', 'TaxiIn', 'ArrDelay', 'ActualElapsedTime', 'ArrTime', 'AirTime', 'DepDelay'], \n",
    "                axis=1, inplace=True)\n",
    "\n",
    "# Drop out any remaining rows with NA in them.\n",
    "working_df = working_df.dropna()\n",
    "print(\" \")\n",
    "\n",
    "# Cleaning up features, calculating PCA features, and engineering new ones\n",
    "\n",
    "# drop SecurityDelay, CRSElapsedTime, Distance, DayOfWeek, and Diverted,\n",
    "# due to them having near-zero correlation with delays\n",
    "working_df.drop(['SecurityDelay',\n",
    "                 'CRSElapsedTime',\n",
    "                 'Distance',\n",
    "                 'DayOfWeek',\n",
    "                 'Diverted'], axis=1, inplace=True)\n",
    "\n",
    "# calculate PCA based on departure and expected arrival times (DepTime, CRSDepTime, CRSArrTime)\n",
    "departure_arrival = working_df[['DepTime', 'CRSDepTime', 'CRSArrTime']]\n",
    "pca = PCA(n_components=1)\n",
    "departure_arrival_PCA = pca.fit_transform(departure_arrival)\n",
    "\n",
    "# calculate PCA based on delays (DepDelay, TaxiOut, CarrierDelay, WeatherDelay, NASDelay)\n",
    "delays = working_df[['TaxiOut', 'CarrierDelay', 'WeatherDelay', 'NASDelay']]\n",
    "pca = PCA(n_components=1)\n",
    "delays_PCA = pca.fit_transform(delays)\n",
    "\n",
    "# join the PCAs up with the working_df\n",
    "working_df['departure_arrival_PCA'] = departure_arrival_PCA * -1   \n",
    "working_df['delays_PCA'] = delays_PCA    \n",
    "\n",
    "# create new **.5 and **2 features of relevant variables to see which ones have an impact on the models\n",
    "#working_df['delays_PCA_squared'] = working_df.delays_PCA **2\n",
    "working_df['delays_PCA_sqrt'] = working_df.delays_PCA **.5\n",
    "#working_df['departure_PCA_squared'] = departure_arrival_PCA ** 2 \n",
    "#working_df['departure_PCA_sqrt'] = departure_arrival_PCA ** .5\n",
    "working_df['departure_discrepancy'] = working_df['DepTime'] - working_df['CRSDepTime']\n",
    "\n",
    "# drop unmodified versions\n",
    "working_df.drop(['delays_PCA'], axis=1, inplace=True)\n",
    "\n",
    "# drop Year, Month, and DayofMonth\n",
    "working_df.drop(['Year', 'Month', 'DayofMonth'], axis=1, inplace=True)\n",
    "\n",
    "# Drop out any remaining rows with NA in them.\n",
    "working_df = working_df.dropna()\n",
    "\n",
    "# Build a PCA out of all of the base variables\n",
    "\n",
    "all_variables = working_df[['DepTime', \n",
    "                            'CRSDepTime', \n",
    "                            'CRSArrTime', \n",
    "                            'TaxiOut', \n",
    "                            'CarrierDelay', \n",
    "                            'WeatherDelay', \n",
    "                            'NASDelay',\n",
    "                            'departure_discrepancy']]\n",
    "pca = PCA(n_components=5)\n",
    "all_variables_PCA = pca.fit_transform(all_variables)\n",
    "\n",
    "# Append the results to working_df\n",
    "working_df['all_PCA_1'] = all_variables_PCA[:,0]    \n",
    "working_df['all_PCA_2'] = all_variables_PCA[:,1]    \n",
    "working_df['all_PCA_3'] = all_variables_PCA[:,2]    \n",
    "working_df['all_PCA_4'] = all_variables_PCA[:,3]    \n",
    "working_df['all_PCA_5'] = all_variables_PCA[:,4]\n",
    "\n",
    "working_df_2007 = working_df"
   ]
  },
  {
   "cell_type": "markdown",
   "metadata": {},
   "source": [
    "## Set up 2006 and 2007 data into training & testing dataframes"
   ]
  },
  {
   "cell_type": "code",
   "execution_count": 139,
   "metadata": {},
   "outputs": [
    {
     "name": "stdout",
     "output_type": "stream",
     "text": [
      " \n"
     ]
    }
   ],
   "source": [
    "# Creating Training and Testing variables to train on 2006 data and test on 2007 data\n",
    "\n",
    "training_X = working_df_2006\n",
    "testing_X = working_df_2007\n",
    "\n",
    "# separate the Class feature out into Y datasets\n",
    "training_Y = training_X['AircraftDelayed']\n",
    "testing_Y = testing_X['AircraftDelayed']\n",
    "\n",
    "# dropping the Class feature from the X datasets so that the model isn't able to cheat\n",
    "training_X.drop('AircraftDelayed', axis=1, inplace=True)\n",
    "testing_X.drop('AircraftDelayed', axis=1, inplace=True)\n",
    "print(\" \")"
   ]
  },
  {
   "cell_type": "markdown",
   "metadata": {},
   "source": [
    "## Train the RF model on 2006 data and test it on 2007 data"
   ]
  },
  {
   "cell_type": "code",
   "execution_count": 140,
   "metadata": {},
   "outputs": [
    {
     "name": "stdout",
     "output_type": "stream",
     "text": [
      "Random Forest results:\n",
      " \n",
      "Model score:\n",
      "0.9764745129436883\n",
      " \n",
      "Classification Report:\n",
      "              precision    recall  f1-score   support\n",
      "\n",
      "     on-time       0.99      0.99      0.99    793937\n",
      "        late       0.89      0.91      0.90    105343\n",
      "\n",
      "   micro avg       0.98      0.98      0.98    899280\n",
      "   macro avg       0.94      0.95      0.94    899280\n",
      "weighted avg       0.98      0.98      0.98    899280\n",
      "\n",
      "AUC score:0.948\n",
      " \n",
      "Model cross-valuation:\n",
      "[0.9805401  0.9794559  0.97858843 0.97978371 0.9776987 ]\n"
     ]
    }
   ],
   "source": [
    "# Random Forest model, using 2006 data to train and 2007 data to test\n",
    "\n",
    "rfc = ensemble.RandomForestClassifier(max_depth = None, max_features = 0.9, n_estimators = 21)\n",
    "rfc.fit(training_X,training_Y)\n",
    "print('Random Forest results:')\n",
    "print(' ')\n",
    "accuracy_report(testing_X, testing_Y, rfc)"
   ]
  },
  {
   "cell_type": "markdown",
   "metadata": {},
   "source": [
    "## Conclusion"
   ]
  },
  {
   "cell_type": "markdown",
   "metadata": {},
   "source": [
    "After testing seven different models, Random Forest, Decision Tree, and Gradient Boosting Classifier proved to be the most effective, with Random Forest eaking out a slight lead over DT & GBC.  \n",
    "\n",
    "Repeated testing with Gridsearch CV revealed a variable optimal parameter space (shifting between tests even when given identical parameters to choose from), with the optimum range being around max_features = .9 and n_estimators =21.  \n",
    "\n",
    "Feature selection was facilitated by visualizations, trial and error, and SelectKBest, all of which consistently pointed to CRS departure and arrival times as critical to correctly estimating delays.  Further experimentation with removing different resulted in the inclusion of all engineered features, as none resulted in significant overfitting while the removal of any of them was detrimental to the model's accuracy (sometimes significantly so).\n",
    "\n",
    "In the end, the model achieved an accuracy score of %97.6, with a minimal amount of overfitting (based on the cross-valuation scores) and a reasonably high degree of accuracy for both on-time (%99) and late arrivals (90%).\n",
    "\n",
    "The model could likely be optimized further, given more time and feature engineering, and/or a more refined model list, but for now a %90 correct prediction of delays (f1-score) seems a reasonable result."
   ]
  },
  {
   "cell_type": "code",
   "execution_count": null,
   "metadata": {},
   "outputs": [],
   "source": []
  },
  {
   "cell_type": "code",
   "execution_count": null,
   "metadata": {},
   "outputs": [],
   "source": []
  }
 ],
 "metadata": {
  "kernelspec": {
   "display_name": "Python 3",
   "language": "python",
   "name": "python3"
  },
  "language_info": {
   "codemirror_mode": {
    "name": "ipython",
    "version": 3
   },
   "file_extension": ".py",
   "mimetype": "text/x-python",
   "name": "python",
   "nbconvert_exporter": "python",
   "pygments_lexer": "ipython3",
   "version": "3.7.0"
  }
 },
 "nbformat": 4,
 "nbformat_minor": 2
}
