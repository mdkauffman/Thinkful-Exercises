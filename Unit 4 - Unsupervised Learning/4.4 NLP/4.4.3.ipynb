{
 "cells": [
  {
   "cell_type": "markdown",
   "metadata": {},
   "source": [
    "# Drill 0: Test set\n",
    "\n",
    "Now it's your turn: Apply our LSA model to the test set.  Does it identify similar sentences for components 0 through 4?  \n",
    "\n",
    "# Drill 1: Tweaking tf-idf\n",
    "\n",
    "Go back up to the code where we originally translated the text from words to numbers.  There are a lot of decision-points here, from the stop list to the thresholds for inclusion and exclusion, and many others as well.  We also didn't integrate spaCy, and so don't have info on lemmas or Named Entities.  Change things up a few times and see how that affects the results of the LSA.  Write up your observations and share them with your mentor."
   ]
  },
  {
   "cell_type": "code",
   "execution_count": 1,
   "metadata": {},
   "outputs": [
    {
     "name": "stderr",
     "output_type": "stream",
     "text": [
      "[nltk_data] Downloading package gutenberg to\n",
      "[nltk_data]     /Users/morgankauffman/nltk_data...\n",
      "[nltk_data]   Package gutenberg is already up-to-date!\n"
     ]
    }
   ],
   "source": [
    "%matplotlib inline\n",
    "import numpy as np\n",
    "import pandas as pd\n",
    "import scipy\n",
    "import sklearn\n",
    "import matplotlib.pyplot as plt\n",
    "import seaborn as sns\n",
    "\n",
    "pd.set_option('display.max_rows', 1000)\n",
    "pd.set_option('display.max_columns', 50)\n",
    "import math\n",
    "import warnings\n",
    "warnings.simplefilter(action='ignore', category=FutureWarning)\n",
    "\n",
    "from sklearn import linear_model\n",
    "from sklearn.linear_model import LogisticRegression\n",
    "from sklearn import ensemble\n",
    "from sklearn import datasets\n",
    "from sklearn.utils import shuffle\n",
    "from sklearn.metrics import mean_squared_error\n",
    "from sklearn.metrics import accuracy_score\n",
    "from sklearn.metrics import recall_score\n",
    "from sklearn.metrics import precision_score\n",
    "from sklearn.metrics import roc_auc_score\n",
    "from sklearn.svm import SVC\n",
    "from sklearn.metrics import classification_report\n",
    "\n",
    "from IPython.display import display\n",
    "\n",
    "import spacy\n",
    "import re\n",
    "from nltk.corpus import gutenberg, stopwords\n",
    "from collections import Counter\n",
    "import nltk\n",
    "nltk.download('gutenberg')\n",
    "\n",
    "from spacy.lang.en import English\n",
    "\n",
    "# Display preferences.\n",
    "%matplotlib inline\n",
    "pd.options.display.float_format = '{:.3f}'.format\n",
    "\n",
    "# Suppress annoying harmless error.\n",
    "warnings.filterwarnings(\n",
    "    action=\"ignore\",\n",
    "    module=\"scipy\",\n",
    "    message=\"^internal gelsd\"\n",
    ")\n",
    "\n",
    "from sklearn.exceptions import DataConversionWarning\n",
    "warnings.filterwarnings(action='ignore', category=DataConversionWarning)\n",
    "\n",
    "from sklearn.metrics import confusion_matrix\n",
    "from sklearn.naive_bayes import BernoulliNB\n",
    "from sklearn.model_selection import train_test_split\n",
    "from sklearn.model_selection import cross_val_score\n",
    "\n",
    "from sklearn.decomposition import PCA\n",
    "from sklearn import neighbors\n",
    "from sklearn.naive_bayes import MultinomialNB\n",
    "from sklearn.neighbors import KNeighborsClassifier\n",
    "from sklearn.neighbors import KNeighborsRegressor\n",
    "\n",
    "from sklearn import ensemble\n",
    "from sklearn.model_selection import cross_val_score\n",
    "from sklearn.model_selection import GridSearchCV\n",
    "from sklearn.svm import SVR\n",
    "\n",
    "from sklearn.datasets import load_digits\n",
    "from sklearn.feature_selection import SelectKBest, chi2, f_classif\n",
    "from sklearn.preprocessing import LabelEncoder, Imputer\n",
    "from sklearn.model_selection import train_test_split\n",
    "\n",
    "from timeit import default_timer as timer\n",
    "\n",
    "import os\n",
    "\n",
    "import pydotplus\n",
    "from sklearn import tree\n",
    "from sklearn import preprocessing\n",
    "%matplotlib inline\n",
    "sns.set_style('white')"
   ]
  },
  {
   "cell_type": "code",
   "execution_count": 18,
   "metadata": {},
   "outputs": [
    {
     "name": "stderr",
     "output_type": "stream",
     "text": [
      "[nltk_data] Downloading package punkt to\n",
      "[nltk_data]     /Users/morgankauffman/nltk_data...\n",
      "[nltk_data]   Package punkt is already up-to-date!\n",
      "[nltk_data] Downloading package gutenberg to\n",
      "[nltk_data]     /Users/morgankauffman/nltk_data...\n",
      "[nltk_data]   Package gutenberg is already up-to-date!\n"
     ]
    },
    {
     "name": "stdout",
     "output_type": "stream",
     "text": [
      "['[ Emma by Jane Austen 1816 ]', 'VOLUME I', 'CHAPTER I', 'Emma Woodhouse , handsome , clever , and rich , with a comfortable home and happy disposition , seemed to unite some of the best blessings of existence ; and had lived nearly twenty - one years in the world with very little to distress or vex her .']\n"
     ]
    }
   ],
   "source": [
    "import nltk\n",
    "from nltk.corpus import gutenberg\n",
    "nltk.download('punkt')\n",
    "nltk.download('gutenberg')\n",
    "import re\n",
    "from sklearn.model_selection import train_test_split\n",
    "\n",
    "#reading in the data, this time in the form of paragraphs\n",
    "emma=gutenberg.paras('austen-emma.txt')\n",
    "#processing\n",
    "emma_paras=[]\n",
    "for paragraph in emma:\n",
    "    para=paragraph[0]\n",
    "    #removing the double-dash from all words\n",
    "    para=[re.sub(r'--','',word) for word in para]\n",
    "    #Forming each paragraph into a string and adding it to the list of strings.\n",
    "    emma_paras.append(' '.join(para))\n",
    "\n",
    "print(emma_paras[0:4])"
   ]
  },
  {
   "cell_type": "code",
   "execution_count": 19,
   "metadata": {},
   "outputs": [
    {
     "name": "stdout",
     "output_type": "stream",
     "text": [
      "Number of features: 1948\n",
      "Original sentence: A very few minutes more , however , completed the present trial .\n",
      "Tf_idf vector: {'minutes': 0.7127450310382584, 'present': 0.701423210857947}\n"
     ]
    }
   ],
   "source": [
    "from sklearn.feature_extraction.text import TfidfVectorizer\n",
    "\n",
    "X_train, X_test = train_test_split(emma_paras, test_size=0.4, random_state=0)\n",
    "\n",
    "vectorizer = TfidfVectorizer(max_df=0.5, # drop words that occur in more than half the paragraphs\n",
    "                             min_df=2, # only use words that appear at least twice\n",
    "                             stop_words='english', \n",
    "                             lowercase=True, #convert everything to lower case (since Alice in Wonderland has the HABIT of CAPITALIZING WORDS for EMPHASIS)\n",
    "                             use_idf=True,#we definitely want to use inverse document frequencies in our weighting\n",
    "                             norm=u'l2', #Applies a correction factor so that longer paragraphs and shorter paragraphs get treated equally\n",
    "                             smooth_idf=True #Adds 1 to all document frequencies, as if an extra document existed that used every word once.  Prevents divide-by-zero errors\n",
    "                            )\n",
    "\n",
    "\n",
    "#Applying the vectorizer\n",
    "emma_paras_tfidf=vectorizer.fit_transform(emma_paras)\n",
    "print(\"Number of features: %d\" % emma_paras_tfidf.get_shape()[1])\n",
    "\n",
    "#splitting into training and test sets\n",
    "X_train_tfidf, X_test_tfidf= train_test_split(emma_paras_tfidf, test_size=0.4, random_state=0)\n",
    "\n",
    "\n",
    "#Reshapes the vectorizer output into something people can read\n",
    "X_train_tfidf_csr = X_train_tfidf.tocsr()\n",
    "\n",
    "#number of paragraphs\n",
    "n = X_train_tfidf_csr.shape[0]\n",
    "#A list of dictionaries, one per paragraph\n",
    "tfidf_bypara = [{} for _ in range(0,n)]\n",
    "#List of features\n",
    "terms = vectorizer.get_feature_names()\n",
    "#for each paragraph, lists the feature words and their tf-idf scores\n",
    "for i, j in zip(*X_train_tfidf_csr.nonzero()):\n",
    "    tfidf_bypara[i][terms[j]] = X_train_tfidf_csr[i, j]\n",
    "\n",
    "#Keep in mind that the log base 2 of 1 is 0, so a tf-idf score of 0 indicates that the word was present \n",
    "#once in that sentence.\n",
    "print('Original sentence:', X_train[5])\n",
    "print('Tf_idf vector:', tfidf_bypara[5])"
   ]
  },
  {
   "cell_type": "code",
   "execution_count": 20,
   "metadata": {},
   "outputs": [
    {
     "name": "stdout",
     "output_type": "stream",
     "text": [
      "Percent variance captured by all components: 45.20977251999653\n",
      "Component 0:\n",
      "\" Oh !   0.999\n",
      "\" Oh !   0.999\n",
      "\" Oh !   0.999\n",
      "\" Oh !   0.999\n",
      "\" Oh !   0.999\n",
      "\" Oh !   0.999\n",
      "\" Oh !   0.999\n",
      "\" Oh !   0.999\n",
      "\" Oh !   0.999\n",
      "\" Oh !   0.999\n",
      "Name: 0, dtype: float64\n",
      "Component 1:\n",
      "\" You have made her too tall , Emma ,\" said Mr . Knightley .                                                                                                               0.634\n",
      "\" You get upon delicate subjects , Emma ,\" said Mrs . Weston smiling ; \" remember that I am here . Mr .                                                                    0.585\n",
      "\" I do not know what your opinion may be , Mrs . Weston ,\" said Mr . Knightley , \" of this great intimacy between Emma and Harriet Smith , but I think it a bad thing .\"   0.562\n",
      "\" You are right , Mrs . Weston ,\" said Mr . Knightley warmly , \" Miss Fairfax is as capable as any of us of forming a just opinion of Mrs . Elton .                        0.556\n",
      "\" There were misunderstandings between them , Emma ; he said so expressly .                                                                                                0.528\n",
      "Mr . Knightley might quarrel with her , but Emma could not quarrel with herself .                                                                                          0.526\n",
      "Emma found that it was not Mr . Weston ' s fault that the number of privy councillors was not yet larger .                                                                 0.511\n",
      "\" Now ,\" said Emma , when they were fairly beyond the sweep gates , \" now Mr . Weston , do let me know what has happened .\"                                                0.508\n",
      "\" In one respect , perhaps , Mr . Elton ' s manners are superior to Mr . Knightley ' s or Mr . Weston ' s .                                                                0.504\n",
      "\" I do not admire it ,\" said Mr . Knightley .                                                                                                                              0.500\n",
      "Name: 1, dtype: float64\n",
      "Component 2:\n",
      "CHAPTER I    0.999\n",
      "CHAPTER V    0.999\n",
      "CHAPTER V    0.999\n",
      "CHAPTER I    0.999\n",
      "CHAPTER X    0.999\n",
      "CHAPTER X    0.999\n",
      "CHAPTER X    0.999\n",
      "CHAPTER I    0.999\n",
      "CHAPTER V    0.999\n",
      "CHAPTER VI   0.998\n",
      "Name: 2, dtype: float64\n",
      "Component 3:\n",
      "\" Ah !     0.993\n",
      "\" Ah !\"    0.993\n",
      "\" Ah !     0.993\n",
      "\" Ah !     0.993\n",
      "\" Ah !     0.993\n",
      "\" Ah !     0.993\n",
      "But ah !   0.993\n",
      "But ah !   0.993\n",
      "\" Ah !     0.993\n",
      "\" Ah !     0.993\n",
      "Name: 3, dtype: float64\n",
      "Component 4:\n",
      "\" There were misunderstandings between them , Emma ; he said so expressly .   0.651\n",
      "\" Are you well , my Emma ?\"                                                   0.599\n",
      "Emma demurred .                                                               0.599\n",
      "Emma was silenced .                                                           0.587\n",
      "At first it was downright dulness to Emma .                                   0.586\n",
      "\" Emma , my dear Emma \"                                                       0.577\n",
      "Emma could not resist .                                                       0.570\n",
      "\" It is not now worth a regret ,\" said Emma .                                 0.566\n",
      "\" For shame , Emma !                                                          0.548\n",
      "\" No great variety of faces for you ,\" said Emma .                            0.493\n",
      "Name: 4, dtype: float64\n"
     ]
    }
   ],
   "source": [
    "from sklearn.decomposition import TruncatedSVD\n",
    "from sklearn.pipeline import make_pipeline\n",
    "from sklearn.preprocessing import Normalizer\n",
    "\n",
    "#Our SVD data reducer.  We are going to reduce the feature space from 1379 to 130.\n",
    "svd= TruncatedSVD(130)\n",
    "lsa = make_pipeline(svd, Normalizer(copy=False))\n",
    "# Run SVD on the training data, then project the training data.\n",
    "X_train_lsa = lsa.fit_transform(X_train_tfidf)\n",
    "\n",
    "variance_explained=svd.explained_variance_ratio_\n",
    "total_variance = variance_explained.sum()\n",
    "print(\"Percent variance captured by all components:\",total_variance*100)\n",
    "\n",
    "#Looking at what sorts of paragraphs our solution considers similar, for the first five identified topics\n",
    "paras_by_component=pd.DataFrame(X_train_lsa,index=X_train)\n",
    "for i in range(5):\n",
    "    print('Component {}:'.format(i))\n",
    "    print(paras_by_component.loc[:,i].sort_values(ascending=False)[0:10])\n",
    "\n",
    "\n"
   ]
  },
  {
   "cell_type": "code",
   "execution_count": 5,
   "metadata": {},
   "outputs": [
    {
     "data": {
      "image/png": "[encoded data removed]",
      "text/plain": [
       "<Figure size 432x288 with 2 Axes>"
      ]
     },
     "metadata": {
      "needs_background": "light"
     },
     "output_type": "display_data"
    },
    {
     "name": "stdout",
     "output_type": "stream",
     "text": [
      "Key:\n",
      "0 That is _court_ .\n",
      "1 \" Yes , sir , I did indeed ; and I am very much obliged by your kind solicitude about me .\"\n",
      "2 \" How much his business engrosses him already is very plain from the circumstance of his forgetting to inquire for the book you recommended .\n",
      "3 To restrain him as much as might be , by her own manners , she was immediately preparing to speak with exquisite calmness and gravity of the weather and the night ; but scarcely had she begun , scarcely had they passed the sweep - gate and joined the other carriage , than she found her subject cut up  her hand seized  her attention demanded , and Mr . Elton actually making violent love to her : availing himself of the precious opportunity , declaring sentiments which must be already well known , hoping  fearing  adoring  ready to die if she refused him ; but flattering himself that his ardent attachment and unequalled love and unexampled passion could not fail of having some effect , and in short , very much resolved on being seriously accepted as soon as possible .\n",
      "4 Emma smiled and answered \" My visit was of use to the nervous part of her complaint , I hope ; but not even I can charm away a sore throat ; it is a most severe cold indeed .\n",
      "5 A very few minutes more , however , completed the present trial .\n",
      "6 \" I am delighted to hear you speak so stoutly on the subject ,\" replied Emma , smiling ; \" but you do not mean to deny that there was a time  and not very distant either  when you gave me reason to understand that you did care about him ?\"\n",
      "7 \" Very well ; and if he had intended to give her one , he would have told her so .\"\n",
      "8 Some laughed , and answered good - humouredly .\n",
      "9 \" There appeared such a perfectly good understanding among them all \" he began rather quickly , but checking himself , added , \" however , it is impossible for me to say on what terms they really were  how it might all be behind the scenes .\n"
     ]
    }
   ],
   "source": [
    "# Compute document similarity using LSA components\n",
    "similarity = np.asarray(np.asmatrix(X_train_lsa) * np.asmatrix(X_train_lsa).T)\n",
    "#Only taking the first 10 sentences\n",
    "sim_matrix=pd.DataFrame(similarity,index=X_train).iloc[0:10,0:10]\n",
    "#Making a plot\n",
    "ax = sns.heatmap(sim_matrix,yticklabels=range(10))\n",
    "plt.show()\n",
    "\n",
    "#Generating a key for the plot.\n",
    "print('Key:')\n",
    "for i in range(10):\n",
    "    print(i,sim_matrix.index[i])\n"
   ]
  },
  {
   "cell_type": "markdown",
   "metadata": {},
   "source": [
    "# Drill 0: Test set\n",
    "\n",
    "Now it's your turn: Apply our LSA model to the test set.  Does it identify similar sentences for components 0 through 4?  \n"
   ]
  },
  {
   "cell_type": "code",
   "execution_count": 3,
   "metadata": {},
   "outputs": [
    {
     "name": "stdout",
     "output_type": "stream",
     "text": [
      "Number of features: 1948\n",
      "Original sentence: A very few minutes more , however , completed the present trial .\n",
      "Tf_idf vector: {'minutes': 0.7127450310382584, 'present': 0.701423210857947}\n"
     ]
    }
   ],
   "source": [
    "### This is the original, training-set output."
   ]
  },
  {
   "cell_type": "code",
   "execution_count": 21,
   "metadata": {},
   "outputs": [
    {
     "name": "stdout",
     "output_type": "stream",
     "text": [
      "Number of features: 1948\n",
      "Original sentence: \" And I am quite serious too , I assure you ,\" replied Mrs . Elton gaily , \" in resolving to be always on the watch , and employing my friends to watch also , that nothing really unexceptionable may pass us .\"\n",
      "Tf_idf vector: {'resolving': 0.3424390305045805, 'unexceptionable': 0.3196409792117937, 'assure': 0.267729777836069, 'friends': 0.2515333740641343, 'quite': 0.1916471918420347, 'replied': 0.20315405638674577, 'watch': 0.62300800500314, 'elton': 0.16874782424809767, 'pass': 0.28445227585106625, 'really': 0.21963852817625326, 'mrs': 0.14780961753993585}\n"
     ]
    }
   ],
   "source": [
    "emma_paras_tfidf=vectorizer.fit_transform(emma_paras)\n",
    "print(\"Number of features: %d\" % emma_paras_tfidf.get_shape()[1])\n",
    "\n",
    "#splitting into training and test sets\n",
    "X_train_tfidf, X_test_tfidf= train_test_split(emma_paras_tfidf, test_size=0.4, random_state=0)\n",
    "\n",
    "\n",
    "#Reshapes the vectorizer output into something people can read\n",
    "X_test_tfidf_csr = X_test_tfidf.tocsr()\n",
    "\n",
    "#number of paragraphs\n",
    "n = X_test_tfidf_csr.shape[0]\n",
    "#A list of dictionaries, one per paragraph\n",
    "tfidf_bypara = [{} for _ in range(0,n)]\n",
    "#List of features\n",
    "terms = vectorizer.get_feature_names()\n",
    "#for each paragraph, lists the feature words and their tf-idf scores\n",
    "for i, j in zip(*X_test_tfidf_csr.nonzero()):\n",
    "    tfidf_bypara[i][terms[j]] = X_test_tfidf_csr[i, j]\n",
    "\n",
    "#Keep in mind that the log base 2 of 1 is 0, so a tf-idf score of 0 indicates that the word was present \n",
    "#once in that sentence.\n",
    "print('Original sentence:', X_test[5])\n",
    "print('Tf_idf vector:', tfidf_bypara[5])"
   ]
  },
  {
   "cell_type": "code",
   "execution_count": 22,
   "metadata": {},
   "outputs": [
    {
     "name": "stdout",
     "output_type": "stream",
     "text": [
      "Percent variance captured by all components: 49.356912922201786\n",
      "Component 0:\n",
      "\" Oh !        1.000\n",
      "\" Oh !        1.000\n",
      "\" Me ! oh !   1.000\n",
      "\" Oh !        1.000\n",
      "\" Oh !\"       1.000\n",
      "\" Oh !        1.000\n",
      "\" Oh !        1.000\n",
      "\" Oh !        1.000\n",
      "\" Oh !        1.000\n",
      "\" Oh !        1.000\n",
      "Name: 0, dtype: float64\n",
      "Component 1:\n",
      "\" Well , Mrs . Weston ,\" said Emma triumphantly when he left them , \" what do you say now to Mr . Knightley ' s marrying Jane Fairfax ?\"                                                                                                                                                                                                                                                                                                            0.614\n",
      "After tea , Mr . and Mrs . Weston , and Mr . Elton sat down with Mr . Woodhouse to cards .                                                                                                                                                                                                                                                                                                                                                          0.600\n",
      "Frank turned instantly to Emma , to claim her former promise ; and boasted himself an engaged man , which his father looked his most perfect approbation of  and it then appeared that Mrs . Weston was wanting _him_ to dance with Mrs . Elton himself , and that their business was to help to persuade him into it , which was done pretty soon . Mr . Weston and Mrs . Elton led the way , Mr . Frank Churchill and Miss Woodhouse followed .   0.563\n",
      "\" Mr .                                                                                                                                                                                                                                                                                                                                                                                                                                              0.519\n",
      "While she was gone , Mr . Knightley called , and sat some time with Mr . Woodhouse and Emma , till Mr . Woodhouse , who had previously made up his mind to walk out , was persuaded by his daughter not to defer it , and was induced by the entreaties of both , though against the scruples of his own civility , to leave Mr . Knightley for that purpose .                                                                                      0.512\n",
      "Mr . Weston was musing .                                                                                                                                                                                                                                                                                                                                                                                                                            0.506\n",
      "\" Mrs . Weston ' s manners ,\" said Emma , \" were always particularly good .                                                                                                                                                                                                                                                                                                                                                                         0.493\n",
      "In this walk Emma and Mr . Weston found all the others assembled ; and towards this view she immediately perceived Mr . Knightley and Harriet distinct from the rest , quietly leading the way .                                                                                                                                                                                                                                                    0.491\n",
      "\" I think , indeed ,\" said John Knightley pleasantly , \" that Mr . Weston has some little claim .                                                                                                                                                                                                                                                                                                                                                   0.488\n",
      "\" It is Frank and Miss Fairfax ,\" said Mrs . Weston .                                                                                                                                                                                                                                                                                                                                                                                               0.487\n",
      "Name: 1, dtype: float64\n",
      "Component 2:\n",
      "\" Ah !    0.997\n",
      "\" Ah !    0.997\n",
      "\" Ah !    0.997\n",
      "\" Ah !    0.997\n",
      "\" Ah !    0.997\n",
      "\" Ah !    0.997\n",
      "\" Ah !    0.997\n",
      "\" Ah !\"   0.997\n",
      "\" Ah !    0.997\n",
      "\" Ah !\"   0.997\n",
      "Name: 2, dtype: float64\n",
      "Component 3:\n",
      "\" Mr .                                                                                                                                                                                                                                                                                                                                                           0.633\n",
      "After tea , Mr . and Mrs . Weston , and Mr . Elton sat down with Mr . Woodhouse to cards .                                                                                                                                                                                                                                                                       0.564\n",
      "Mr . Knightley was thoughtful again .                                                                                                                                                                                                                                                                                                                            0.524\n",
      "\" You are not vain , Mr . Knightley .                                                                                                                                                                                                                                                                                                                            0.506\n",
      "Mr . Weston was musing .                                                                                                                                                                                                                                                                                                                                         0.501\n",
      "Mr . Weston ' s own happiness was indisputable .                                                                                                                                                                                                                                                                                                                 0.460\n",
      "She meant to be very happy , in spite of the scene being laid at Mr . Cole ' s ; and without being able to forget that among the failings of Mr . Elton , even in the days of his favour , none had disturbed her more than his propensity to dine with Mr . Cole .                                                                                              0.414\n",
      "Harriet , Mr . Elton , and Mr . Knightley , their own especial set , were the only persons invited to meet them ; the hours were to be early , as well as the numbers few ; Mr . Woodhouse ' s habits and inclination being consulted in every thing .                                                                                                           0.397\n",
      "\" Christmas weather ,\" observed Mr . Elton .                                                                                                                                                                                                                                                                                                                     0.394\n",
      "While she was gone , Mr . Knightley called , and sat some time with Mr . Woodhouse and Emma , till Mr . Woodhouse , who had previously made up his mind to walk out , was persuaded by his daughter not to defer it , and was induced by the entreaties of both , though against the scruples of his own civility , to leave Mr . Knightley for that purpose .   0.391\n",
      "Name: 3, dtype: float64\n",
      "Component 4:\n",
      "\" Yes , sometimes he can .\"                                                    0.653\n",
      "\" Yes , do .\"                                                                  0.653\n",
      "\" Yes .                                                                        0.653\n",
      "\" Yes I should , I am sure I should .                                          0.639\n",
      "\" Yes , so I imagined .                                                        0.614\n",
      "\" Yes  a good deal _nearer_ .\"                                                 0.562\n",
      "\" Yes , our good Mrs . Elton .                                                 0.553\n",
      "\" Yes ; but we must not rest our claims on that distinction .                  0.552\n",
      "\" Yes , she would be , but that she thinks there will be another put - off .   0.540\n",
      "\" Yes , very soon .                                                            0.533\n",
      "Name: 4, dtype: float64\n"
     ]
    }
   ],
   "source": [
    "#Our SVD data reducer.  We are going to reduce the feature space from 1379 to 130.\n",
    "svd= TruncatedSVD(130)\n",
    "lsa = make_pipeline(svd, Normalizer(copy=False))\n",
    "# Run SVD on the training data, then project the training data.\n",
    "X_test_lsa = lsa.fit_transform(X_test_tfidf)\n",
    "\n",
    "variance_explained=svd.explained_variance_ratio_\n",
    "total_variance = variance_explained.sum()\n",
    "print(\"Percent variance captured by all components:\",total_variance*100)\n",
    "\n",
    "#Looking at what sorts of paragraphs our solution considers similar, for the first five identified topics\n",
    "paras_by_component=pd.DataFrame(X_test_lsa,index=X_test)\n",
    "for i in range(5):\n",
    "    print('Component {}:'.format(i))\n",
    "    print(paras_by_component.loc[:,i].sort_values(ascending=False)[0:10])\n"
   ]
  },
  {
   "cell_type": "code",
   "execution_count": 23,
   "metadata": {},
   "outputs": [
    {
     "data": {
      "image/png": "[encoded data removed]",
      "text/plain": [
       "<Figure size 432x288 with 2 Axes>"
      ]
     },
     "metadata": {
      "needs_background": "light"
     },
     "output_type": "display_data"
    },
    {
     "name": "stdout",
     "output_type": "stream",
     "text": [
      "Key:\n",
      "0 Mr . Woodhouse had so completely made up his mind to the visit , that in spite of the increasing coldness , he seemed to have no idea of shrinking from it , and set forward at last most punctually with his eldest daughter in his own carriage , with less apparent consciousness of the weather than either of the others ; too full of the wonder of his own going , and the pleasure it was to afford at Randalls to see that it was cold , and too well wrapt up to feel it .\n",
      "1 \" Oh !\n",
      "2 \" Oh no , no !\n",
      "3 Such was Jane Fairfax ' s history .\n",
      "4 \" That has been a good deal the case , my dear ; but not to the degree you mention .\n",
      "5 \" And I am quite serious too , I assure you ,\" replied Mrs . Elton gaily , \" in resolving to be always on the watch , and employing my friends to watch also , that nothing really unexceptionable may pass us .\"\n",
      "6 \" And here is Mrs . Weston and Mr . Frank Churchill too ! Quite delightful ; so many friends !\"\n",
      "7 \" You may well class the delight , the honour , and the comfort of such a situation together ,\" said Jane , \" they are pretty sure to be equal ; however , I am very serious in not wishing any thing to be attempted at present for me .\n",
      "8 Harriet , Mr . Elton , and Mr . Knightley , their own especial set , were the only persons invited to meet them ; the hours were to be early , as well as the numbers few ; Mr . Woodhouse ' s habits and inclination being consulted in every thing .\n",
      "9 \" Oh !\n"
     ]
    }
   ],
   "source": [
    "# Compute document similarity using LSA components\n",
    "similarity = np.asarray(np.asmatrix(X_test_lsa) * np.asmatrix(X_test_lsa).T)\n",
    "#Only taking the first 10 sentences\n",
    "sim_matrix=pd.DataFrame(similarity,index=X_test).iloc[0:10,0:10]\n",
    "#Making a plot\n",
    "ax = sns.heatmap(sim_matrix,yticklabels=range(10))\n",
    "plt.show()\n",
    "\n",
    "#Generating a key for the plot.\n",
    "print('Key:')\n",
    "for i in range(10):\n",
    "    print(i,sim_matrix.index[i])\n"
   ]
  },
  {
   "cell_type": "markdown",
   "metadata": {},
   "source": [
    "# Drill 1: Tweaking tf-idf\n",
    "\n",
    "Go back up to the code where we originally translated the text from words to numbers.  There are a lot of decision-points here, from the stop list to the thresholds for inclusion and exclusion, and many others as well.  We also didn't integrate spaCy, and so don't have info on lemmas or Named Entities.  Change things up a few times and see how that affects the results of the LSA.  Write up your observations and share them with your mentor."
   ]
  },
  {
   "cell_type": "code",
   "execution_count": 59,
   "metadata": {},
   "outputs": [],
   "source": [
    "def tweak_tf_idf(max_df_var, min_df_var, example_sentence, svd_size):\n",
    "    X_train, X_test = train_test_split(emma_paras, test_size=0.4, random_state=0)\n",
    "\n",
    "    vectorizer = TfidfVectorizer(max_df=max_df_var, # drop words that occur in more than half the paragraphs\n",
    "                                 min_df=min_df_var, # only use words that appear at least twice\n",
    "                                 stop_words='english', \n",
    "                                 lowercase=True, #convert everything to lower case (since Alice in Wonderland has the HABIT of CAPITALIZING WORDS for EMPHASIS)\n",
    "                                 use_idf=True,#we definitely want to use inverse document frequencies in our weighting\n",
    "                                 norm=u'l2', #Applies a correction factor so that longer paragraphs and shorter paragraphs get treated equally\n",
    "                                 smooth_idf=True #Adds 1 to all document frequencies, as if an extra document existed that used every word once.  Prevents divide-by-zero errors\n",
    "                                )\n",
    "\n",
    "\n",
    "    #Applying the vectorizer\n",
    "    emma_paras_tfidf=vectorizer.fit_transform(emma_paras)\n",
    "    print(\"Number of features: %d\" % emma_paras_tfidf.get_shape()[1])\n",
    "\n",
    "    #splitting into training and test sets\n",
    "    X_train_tfidf, X_test_tfidf= train_test_split(emma_paras_tfidf, test_size=0.4, random_state=0)\n",
    "\n",
    "\n",
    "    #Reshapes the vectorizer output into something people can read\n",
    "    X_train_tfidf_csr = X_train_tfidf.tocsr()\n",
    "\n",
    "    #number of paragraphs\n",
    "    n = X_train_tfidf_csr.shape[0]\n",
    "    #A list of dictionaries, one per paragraph\n",
    "    tfidf_bypara = [{} for _ in range(0,n)]\n",
    "    #List of features\n",
    "    terms = vectorizer.get_feature_names()\n",
    "    #for each paragraph, lists the feature words and their tf-idf scores\n",
    "    for i, j in zip(*X_train_tfidf_csr.nonzero()):\n",
    "        tfidf_bypara[i][terms[j]] = X_train_tfidf_csr[i, j]\n",
    "\n",
    "    #Keep in mind that the log base 2 of 1 is 0, so a tf-idf score of 0 indicates that the word was present \n",
    "    #once in that sentence.\n",
    "    print('Original sentence:', X_train[example_sentence])\n",
    "    print('Tf_idf vector:', tfidf_bypara[example_sentence])\n",
    "    \n",
    "    #Our SVD data reducer.  We are going to reduce the feature space from 1379 to 130.\n",
    "    svd= TruncatedSVD(svd_size)\n",
    "    lsa = make_pipeline(svd, Normalizer(copy=False))\n",
    "    # Run SVD on the training data, then project the training data.\n",
    "    X_train_lsa = lsa.fit_transform(X_train_tfidf)\n",
    "\n",
    "    variance_explained=svd.explained_variance_ratio_\n",
    "    total_variance = variance_explained.sum()\n",
    "    print(\"Percent variance captured by all components:\",total_variance*100)\n",
    "\n",
    "    #Looking at what sorts of paragraphs our solution considers similar, for the first five identified topics\n",
    "    paras_by_component=pd.DataFrame(X_train_lsa,index=X_train)\n",
    "    for i in range(5):\n",
    "        print('Component {}:'.format(i))\n",
    "        print(paras_by_component.loc[:,i].sort_values(ascending=False)[0:10])\n",
    "    \n",
    "    # Compute document similarity using LSA components\n",
    "    similarity = np.asarray(np.asmatrix(X_train_lsa) * np.asmatrix(X_train_lsa).T)\n",
    "    #Only taking the first 10 sentences\n",
    "    sim_matrix=pd.DataFrame(similarity,index=X_train).iloc[0:10,0:10]\n",
    "    #Making a plot\n",
    "    ax = sns.heatmap(sim_matrix,yticklabels=range(10))\n",
    "    plt.show()\n",
    "\n",
    "    #Generating a key for the plot.\n",
    "    print('Key:')\n",
    "    for i in range(10):\n",
    "        print(i,sim_matrix.index[i])\n",
    "\n"
   ]
  },
  {
   "cell_type": "markdown",
   "metadata": {},
   "source": [
    "#### Baseline\n",
    ".# of features: 1948\n",
    "\n",
    "Tf_idf vector: {'comfortably': 0.5225597626893586, 'hear': 0.40863400822092244, 'glad': 0.4592700427052501, 'dear': 0.3220946534248823, 'settled': 0.4952530705124068}\n",
    "\n",
    "Percent variance captured by all components: 45.20802751368376\n",
    "\n",
    "* Component 0:  Oh!\n",
    "* Component 1: Emma, Mr. Knightly, and/or Mr./Mrs. Weston mentioned\n",
    "* Component 2: CHAPTER #\n",
    "* Component 3: Ah!\n",
    "* Component 4: short sentences around \"Emma\""
   ]
  },
  {
   "cell_type": "code",
   "execution_count": 73,
   "metadata": {},
   "outputs": [
    {
     "name": "stdout",
     "output_type": "stream",
     "text": [
      "Number of features: 1948\n",
      "Original sentence: \" I am very glad , indeed , my dear , to hear she is to be so comfortably settled .\n",
      "Tf_idf vector: {'comfortably': 0.5225597626893586, 'hear': 0.40863400822092244, 'glad': 0.4592700427052501, 'dear': 0.3220946534248823, 'settled': 0.4952530705124068}\n",
      "Percent variance captured by all components: 45.20802751368376\n",
      "Component 0:\n",
      "\" Oh !    0.999\n",
      "\" Oh !    0.999\n",
      "\" Oh !    0.999\n",
      "\" Oh !\"   0.999\n",
      "\" Oh !    0.999\n",
      "\" Oh !    0.999\n",
      "\" Oh !    0.999\n",
      "\" Oh !    0.999\n",
      "\" Oh !    0.999\n",
      "\" Oh !    0.999\n",
      "Name: 0, dtype: float64\n",
      "Component 1:\n",
      "\" You have made her too tall , Emma ,\" said Mr . Knightley .                                                                                                                                                                                                                                                                                                                                                                                                                                                                                                                                                                                                                                                                                                                                                                                                                                                                                    0.635\n",
      "\" You get upon delicate subjects , Emma ,\" said Mrs . Weston smiling ; \" remember that I am here . Mr .                                                                                                                                                                                                                                                                                                                                                                                                                                                                                                                                                                                                                                                                                                                                                                                                                                         0.576\n",
      "\" You are right , Mrs . Weston ,\" said Mr . Knightley warmly , \" Miss Fairfax is as capable as any of us of forming a just opinion of Mrs . Elton .                                                                                                                                                                                                                                                                                                                                                                                                                                                                                                                                                                                                                                                                                                                                                                                             0.561\n",
      "\" I do not know what your opinion may be , Mrs . Weston ,\" said Mr . Knightley , \" of this great intimacy between Emma and Harriet Smith , but I think it a bad thing .\"                                                                                                                                                                                                                                                                                                                                                                                                                                                                                                                                                                                                                                                                                                                                                                        0.559\n",
      "\" There were misunderstandings between them , Emma ; he said so expressly .                                                                                                                                                                                                                                                                                                                                                                                                                                                                                                                                                                                                                                                                                                                                                                                                                                                                     0.528\n",
      "Mr . Knightley might quarrel with her , but Emma could not quarrel with herself .                                                                                                                                                                                                                                                                                                                                                                                                                                                                                                                                                                                                                                                                                                                                                                                                                                                               0.526\n",
      "\" Now ,\" said Emma , when they were fairly beyond the sweep gates , \" now Mr . Weston , do let me know what has happened .\"                                                                                                                                                                                                                                                                                                                                                                                                                                                                                                                                                                                                                                                                                                                                                                                                                     0.521\n",
      "Emma found that it was not Mr . Weston ' s fault that the number of privy councillors was not yet larger .                                                                                                                                                                                                                                                                                                                                                                                                                                                                                                                                                                                                                                                                                                                                                                                                                                      0.509\n",
      "\" In one respect , perhaps , Mr . Elton ' s manners are superior to Mr . Knightley ' s or Mr . Weston ' s .                                                                                                                                                                                                                                                                                                                                                                                                                                                                                                                                                                                                                                                                                                                                                                                                                                     0.504\n",
      "Mrs . Weston was acting no part , feigning no feelings in all that she said to him in favour of the event . She had been extremely surprized , never more so , than when Emma first opened the affair to her ; but she saw in it only increase of happiness to all , and had no scruple in urging him to the utmost . She had such a regard for Mr . Knightley , as to think he deserved even her dearest Emma ; and it was in every respect so proper , suitable , and unexceptionable a connexion , and in one respect , one point of the highest importance , so peculiarly eligible , so singularly fortunate , that now it seemed as if Emma could not safely have attached herself to any other creature , and that she had herself been the stupidest of beings in not having thought of it , and wished it long ago . How very few of those men in a rank of life to address Emma would have renounced their own home for Hartfield !   0.501\n",
      "Name: 1, dtype: float64\n",
      "Component 2:\n"
     ]
    },
    {
     "name": "stdout",
     "output_type": "stream",
     "text": [
      "CHAPTER I      0.999\n",
      "CHAPTER V      0.999\n",
      "CHAPTER V      0.999\n",
      "CHAPTER I      0.999\n",
      "CHAPTER X      0.999\n",
      "CHAPTER X      0.999\n",
      "CHAPTER I      0.999\n",
      "CHAPTER V      0.999\n",
      "CHAPTER X      0.999\n",
      "CHAPTER XIII   0.998\n",
      "Name: 2, dtype: float64\n",
      "Component 3:\n",
      "But ah !   0.993\n",
      "\" Ah !     0.993\n",
      "\" Ah !\"    0.993\n",
      "\" Ah !     0.993\n",
      "But ah !   0.993\n",
      "\" Ah !     0.993\n",
      "\" Ah !     0.993\n",
      "\" Ah !     0.993\n",
      "\" Ah !     0.993\n",
      "\" Ah !     0.993\n",
      "Name: 3, dtype: float64\n",
      "Component 4:\n",
      "\" There were misunderstandings between them , Emma ; he said so expressly .   0.650\n",
      "\" Are you well , my Emma ?\"                                                   0.599\n",
      "Emma demurred .                                                               0.599\n",
      "Emma was silenced .                                                           0.588\n",
      "At first it was downright dulness to Emma .                                   0.587\n",
      "\" Emma , my dear Emma \"                                                       0.577\n",
      "Emma could not resist .                                                       0.569\n",
      "\" It is not now worth a regret ,\" said Emma .                                 0.541\n",
      "\" For shame , Emma !                                                          0.540\n",
      "\" I am ready ,\" said Emma , \" whenever I am wanted .\"                         0.516\n",
      "Name: 4, dtype: float64\n"
     ]
    },
    {
     "data": {
      "image/png": "[encoded data removed]",
      "text/plain": [
       "<Figure size 432x288 with 2 Axes>"
      ]
     },
     "metadata": {
      "needs_background": "light"
     },
     "output_type": "display_data"
    },
    {
     "name": "stdout",
     "output_type": "stream",
     "text": [
      "Key:\n",
      "0 That is _court_ .\n",
      "1 \" Yes , sir , I did indeed ; and I am very much obliged by your kind solicitude about me .\"\n",
      "2 \" How much his business engrosses him already is very plain from the circumstance of his forgetting to inquire for the book you recommended .\n",
      "3 To restrain him as much as might be , by her own manners , she was immediately preparing to speak with exquisite calmness and gravity of the weather and the night ; but scarcely had she begun , scarcely had they passed the sweep - gate and joined the other carriage , than she found her subject cut up  her hand seized  her attention demanded , and Mr . Elton actually making violent love to her : availing himself of the precious opportunity , declaring sentiments which must be already well known , hoping  fearing  adoring  ready to die if she refused him ; but flattering himself that his ardent attachment and unequalled love and unexampled passion could not fail of having some effect , and in short , very much resolved on being seriously accepted as soon as possible .\n",
      "4 Emma smiled and answered \" My visit was of use to the nervous part of her complaint , I hope ; but not even I can charm away a sore throat ; it is a most severe cold indeed .\n",
      "5 A very few minutes more , however , completed the present trial .\n",
      "6 \" I am delighted to hear you speak so stoutly on the subject ,\" replied Emma , smiling ; \" but you do not mean to deny that there was a time  and not very distant either  when you gave me reason to understand that you did care about him ?\"\n",
      "7 \" Very well ; and if he had intended to give her one , he would have told her so .\"\n",
      "8 Some laughed , and answered good - humouredly .\n",
      "9 \" There appeared such a perfectly good understanding among them all \" he began rather quickly , but checking himself , added , \" however , it is impossible for me to say on what terms they really were  how it might all be behind the scenes .\n"
     ]
    }
   ],
   "source": [
    "tweak_tf_idf(.5, 2, 22, 130) # baseline"
   ]
  },
  {
   "cell_type": "markdown",
   "metadata": {},
   "source": [
    "#### max_df_var = .01\n",
    ".# of features: 1832\n",
    "\n",
    "Tf_idf vector: {'comfortably': 0.6119145988111034, 'glad': 0.5378026859197831, 'settled': 0.5799386129404677}\n",
    "\n",
    "Percent variance captured by all components: 33.90695604924595\n",
    "\n",
    "* Component 0: \"Thank you\"\n",
    "* Component 1: \"papa\"\n",
    "* Component 2: Also \"papa\"\n",
    "* Component 3: \"surprized\" (yes, with a 'z')\n",
    "* Component 4: \"very glad\""
   ]
  },
  {
   "cell_type": "code",
   "execution_count": 62,
   "metadata": {
    "scrolled": true
   },
   "outputs": [
    {
     "name": "stdout",
     "output_type": "stream",
     "text": [
      "Number of features: 1832\n",
      "Original sentence: \" I am very glad , indeed , my dear , to hear she is to be so comfortably settled .\n",
      "Tf_idf vector: {'comfortably': 0.6119145988111034, 'glad': 0.5378026859197831, 'settled': 0.5799386129404677}\n",
      "Percent variance captured by all components: 33.90695604924595\n",
      "Component 0:\n",
      "\" Thank you .                                                                  0.995\n",
      "\" No , not now , I thank you .                                                 0.995\n",
      "\" Thank you .                                                                  0.995\n",
      "\" Thank you , dear Miss Woodhouse .                                            0.995\n",
      "\" No , I thank you .                                                           0.995\n",
      "\" I have not the least wish for it , I thank you .\"                            0.995\n",
      "\" Thank you .                                                                  0.995\n",
      "\" Thank you , thank you . This is just what I wanted to be assured of . Oh !   0.950\n",
      "\" Thank you , thank you , my own sweet little friend .                         0.926\n",
      "\" How d ' ye do ? how d ' ye do ? Very well , I thank you .                    0.903\n",
      "Name: 0, dtype: float64\n",
      "Component 1:\n",
      "\" There , papa ! Now you must be satisfied  Our own dear Mrs . Weston , who is carefulness itself .                                      0.501\n",
      "\" My dear papa , I sent the whole hind - quarter .                                                                                       0.448\n",
      "\" Yes , papa , it is written out in our second page .                                                                                    0.446\n",
      "\" They are to be put into Mr . Weston ' s stable , papa .                                                                                0.445\n",
      "\" My dear papa , he is three - and - twenty .                                                                                            0.445\n",
      "\" Oh yes , papa .                                                                                                                        0.445\n",
      "\" But , my dear papa , you are no friend to matrimony ; and therefore why should you be so anxious to pay your respects to a _bride_ ?   0.441\n",
      "\" But you would not wish me to come away before I am tired , papa ?\"                                                                     0.438\n",
      "\" It would be very hard upon Mr . Weston if she did not , papa . You quite forget poor Mr .                                              0.435\n",
      "\" That is the case with us all , papa .                                                                                                  0.433\n",
      "Name: 1, dtype: float64\n",
      "Component 2:\n",
      "\" Oh yes , papa .                                                                                                                        0.852\n",
      "\" They are to be put into Mr . Weston ' s stable , papa .                                                                                0.852\n",
      "\" My dear papa , he is three - and - twenty .                                                                                            0.852\n",
      "\" But you would not wish me to come away before I am tired , papa ?\"                                                                     0.841\n",
      "\" It would be very hard upon Mr . Weston if she did not , papa . You quite forget poor Mr .                                              0.809\n",
      "\" Yes , papa , it is written out in our second page .                                                                                    0.800\n",
      "\" My dear papa , I sent the whole hind - quarter .                                                                                       0.797\n",
      "\" That is the case with us all , papa .                                                                                                  0.777\n",
      "\" There , papa ! Now you must be satisfied  Our own dear Mrs . Weston , who is carefulness itself .                                      0.730\n",
      "\" But , my dear papa , you are no friend to matrimony ; and therefore why should you be so anxious to pay your respects to a _bride_ ?   0.671\n",
      "Name: 2, dtype: float64\n",
      "Component 3:\n",
      "Poor Mr . Woodhouse was silent from consternation ; but every body else had something to say ; every body was either surprized or not surprized , and had some question to ask , or some comfort to offer .   0.767\n",
      "Emma was most agreeably surprized . Mr .                                                                                                                                                                      0.687\n",
      "\" I am not at all surprized at you , Harriet .                                                                                                                                                                0.687\n",
      "Emma was a good deal surprized ; but begged her to speak .                                                                                                                                                    0.679\n",
      "\" I am not at all surprized that he should have fallen in love .\"                                                                                                                                             0.672\n",
      "\" Certainly ,\" replied he , surprized , \" I do not absolutely know it ; but it may be inferred .                                                                                                              0.658\n",
      "Some time afterwards it was , \" I think Mrs . Goddard would be very much surprized if she knew what had happened .                                                                                            0.613\n",
      "\" One can suppose nothing else ,\" added Mrs . Cole , \" and I was only surprized that there could ever have been a doubt .                                                                                     0.597\n",
      "Emma had not had time even to think of Mr . Elton , and she was so completely surprized that she could not avoid a little start , and a little blush , at the sound .                                         0.505\n",
      "In another moment a happier sight caught her ; Mr . Knightley leading Harriet to the set ! Never had she been more surprized , seldom more delighted , than at that instant .                                 0.450\n",
      "Name: 3, dtype: float64\n",
      "Component 4:\n",
      "\" I am glad I have done being in love with him .                                                                                         0.845\n",
      "\" I am very glad I did think of her .                                                                                                    0.845\n",
      "\" I shall be very glad to look it over ,\" said he ; \" but it seems long .                                                                0.845\n",
      "\" I am very glad you did , and that you communicated it to me .                                                                          0.843\n",
      "\" I am very glad , indeed , my dear , to hear she is to be so comfortably settled .                                                      0.834\n",
      "\" I am glad you approve of what I have done ,\" said he very comfortably .                                                                0.821\n",
      "Emma learned to be rather glad that there had been such a meeting .                                                                      0.776\n",
      "\" I am glad you think so ; and the good hands , I hope , may not be wanting .\"                                                           0.741\n",
      "\" Mrs . Gilbert does not mean to dance , but there is a young lady disengaged whom I should be very glad to see dancing  Miss Smith .\"   0.629\n",
      "\" This was settled last night , and Frank was off with the light this morning .                                                          0.243\n",
      "Name: 4, dtype: float64\n"
     ]
    },
    {
     "data": {
      "image/png": "[encoded data removed]",
      "text/plain": [
       "<Figure size 432x288 with 2 Axes>"
      ]
     },
     "metadata": {
      "needs_background": "light"
     },
     "output_type": "display_data"
    },
    {
     "name": "stdout",
     "output_type": "stream",
     "text": [
      "Key:\n",
      "0 That is _court_ .\n",
      "1 \" Yes , sir , I did indeed ; and I am very much obliged by your kind solicitude about me .\"\n",
      "2 \" How much his business engrosses him already is very plain from the circumstance of his forgetting to inquire for the book you recommended .\n",
      "3 To restrain him as much as might be , by her own manners , she was immediately preparing to speak with exquisite calmness and gravity of the weather and the night ; but scarcely had she begun , scarcely had they passed the sweep - gate and joined the other carriage , than she found her subject cut up  her hand seized  her attention demanded , and Mr . Elton actually making violent love to her : availing himself of the precious opportunity , declaring sentiments which must be already well known , hoping  fearing  adoring  ready to die if she refused him ; but flattering himself that his ardent attachment and unequalled love and unexampled passion could not fail of having some effect , and in short , very much resolved on being seriously accepted as soon as possible .\n",
      "4 Emma smiled and answered \" My visit was of use to the nervous part of her complaint , I hope ; but not even I can charm away a sore throat ; it is a most severe cold indeed .\n",
      "5 A very few minutes more , however , completed the present trial .\n",
      "6 \" I am delighted to hear you speak so stoutly on the subject ,\" replied Emma , smiling ; \" but you do not mean to deny that there was a time  and not very distant either  when you gave me reason to understand that you did care about him ?\"\n",
      "7 \" Very well ; and if he had intended to give her one , he would have told her so .\"\n",
      "8 Some laughed , and answered good - humouredly .\n",
      "9 \" There appeared such a perfectly good understanding among them all \" he began rather quickly , but checking himself , added , \" however , it is impossible for me to say on what terms they really were  how it might all be behind the scenes .\n"
     ]
    }
   ],
   "source": [
    "tweak_tf_idf(.01, 2, 22, 130)  # max_df_var = .01, min_df_var, example_sentence, svd_size"
   ]
  },
  {
   "cell_type": "markdown",
   "metadata": {},
   "source": [
    "#### min_df_var = 10\n",
    ".# of features: 382\n",
    "\n",
    "Tf_idf vector: {'hear': 0.5887977744267997, 'glad': 0.6617588687321275, 'dear': 0.4641038466597991}\n",
    "\n",
    "Percent variance captured by all components: 69.29036033348385\n",
    "\n",
    "* Component 0:  Oh!\n",
    "* Component 1: Emma\n",
    "* Component 2: CHAPTER #\n",
    "* Component 3: short sentences around \"Emma\"\n",
    "* Component 4: \"Mr.\" usually Mr. Knightley"
   ]
  },
  {
   "cell_type": "code",
   "execution_count": 63,
   "metadata": {
    "scrolled": true
   },
   "outputs": [
    {
     "name": "stdout",
     "output_type": "stream",
     "text": [
      "Number of features: 382\n",
      "Original sentence: \" I am very glad , indeed , my dear , to hear she is to be so comfortably settled .\n",
      "Tf_idf vector: {'hear': 0.5887977744267997, 'glad': 0.6617588687321275, 'dear': 0.4641038466597991}\n",
      "Percent variance captured by all components: 69.29036033348385\n",
      "Component 0:\n",
      "\" Oh !   0.998\n",
      "\" Oh !   0.998\n",
      "\" Oh !   0.998\n",
      "\" Oh !   0.998\n",
      "\" Oh !   0.998\n",
      "\" Oh !   0.998\n",
      "\" Oh !   0.998\n",
      "\" Oh !   0.998\n",
      "\" Oh !   0.998\n",
      "\" Oh !   0.998\n",
      "Name: 0, dtype: float64\n",
      "Component 1:\n",
      "\" You have made her too tall , Emma ,\" said Mr . Knightley .                                                                                                                                                                                                                                                                                                                                                                                                                                                                                                                                                                                                                                                                                                                                                                                                                                                                                    0.701\n",
      "\" You get upon delicate subjects , Emma ,\" said Mrs . Weston smiling ; \" remember that I am here . Mr .                                                                                                                                                                                                                                                                                                                                                                                                                                                                                                                                                                                                                                                                                                                                                                                                                                         0.671\n",
      "Emma found that it was not Mr . Weston ' s fault that the number of privy councillors was not yet larger .                                                                                                                                                                                                                                                                                                                                                                                                                                                                                                                                                                                                                                                                                                                                                                                                                                      0.636\n",
      "Mr . Knightley might quarrel with her , but Emma could not quarrel with herself .                                                                                                                                                                                                                                                                                                                                                                                                                                                                                                                                                                                                                                                                                                                                                                                                                                                               0.626\n",
      "\" Emma ,\" said Mr . Knightley presently , \" I have a piece of news for you .                                                                                                                                                                                                                                                                                                                                                                                                                                                                                                                                                                                                                                                                                                                                                                                                                                                                    0.596\n",
      "\" There were misunderstandings between them , Emma ; he said so expressly .                                                                                                                                                                                                                                                                                                                                                                                                                                                                                                                                                                                                                                                                                                                                                                                                                                                                     0.595\n",
      "\" It is not now worth a regret ,\" said Emma .                                                                                                                                                                                                                                                                                                                                                                                                                                                                                                                                                                                                                                                                                                                                                                                                                                                                                                   0.595\n",
      "\" Now ,\" said Emma , when they were fairly beyond the sweep gates , \" now Mr . Weston , do let me know what has happened .\"                                                                                                                                                                                                                                                                                                                                                                                                                                                                                                                                                                                                                                                                                                                                                                                                                     0.578\n",
      "Emma could not have desired a more spirited rejection of Mr . Martin ' s prose .                                                                                                                                                                                                                                                                                                                                                                                                                                                                                                                                                                                                                                                                                                                                                                                                                                                                0.574\n",
      "Mrs . Weston was acting no part , feigning no feelings in all that she said to him in favour of the event . She had been extremely surprized , never more so , than when Emma first opened the affair to her ; but she saw in it only increase of happiness to all , and had no scruple in urging him to the utmost . She had such a regard for Mr . Knightley , as to think he deserved even her dearest Emma ; and it was in every respect so proper , suitable , and unexceptionable a connexion , and in one respect , one point of the highest importance , so peculiarly eligible , so singularly fortunate , that now it seemed as if Emma could not safely have attached herself to any other creature , and that she had herself been the stupidest of beings in not having thought of it , and wished it long ago . How very few of those men in a rank of life to address Emma would have renounced their own home for Hartfield !   0.563\n",
      "Name: 1, dtype: float64\n",
      "Component 2:\n",
      "CHAPTER V      1.000\n",
      "CHAPTER XIII   1.000\n",
      "CHAPTER XVI    1.000\n",
      "CHAPTER II     1.000\n",
      "CHAPTER X      1.000\n",
      "CHAPTER II     1.000\n",
      "CHAPTER I      1.000\n",
      "CHAPTER I      1.000\n",
      "CHAPTER III    1.000\n",
      "CHAPTER V      1.000\n",
      "Name: 2, dtype: float64\n",
      "Component 3:\n",
      "Emma was silenced .                                                                                                       0.692\n",
      "Emma demurred .                                                                                                           0.692\n",
      "\" For shame , Emma !                                                                                                      0.692\n",
      "He stopped . Emma dared not attempt any immediate reply .                                                                 0.692\n",
      "\" Are you well , my Emma ?\"                                                                                               0.692\n",
      "This wretched note was the finale of Emma ' s breakfast .                                                                 0.692\n",
      "There was no bearing such an \" always ;\" and to break through her dreadful gratitude , Emma made the direct inquiry of    0.692\n",
      "Emma was most sincerely interested .                                                                                      0.692\n",
      "Emma could not resist .                                                                                                   0.692\n",
      "At first it was downright dulness to Emma .                                                                               0.692\n",
      "Name: 3, dtype: float64\n",
      "Component 4:\n",
      "\" Mr . Knightley was there too , was he ?\"                                                                                                              0.606\n",
      "Mr . Knightley grew angry .                                                                                                                             0.606\n",
      "\"` Mr .                                                                                                                                                 0.583\n",
      "\" Why will not you write one yourself for us , Mr .                                                                                                     0.583\n",
      "Mr . Knightley might quarrel with her , but Emma could not quarrel with herself .                                                                       0.571\n",
      "Mr . Knightley had done all in his power for Mr . Woodhouse ' s entertainment .                                                                         0.534\n",
      "Mr . Woodhouse at last was off ; but Mr . Knightley , instead of being immediately off likewise , sat down again , seemingly inclined for more chat .   0.504\n",
      "Mr . Knightley , however , shewed no triumphant happiness .                                                                                             0.496\n",
      "\" In one respect , perhaps , Mr . Elton ' s manners are superior to Mr . Knightley ' s or Mr . Weston ' s .                                             0.482\n",
      "While waiting for the carriage , she found Mr . Knightley by her side .                                                                                 0.466\n",
      "Name: 4, dtype: float64\n"
     ]
    },
    {
     "data": {
      "image/png": "[encoded data removed]",
      "text/plain": [
       "<Figure size 432x288 with 2 Axes>"
      ]
     },
     "metadata": {
      "needs_background": "light"
     },
     "output_type": "display_data"
    },
    {
     "name": "stdout",
     "output_type": "stream",
     "text": [
      "Key:\n",
      "0 That is _court_ .\n",
      "1 \" Yes , sir , I did indeed ; and I am very much obliged by your kind solicitude about me .\"\n",
      "2 \" How much his business engrosses him already is very plain from the circumstance of his forgetting to inquire for the book you recommended .\n",
      "3 To restrain him as much as might be , by her own manners , she was immediately preparing to speak with exquisite calmness and gravity of the weather and the night ; but scarcely had she begun , scarcely had they passed the sweep - gate and joined the other carriage , than she found her subject cut up  her hand seized  her attention demanded , and Mr . Elton actually making violent love to her : availing himself of the precious opportunity , declaring sentiments which must be already well known , hoping  fearing  adoring  ready to die if she refused him ; but flattering himself that his ardent attachment and unequalled love and unexampled passion could not fail of having some effect , and in short , very much resolved on being seriously accepted as soon as possible .\n",
      "4 Emma smiled and answered \" My visit was of use to the nervous part of her complaint , I hope ; but not even I can charm away a sore throat ; it is a most severe cold indeed .\n",
      "5 A very few minutes more , however , completed the present trial .\n",
      "6 \" I am delighted to hear you speak so stoutly on the subject ,\" replied Emma , smiling ; \" but you do not mean to deny that there was a time  and not very distant either  when you gave me reason to understand that you did care about him ?\"\n",
      "7 \" Very well ; and if he had intended to give her one , he would have told her so .\"\n",
      "8 Some laughed , and answered good - humouredly .\n",
      "9 \" There appeared such a perfectly good understanding among them all \" he began rather quickly , but checking himself , added , \" however , it is impossible for me to say on what terms they really were  how it might all be behind the scenes .\n"
     ]
    }
   ],
   "source": [
    "tweak_tf_idf(.5, 10, 22, 130)  # max_df_var, min_df_var = 10, example_sentence, svd_size"
   ]
  },
  {
   "cell_type": "markdown",
   "metadata": {},
   "source": [
    "#### svd_size = 50\n",
    ".# of features: 1948\n",
    "\n",
    "Tf_idf vector: {'comfortably': 0.5225597626893586, 'hear': 0.40863400822092244, 'glad': 0.4592700427052501, 'dear': 0.3220946534248823, 'settled': 0.4952530705124068}\n",
    "\n",
    "Percent variance captured by all components: 28.259627233623824\n",
    "\n",
    "* Component 0:  Oh!\n",
    "* Component 1: Emma, Mr. Knightly, and/or Mr./Mrs. Weston mentioned\n",
    "* Component 2: CHAPTER #\n",
    "* Component 3: Ah!\n",
    "* Component 4: short sentences around \"Emma\"\n",
    "\n"
   ]
  },
  {
   "cell_type": "code",
   "execution_count": 64,
   "metadata": {
    "scrolled": true
   },
   "outputs": [
    {
     "name": "stdout",
     "output_type": "stream",
     "text": [
      "Number of features: 1948\n",
      "Original sentence: \" I am very glad , indeed , my dear , to hear she is to be so comfortably settled .\n",
      "Tf_idf vector: {'comfortably': 0.5225597626893586, 'hear': 0.40863400822092244, 'glad': 0.4592700427052501, 'dear': 0.3220946534248823, 'settled': 0.4952530705124068}\n",
      "Percent variance captured by all components: 28.259627233623824\n",
      "Component 0:\n",
      "\" Oh !    0.999\n",
      "Oh !      0.999\n",
      "\" Oh !    0.999\n",
      "\" Oh !    0.999\n",
      "\" Oh !    0.999\n",
      "\" Oh !\"   0.999\n",
      "\" Oh !    0.999\n",
      "\" Oh !    0.999\n",
      "\" Oh !    0.999\n",
      "\" Oh !    0.999\n",
      "Name: 0, dtype: float64\n",
      "Component 1:\n",
      "\" You get upon delicate subjects , Emma ,\" said Mrs . Weston smiling ; \" remember that I am here . Mr .                                                                                                                                                                                                                                                                                                                                                                                                                                                                                                                                                                                                                                                                                                                                                                                                                                         0.691\n",
      "Mrs . Weston was acting no part , feigning no feelings in all that she said to him in favour of the event . She had been extremely surprized , never more so , than when Emma first opened the affair to her ; but she saw in it only increase of happiness to all , and had no scruple in urging him to the utmost . She had such a regard for Mr . Knightley , as to think he deserved even her dearest Emma ; and it was in every respect so proper , suitable , and unexceptionable a connexion , and in one respect , one point of the highest importance , so peculiarly eligible , so singularly fortunate , that now it seemed as if Emma could not safely have attached herself to any other creature , and that she had herself been the stupidest of beings in not having thought of it , and wished it long ago . How very few of those men in a rank of life to address Emma would have renounced their own home for Hartfield !   0.680\n",
      "\" You are right , Mrs . Weston ,\" said Mr . Knightley warmly , \" Miss Fairfax is as capable as any of us of forming a just opinion of Mrs . Elton .                                                                                                                                                                                                                                                                                                                                                                                                                                                                                                                                                                                                                                                                                                                                                                                             0.647\n",
      "\" You have made her too tall , Emma ,\" said Mr . Knightley .                                                                                                                                                                                                                                                                                                                                                                                                                                                                                                                                                                                                                                                                                                                                                                                                                                                                                    0.642\n",
      "\" I do not know what your opinion may be , Mrs . Weston ,\" said Mr . Knightley , \" of this great intimacy between Emma and Harriet Smith , but I think it a bad thing .\"                                                                                                                                                                                                                                                                                                                                                                                                                                                                                                                                                                                                                                                                                                                                                                        0.639\n",
      "\" Emma knows I never flatter her ,\" said Mr . Knightley , \" but I meant no reflection on any body .                                                                                                                                                                                                                                                                                                                                                                                                                                                                                                                                                                                                                                                                                                                                                                                                                                             0.631\n",
      "\" Emma ,\" said Mr . Knightley presently , \" I have a piece of news for you .                                                                                                                                                                                                                                                                                                                                                                                                                                                                                                                                                                                                                                                                                                                                                                                                                                                                    0.613\n",
      "Emma could not have desired a more spirited rejection of Mr . Martin ' s prose .                                                                                                                                                                                                                                                                                                                                                                                                                                                                                                                                                                                                                                                                                                                                                                                                                                                                0.605\n",
      "Mrs . Weston said no more ; and Emma could imagine with what surprize and mortification she must be returning to her seat .                                                                                                                                                                                                                                                                                                                                                                                                                                                                                                                                                                                                                                                                                                                                                                                                                     0.596\n",
      "The intermediate month was the one fixed on , as far as they dared , by Emma and Mr .                                                                                                                                                                                                                                                                                                                                                                                                                                                                                                                                                                                                                                                                                                                                                                                                                                                           0.595\n",
      "Name: 1, dtype: float64\n",
      "Component 2:\n",
      "CHAPTER V      1.000\n",
      "CHAPTER X      1.000\n",
      "CHAPTER V      1.000\n",
      "CHAPTER I      1.000\n",
      "CHAPTER V      1.000\n",
      "CHAPTER I      1.000\n",
      "CHAPTER X      1.000\n",
      "CHAPTER X      1.000\n",
      "CHAPTER I      1.000\n",
      "CHAPTER XIII   1.000\n",
      "Name: 2, dtype: float64\n",
      "Component 3:\n",
      "\" Ah !     0.993\n",
      "But ah !   0.993\n",
      "But ah !   0.993\n",
      "\" Ah !     0.993\n",
      "\" Ah !     0.993\n",
      "\" Ah !     0.993\n",
      "\" Ah !     0.993\n",
      "\" Ah !     0.993\n",
      "\" Ah !     0.993\n",
      "\" Ah !     0.993\n",
      "Name: 3, dtype: float64\n",
      "Component 4:\n",
      "\" My dearest Emma ,\" said he , \" for dearest you will always be , whatever the event of this hour ' s conversation , my dearest , most beloved Emma  tell me at once .   0.666\n",
      "\" There were misunderstandings between them , Emma ; he said so expressly .                                                                                              0.655\n",
      "\" It is not now worth a regret ,\" said Emma .                                                                                                                            0.644\n",
      "\" I am ready ,\" said Emma , \" whenever I am wanted .\"                                                                                                                    0.641\n",
      "\" It is not fair ,\" said Emma , in a whisper ; \" mine was a random guess .                                                                                               0.637\n",
      "\" Are you well , my Emma ?\"                                                                                                                                              0.604\n",
      "Emma demurred .                                                                                                                                                          0.604\n",
      "Emma could not resist .                                                                                                                                                  0.598\n",
      "\" I am very much obliged to you ,\" said Emma , laughing again .                                                                                                          0.597\n",
      "Emma was silenced .                                                                                                                                                      0.597\n",
      "Name: 4, dtype: float64\n"
     ]
    },
    {
     "data": {
      "image/png": "[encoded data removed]",
      "text/plain": [
       "<Figure size 432x288 with 2 Axes>"
      ]
     },
     "metadata": {
      "needs_background": "light"
     },
     "output_type": "display_data"
    },
    {
     "name": "stdout",
     "output_type": "stream",
     "text": [
      "Key:\n",
      "0 That is _court_ .\n",
      "1 \" Yes , sir , I did indeed ; and I am very much obliged by your kind solicitude about me .\"\n",
      "2 \" How much his business engrosses him already is very plain from the circumstance of his forgetting to inquire for the book you recommended .\n",
      "3 To restrain him as much as might be , by her own manners , she was immediately preparing to speak with exquisite calmness and gravity of the weather and the night ; but scarcely had she begun , scarcely had they passed the sweep - gate and joined the other carriage , than she found her subject cut up  her hand seized  her attention demanded , and Mr . Elton actually making violent love to her : availing himself of the precious opportunity , declaring sentiments which must be already well known , hoping  fearing  adoring  ready to die if she refused him ; but flattering himself that his ardent attachment and unequalled love and unexampled passion could not fail of having some effect , and in short , very much resolved on being seriously accepted as soon as possible .\n",
      "4 Emma smiled and answered \" My visit was of use to the nervous part of her complaint , I hope ; but not even I can charm away a sore throat ; it is a most severe cold indeed .\n",
      "5 A very few minutes more , however , completed the present trial .\n",
      "6 \" I am delighted to hear you speak so stoutly on the subject ,\" replied Emma , smiling ; \" but you do not mean to deny that there was a time  and not very distant either  when you gave me reason to understand that you did care about him ?\"\n",
      "7 \" Very well ; and if he had intended to give her one , he would have told her so .\"\n",
      "8 Some laughed , and answered good - humouredly .\n",
      "9 \" There appeared such a perfectly good understanding among them all \" he began rather quickly , but checking himself , added , \" however , it is impossible for me to say on what terms they really were  how it might all be behind the scenes .\n"
     ]
    }
   ],
   "source": [
    "tweak_tf_idf(.5, 2, 22, 50)  # max_df_var, min_df_var, example_sentence, svd_size = 50"
   ]
  },
  {
   "cell_type": "markdown",
   "metadata": {},
   "source": [
    "#### max_df_var = .9\n",
    ".# of features: 1948\n",
    "\n",
    "Tf_idf vector: {'comfortably': 0.5225597626893586, 'hear': 0.40863400822092244, 'glad': 0.4592700427052501, 'dear': 0.3220946534248823, 'settled': 0.4952530705124068}\n",
    "\n",
    "Percent variance captured by all components: 45.168317019372296\n",
    "\n",
    "* Component 0:  Oh!\n",
    "* Component 1: Emma, Mr. Knightly, and/or Mr./Mrs. Weston mentioned\n",
    "* Component 2: CHAPTER #\n",
    "* Component 3: Ah!\n",
    "* Component 4: short sentences around \"Emma\"\n",
    "\n",
    "## No significant change from baseline"
   ]
  },
  {
   "cell_type": "code",
   "execution_count": 65,
   "metadata": {},
   "outputs": [
    {
     "name": "stdout",
     "output_type": "stream",
     "text": [
      "Number of features: 1948\n",
      "Original sentence: \" I am very glad , indeed , my dear , to hear she is to be so comfortably settled .\n",
      "Tf_idf vector: {'comfortably': 0.5225597626893586, 'hear': 0.40863400822092244, 'glad': 0.4592700427052501, 'dear': 0.3220946534248823, 'settled': 0.4952530705124068}\n",
      "Percent variance captured by all components: 45.168317019372296\n",
      "Component 0:\n",
      "\" Oh !    0.999\n",
      "\" Oh !    0.999\n",
      "\" Oh !\"   0.999\n",
      "\" Oh !    0.999\n",
      "\" Oh !    0.999\n",
      "\" Oh !    0.999\n",
      "\" Oh !    0.999\n",
      "\" Oh !    0.999\n",
      "\" Oh !    0.999\n",
      "\" Oh !    0.999\n",
      "Name: 0, dtype: float64\n",
      "Component 1:\n",
      "\" You have made her too tall , Emma ,\" said Mr . Knightley .                                                                                                               0.634\n",
      "\" You get upon delicate subjects , Emma ,\" said Mrs . Weston smiling ; \" remember that I am here . Mr .                                                                    0.590\n",
      "\" I do not know what your opinion may be , Mrs . Weston ,\" said Mr . Knightley , \" of this great intimacy between Emma and Harriet Smith , but I think it a bad thing .\"   0.567\n",
      "\" You are right , Mrs . Weston ,\" said Mr . Knightley warmly , \" Miss Fairfax is as capable as any of us of forming a just opinion of Mrs . Elton .                        0.563\n",
      "\" There were misunderstandings between them , Emma ; he said so expressly .                                                                                                0.529\n",
      "Mr . Knightley might quarrel with her , but Emma could not quarrel with herself .                                                                                          0.525\n",
      "Emma found that it was not Mr . Weston ' s fault that the number of privy councillors was not yet larger .                                                                 0.511\n",
      "\" In one respect , perhaps , Mr . Elton ' s manners are superior to Mr . Knightley ' s or Mr . Weston ' s .                                                                0.509\n",
      "\" Now ,\" said Emma , when they were fairly beyond the sweep gates , \" now Mr . Weston , do let me know what has happened .\"                                                0.503\n",
      "\" I do not admire it ,\" said Mr . Knightley .                                                                                                                              0.499\n",
      "Name: 1, dtype: float64\n",
      "Component 2:\n",
      "CHAPTER V      0.998\n",
      "CHAPTER X      0.998\n",
      "CHAPTER I      0.998\n",
      "CHAPTER X      0.998\n",
      "CHAPTER I      0.998\n",
      "CHAPTER X      0.998\n",
      "CHAPTER I      0.998\n",
      "CHAPTER V      0.998\n",
      "CHAPTER V      0.998\n",
      "CHAPTER XVII   0.997\n",
      "Name: 2, dtype: float64\n",
      "Component 3:\n",
      "\" Ah !     0.993\n",
      "\" Ah !     0.993\n",
      "\" Ah !     0.993\n",
      "But ah !   0.993\n",
      "\" Ah !     0.993\n",
      "\" Ah !     0.993\n",
      "\" Ah !     0.993\n",
      "\" Ah !     0.993\n",
      "\" Ah !\"    0.993\n",
      "\" Ah !     0.993\n",
      "Name: 3, dtype: float64\n",
      "Component 4:\n",
      "\" There were misunderstandings between them , Emma ; he said so expressly .   0.651\n",
      "Emma demurred .                                                               0.599\n",
      "\" Are you well , my Emma ?\"                                                   0.599\n",
      "Emma was silenced .                                                           0.587\n",
      "At first it was downright dulness to Emma .                                   0.586\n",
      "\" Emma , my dear Emma \"                                                       0.577\n",
      "Emma could not resist .                                                       0.569\n",
      "\" It is not now worth a regret ,\" said Emma .                                 0.568\n",
      "\" For shame , Emma !                                                          0.548\n",
      "\" No great variety of faces for you ,\" said Emma .                            0.492\n",
      "Name: 4, dtype: float64\n"
     ]
    },
    {
     "data": {
      "image/png": "[encoded data removed]",
      "text/plain": [
       "<Figure size 432x288 with 2 Axes>"
      ]
     },
     "metadata": {
      "needs_background": "light"
     },
     "output_type": "display_data"
    },
    {
     "name": "stdout",
     "output_type": "stream",
     "text": [
      "Key:\n",
      "0 That is _court_ .\n",
      "1 \" Yes , sir , I did indeed ; and I am very much obliged by your kind solicitude about me .\"\n",
      "2 \" How much his business engrosses him already is very plain from the circumstance of his forgetting to inquire for the book you recommended .\n",
      "3 To restrain him as much as might be , by her own manners , she was immediately preparing to speak with exquisite calmness and gravity of the weather and the night ; but scarcely had she begun , scarcely had they passed the sweep - gate and joined the other carriage , than she found her subject cut up  her hand seized  her attention demanded , and Mr . Elton actually making violent love to her : availing himself of the precious opportunity , declaring sentiments which must be already well known , hoping  fearing  adoring  ready to die if she refused him ; but flattering himself that his ardent attachment and unequalled love and unexampled passion could not fail of having some effect , and in short , very much resolved on being seriously accepted as soon as possible .\n",
      "4 Emma smiled and answered \" My visit was of use to the nervous part of her complaint , I hope ; but not even I can charm away a sore throat ; it is a most severe cold indeed .\n",
      "5 A very few minutes more , however , completed the present trial .\n",
      "6 \" I am delighted to hear you speak so stoutly on the subject ,\" replied Emma , smiling ; \" but you do not mean to deny that there was a time  and not very distant either  when you gave me reason to understand that you did care about him ?\"\n",
      "7 \" Very well ; and if he had intended to give her one , he would have told her so .\"\n",
      "8 Some laughed , and answered good - humouredly .\n",
      "9 \" There appeared such a perfectly good understanding among them all \" he began rather quickly , but checking himself , added , \" however , it is impossible for me to say on what terms they really were  how it might all be behind the scenes .\n"
     ]
    }
   ],
   "source": [
    "tweak_tf_idf(.9, 2, 22, 130)  # max_df_var = .9, min_df_var, example_sentence, svd_size"
   ]
  },
  {
   "cell_type": "markdown",
   "metadata": {},
   "source": [
    "#### max_df_var = .1, min_df_var = 7\n",
    ".# of features: 557\n",
    "\n",
    "Tf_idf vector: {'hear': 0.47927836469608187, 'glad': 0.5386683207792828, 'dear': 0.3777781478416969, 'settled': 0.5808720688209875}\n",
    "\n",
    "Percent variance captured by all components: 60.37312969776578\n",
    "\n",
    "* Component 0:  Oh!\n",
    "* Component 1: CHAPTER #\n",
    "* Component 2: Mrs. Elton and/or Mrs. Weston\n",
    "* Component 3: Harriet\n",
    "* Component 4: \"Miss\", as in \"Miss Fairfax\""
   ]
  },
  {
   "cell_type": "code",
   "execution_count": 70,
   "metadata": {},
   "outputs": [
    {
     "name": "stdout",
     "output_type": "stream",
     "text": [
      "Number of features: 557\n",
      "Original sentence: \" I am very glad , indeed , my dear , to hear she is to be so comfortably settled .\n",
      "Tf_idf vector: {'hear': 0.47927836469608187, 'glad': 0.5386683207792828, 'dear': 0.3777781478416969, 'settled': 0.5808720688209875}\n",
      "Percent variance captured by all components: 60.37312969776578\n",
      "Component 0:\n",
      "\" Oh !    0.999\n",
      "\" Oh !    0.999\n",
      "\" Oh !\"   0.999\n",
      "\" Oh !    0.999\n",
      "\" Oh !    0.999\n",
      "\" Oh !    0.999\n",
      "\" Oh !    0.999\n",
      "\" Oh !    0.999\n",
      "\" Oh !    0.999\n",
      "\" Oh !    0.999\n",
      "Name: 0, dtype: float64\n",
      "Component 1:\n",
      "CHAPTER VII    1.000\n",
      "CHAPTER IV     1.000\n",
      "CHAPTER XIV    1.000\n",
      "CHAPTER III    1.000\n",
      "CHAPTER XVII   1.000\n",
      "CHAPTER V      1.000\n",
      "CHAPTER XVI    1.000\n",
      "CHAPTER X      1.000\n",
      "CHAPTER VII    1.000\n",
      "CHAPTER X      1.000\n",
      "Name: 1, dtype: float64\n",
      "Component 2:\n",
      "\" You are right , Mrs . Weston ,\" said Mr . Knightley warmly , \" Miss Fairfax is as capable as any of us of forming a just opinion of Mrs . Elton .                                                             0.643\n",
      "Miss Bates and Miss Fairfax , escorted by the two gentlemen , walked into the room ; and Mrs . Elton seemed to think it as much her duty as Mrs . Weston ' s to receive them .                                  0.642\n",
      "Mrs . Elton turned to Mrs . Weston .                                                                                                                                                                            0.631\n",
      "\" Such attentions as Mrs . Elton ' s , I should have imagined , would rather disgust than gratify Miss Fairfax .                                                                                                0.584\n",
      "Mrs . Bates and Mrs . Elton were together .                                                                                                                                                                     0.583\n",
      "\" I suspect they do not satisfy Mrs . Weston .                                                                                                                                                                  0.569\n",
      "\" So do I ,\" said Mrs . Weston gently , \" very much .\"                                                                                                                                                          0.569\n",
      "Mrs . Weston was disappointed .                                                                                                                                                                                 0.565\n",
      "Such a conclusion could not pass unanswered by Mrs . Weston .                                                                                                                                                   0.550\n",
      "\" She had engaged to go as governess to Mrs . Smallridge ' s children  a dear friend of Mrs . Elton ' s  a neighbour of Maple Grove ; and , by the bye , I wonder how Mrs . Elton bears the disappointment ?\"   0.542\n",
      "Name: 2, dtype: float64\n",
      "Component 3:\n",
      "The confession completely renewed her first shame  and the sight of Harriet ' s tears made her think that she should never be in charity with herself again .   0.606\n",
      "\" Don ' t class us together , Harriet .                                                                                                                         0.604\n",
      "\" Indeed , Harriet , it would have been a severe pang to lose you ; but it must have been .                                                                     0.604\n",
      "\" Harriet !\"                                                                                                                                                    0.604\n",
      "\" Harriet !\"                                                                                                                                                    0.604\n",
      "\" Not Harriet ' s equal !\"                                                                                                                                      0.587\n",
      "Her first attempts at usefulness were in an endeavour to find out who were the parents , but Harriet could not tell .                                           0.553\n",
      "How Harriet could ever have had the presumption to raise her thoughts to Mr .                                                                                   0.525\n",
      "\" These are the sights , Harriet , to do one good .                                                                                                             0.522\n",
      "\" And I am changed also ; for I am now very willing to grant you all Harriet ' s good qualities .                                                               0.522\n",
      "Name: 3, dtype: float64\n",
      "Component 4:\n",
      "\" Dear Miss Woodhouse !\"                                                                                                                                                                                                                                                    0.673\n",
      "Emma had not to listen to such paradings again  to any so exclusively addressed to herself  so disgustingly decorated with a \" dear Miss Woodhouse .\"                                                                                                                       0.661\n",
      "To Miss                                                                                                                                                                                                                                                                     0.590\n",
      "\" But Miss Bates and Miss Fairfax !\"                                                                                                                                                                                                                                        0.569\n",
      "\" You and Miss Smith , and Miss Fairfax , will be three , and the two Miss Coxes five ,\" had been repeated many times over .                                                                                                                                                0.561\n",
      "\" Thank you , dear Miss Woodhouse .                                                                                                                                                                                                                                         0.555\n",
      "\" What can it be , Miss Woodhouse ? what can it be ?                                                                                                                                                                                                                        0.550\n",
      "He got as near as he could to thanking her for Miss Taylor ' s merits , without seeming quite to forget that in the common course of things it was to be rather supposed that Miss Taylor had formed Miss Woodhouse ' s character , than Miss Woodhouse Miss Taylor ' s .   0.520\n",
      "\" Come Miss Woodhouse , Miss Otway , Miss Fairfax , what are you all doing ? Come Emma , set your companions the example .                                                                                                                                                  0.502\n",
      "\" A new neighbour for us all , Miss Woodhouse !\"                                                                                                                                                                                                                            0.492\n",
      "Name: 4, dtype: float64\n"
     ]
    },
    {
     "data": {
      "image/png": "[encoded data removed]",
      "text/plain": [
       "<Figure size 432x288 with 2 Axes>"
      ]
     },
     "metadata": {
      "needs_background": "light"
     },
     "output_type": "display_data"
    },
    {
     "name": "stdout",
     "output_type": "stream",
     "text": [
      "Key:\n",
      "0 That is _court_ .\n",
      "1 \" Yes , sir , I did indeed ; and I am very much obliged by your kind solicitude about me .\"\n",
      "2 \" How much his business engrosses him already is very plain from the circumstance of his forgetting to inquire for the book you recommended .\n",
      "3 To restrain him as much as might be , by her own manners , she was immediately preparing to speak with exquisite calmness and gravity of the weather and the night ; but scarcely had she begun , scarcely had they passed the sweep - gate and joined the other carriage , than she found her subject cut up  her hand seized  her attention demanded , and Mr . Elton actually making violent love to her : availing himself of the precious opportunity , declaring sentiments which must be already well known , hoping  fearing  adoring  ready to die if she refused him ; but flattering himself that his ardent attachment and unequalled love and unexampled passion could not fail of having some effect , and in short , very much resolved on being seriously accepted as soon as possible .\n",
      "4 Emma smiled and answered \" My visit was of use to the nervous part of her complaint , I hope ; but not even I can charm away a sore throat ; it is a most severe cold indeed .\n",
      "5 A very few minutes more , however , completed the present trial .\n",
      "6 \" I am delighted to hear you speak so stoutly on the subject ,\" replied Emma , smiling ; \" but you do not mean to deny that there was a time  and not very distant either  when you gave me reason to understand that you did care about him ?\"\n",
      "7 \" Very well ; and if he had intended to give her one , he would have told her so .\"\n",
      "8 Some laughed , and answered good - humouredly .\n",
      "9 \" There appeared such a perfectly good understanding among them all \" he began rather quickly , but checking himself , added , \" however , it is impossible for me to say on what terms they really were  how it might all be behind the scenes .\n"
     ]
    }
   ],
   "source": [
    "tweak_tf_idf(.1, 7, 22, 130)  # max_df_var = .1, min_df_var = 7, example_sentence, svd_size"
   ]
  },
  {
   "cell_type": "markdown",
   "metadata": {},
   "source": [
    "#### max_df_var = .1, min_df_var = 7, svd_size = 65\n",
    "Number of features: 557\n",
    "\n",
    "Tf_idf vector: {'hear': 0.47927836469608187, 'glad': 0.5386683207792828, 'dear': 0.3777781478416969, 'settled': 0.5808720688209875}\n",
    "\n",
    "Percent variance captured by all components: 42.756715588777375\n",
    "\n",
    "* Component 0:  Oh!\n",
    "* Component 1: CHAPTER #\n",
    "* Component 2: Mrs. Elton and/or Mrs. Weston\n",
    "* Component 3: Harriet\n",
    "* Component 4: \"Miss\", as in \"Miss Fairfax\""
   ]
  },
  {
   "cell_type": "code",
   "execution_count": 77,
   "metadata": {},
   "outputs": [
    {
     "name": "stdout",
     "output_type": "stream",
     "text": [
      "Number of features: 557\n",
      "Original sentence: \" I am very glad , indeed , my dear , to hear she is to be so comfortably settled .\n",
      "Tf_idf vector: {'hear': 0.47927836469608187, 'glad': 0.5386683207792828, 'dear': 0.3777781478416969, 'settled': 0.5808720688209875}\n",
      "Percent variance captured by all components: 42.756715588777375\n",
      "Component 0:\n",
      "\" Oh !    0.999\n",
      "\" Oh !    0.999\n",
      "\" Oh !\"   0.999\n",
      "\" Oh !    0.999\n",
      "\" Oh !    0.999\n",
      "\" Oh !    0.999\n",
      "\" Oh !    0.999\n",
      "\" Oh !    0.999\n",
      "\" Oh !    0.999\n",
      "\" Oh !\"   0.999\n",
      "Name: 0, dtype: float64\n",
      "Component 1:\n",
      "CHAPTER XI     1.000\n",
      "CHAPTER V      1.000\n",
      "CHAPTER II     1.000\n",
      "CHAPTER XVII   1.000\n",
      "CHAPTER IX     1.000\n",
      "CHAPTER XIII   1.000\n",
      "CHAPTER I      1.000\n",
      "CHAPTER VI     1.000\n",
      "CHAPTER X      1.000\n",
      "CHAPTER IX     1.000\n",
      "Name: 1, dtype: float64\n",
      "Component 2:\n",
      "\" You are right , Mrs . Weston ,\" said Mr . Knightley warmly , \" Miss Fairfax is as capable as any of us of forming a just opinion of Mrs . Elton .                                                                                                                                                                                                                                                                     0.691\n",
      "Miss Bates and Miss Fairfax , escorted by the two gentlemen , walked into the room ; and Mrs . Elton seemed to think it as much her duty as Mrs . Weston ' s to receive them .                                                                                                                                                                                                                                          0.669\n",
      "Upon her speaking her wonder aloud on that part of the subject , before the few who knew her opinion of Mrs . Elton , Mrs . Weston ventured this apology for Jane .                                                                                                                                                                                                                                                     0.652\n",
      "Mrs . Elton turned to Mrs . Weston .                                                                                                                                                                                                                                                                                                                                                                                    0.650\n",
      "\" Such attentions as Mrs . Elton ' s , I should have imagined , would rather disgust than gratify Miss Fairfax .                                                                                                                                                                                                                                                                                                        0.614\n",
      "Mr . Weston had accompanied her to Mrs . Bates ' s , and gone through his share of this essential attention most handsomely ; but she having then induced Miss Fairfax to join her in an airing , was now returned with much more to say , and much more to say with satisfaction , than a quarter of an hour spent in Mrs . Bates ' s parlour , with all the encumbrance of awkward feelings , could have afforded .   0.601\n",
      "Mrs . Bates and Mrs . Elton were together .                                                                                                                                                                                                                                                                                                                                                                             0.597\n",
      "This was so very well understood between them , that Emma could not but feel some surprise , and a little displeasure , on hearing from Mr . Weston that he had been proposing to Mrs . Elton , as her brother and sister had failed her , that the two parties should unite , and go together ; and that as Mrs . Elton had very readily acceded to it , so it was to be , if she had no objection .                   0.595\n",
      "\" Another thing must be taken into consideration too  Mrs . Elton does not talk _to_ Miss Fairfax as she speaks _of_ her .                                                                                                                                                                                                                                                                                              0.594\n",
      "He could say no more ; and with the hope of Hartfield to reward him , returned with Mrs . Weston to Mrs . Bates ' s door .                                                                                                                                                                                                                                                                                              0.588\n",
      "Name: 2, dtype: float64\n",
      "Component 3:\n",
      "The confession completely renewed her first shame  and the sight of Harriet ' s tears made her think that she should never be in charity with herself again .   0.642\n",
      "\" Not Harriet ' s equal !\"                                                                                                                                      0.610\n",
      "\" Harriet !\"                                                                                                                                                    0.607\n",
      "\" Don ' t class us together , Harriet .                                                                                                                         0.607\n",
      "\" Indeed , Harriet , it would have been a severe pang to lose you ; but it must have been .                                                                     0.607\n",
      "\" Harriet !\"                                                                                                                                                    0.607\n",
      "\" You think I ought to refuse him then ,\" said Harriet , looking down .                                                                                         0.601\n",
      "Her first attempts at usefulness were in an endeavour to find out who were the parents , but Harriet could not tell .                                           0.600\n",
      "\" They told me something ,\" said Harriet rather hesitatingly ;\" but it is nothing of any consequence .\"                                                         0.595\n",
      "How Harriet could ever have had the presumption to raise her thoughts to Mr .                                                                                   0.590\n",
      "Name: 3, dtype: float64\n",
      "Component 4:\n",
      "\" Dear Miss Woodhouse !\"                                                                                                                                                                                                                                                    0.679\n",
      "Emma had not to listen to such paradings again  to any so exclusively addressed to herself  so disgustingly decorated with a \" dear Miss Woodhouse .\"                                                                                                                       0.671\n",
      "\" My dear , you said that Miss Campbell would not allow him to be plain , and that you yourself \"                                                                                                                                                                           0.609\n",
      "To Miss                                                                                                                                                                                                                                                                     0.603\n",
      "\" You and Miss Smith , and Miss Fairfax , will be three , and the two Miss Coxes five ,\" had been repeated many times over .                                                                                                                                                0.587\n",
      "\" But Miss Bates and Miss Fairfax !\"                                                                                                                                                                                                                                        0.584\n",
      "He got as near as he could to thanking her for Miss Taylor ' s merits , without seeming quite to forget that in the common course of things it was to be rather supposed that Miss Taylor had formed Miss Woodhouse ' s character , than Miss Woodhouse Miss Taylor ' s .   0.571\n",
      "\" Thank you , dear Miss Woodhouse .                                                                                                                                                                                                                                         0.557\n",
      "\" What can it be , Miss Woodhouse ? what can it be ?                                                                                                                                                                                                                        0.556\n",
      "\" My dear Miss Woodhouse ,\" said the latter , \" I am just run across to entreat the favour of you to come and sit down with us a little while , and give us your opinion of our new instrument ; you and Miss Smith .                                                       0.548\n",
      "Name: 4, dtype: float64\n"
     ]
    },
    {
     "data": {
      "image/png": "[encoded data removed]",
      "text/plain": [
       "<Figure size 432x288 with 2 Axes>"
      ]
     },
     "metadata": {
      "needs_background": "light"
     },
     "output_type": "display_data"
    },
    {
     "name": "stdout",
     "output_type": "stream",
     "text": [
      "Key:\n",
      "0 That is _court_ .\n",
      "1 \" Yes , sir , I did indeed ; and I am very much obliged by your kind solicitude about me .\"\n",
      "2 \" How much his business engrosses him already is very plain from the circumstance of his forgetting to inquire for the book you recommended .\n",
      "3 To restrain him as much as might be , by her own manners , she was immediately preparing to speak with exquisite calmness and gravity of the weather and the night ; but scarcely had she begun , scarcely had they passed the sweep - gate and joined the other carriage , than she found her subject cut up  her hand seized  her attention demanded , and Mr . Elton actually making violent love to her : availing himself of the precious opportunity , declaring sentiments which must be already well known , hoping  fearing  adoring  ready to die if she refused him ; but flattering himself that his ardent attachment and unequalled love and unexampled passion could not fail of having some effect , and in short , very much resolved on being seriously accepted as soon as possible .\n",
      "4 Emma smiled and answered \" My visit was of use to the nervous part of her complaint , I hope ; but not even I can charm away a sore throat ; it is a most severe cold indeed .\n",
      "5 A very few minutes more , however , completed the present trial .\n",
      "6 \" I am delighted to hear you speak so stoutly on the subject ,\" replied Emma , smiling ; \" but you do not mean to deny that there was a time  and not very distant either  when you gave me reason to understand that you did care about him ?\"\n",
      "7 \" Very well ; and if he had intended to give her one , he would have told her so .\"\n",
      "8 Some laughed , and answered good - humouredly .\n",
      "9 \" There appeared such a perfectly good understanding among them all \" he began rather quickly , but checking himself , added , \" however , it is impossible for me to say on what terms they really were  how it might all be behind the scenes .\n"
     ]
    }
   ],
   "source": [
    "tweak_tf_idf(.1, 7, 22, 65)  # max_df_var = .1, min_df_var = 7, example_sentence, svd_size = 65"
   ]
  },
  {
   "cell_type": "markdown",
   "metadata": {},
   "source": [
    "#### max_df_var = .1, min_df_var = 7, example_sentence, svd_size = 195\n",
    "Number of features: 557\n",
    "\n",
    "Tf_idf vector: {'hear': 0.47927836469608187, 'glad': 0.5386683207792828, 'dear': 0.3777781478416969, 'settled': 0.5808720688209875}\n",
    "\n",
    "Percent variance captured by all components: 73.0682506621529\n",
    "\n",
    "* Component 0:  Oh!\n",
    "* Component 1: CHAPTER #\n",
    "* Component 2: Mrs. Elton and/or Mrs. Weston\n",
    "* Component 3: Harriet\n",
    "* Component 4: \"Miss\", as in \"Miss Fairfax\""
   ]
  },
  {
   "cell_type": "code",
   "execution_count": 72,
   "metadata": {},
   "outputs": [
    {
     "name": "stdout",
     "output_type": "stream",
     "text": [
      "Number of features: 557\n",
      "Original sentence: \" I am very glad , indeed , my dear , to hear she is to be so comfortably settled .\n",
      "Tf_idf vector: {'hear': 0.47927836469608187, 'glad': 0.5386683207792828, 'dear': 0.3777781478416969, 'settled': 0.5808720688209875}\n",
      "Percent variance captured by all components: 73.0682506621529\n",
      "Component 0:\n",
      "\" Oh !    0.999\n",
      "\" Oh !    0.999\n",
      "\" Oh !    0.999\n",
      "\" Oh !    0.999\n",
      "\" Oh !\"   0.999\n",
      "\" Oh !    0.999\n",
      "\" Oh !    0.999\n",
      "\" Oh !    0.999\n",
      "\" Oh !    0.999\n",
      "\" Oh !    0.999\n",
      "Name: 0, dtype: float64\n",
      "Component 1:\n",
      "CHAPTER VII    1.000\n",
      "CHAPTER II     1.000\n",
      "CHAPTER X      1.000\n",
      "CHAPTER VIII   1.000\n",
      "CHAPTER XIV    1.000\n",
      "CHAPTER X      1.000\n",
      "CHAPTER IV     1.000\n",
      "CHAPTER III    1.000\n",
      "CHAPTER X      1.000\n",
      "CHAPTER XI     1.000\n",
      "Name: 1, dtype: float64\n",
      "Component 2:\n",
      "Miss Bates and Miss Fairfax , escorted by the two gentlemen , walked into the room ; and Mrs . Elton seemed to think it as much her duty as Mrs . Weston ' s to receive them .                                  0.631\n",
      "Mrs . Elton turned to Mrs . Weston .                                                                                                                                                                            0.613\n",
      "\" You are right , Mrs . Weston ,\" said Mr . Knightley warmly , \" Miss Fairfax is as capable as any of us of forming a just opinion of Mrs . Elton .                                                             0.613\n",
      "Mrs . Bates and Mrs . Elton were together .                                                                                                                                                                     0.574\n",
      "\" I suspect they do not satisfy Mrs . Weston .                                                                                                                                                                  0.566\n",
      "\" So do I ,\" said Mrs . Weston gently , \" very much .\"                                                                                                                                                          0.566\n",
      "Mrs . Weston was disappointed .                                                                                                                                                                                 0.555\n",
      "\" She had engaged to go as governess to Mrs . Smallridge ' s children  a dear friend of Mrs . Elton ' s  a neighbour of Maple Grove ; and , by the bye , I wonder how Mrs . Elton bears the disappointment ?\"   0.531\n",
      "\" Such attentions as Mrs . Elton ' s , I should have imagined , would rather disgust than gratify Miss Fairfax .                                                                                                0.527\n",
      "Mrs . Elton was very much disappointed .                                                                                                                                                                        0.527\n",
      "Name: 2, dtype: float64\n",
      "Component 3:\n",
      "\" Harriet !\"                                                                                                                                                    0.601\n",
      "\" Harriet !\"                                                                                                                                                    0.601\n",
      "\" Don ' t class us together , Harriet .                                                                                                                         0.601\n",
      "\" Indeed , Harriet , it would have been a severe pang to lose you ; but it must have been .                                                                     0.601\n",
      "The confession completely renewed her first shame  and the sight of Harriet ' s tears made her think that she should never be in charity with herself again .   0.554\n",
      "\" Not Harriet ' s equal !\"                                                                                                                                      0.534\n",
      "\" And I am changed also ; for I am now very willing to grant you all Harriet ' s good qualities .                                                               0.518\n",
      "\" These are the sights , Harriet , to do one good .                                                                                                             0.518\n",
      "Her first attempts at usefulness were in an endeavour to find out who were the parents , but Harriet could not tell .                                           0.492\n",
      "How Harriet could ever have had the presumption to raise her thoughts to Mr .                                                                                   0.440\n",
      "Name: 3, dtype: float64\n",
      "Component 4:\n",
      "\" Dear Miss Woodhouse !\"                                                                                                                                                                                                                                                    0.671\n",
      "Emma had not to listen to such paradings again  to any so exclusively addressed to herself  so disgustingly decorated with a \" dear Miss Woodhouse .\"                                                                                                                       0.645\n",
      "To Miss                                                                                                                                                                                                                                                                     0.579\n",
      "\" But Miss Bates and Miss Fairfax !\"                                                                                                                                                                                                                                        0.563\n",
      "\" Thank you , dear Miss Woodhouse .                                                                                                                                                                                                                                         0.553\n",
      "\" You and Miss Smith , and Miss Fairfax , will be three , and the two Miss Coxes five ,\" had been repeated many times over .                                                                                                                                                0.551\n",
      "\" What can it be , Miss Woodhouse ? what can it be ?                                                                                                                                                                                                                        0.546\n",
      "\" Come Miss Woodhouse , Miss Otway , Miss Fairfax , what are you all doing ? Come Emma , set your companions the example .                                                                                                                                                  0.484\n",
      "He got as near as he could to thanking her for Miss Taylor ' s merits , without seeming quite to forget that in the common course of things it was to be rather supposed that Miss Taylor had formed Miss Woodhouse ' s character , than Miss Woodhouse Miss Taylor ' s .   0.464\n",
      "\" A new neighbour for us all , Miss Woodhouse !\"                                                                                                                                                                                                                            0.446\n",
      "Name: 4, dtype: float64\n"
     ]
    },
    {
     "data": {
      "image/png": "[encoded data removed]",
      "text/plain": [
       "<Figure size 432x288 with 2 Axes>"
      ]
     },
     "metadata": {
      "needs_background": "light"
     },
     "output_type": "display_data"
    },
    {
     "name": "stdout",
     "output_type": "stream",
     "text": [
      "Key:\n",
      "0 That is _court_ .\n",
      "1 \" Yes , sir , I did indeed ; and I am very much obliged by your kind solicitude about me .\"\n",
      "2 \" How much his business engrosses him already is very plain from the circumstance of his forgetting to inquire for the book you recommended .\n",
      "3 To restrain him as much as might be , by her own manners , she was immediately preparing to speak with exquisite calmness and gravity of the weather and the night ; but scarcely had she begun , scarcely had they passed the sweep - gate and joined the other carriage , than she found her subject cut up  her hand seized  her attention demanded , and Mr . Elton actually making violent love to her : availing himself of the precious opportunity , declaring sentiments which must be already well known , hoping  fearing  adoring  ready to die if she refused him ; but flattering himself that his ardent attachment and unequalled love and unexampled passion could not fail of having some effect , and in short , very much resolved on being seriously accepted as soon as possible .\n",
      "4 Emma smiled and answered \" My visit was of use to the nervous part of her complaint , I hope ; but not even I can charm away a sore throat ; it is a most severe cold indeed .\n",
      "5 A very few minutes more , however , completed the present trial .\n",
      "6 \" I am delighted to hear you speak so stoutly on the subject ,\" replied Emma , smiling ; \" but you do not mean to deny that there was a time  and not very distant either  when you gave me reason to understand that you did care about him ?\"\n",
      "7 \" Very well ; and if he had intended to give her one , he would have told her so .\"\n",
      "8 Some laughed , and answered good - humouredly .\n",
      "9 \" There appeared such a perfectly good understanding among them all \" he began rather quickly , but checking himself , added , \" however , it is impossible for me to say on what terms they really were  how it might all be behind the scenes .\n"
     ]
    }
   ],
   "source": [
    "tweak_tf_idf(.1, 7, 22, 195)  # max_df_var = .1, min_df_var = 7, example_sentence, svd_size = 195"
   ]
  },
  {
   "cell_type": "markdown",
   "metadata": {},
   "source": [
    "#### max_df_var = .5, min_df_var = 7, example_sentence, svd_size = 195\n",
    "Number of features: 560\n",
    "\n",
    "Tf_idf vector: {'hear': 0.47927836469608187, 'glad': 0.5386683207792828, 'dear': 0.3777781478416969, 'settled': 0.5808720688209875}\n",
    "\n",
    "Percent variance captured by all components: 73.69549646305458\n",
    "\n",
    "* Component 0:  Oh!\n",
    "* Component 1: Emma\n",
    "* Component 2: Chapter #\n",
    "* Component 3: Short sentences related to Emma\n",
    "* Component 4: \"Mr.\" often \"Mr. Knightly\""
   ]
  },
  {
   "cell_type": "code",
   "execution_count": 78,
   "metadata": {},
   "outputs": [
    {
     "name": "stdout",
     "output_type": "stream",
     "text": [
      "Number of features: 560\n",
      "Original sentence: \" I am very glad , indeed , my dear , to hear she is to be so comfortably settled .\n",
      "Tf_idf vector: {'hear': 0.47927836469608187, 'glad': 0.5386683207792828, 'dear': 0.3777781478416969, 'settled': 0.5808720688209875}\n",
      "Percent variance captured by all components: 73.69549646305458\n",
      "Component 0:\n",
      "\" Oh !   0.999\n",
      "\" Oh !   0.999\n",
      "\" Oh !   0.999\n",
      "\" Oh !   0.999\n",
      "\" Oh !   0.999\n",
      "\" Oh !   0.999\n",
      "\" Oh !   0.999\n",
      "\" Oh !   0.999\n",
      "\" Oh !   0.999\n",
      "\" Oh !   0.999\n",
      "Name: 0, dtype: float64\n",
      "Component 1:\n",
      "\" You have made her too tall , Emma ,\" said Mr . Knightley .                                                                                                               0.700\n",
      "Mr . Knightley might quarrel with her , but Emma could not quarrel with herself .                                                                                          0.611\n",
      "Emma found that it was not Mr . Weston ' s fault that the number of privy councillors was not yet larger .                                                                 0.610\n",
      "\" There were misunderstandings between them , Emma ; he said so expressly .                                                                                                0.593\n",
      "\" You get upon delicate subjects , Emma ,\" said Mrs . Weston smiling ; \" remember that I am here . Mr .                                                                    0.585\n",
      "\" I do not know what your opinion may be , Mrs . Weston ,\" said Mr . Knightley , \" of this great intimacy between Emma and Harriet Smith , but I think it a bad thing .\"   0.552\n",
      "\" I do not admire it ,\" said Mr . Knightley .                                                                                                                              0.532\n",
      "\" Mr . Weston will be almost as much relieved as myself ,\" said she .                                                                                                      0.528\n",
      "\" Isabella and Emma both write beautifully ,\" said Mr . Woodhouse ; \" and always did .                                                                                     0.518\n",
      "At first it was downright dulness to Emma .                                                                                                                                0.514\n",
      "Name: 1, dtype: float64\n",
      "Component 2:\n",
      "CHAPTER I      1.000\n",
      "CHAPTER IV     1.000\n",
      "CHAPTER II     1.000\n",
      "CHAPTER I      1.000\n",
      "CHAPTER V      1.000\n",
      "CHAPTER XII    1.000\n",
      "CHAPTER XI     1.000\n",
      "CHAPTER XVI    1.000\n",
      "CHAPTER VIII   1.000\n",
      "CHAPTER X      1.000\n",
      "Name: 2, dtype: float64\n",
      "Component 3:\n",
      "At first it was downright dulness to Emma .                                                                                                                            0.652\n",
      "Emma was silenced .                                                                                                                                                    0.652\n",
      "Emma could not resist .                                                                                                                                                0.652\n",
      "\" Are you well , my Emma ?\"                                                                                                                                            0.652\n",
      "Emma demurred .                                                                                                                                                        0.652\n",
      "Emma was most sincerely interested .                                                                                                                                   0.652\n",
      "\" For shame , Emma !                                                                                                                                                   0.652\n",
      "\" There were misunderstandings between them , Emma ; he said so expressly .                                                                                            0.573\n",
      "\" Emma , my dear Emma \"                                                                                                                                                0.572\n",
      "\" He appears rough to you ,\" said Emma , \" because you are so very gentle yourself ; but if you could compare him with other papas , you would not think him rough .   0.471\n",
      "Name: 3, dtype: float64\n",
      "Component 4:\n",
      "Mr . Knightley might quarrel with her , but Emma could not quarrel with herself .                                                                       0.613\n",
      "\" Mr . Knightley was there too , was he ?\"                                                                                                              0.558\n",
      "\" Why will not you write one yourself for us , Mr .                                                                                                     0.526\n",
      "\"` Mr .                                                                                                                                                 0.526\n",
      "Mr . Knightley had done all in his power for Mr . Woodhouse ' s entertainment .                                                                         0.457\n",
      "Mr . Knightley grew angry .                                                                                                                             0.435\n",
      "Mr . Knightley , however , shewed no triumphant happiness .                                                                                             0.435\n",
      "Mr . Woodhouse at last was off ; but Mr . Knightley , instead of being immediately off likewise , sat down again , seemingly inclined for more chat .   0.425\n",
      "\" In one respect , perhaps , Mr . Elton ' s manners are superior to Mr . Knightley ' s or Mr . Weston ' s .                                             0.424\n",
      "Emma could not have desired a more spirited rejection of Mr . Martin ' s prose .                                                                        0.416\n",
      "Name: 4, dtype: float64\n"
     ]
    },
    {
     "data": {
      "image/png": "[encoded data removed]",
      "text/plain": [
       "<Figure size 432x288 with 2 Axes>"
      ]
     },
     "metadata": {
      "needs_background": "light"
     },
     "output_type": "display_data"
    },
    {
     "name": "stdout",
     "output_type": "stream",
     "text": [
      "Key:\n",
      "0 That is _court_ .\n",
      "1 \" Yes , sir , I did indeed ; and I am very much obliged by your kind solicitude about me .\"\n",
      "2 \" How much his business engrosses him already is very plain from the circumstance of his forgetting to inquire for the book you recommended .\n",
      "3 To restrain him as much as might be , by her own manners , she was immediately preparing to speak with exquisite calmness and gravity of the weather and the night ; but scarcely had she begun , scarcely had they passed the sweep - gate and joined the other carriage , than she found her subject cut up  her hand seized  her attention demanded , and Mr . Elton actually making violent love to her : availing himself of the precious opportunity , declaring sentiments which must be already well known , hoping  fearing  adoring  ready to die if she refused him ; but flattering himself that his ardent attachment and unequalled love and unexampled passion could not fail of having some effect , and in short , very much resolved on being seriously accepted as soon as possible .\n",
      "4 Emma smiled and answered \" My visit was of use to the nervous part of her complaint , I hope ; but not even I can charm away a sore throat ; it is a most severe cold indeed .\n",
      "5 A very few minutes more , however , completed the present trial .\n",
      "6 \" I am delighted to hear you speak so stoutly on the subject ,\" replied Emma , smiling ; \" but you do not mean to deny that there was a time  and not very distant either  when you gave me reason to understand that you did care about him ?\"\n",
      "7 \" Very well ; and if he had intended to give her one , he would have told her so .\"\n",
      "8 Some laughed , and answered good - humouredly .\n",
      "9 \" There appeared such a perfectly good understanding among them all \" he began rather quickly , but checking himself , added , \" however , it is impossible for me to say on what terms they really were  how it might all be behind the scenes .\n"
     ]
    }
   ],
   "source": [
    "tweak_tf_idf(.5, 7, 22, 195)  # max_df_var = .5, min_df_var = 7, example_sentence, svd_size = 195"
   ]
  },
  {
   "cell_type": "markdown",
   "metadata": {},
   "source": [
    "#### max_df_var = .1, min_df_var = 3, example_sentence, svd_size = 195\n",
    "Number of features: 1355\n",
    "\n",
    "Tf_idf vector: {'comfortably': 0.5225597626893586, 'hear': 0.40863400822092244, 'glad': 0.4592700427052501, 'dear': 0.3220946534248823, 'settled': 0.4952530705124068}\n",
    "\n",
    "Percent variance captured by all components: 58.07732648734807\n",
    "\n",
    "* Component 0:  Oh!\n",
    "* Component 1: Mrs. Weston &/or Mrs. Elton\n",
    "* Component 2: Chapter #\n",
    "* Component 3: \"Ah!\"\n",
    "* Component 4: \"dear\""
   ]
  },
  {
   "cell_type": "code",
   "execution_count": 79,
   "metadata": {},
   "outputs": [
    {
     "name": "stdout",
     "output_type": "stream",
     "text": [
      "Number of features: 1355\n",
      "Original sentence: \" I am very glad , indeed , my dear , to hear she is to be so comfortably settled .\n",
      "Tf_idf vector: {'comfortably': 0.5225597626893586, 'hear': 0.40863400822092244, 'glad': 0.4592700427052501, 'dear': 0.3220946534248823, 'settled': 0.4952530705124068}\n",
      "Percent variance captured by all components: 58.07732648734807\n",
      "Component 0:\n",
      "\" Oh !    0.999\n",
      "\" Oh !    0.999\n",
      "\" Oh !    0.999\n",
      "\" Oh !    0.999\n",
      "\" Oh !\"   0.999\n",
      "\" Oh !    0.999\n",
      "\" Oh !    0.999\n",
      "\" Oh !    0.999\n",
      "\" Oh !    0.999\n",
      "\" Oh !    0.999\n",
      "Name: 0, dtype: float64\n",
      "Component 1:\n",
      "Miss Bates and Miss Fairfax , escorted by the two gentlemen , walked into the room ; and Mrs . Elton seemed to think it as much her duty as Mrs . Weston ' s to receive them .                                                                      0.649\n",
      "\" You are right , Mrs . Weston ,\" said Mr . Knightley warmly , \" Miss Fairfax is as capable as any of us of forming a just opinion of Mrs . Elton .                                                                                                 0.588\n",
      "\" Such attentions as Mrs . Elton ' s , I should have imagined , would rather disgust than gratify Miss Fairfax .                                                                                                                                    0.576\n",
      "Mrs . Elton turned to Mrs . Weston .                                                                                                                                                                                                                0.562\n",
      "Mrs . Bates and Mrs . Elton were together .                                                                                                                                                                                                         0.553\n",
      "Frank Churchill returned to his station by Emma ; and as soon as Miss Bates was quiet , she found herself necessarily overhearing the discourse of Mrs . Elton and Miss Fairfax , who were standing a little way behind her . He was thoughtful .   0.527\n",
      "\" Mrs . Elton , I suppose , has been the person to whom Miss Fairfax owes \"                                                                                                                                                                         0.517\n",
      "\" So do I ,\" said Mrs . Weston gently , \" very much .\"                                                                                                                                                                                              0.516\n",
      "[ To Mrs .                                                                                                                                                                                                                                          0.492\n",
      "\" Well done , Mrs .                                                                                                                                                                                                                                 0.492\n",
      "Name: 1, dtype: float64\n",
      "Component 2:\n",
      "CHAPTER I    0.997\n",
      "CHAPTER I    0.997\n",
      "CHAPTER V    0.997\n",
      "CHAPTER X    0.997\n",
      "CHAPTER X    0.997\n",
      "CHAPTER I    0.997\n",
      "CHAPTER X    0.997\n",
      "CHAPTER V    0.997\n",
      "CHAPTER V    0.997\n",
      "CHAPTER VI   0.994\n",
      "Name: 2, dtype: float64\n",
      "Component 3:\n",
      "\" Ah !    0.990\n",
      "\" Ah !    0.990\n",
      "\" Ah !    0.990\n",
      "\" Ah !    0.990\n",
      "\" Ah !    0.990\n",
      "\" Ah !    0.990\n",
      "\" Ah !    0.990\n",
      "\" Ah !    0.990\n",
      "\" Ah !\"   0.990\n",
      "\" Ah !    0.990\n",
      "Name: 3, dtype: float64\n",
      "Component 4:\n",
      "\" Dear Miss Woodhouse !\"                                                                                                                                0.678\n",
      "Emma had not to listen to such paradings again  to any so exclusively addressed to herself  so disgustingly decorated with a \" dear Miss Woodhouse .\"   0.651\n",
      "\" Thank you , dear Miss Woodhouse .                                                                                                                     0.560\n",
      "\" What is to be done , my dear Emma ? what is to be done ?\"                                                                                             0.528\n",
      "\" Emma , my dear Emma \"                                                                                                                                 0.528\n",
      "\" Dear me !                                                                                                                                             0.528\n",
      "\" My dear madam !                                                                                                                                       0.528\n",
      "\" If you please , my dear .                                                                                                                             0.528\n",
      "\" Dear me !                                                                                                                                             0.528\n",
      "\" There might be scruples of delicacy , my dear Emma .                                                                                                  0.510\n",
      "Name: 4, dtype: float64\n"
     ]
    },
    {
     "data": {
      "image/png": "[encoded data removed]",
      "text/plain": [
       "<Figure size 432x288 with 2 Axes>"
      ]
     },
     "metadata": {
      "needs_background": "light"
     },
     "output_type": "display_data"
    },
    {
     "name": "stdout",
     "output_type": "stream",
     "text": [
      "Key:\n",
      "0 That is _court_ .\n",
      "1 \" Yes , sir , I did indeed ; and I am very much obliged by your kind solicitude about me .\"\n",
      "2 \" How much his business engrosses him already is very plain from the circumstance of his forgetting to inquire for the book you recommended .\n",
      "3 To restrain him as much as might be , by her own manners , she was immediately preparing to speak with exquisite calmness and gravity of the weather and the night ; but scarcely had she begun , scarcely had they passed the sweep - gate and joined the other carriage , than she found her subject cut up  her hand seized  her attention demanded , and Mr . Elton actually making violent love to her : availing himself of the precious opportunity , declaring sentiments which must be already well known , hoping  fearing  adoring  ready to die if she refused him ; but flattering himself that his ardent attachment and unequalled love and unexampled passion could not fail of having some effect , and in short , very much resolved on being seriously accepted as soon as possible .\n",
      "4 Emma smiled and answered \" My visit was of use to the nervous part of her complaint , I hope ; but not even I can charm away a sore throat ; it is a most severe cold indeed .\n",
      "5 A very few minutes more , however , completed the present trial .\n",
      "6 \" I am delighted to hear you speak so stoutly on the subject ,\" replied Emma , smiling ; \" but you do not mean to deny that there was a time  and not very distant either  when you gave me reason to understand that you did care about him ?\"\n",
      "7 \" Very well ; and if he had intended to give her one , he would have told her so .\"\n",
      "8 Some laughed , and answered good - humouredly .\n",
      "9 \" There appeared such a perfectly good understanding among them all \" he began rather quickly , but checking himself , added , \" however , it is impossible for me to say on what terms they really were  how it might all be behind the scenes .\n"
     ]
    }
   ],
   "source": [
    "tweak_tf_idf(.1, 3, 22, 195)  # max_df_var = .1, min_df_var = 3, example_sentence, svd_size = 195"
   ]
  },
  {
   "cell_type": "markdown",
   "metadata": {},
   "source": [
    "## Analysis\n",
    "\n",
    "Of the major \"handles\" that can be manipulated in this setup, the primary ones I've identified are the max_df, min_df, and svd size/# of axes.  \n",
    "\n",
    "_max_df_ and _min_df_ both control (from different directions) the total size of the vocabulary/word-pool that gets built.  Different combinations lead to different sets of words being selected for the first-identified topics.  Increasing the min_df leads to a significantly higher feature number and more variance being captured; max_df has less leverage on variance % and feature count, but still has a small effect.\n",
    "\n",
    "_svd size_ plays a major role in determining the \"Percent variance captured by all components.\"  It doesn't seem to have much effect on the actual product of the algorithm, however, though that may simply be because it's effects are found in clusters/documents that these snapshots don't look at."
   ]
  },
  {
   "cell_type": "code",
   "execution_count": null,
   "metadata": {},
   "outputs": [],
   "source": []
  }
 ],
 "metadata": {
  "kernelspec": {
   "display_name": "Python 3",
   "language": "python",
   "name": "python3"
  },
  "language_info": {
   "codemirror_mode": {
    "name": "ipython",
    "version": 3
   },
   "file_extension": ".py",
   "mimetype": "text/x-python",
   "name": "python",
   "nbconvert_exporter": "python",
   "pygments_lexer": "ipython3",
   "version": "3.7.0"
  }
 },
 "nbformat": 4,
 "nbformat_minor": 2
}
