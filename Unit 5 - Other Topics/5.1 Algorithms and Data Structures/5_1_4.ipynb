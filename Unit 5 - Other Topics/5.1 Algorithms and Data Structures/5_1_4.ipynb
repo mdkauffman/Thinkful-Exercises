{
 "cells": [
  {
   "cell_type": "markdown",
   "metadata": {},
   "source": [
    " "
   ]
  },
  {
   "cell_type": "markdown",
   "metadata": {},
   "source": [
    " "
   ]
  },
  {
   "cell_type": "markdown",
   "metadata": {},
   "source": [
    " "
   ]
  },
  {
   "cell_type": "code",
   "execution_count": 1,
   "metadata": {},
   "outputs": [],
   "source": [
    "%matplotlib inline\n",
    "import numpy as np\n",
    "import pandas as pd\n",
    "import scipy\n",
    "import sklearn\n",
    "import matplotlib.pyplot as plt\n",
    "import seaborn as sns\n",
    "\n",
    "pd.set_option('display.max_rows', 1000)\n",
    "pd.set_option('display.max_columns', 50)\n",
    "import math\n",
    "import warnings\n",
    "warnings.simplefilter(action='ignore', category=FutureWarning)\n",
    "\n",
    "from sklearn import linear_model\n",
    "from sklearn.linear_model import LogisticRegression\n",
    "from sklearn import ensemble\n",
    "from sklearn import datasets\n",
    "from sklearn.utils import shuffle\n",
    "from sklearn.metrics import mean_squared_error\n",
    "from sklearn.metrics import accuracy_score\n",
    "from sklearn.metrics import recall_score\n",
    "from sklearn.metrics import precision_score\n",
    "from sklearn.metrics import roc_auc_score\n",
    "from sklearn.svm import SVC\n",
    "from sklearn.metrics import classification_report\n",
    "\n",
    "from IPython.display import display\n",
    "\n",
    "import spacy\n",
    "import re\n",
    "#from nltk.corpus import gutenberg, stopwords\n",
    "#from collections import Counter\n",
    "#import nltk\n",
    "#nltk.download('gutenberg')\n",
    "\n",
    "#from spacy.lang.en import English\n",
    "\n",
    "# Display preferences.\n",
    "%matplotlib inline\n",
    "pd.options.display.float_format = '{:.3f}'.format\n",
    "\n",
    "# Suppress annoying harmless error.\n",
    "warnings.filterwarnings(\n",
    "    action=\"ignore\",\n",
    "    module=\"scipy\",\n",
    "    message=\"^internal gelsd\"\n",
    ")\n",
    "\n",
    "from sklearn.exceptions import DataConversionWarning\n",
    "warnings.filterwarnings(action='ignore', category=DataConversionWarning)\n",
    "\n",
    "from sklearn.metrics import confusion_matrix\n",
    "from sklearn.naive_bayes import BernoulliNB\n",
    "from sklearn.model_selection import train_test_split\n",
    "from sklearn.model_selection import cross_val_score\n",
    "\n",
    "from sklearn.decomposition import PCA\n",
    "from sklearn import neighbors\n",
    "from sklearn.naive_bayes import MultinomialNB\n",
    "from sklearn.neighbors import KNeighborsClassifier\n",
    "from sklearn.neighbors import KNeighborsRegressor\n",
    "\n",
    "from sklearn import ensemble\n",
    "from sklearn.model_selection import cross_val_score\n",
    "from sklearn.model_selection import GridSearchCV\n",
    "from sklearn.svm import SVR\n",
    "\n",
    "from sklearn.datasets import load_digits\n",
    "from sklearn.feature_selection import SelectKBest, chi2, f_classif\n",
    "from sklearn.preprocessing import LabelEncoder, Imputer\n",
    "from sklearn.model_selection import train_test_split\n",
    "\n",
    "from timeit import default_timer as timer\n",
    "\n",
    "from nltk.tokenize import BlanklineTokenizer\n",
    "from sklearn.feature_extraction.text import TfidfVectorizer\n",
    "import urllib.request\n",
    "from sklearn.decomposition import TruncatedSVD\n",
    "from sklearn.pipeline import make_pipeline\n",
    "from sklearn.preprocessing import Normalizer\n",
    "\n",
    "import os\n",
    "\n",
    "from sklearn.cluster import KMeans\n",
    "from sklearn.preprocessing import normalize\n",
    "from sklearn.cluster import MiniBatchKMeans\n",
    "from sklearn.datasets.samples_generator import make_blobs\n",
    "from sklearn.cluster import MeanShift, estimate_bandwidth\n",
    "from sklearn.cluster import SpectralClustering\n",
    "from sklearn.cluster import AffinityPropagation\n",
    "from sklearn import metrics\n",
    "from itertools import cycle\n",
    "\n",
    "import pydotplus\n",
    "from sklearn import tree\n",
    "from sklearn import preprocessing\n",
    "%matplotlib inline\n",
    "sns.set_style('white')"
   ]
  },
  {
   "cell_type": "code",
   "execution_count": 42,
   "metadata": {},
   "outputs": [],
   "source": [
    "import time\n",
    "import random\n",
    "\n",
    "# Set seed.\n",
    "random.seed(a=100)\n",
    "\n",
    "# Create our default list.\n",
    "short_list = list(random.sample(range(1000000), 15))\n",
    "short_list = [1,2,3,4,5,6,7,8,9,10,11,12,13,14,15]"
   ]
  },
  {
   "cell_type": "code",
   "execution_count": 2,
   "metadata": {},
   "outputs": [
    {
     "name": "stdout",
     "output_type": "stream",
     "text": [
      "233168\n"
     ]
    }
   ],
   "source": [
    "# Problem 1\n",
    "# Sum of all the multiples of 3 or 5 below 1000 (assuming all POSITIVE multiples)\n",
    "\n",
    "multiples_of_3or5 = []\n",
    "for x in range(1,1000):\n",
    "    if x % 3 == 0:\n",
    "        multiples_of_3or5.append(x)\n",
    "    elif x % 5 == 0:\n",
    "        multiples_of_3or5.append(x)\n",
    "\n",
    "print(sum(multiples_of_3or5))"
   ]
  },
  {
   "cell_type": "code",
   "execution_count": 6,
   "metadata": {},
   "outputs": [
    {
     "name": "stdout",
     "output_type": "stream",
     "text": [
      "4613732\n"
     ]
    }
   ],
   "source": [
    "# Problem 2\n",
    "# By considering the terms in the Fibonacci sequence whose values do not exceed four million, \n",
    "# find the sum of the even-valued terms.\n",
    "\n",
    "even_fib_numbers = []\n",
    "\n",
    "fib_numbers = [1,2]\n",
    "\n",
    "z = 0\n",
    "n = 0\n",
    "\n",
    "while z <= 4000000:\n",
    "    x = fib_numbers[n]\n",
    "    y = fib_numbers[n+1]\n",
    "    z = x + y\n",
    "    fib_numbers.append(z)\n",
    "    n += 1\n",
    "\n",
    "for x in fib_numbers:\n",
    "    if x % 2 == 0:\n",
    "        even_fib_numbers.append(x)\n",
    "\n",
    "print(sum(even_fib_numbers))"
   ]
  },
  {
   "cell_type": "code",
   "execution_count": 6,
   "metadata": {},
   "outputs": [
    {
     "name": "stdout",
     "output_type": "stream",
     "text": [
      "71\n",
      "839\n",
      "1471\n",
      "6857\n",
      "59569\n",
      "104441\n",
      "486847\n",
      "1234169\n",
      "5753023\n",
      "10086647\n",
      "87625999\n",
      "408464633\n",
      "716151937\n"
     ]
    },
    {
     "ename": "KeyboardInterrupt",
     "evalue": "",
     "output_type": "error",
     "traceback": [
      "\u001b[0;31m---------------------------------------------------------------------------\u001b[0m",
      "\u001b[0;31mKeyboardInterrupt\u001b[0m                         Traceback (most recent call last)",
      "\u001b[0;32m<ipython-input-6-6126e24493ee>\u001b[0m in \u001b[0;36m<module>\u001b[0;34m\u001b[0m\n\u001b[1;32m     11\u001b[0m \u001b[0;34m\u001b[0m\u001b[0m\n\u001b[1;32m     12\u001b[0m \u001b[0;32mfor\u001b[0m \u001b[0my\u001b[0m \u001b[0;32min\u001b[0m \u001b[0mrange\u001b[0m\u001b[0;34m(\u001b[0m\u001b[0;36m70\u001b[0m\u001b[0;34m,\u001b[0m\u001b[0mtarget_num\u001b[0m\u001b[0;34m//\u001b[0m\u001b[0;36m70\u001b[0m\u001b[0;34m)\u001b[0m\u001b[0;34m:\u001b[0m\u001b[0;34m\u001b[0m\u001b[0m\n\u001b[0;32m---> 13\u001b[0;31m     \u001b[0;32mif\u001b[0m \u001b[0mtarget_num\u001b[0m \u001b[0;34m%\u001b[0m \u001b[0my\u001b[0m \u001b[0;34m==\u001b[0m \u001b[0;36m0\u001b[0m\u001b[0;34m:\u001b[0m\u001b[0;34m\u001b[0m\u001b[0m\n\u001b[0m\u001b[1;32m     14\u001b[0m         \u001b[0mfactors\u001b[0m\u001b[0;34m.\u001b[0m\u001b[0madd\u001b[0m\u001b[0;34m(\u001b[0m\u001b[0my\u001b[0m\u001b[0;34m)\u001b[0m\u001b[0;34m\u001b[0m\u001b[0m\n\u001b[1;32m     15\u001b[0m         \u001b[0mfactors\u001b[0m\u001b[0;34m.\u001b[0m\u001b[0madd\u001b[0m\u001b[0;34m(\u001b[0m\u001b[0mtarget_num\u001b[0m\u001b[0;34m/\u001b[0m\u001b[0my\u001b[0m\u001b[0;34m)\u001b[0m\u001b[0;34m\u001b[0m\u001b[0m\n",
      "\u001b[0;31mKeyboardInterrupt\u001b[0m: "
     ]
    }
   ],
   "source": [
    "# Problem 3\n",
    "# The prime factors of 13195 are 5, 7, 13 and 29.\n",
    "# What is the largest prime factor of the number 600851475143 ?\n",
    "\n",
    "target_num = 600851475143\n",
    "factors = set()\n",
    "y = 70\n",
    "\n",
    "n = 0\n",
    "smallest_factor = 0\n",
    "\n",
    "for y in range(70,target_num//70):\n",
    "    if target_num % y == 0:\n",
    "        factors.add(y)\n",
    "        factors.add(target_num/y)\n",
    "        print(y)\n",
    "    y += 1\n",
    "\n",
    "#print(smallest_factor)\n",
    "#print(target_num/smallest_factor)\n",
    "print(factors)"
   ]
  },
  {
   "cell_type": "code",
   "execution_count": 19,
   "metadata": {},
   "outputs": [
    {
     "name": "stdout",
     "output_type": "stream",
     "text": [
      "839\n",
      "8462696833.0 is not a prime number\n",
      "71\n",
      "716151937.0 is not a prime number\n",
      "839\n",
      "5753023.0 is not a prime number\n",
      "839\n",
      "1234169.0 is not a prime number\n",
      "71\n",
      "486847 is not a prime number\n",
      "71\n",
      "87625999.0 is not a prime number\n",
      "71\n",
      "59569 is not a prime number\n",
      "1471\n",
      "10086647.0 is not a prime number\n",
      "71\n",
      "408464633.0 is not a prime number\n",
      "71\n",
      "104441 is not a prime number\n",
      "839\n",
      "71\n",
      "6857\n",
      "1471\n"
     ]
    }
   ],
   "source": [
    "check = 0\n",
    "nonprime_factors = set()\n",
    "\n",
    "for x in factors:\n",
    "    for i in range(2, int(x/2), 1):   \n",
    "        if x % i == 0: \n",
    "            check = 1\n",
    "            print(i)\n",
    "            print(x, \"is not a prime number\") \n",
    "            nonprime_factors.add(x)\n",
    "            break\n",
    "\n",
    "for x in factors:\n",
    "    if x not in nonprime_factors:\n",
    "        print(x)\n",
    "# This is definitely a brute-force approach to the problem; \n",
    "# I'd be interested in learning about a more finessed approach"
   ]
  },
  {
   "cell_type": "code",
   "execution_count": 26,
   "metadata": {},
   "outputs": [
    {
     "name": "stdout",
     "output_type": "stream",
     "text": [
      "906609\n"
     ]
    }
   ],
   "source": [
    "# Problem 4\n",
    "# A palindromic number reads the same both ways. \n",
    "# The largest palindrome made from the product of two 2-digit numbers is 9009 = 91 × 99.\n",
    "# Find the largest palindrome made from the product of two 3-digit numbers.\n",
    "\n",
    "three_digit_products = set()\n",
    "\n",
    "for a in range(100, 999):\n",
    "    for b in range(100, 999):\n",
    "        three_digit_products.add(a*b)\n",
    "\n",
    "pallindromes = set()\n",
    "\n",
    "for x in three_digit_products:\n",
    "    not_pallindrome = 0\n",
    "    string_num = str(x)\n",
    "    length = len(string_num)\n",
    "    for y in range(0,length//2):\n",
    "        if string_num[y] != string_num[length-1-y]:\n",
    "            not_pallindrome = 1\n",
    "    if not_pallindrome == 0:\n",
    "        pallindromes.add(x)\n",
    "        \n",
    "print(max(pallindromes))"
   ]
  },
  {
   "cell_type": "code",
   "execution_count": 71,
   "metadata": {},
   "outputs": [],
   "source": [
    "# Problem 5\n",
    "# 2520 is the smallest number that can be divided by each of the numbers from 1 to 10 without any remainder.\n",
    "# What is the smallest positive number that is evenly divisible by all of the numbers from 1 to 20?\n",
    "\n",
    "def divide_by_twenty_test(num):\n",
    "    test = 0\n",
    "    for x in range(1,20):\n",
    "        if num % x != 0:\n",
    "            test = 1\n",
    "            break\n",
    "    return(test)"
   ]
  },
  {
   "cell_type": "code",
   "execution_count": 79,
   "metadata": {},
   "outputs": [
    {
     "name": "stdout",
     "output_type": "stream",
     "text": [
      "232792560\n"
     ]
    }
   ],
   "source": [
    "for x in range(232792561,2520,-1):\n",
    "    if divide_by_twenty_test(x) == 0:\n",
    "        print(x)\n",
    "        break"
   ]
  },
  {
   "cell_type": "code",
   "execution_count": 76,
   "metadata": {},
   "outputs": [
    {
     "data": {
      "text/plain": [
       "232792560"
      ]
     },
     "execution_count": 76,
     "metadata": {},
     "output_type": "execute_result"
    }
   ],
   "source": [
    "2*2*2*2*5*3*3*11*7*13*17*19\n"
   ]
  },
  {
   "cell_type": "code",
   "execution_count": 91,
   "metadata": {},
   "outputs": [
    {
     "name": "stdout",
     "output_type": "stream",
     "text": [
      "328350\n",
      "25502500\n",
      "25164150\n"
     ]
    }
   ],
   "source": [
    "# Problem 6\n",
    "# Find the difference between the sum of the squares of the first one hundred natural numbers \n",
    "# and the square of the sum.\n",
    "\n",
    "def sum_of_squares(lower,upper):\n",
    "    y = 0\n",
    "    for x in range(lower,upper):\n",
    "        y += x*x\n",
    "    return(y)\n",
    "\n",
    "print(sum_of_squares(1,100))\n",
    "\n",
    "def square_of_sum(lower,upper):\n",
    "    y = 0\n",
    "    for x in range(lower,upper):\n",
    "        y += x\n",
    "    y = y*y\n",
    "    return(y)\n",
    "\n",
    "print(square_of_sum(1,101))\n",
    "print(square_of_sum(1,101) - sum_of_squares(1,101))"
   ]
  },
  {
   "cell_type": "code",
   "execution_count": 145,
   "metadata": {},
   "outputs": [
    {
     "name": "stdout",
     "output_type": "stream",
     "text": [
      "found 104743\n"
     ]
    }
   ],
   "source": [
    "# Problem 7\n",
    "# By listing the first six prime numbers: 2, 3, 5, 7, 11, and 13, we can see that the 6th prime is 13.\n",
    "# What is the 10 001st prime number?\n",
    "\n",
    "def is_prime(n):\n",
    "    # look for factors of 2 first\n",
    "    if n % 2 == 0: return False\n",
    "    # now look for odd factors\n",
    "    p = 3\n",
    "    while p < n**0.5+1:\n",
    "        if n % p == 0: return False\n",
    "        p += 2\n",
    "    return True\n",
    " \n",
    "def nth_prime(n):\n",
    "    prime = 2\n",
    "    count = 1\n",
    "    iter = 3\n",
    "    while count < n:\n",
    "        if is_prime(iter):\n",
    "            prime = iter\n",
    "            count += 1\n",
    "        iter += 2\n",
    "    return prime\n",
    " \n",
    "prime = nth_prime(10001)\n",
    " \n",
    "print(\"found %s\" % (prime))\n"
   ]
  },
  {
   "cell_type": "code",
   "execution_count": 112,
   "metadata": {},
   "outputs": [
    {
     "name": "stdout",
     "output_type": "stream",
     "text": [
      "0 5000940\n",
      "16 9797760\n",
      "19 13063680\n",
      "21 25401600\n",
      "22 50803200\n",
      "23 71124480\n",
      "24 284497920\n",
      "25 568995840\n",
      "40 1020366720\n",
      "41 1632586752\n",
      "43 2040733440\n",
      "88 2972712960\n",
      "195 6270566400\n",
      "196 14108774400\n",
      "197 23514624000\n"
     ]
    }
   ],
   "source": [
    "# Problem 8\n",
    "string = str(7316717653133062491922511967442657474235534919493496983520312774506326239578318016984801869478851843858615607891129494954595017379583319528532088055111254069874715852386305071569329096329522744304355766896648950445244523161731856403098711121722383113622298934233803081353362766142828064444866452387493035890729629049156044077239071381051585930796086670172427121883998797908792274921901699720888093776657273330010533678812202354218097512545405947522435258490771167055601360483958644670632441572215539753697817977846174064955149290862569321978468622482839722413756570560574902614079729686524145351004748216637048440319989000889524345065854122758866688116427171479924442928230863465674813919123162824586178664583591245665294765456828489128831426076900422421902267105562632111110937054421750694165896040807198403850962455444362981230987879927244284909188845801561660979191338754992005240636899125607176060588611646710940507754100225698315520005593572972571636269561882670428252483600823257530420752963450)\n",
    "\n",
    "product = 0\n",
    "highest_product = 0\n",
    "for x in range(0,len(string)-12):\n",
    "    product = 1\n",
    "    for y in range(0,13):\n",
    "        product = product*int(string[x+y])\n",
    "    if product > highest_product:\n",
    "        highest_product = product\n",
    "        print(x, highest_product)\n",
    "        "
   ]
  },
  {
   "cell_type": "code",
   "execution_count": 115,
   "metadata": {},
   "outputs": [
    {
     "name": "stdout",
     "output_type": "stream",
     "text": [
      "200 375\n",
      "375 200\n"
     ]
    }
   ],
   "source": [
    "# Problem 9\n",
    "# There exists exactly one Pythagorean triplet for which a + b + c = 1000.\n",
    "# Find the product abc.\n",
    "\n",
    "def pyth_triples_test(a,b,c):\n",
    "    if a**2 + b**2 == c**2:\n",
    "        return(1)\n",
    "    else:\n",
    "        return(0)\n",
    "\n",
    "def pyth_triples_1k(a,b):\n",
    "    c = (a**2 + b**2)**.5\n",
    "    if a+b+c == 1000:\n",
    "        return(1)\n",
    "    else:\n",
    "        return(0)\n",
    "    \n",
    "for x in range(1,500):\n",
    "    for y in range(1,500):\n",
    "        test = pyth_triples_1k(x,y)\n",
    "        if test == 1:\n",
    "            print(x, y)\n"
   ]
  },
  {
   "cell_type": "code",
   "execution_count": 118,
   "metadata": {},
   "outputs": [
    {
     "name": "stdout",
     "output_type": "stream",
     "text": [
      "40000\n",
      "140625\n",
      "180625\n",
      "425.0\n",
      "1000\n",
      "31875000\n"
     ]
    }
   ],
   "source": [
    "print(200**2)\n",
    "print(375**2)\n",
    "print(200**2+375**2)\n",
    "print((200**2+375**2)**.5)\n",
    "print(425+200+375)\n",
    "print(425*200*375)"
   ]
  },
  {
   "cell_type": "code",
   "execution_count": 135,
   "metadata": {},
   "outputs": [
    {
     "data": {
      "text/plain": [
       "142913828922"
      ]
     },
     "execution_count": 135,
     "metadata": {},
     "output_type": "execute_result"
    }
   ],
   "source": [
    "# problem 10\n",
    "# Find the sum of all the primes below two million.\n",
    "\n",
    "def sum_primes(end):\n",
    "    is_prime = [i not in [0, 1] for i in range(end+1)]\n",
    "\n",
    "    for prime in range(end+1):\n",
    "        if not is_prime[prime]:\n",
    "            continue\n",
    "        if prime * prime > (end + 1):\n",
    "            break\n",
    "        for multiple_of_prime in range(2*prime, end+1, prime):\n",
    "            is_prime[multiple_of_prime] = False\n",
    "\n",
    "    return sum(num for num in range(end+1) if is_prime[num])\n",
    "\n",
    "sum_primes(2000000)\n"
   ]
  },
  {
   "cell_type": "code",
   "execution_count": null,
   "metadata": {},
   "outputs": [],
   "source": []
  },
  {
   "cell_type": "code",
   "execution_count": null,
   "metadata": {},
   "outputs": [],
   "source": []
  },
  {
   "cell_type": "code",
   "execution_count": null,
   "metadata": {},
   "outputs": [],
   "source": []
  },
  {
   "cell_type": "code",
   "execution_count": null,
   "metadata": {},
   "outputs": [],
   "source": []
  }
 ],
 "metadata": {
  "kernelspec": {
   "display_name": "Python 3",
   "language": "python",
   "name": "python3"
  },
  "language_info": {
   "codemirror_mode": {
    "name": "ipython",
    "version": 3
   },
   "file_extension": ".py",
   "mimetype": "text/x-python",
   "name": "python",
   "nbconvert_exporter": "python",
   "pygments_lexer": "ipython3",
   "version": "3.7.0"
  }
 },
 "nbformat": 4,
 "nbformat_minor": 2
}
