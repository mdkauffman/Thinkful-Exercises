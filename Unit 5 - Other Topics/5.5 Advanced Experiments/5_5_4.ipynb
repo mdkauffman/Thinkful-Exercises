{
 "cells": [
  {
   "cell_type": "markdown",
   "metadata": {},
   "source": [
    " "
   ]
  },
  {
   "cell_type": "markdown",
   "metadata": {},
   "source": [
    " "
   ]
  },
  {
   "cell_type": "markdown",
   "metadata": {},
   "source": [
    " "
   ]
  },
  {
   "cell_type": "code",
   "execution_count": 1,
   "metadata": {},
   "outputs": [],
   "source": [
    "%matplotlib inline\n",
    "import numpy as np\n",
    "import pandas as pd\n",
    "import scipy\n",
    "import sklearn\n",
    "import matplotlib.pyplot as plt\n",
    "import seaborn as sns\n",
    "\n",
    "pd.set_option('display.max_rows', 1000)\n",
    "pd.set_option('display.max_columns', 50)\n",
    "import math\n",
    "import warnings\n",
    "warnings.simplefilter(action='ignore', category=FutureWarning)\n",
    "\n",
    "from sklearn import linear_model\n",
    "from sklearn.linear_model import LogisticRegression\n",
    "from sklearn import ensemble\n",
    "from sklearn import datasets\n",
    "from sklearn.utils import shuffle\n",
    "from sklearn.metrics import mean_squared_error\n",
    "from sklearn.metrics import accuracy_score\n",
    "from sklearn.metrics import recall_score\n",
    "from sklearn.metrics import precision_score\n",
    "from sklearn.metrics import roc_auc_score\n",
    "from sklearn.svm import SVC\n",
    "from sklearn.metrics import classification_report\n",
    "import scipy.stats as stats\n",
    "\n",
    "from IPython.display import display\n",
    "\n",
    "import spacy\n",
    "import re\n",
    "#from nltk.corpus import gutenberg, stopwords\n",
    "#from collections import Counter\n",
    "#import nltk\n",
    "#nltk.download('gutenberg')\n",
    "\n",
    "#from spacy.lang.en import English\n",
    "\n",
    "# Display preferences.\n",
    "%matplotlib inline\n",
    "pd.options.display.float_format = '{:.3f}'.format\n",
    "\n",
    "# Suppress annoying harmless error.\n",
    "warnings.filterwarnings(\n",
    "    action=\"ignore\",\n",
    "    module=\"scipy\",\n",
    "    message=\"^internal gelsd\"\n",
    ")\n",
    "\n",
    "from sklearn.exceptions import DataConversionWarning\n",
    "warnings.filterwarnings(action='ignore', category=DataConversionWarning)\n",
    "\n",
    "from sklearn.metrics import confusion_matrix\n",
    "from sklearn.naive_bayes import BernoulliNB\n",
    "from sklearn.model_selection import train_test_split\n",
    "from sklearn.model_selection import cross_val_score\n",
    "\n",
    "from sklearn.decomposition import PCA\n",
    "from sklearn import neighbors\n",
    "from sklearn.naive_bayes import MultinomialNB\n",
    "from sklearn.neighbors import KNeighborsClassifier\n",
    "from sklearn.neighbors import KNeighborsRegressor\n",
    "\n",
    "from sklearn import ensemble\n",
    "from sklearn.model_selection import cross_val_score\n",
    "from sklearn.model_selection import GridSearchCV\n",
    "from sklearn.svm import SVR\n",
    "\n",
    "from sklearn.datasets import load_digits\n",
    "from sklearn.feature_selection import SelectKBest, chi2, f_classif\n",
    "from sklearn.preprocessing import LabelEncoder, Imputer\n",
    "from sklearn.model_selection import train_test_split\n",
    "\n",
    "from timeit import default_timer as timer\n",
    "\n",
    "from nltk.tokenize import BlanklineTokenizer\n",
    "from sklearn.feature_extraction.text import TfidfVectorizer\n",
    "import urllib.request\n",
    "from sklearn.decomposition import TruncatedSVD\n",
    "from sklearn.pipeline import make_pipeline\n",
    "from sklearn.preprocessing import Normalizer\n",
    "\n",
    "import os\n",
    "\n",
    "from sklearn.cluster import KMeans\n",
    "from sklearn.preprocessing import normalize\n",
    "from sklearn.cluster import MiniBatchKMeans\n",
    "from sklearn.datasets.samples_generator import make_blobs\n",
    "from sklearn.cluster import MeanShift, estimate_bandwidth\n",
    "from sklearn.cluster import SpectralClustering\n",
    "from sklearn.cluster import AffinityPropagation\n",
    "from sklearn import metrics\n",
    "from itertools import cycle\n",
    "\n",
    "import pydotplus\n",
    "from sklearn import tree\n",
    "from sklearn import preprocessing\n",
    "%matplotlib inline\n",
    "sns.set_style('white')"
   ]
  },
  {
   "cell_type": "code",
   "execution_count": 2,
   "metadata": {},
   "outputs": [],
   "source": [
    "df = pd.read_csv(\"ESSdata_Thinkful.csv\").dropna()"
   ]
  },
  {
   "cell_type": "code",
   "execution_count": 3,
   "metadata": {},
   "outputs": [
    {
     "data": {
      "text/html": [
       "<div>\n",
       "<style scoped>\n",
       "    .dataframe tbody tr th:only-of-type {\n",
       "        vertical-align: middle;\n",
       "    }\n",
       "\n",
       "    .dataframe tbody tr th {\n",
       "        vertical-align: top;\n",
       "    }\n",
       "\n",
       "    .dataframe thead th {\n",
       "        text-align: right;\n",
       "    }\n",
       "</style>\n",
       "<table border=\"1\" class=\"dataframe\">\n",
       "  <thead>\n",
       "    <tr style=\"text-align: right;\">\n",
       "      <th></th>\n",
       "      <th>cntry</th>\n",
       "      <th>idno</th>\n",
       "      <th>year</th>\n",
       "      <th>tvtot</th>\n",
       "      <th>ppltrst</th>\n",
       "      <th>pplfair</th>\n",
       "      <th>pplhlp</th>\n",
       "      <th>happy</th>\n",
       "      <th>sclmeet</th>\n",
       "      <th>sclact</th>\n",
       "      <th>gndr</th>\n",
       "      <th>agea</th>\n",
       "      <th>partner</th>\n",
       "    </tr>\n",
       "  </thead>\n",
       "  <tbody>\n",
       "    <tr>\n",
       "      <th>0</th>\n",
       "      <td>CH</td>\n",
       "      <td>5.000</td>\n",
       "      <td>6</td>\n",
       "      <td>3.000</td>\n",
       "      <td>3.000</td>\n",
       "      <td>10.000</td>\n",
       "      <td>5.000</td>\n",
       "      <td>8.000</td>\n",
       "      <td>5.000</td>\n",
       "      <td>4.000</td>\n",
       "      <td>2.000</td>\n",
       "      <td>60.000</td>\n",
       "      <td>1.000</td>\n",
       "    </tr>\n",
       "    <tr>\n",
       "      <th>1</th>\n",
       "      <td>CH</td>\n",
       "      <td>25.000</td>\n",
       "      <td>6</td>\n",
       "      <td>6.000</td>\n",
       "      <td>5.000</td>\n",
       "      <td>7.000</td>\n",
       "      <td>5.000</td>\n",
       "      <td>9.000</td>\n",
       "      <td>3.000</td>\n",
       "      <td>2.000</td>\n",
       "      <td>2.000</td>\n",
       "      <td>59.000</td>\n",
       "      <td>1.000</td>\n",
       "    </tr>\n",
       "    <tr>\n",
       "      <th>2</th>\n",
       "      <td>CH</td>\n",
       "      <td>26.000</td>\n",
       "      <td>6</td>\n",
       "      <td>1.000</td>\n",
       "      <td>8.000</td>\n",
       "      <td>8.000</td>\n",
       "      <td>8.000</td>\n",
       "      <td>7.000</td>\n",
       "      <td>6.000</td>\n",
       "      <td>3.000</td>\n",
       "      <td>1.000</td>\n",
       "      <td>24.000</td>\n",
       "      <td>2.000</td>\n",
       "    </tr>\n",
       "    <tr>\n",
       "      <th>3</th>\n",
       "      <td>CH</td>\n",
       "      <td>28.000</td>\n",
       "      <td>6</td>\n",
       "      <td>4.000</td>\n",
       "      <td>6.000</td>\n",
       "      <td>6.000</td>\n",
       "      <td>7.000</td>\n",
       "      <td>10.000</td>\n",
       "      <td>6.000</td>\n",
       "      <td>2.000</td>\n",
       "      <td>2.000</td>\n",
       "      <td>64.000</td>\n",
       "      <td>1.000</td>\n",
       "    </tr>\n",
       "    <tr>\n",
       "      <th>4</th>\n",
       "      <td>CH</td>\n",
       "      <td>29.000</td>\n",
       "      <td>6</td>\n",
       "      <td>5.000</td>\n",
       "      <td>6.000</td>\n",
       "      <td>7.000</td>\n",
       "      <td>5.000</td>\n",
       "      <td>8.000</td>\n",
       "      <td>7.000</td>\n",
       "      <td>2.000</td>\n",
       "      <td>2.000</td>\n",
       "      <td>55.000</td>\n",
       "      <td>1.000</td>\n",
       "    </tr>\n",
       "    <tr>\n",
       "      <th>6</th>\n",
       "      <td>CH</td>\n",
       "      <td>40.000</td>\n",
       "      <td>6</td>\n",
       "      <td>3.000</td>\n",
       "      <td>0.000</td>\n",
       "      <td>5.000</td>\n",
       "      <td>2.000</td>\n",
       "      <td>0.000</td>\n",
       "      <td>2.000</td>\n",
       "      <td>2.000</td>\n",
       "      <td>1.000</td>\n",
       "      <td>76.000</td>\n",
       "      <td>1.000</td>\n",
       "    </tr>\n",
       "    <tr>\n",
       "      <th>7</th>\n",
       "      <td>CH</td>\n",
       "      <td>41.000</td>\n",
       "      <td>6</td>\n",
       "      <td>2.000</td>\n",
       "      <td>4.000</td>\n",
       "      <td>5.000</td>\n",
       "      <td>3.000</td>\n",
       "      <td>10.000</td>\n",
       "      <td>5.000</td>\n",
       "      <td>2.000</td>\n",
       "      <td>2.000</td>\n",
       "      <td>30.000</td>\n",
       "      <td>1.000</td>\n",
       "    </tr>\n",
       "    <tr>\n",
       "      <th>8</th>\n",
       "      <td>CH</td>\n",
       "      <td>51.000</td>\n",
       "      <td>6</td>\n",
       "      <td>2.000</td>\n",
       "      <td>8.000</td>\n",
       "      <td>8.000</td>\n",
       "      <td>8.000</td>\n",
       "      <td>9.000</td>\n",
       "      <td>6.000</td>\n",
       "      <td>4.000</td>\n",
       "      <td>2.000</td>\n",
       "      <td>84.000</td>\n",
       "      <td>2.000</td>\n",
       "    </tr>\n",
       "    <tr>\n",
       "      <th>9</th>\n",
       "      <td>CH</td>\n",
       "      <td>53.000</td>\n",
       "      <td>6</td>\n",
       "      <td>4.000</td>\n",
       "      <td>4.000</td>\n",
       "      <td>4.000</td>\n",
       "      <td>8.000</td>\n",
       "      <td>7.000</td>\n",
       "      <td>4.000</td>\n",
       "      <td>2.000</td>\n",
       "      <td>2.000</td>\n",
       "      <td>62.000</td>\n",
       "      <td>1.000</td>\n",
       "    </tr>\n",
       "    <tr>\n",
       "      <th>10</th>\n",
       "      <td>CH</td>\n",
       "      <td>55.000</td>\n",
       "      <td>6</td>\n",
       "      <td>1.000</td>\n",
       "      <td>6.000</td>\n",
       "      <td>7.000</td>\n",
       "      <td>7.000</td>\n",
       "      <td>9.000</td>\n",
       "      <td>5.000</td>\n",
       "      <td>2.000</td>\n",
       "      <td>2.000</td>\n",
       "      <td>33.000</td>\n",
       "      <td>1.000</td>\n",
       "    </tr>\n",
       "  </tbody>\n",
       "</table>\n",
       "</div>"
      ],
      "text/plain": [
       "   cntry   idno  year  tvtot  ppltrst  pplfair  pplhlp  happy  sclmeet  \\\n",
       "0     CH  5.000     6  3.000    3.000   10.000   5.000  8.000    5.000   \n",
       "1     CH 25.000     6  6.000    5.000    7.000   5.000  9.000    3.000   \n",
       "2     CH 26.000     6  1.000    8.000    8.000   8.000  7.000    6.000   \n",
       "3     CH 28.000     6  4.000    6.000    6.000   7.000 10.000    6.000   \n",
       "4     CH 29.000     6  5.000    6.000    7.000   5.000  8.000    7.000   \n",
       "6     CH 40.000     6  3.000    0.000    5.000   2.000  0.000    2.000   \n",
       "7     CH 41.000     6  2.000    4.000    5.000   3.000 10.000    5.000   \n",
       "8     CH 51.000     6  2.000    8.000    8.000   8.000  9.000    6.000   \n",
       "9     CH 53.000     6  4.000    4.000    4.000   8.000  7.000    4.000   \n",
       "10    CH 55.000     6  1.000    6.000    7.000   7.000  9.000    5.000   \n",
       "\n",
       "    sclact  gndr   agea  partner  \n",
       "0    4.000 2.000 60.000    1.000  \n",
       "1    2.000 2.000 59.000    1.000  \n",
       "2    3.000 1.000 24.000    2.000  \n",
       "3    2.000 2.000 64.000    1.000  \n",
       "4    2.000 2.000 55.000    1.000  \n",
       "6    2.000 1.000 76.000    1.000  \n",
       "7    2.000 2.000 30.000    1.000  \n",
       "8    4.000 2.000 84.000    2.000  \n",
       "9    2.000 2.000 62.000    1.000  \n",
       "10   2.000 2.000 33.000    1.000  "
      ]
     },
     "execution_count": 3,
     "metadata": {},
     "output_type": "execute_result"
    }
   ],
   "source": [
    "df.head(10)"
   ]
  },
  {
   "cell_type": "markdown",
   "metadata": {},
   "source": [
    "#### Did people become less trusting from 2012 to 2014? Compute results for each country in the sample.\n",
    "\n"
   ]
  },
  {
   "cell_type": "code",
   "execution_count": 15,
   "metadata": {},
   "outputs": [],
   "source": [
    "# separate rows by year\n",
    "df_round6 = df.loc[df['year'] == 6]\n",
    "df_round7 = df.loc[df['year'] == 7]"
   ]
  },
  {
   "cell_type": "code",
   "execution_count": 5,
   "metadata": {},
   "outputs": [],
   "source": [
    "def trustcalc(round_6, round_7, country):\n",
    "    df_6_country = round_6.loc[round_6['cntry'] == country]\n",
    "    df_7_country = round_7.loc[round_7['cntry'] == country]\n",
    "    #print(df_7_country.head(5))\n",
    "    country_6_trust = df_6_country['ppltrst'].mean()\n",
    "    #print(country_6_trust)\n",
    "    country_7_trust = df_7_country['ppltrst'].mean()\n",
    "    print(country)\n",
    "    print('Round 1 average trust = ' + str(country_6_trust))\n",
    "    print('Round 2 average trust = ' + str(country_7_trust))\n",
    "    print(stats.ttest_ind(df_6_country['ppltrst'], df_7_country['ppltrst']))"
   ]
  },
  {
   "cell_type": "code",
   "execution_count": 6,
   "metadata": {},
   "outputs": [
    {
     "name": "stdout",
     "output_type": "stream",
     "text": [
      "CH\n",
      "Round 1 average trust = 5.685792349726776\n",
      "Round 2 average trust = 5.764468371467026\n",
      "Ttest_indResult(statistic=-0.7156974792217816, pvalue=0.4742916002909491)\n",
      "CZ\n",
      "Round 1 average trust = 4.402662229617304\n",
      "Round 2 average trust = 4.356435643564357\n",
      "Ttest_indResult(statistic=0.34075433231518504, pvalue=0.7333479315909976)\n",
      "DE\n",
      "Round 1 average trust = 5.076923076923077\n",
      "Round 2 average trust = 5.357142857142857\n",
      "Ttest_indResult(statistic=-0.3466213170125284, pvalue=0.7317764273785732)\n",
      "ES\n",
      "Round 1 average trust = 5.127806563039724\n",
      "Round 2 average trust = 4.940035273368607\n",
      "Ttest_indResult(statistic=2.1000674443244907, pvalue=0.03583204193521363)\n",
      "NO\n",
      "Round 1 average trust = 6.648305084745763\n",
      "Round 2 average trust = 6.599719101123595\n",
      "Ttest_indResult(statistic=0.5119224181145228, pvalue=0.6087850218131978)\n",
      "SE\n",
      "Round 1 average trust = 6.043073341094296\n",
      "Round 2 average trust = 6.239907727797001\n",
      "Ttest_indResult(statistic=-2.0268698056063146, pvalue=0.0428293634522298)\n"
     ]
    }
   ],
   "source": [
    "country_list = df['cntry'].unique()\n",
    "for country in country_list:\n",
    "    trustcalc(df_round6, df_round7, country)\n"
   ]
  },
  {
   "cell_type": "markdown",
   "metadata": {},
   "source": [
    "#### Conclusion: \n",
    "Only SE and ES had p-values low enough to believe any statistically significant change occurred; SE experienced a slight increase in trust between rounds, while ES had a slight decrease."
   ]
  },
  {
   "cell_type": "markdown",
   "metadata": {},
   "source": [
    "#### Did people become happier from 2012 to 2014? Compute results for each country in the sample.\n"
   ]
  },
  {
   "cell_type": "code",
   "execution_count": 7,
   "metadata": {},
   "outputs": [],
   "source": [
    "def happy_calc(round_6, round_7, country):\n",
    "    df_6_country = round_6.loc[round_6['cntry'] == country]\n",
    "    df_7_country = round_7.loc[round_7['cntry'] == country]\n",
    "    #print(df_7_country.head(5))\n",
    "    country_6_happiness = df_6_country['happy'].mean()\n",
    "    #print(country_6_trust)\n",
    "    country_7_happiness = df_7_country['happy'].mean()\n",
    "    print(country)\n",
    "    print('Round 1 average happiness = ' + str(country_6_happiness))\n",
    "    print('Round 2 average happiness = ' + str(country_7_happiness))\n",
    "    print(stats.ttest_ind(df_6_country['happy'], df_7_country['happy']))"
   ]
  },
  {
   "cell_type": "code",
   "execution_count": 8,
   "metadata": {},
   "outputs": [
    {
     "name": "stdout",
     "output_type": "stream",
     "text": [
      "CH\n",
      "Round 1 average happiness = 8.083333333333334\n",
      "Round 2 average happiness = 8.142664872139973\n",
      "Ttest_indResult(statistic=-0.812142488327401, pvalue=0.4168411011770018)\n",
      "CZ\n",
      "Round 1 average happiness = 6.790349417637271\n",
      "Round 2 average happiness = 6.922442244224422\n",
      "Ttest_indResult(statistic=-1.1592536826704618, pvalue=0.24658245820500238)\n",
      "DE\n",
      "Round 1 average happiness = 7.3076923076923075\n",
      "Round 2 average happiness = 7.857142857142857\n",
      "Ttest_indResult(statistic=-0.966317541228559, pvalue=0.3431409128727073)\n",
      "ES\n",
      "Round 1 average happiness = 7.557858376511226\n",
      "Round 2 average happiness = 7.450617283950617\n",
      "Ttest_indResult(statistic=1.3750588408504656, pvalue=0.16924771370417369)\n",
      "NO\n",
      "Round 1 average happiness = 8.252824858757062\n",
      "Round 2 average happiness = 7.919943820224719\n",
      "Ttest_indResult(statistic=4.152957205997266, pvalue=3.4778681704487346e-05)\n",
      "SE\n",
      "Round 1 average happiness = 7.90104772991851\n",
      "Round 2 average happiness = 7.9388696655132645\n",
      "Ttest_indResult(statistic=-0.5372790210326394, pvalue=0.5911442306272388)\n"
     ]
    }
   ],
   "source": [
    "for country in country_list:\n",
    "    happy_calc(df_round6, df_round7, country)\n"
   ]
  },
  {
   "cell_type": "markdown",
   "metadata": {},
   "source": [
    "#### Conclusion: \n",
    "The only country with a p-value low enough to indicate a statistically significant change occurred was NO, with a decrease in happiness between the two rounds."
   ]
  },
  {
   "cell_type": "markdown",
   "metadata": {},
   "source": [
    "#### Who reported watching more TV in 2012, men or women?\n"
   ]
  },
  {
   "cell_type": "code",
   "execution_count": 9,
   "metadata": {},
   "outputs": [
    {
     "name": "stdout",
     "output_type": "stream",
     "text": [
      "2012 men average daily tv hours: 3.8592303945445687\n",
      "2012 women average daily tv hours: 3.9053518334985133\n",
      "Ttest_indResult(statistic=-0.7323552192640558, pvalue=0.4639939646110154)\n",
      "P-Value is too high; no statistically significant difference\n"
     ]
    }
   ],
   "source": [
    "round_6_men = df_round6.loc[df_round6['gndr'] == 1]\n",
    "round_6_women = df_round6.loc[df_round6['gndr'] == 2]\n",
    "print('2012 men average daily tv hours: ' + str(round_6_men['tvtot'].mean()))\n",
    "print('2012 women average daily tv hours: ' + str(round_6_women['tvtot'].mean()))\n",
    "print(stats.ttest_ind(round_6_men['tvtot'], round_6_women['tvtot']))\n",
    "print('P-Value is too high; no statistically significant difference')"
   ]
  },
  {
   "cell_type": "markdown",
   "metadata": {},
   "source": [
    "#### Who was more likely to believe people were fair in 2012, people living with a partner or people living alone?\n"
   ]
  },
  {
   "cell_type": "code",
   "execution_count": 10,
   "metadata": {},
   "outputs": [
    {
     "name": "stdout",
     "output_type": "stream",
     "text": [
      "2012 partnered belief that people are fair: 6.0743509047993705\n",
      "2012 singles belief that people are fair: 5.86592544146501\n",
      "Ttest_indResult(statistic=3.0430439318464235, pvalue=0.002356936676939248)\n",
      "Partnered individuals were more likely to believe people were fair\n"
     ]
    }
   ],
   "source": [
    "round_6_partnered = df_round6.loc[df_round6['partner'] == 1]\n",
    "round_6_single = df_round6.loc[df_round6['partner'] == 2]\n",
    "print('2012 partnered belief that people are fair: ' + str(round_6_partnered['pplfair'].mean()))\n",
    "print('2012 singles belief that people are fair: ' + str(round_6_single['pplfair'].mean()))\n",
    "print(stats.ttest_ind(round_6_partnered['pplfair'], round_6_single['pplfair']))\n",
    "print('Partnered individuals were more likely to believe people were fair')"
   ]
  },
  {
   "cell_type": "markdown",
   "metadata": {},
   "source": [
    "#### Pick three or four of the countries in the sample and compare how often people met socially in 2014. Are there differences, and if so, which countries stand out?\n"
   ]
  },
  {
   "cell_type": "code",
   "execution_count": 33,
   "metadata": {},
   "outputs": [
    {
     "data": {
      "text/html": [
       "<table class=\"simpletable\">\n",
       "<caption>Multiple Comparison of Means - Tukey HSD,FWER=0.05</caption>\n",
       "<tr>\n",
       "  <th>group1</th> <th>group2</th> <th>meandiff</th>  <th>lower</th>   <th>upper</th>  <th>reject</th>\n",
       "</tr>\n",
       "<tr>\n",
       "    <td>CH</td>     <td>CZ</td>    <td>-0.6799</td> <td>-0.8963</td> <td>-0.4635</td>  <td>True</td> \n",
       "</tr>\n",
       "<tr>\n",
       "    <td>CH</td>     <td>DE</td>    <td>-0.7464</td> <td>-1.813</td>  <td>0.3202</td>   <td>False</td>\n",
       "</tr>\n",
       "<tr>\n",
       "    <td>CH</td>     <td>ES</td>    <td>0.0887</td>  <td>-0.0979</td> <td>0.2753</td>   <td>False</td>\n",
       "</tr>\n",
       "<tr>\n",
       "    <td>CH</td>     <td>NO</td>    <td>0.1354</td>  <td>-0.0719</td> <td>0.3428</td>   <td>False</td>\n",
       "</tr>\n",
       "<tr>\n",
       "    <td>CH</td>     <td>SE</td>    <td>0.2599</td>  <td>0.0622</td>  <td>0.4575</td>   <td>True</td> \n",
       "</tr>\n",
       "<tr>\n",
       "    <td>CZ</td>     <td>DE</td>    <td>-0.0665</td> <td>-1.1353</td> <td>1.0024</td>   <td>False</td>\n",
       "</tr>\n",
       "<tr>\n",
       "    <td>CZ</td>     <td>ES</td>    <td>0.7686</td>  <td>0.5697</td>  <td>0.9676</td>   <td>True</td> \n",
       "</tr>\n",
       "<tr>\n",
       "    <td>CZ</td>     <td>NO</td>    <td>0.8153</td>  <td>0.5968</td>  <td>1.0339</td>   <td>True</td> \n",
       "</tr>\n",
       "<tr>\n",
       "    <td>CZ</td>     <td>SE</td>    <td>0.9398</td>  <td>0.7304</td>  <td>1.1491</td>   <td>True</td> \n",
       "</tr>\n",
       "<tr>\n",
       "    <td>DE</td>     <td>ES</td>    <td>0.8351</td>  <td>-0.2281</td> <td>1.8983</td>   <td>False</td>\n",
       "</tr>\n",
       "<tr>\n",
       "    <td>DE</td>     <td>NO</td>    <td>0.8818</td>  <td>-0.1852</td> <td>1.9489</td>   <td>False</td>\n",
       "</tr>\n",
       "<tr>\n",
       "    <td>DE</td>     <td>SE</td>    <td>1.0063</td>  <td>-0.059</td>  <td>2.0715</td>   <td>False</td>\n",
       "</tr>\n",
       "<tr>\n",
       "    <td>ES</td>     <td>NO</td>    <td>0.0467</td>  <td>-0.1423</td> <td>0.2358</td>   <td>False</td>\n",
       "</tr>\n",
       "<tr>\n",
       "    <td>ES</td>     <td>SE</td>    <td>0.1712</td>  <td>-0.0072</td> <td>0.3495</td>   <td>False</td>\n",
       "</tr>\n",
       "<tr>\n",
       "    <td>NO</td>     <td>SE</td>    <td>0.1244</td>  <td>-0.0755</td> <td>0.3244</td>   <td>False</td>\n",
       "</tr>\n",
       "</table>"
      ],
      "text/plain": [
       "<class 'statsmodels.iolib.table.SimpleTable'>"
      ]
     },
     "execution_count": 33,
     "metadata": {},
     "output_type": "execute_result"
    }
   ],
   "source": [
    "import scipy.stats as stats\n",
    "from statsmodels.stats.multicomp import pairwise_tukeyhsd\n",
    "\n",
    "sclmeet = np.asarray(df_round7['sclmeet'].tolist())\n",
    "\n",
    "countries = df_round7['cntry']\n",
    "\n",
    "tukey = pairwise_tukeyhsd(endog=sclmeet,      # Data\n",
    "                          groups=countries,   # Groups\n",
    "                          alpha=0.05)         # Significance level\n",
    "\n",
    "tukey.summary()  "
   ]
  },
  {
   "cell_type": "code",
   "execution_count": 39,
   "metadata": {},
   "outputs": [
    {
     "name": "stdout",
     "output_type": "stream",
     "text": [
      "*CH vs CZ: Ttest_indResult(statistic=8.998568888102158, pvalue=7.58694000913212e-19)\n",
      "CH vs DE: Ttest_indResult(statistic=2.137774079859156, pvalue=0.032855611686425916)\n",
      "CH vs ES: Ttest_indResult(statistic=-1.3563979158247432, pvalue=0.17513589623821907)\n",
      "CH vs NO: Ttest_indResult(statistic=-1.9524600649137105, pvalue=0.05107541004946689)\n",
      "*CH vs SE: Ttest_indResult(statistic=-3.8811664926200904, pvalue=0.00010815819723507566)\n",
      "CZ vs DE: Ttest_indResult(statistic=0.16846066305094798, pvalue=0.8662760053993819)\n",
      "*CZ vs ES: Ttest_indResult(statistic=-10.538036641317998, pvalue=3.262659263756715e-25)\n",
      "*CZ vs NO: Ttest_indResult(statistic=-10.507796823715257, pvalue=7.427021134307074e-25)\n",
      "*CZ vs SE: Ttest_indResult(statistic=-12.562023116127296, pvalue=1.86957819627182e-34)\n",
      "DE vs ES: Ttest_indResult(statistic=-2.168865565712128, pvalue=0.030298013218196748)\n",
      "DE vs NO: Ttest_indResult(statistic=-2.4461487954484564, pvalue=0.014676088277028506)\n",
      "DE vs SE: Ttest_indResult(statistic=-2.739042801007487, pvalue=0.006286550691196736)\n",
      "ES vs NO: Ttest_indResult(statistic=-0.6968046493592841, pvalue=0.48601288469157433)\n",
      "ES vs SE: Ttest_indResult(statistic=-2.6925202988475645, pvalue=0.0071506085242787525)\n",
      "NO vs SE: Ttest_indResult(statistic=-1.8108243825311887, pvalue=0.07035826286442122)\n"
     ]
    }
   ],
   "source": [
    "round7_CH = df_round7.loc[df_round7['cntry'] == 'CH']\n",
    "round7_CZ = df_round7.loc[df_round7['cntry'] == 'CZ']\n",
    "round7_DE = df_round7.loc[df_round7['cntry'] == 'DE']\n",
    "round7_ES = df_round7.loc[df_round7['cntry'] == 'ES']\n",
    "round7_NO = df_round7.loc[df_round7['cntry'] == 'NO']\n",
    "round7_SE = df_round7.loc[df_round7['cntry'] == 'SE']\n",
    "\n",
    "print('*CH vs CZ: ' + str(stats.ttest_ind(round7_CH['sclmeet'], round7_CZ['sclmeet'])))\n",
    "print('CH vs DE: ' + str(stats.ttest_ind(round7_CH['sclmeet'], round7_DE['sclmeet'])))\n",
    "print('CH vs ES: ' + str(stats.ttest_ind(round7_CH['sclmeet'], round7_ES['sclmeet'])))\n",
    "print('CH vs NO: ' + str(stats.ttest_ind(round7_CH['sclmeet'], round7_NO['sclmeet'])))\n",
    "print('*CH vs SE: ' + str(stats.ttest_ind(round7_CH['sclmeet'], round7_SE['sclmeet'])))\n",
    "print('CZ vs DE: ' + str(stats.ttest_ind(round7_CZ['sclmeet'], round7_DE['sclmeet'])))\n",
    "print('*CZ vs ES: ' + str(stats.ttest_ind(round7_CZ['sclmeet'], round7_ES['sclmeet'])))\n",
    "print('*CZ vs NO: ' + str(stats.ttest_ind(round7_CZ['sclmeet'], round7_NO['sclmeet'])))\n",
    "print('*CZ vs SE: ' + str(stats.ttest_ind(round7_CZ['sclmeet'], round7_SE['sclmeet'])))\n",
    "print('DE vs ES: ' + str(stats.ttest_ind(round7_DE['sclmeet'], round7_ES['sclmeet'])))\n",
    "print('DE vs NO: ' + str(stats.ttest_ind(round7_DE['sclmeet'], round7_NO['sclmeet'])))\n",
    "print('DE vs SE: ' + str(stats.ttest_ind(round7_DE['sclmeet'], round7_SE['sclmeet'])))\n",
    "print('ES vs NO: ' + str(stats.ttest_ind(round7_ES['sclmeet'], round7_NO['sclmeet'])))\n",
    "print('ES vs SE: ' + str(stats.ttest_ind(round7_ES['sclmeet'], round7_SE['sclmeet'])))\n",
    "print('NO vs SE: ' + str(stats.ttest_ind(round7_NO['sclmeet'], round7_SE['sclmeet'])))\n"
   ]
  },
  {
   "cell_type": "code",
   "execution_count": 34,
   "metadata": {},
   "outputs": [
    {
     "name": "stdout",
     "output_type": "stream",
     "text": [
      "CZ: 4.4950495049504955\n",
      "CH: 5.174966352624495\n",
      "DE: 4.428571428571429\n",
      "ES: 5.263668430335097\n",
      "NO: 5.310393258426966\n",
      "SE: 5.434832756632065\n"
     ]
    }
   ],
   "source": [
    "print('CZ: ' + str(round7_CZ['sclmeet'].mean()))\n",
    "print('CH: ' + str(round7_CH['sclmeet'].mean()))\n",
    "print('DE: ' + str(round7_DE['sclmeet'].mean()))\n",
    "print('ES: ' + str(round7_ES['sclmeet'].mean()))\n",
    "print('NO: ' + str(round7_NO['sclmeet'].mean()))\n",
    "print('SE: ' + str(round7_SE['sclmeet'].mean()))\n"
   ]
  },
  {
   "cell_type": "markdown",
   "metadata": {},
   "source": [
    "#### Conclusion:\n",
    "Using both Tukey's Pairwise test and a point-by-point comparison of t-tests, CZ is by far the standout, with very low p-values and high differences between its mean and those of the other countries, with the exception of DE, which has a very similar mean.  It's worth noting that DE does *not* have a similar relationship with the other countries' means for this variable, despite having a superficial similarity to CZ.  CH vs SE is also a lone standout."
   ]
  },
  {
   "cell_type": "markdown",
   "metadata": {},
   "source": [
    "#### Pick three or four of the countries in the sample and compare how often people took part in social activities, relative to others their age, in 2014. Are there differences, and if so, which countries stand out?"
   ]
  },
  {
   "cell_type": "code",
   "execution_count": 42,
   "metadata": {},
   "outputs": [
    {
     "data": {
      "text/html": [
       "<table class=\"simpletable\">\n",
       "<caption>Multiple Comparison of Means - Tukey HSD,FWER=0.05</caption>\n",
       "<tr>\n",
       "  <th>group1</th> <th>group2</th> <th>meandiff</th>  <th>lower</th>   <th>upper</th>  <th>reject</th>\n",
       "</tr>\n",
       "<tr>\n",
       "    <td>CH</td>     <td>CZ</td>    <td>-0.0553</td> <td>-0.1935</td> <td>0.0829</td>   <td>False</td>\n",
       "</tr>\n",
       "<tr>\n",
       "    <td>CH</td>     <td>DE</td>    <td>-0.0704</td> <td>-0.7514</td> <td>0.6107</td>   <td>False</td>\n",
       "</tr>\n",
       "<tr>\n",
       "    <td>CH</td>     <td>ES</td>    <td>-0.1533</td> <td>-0.2724</td> <td>-0.0341</td>  <td>True</td> \n",
       "</tr>\n",
       "<tr>\n",
       "    <td>CH</td>     <td>NO</td>    <td>0.0763</td>  <td>-0.0561</td> <td>0.2087</td>   <td>False</td>\n",
       "</tr>\n",
       "<tr>\n",
       "    <td>CH</td>     <td>SE</td>    <td>0.0942</td>  <td>-0.032</td>  <td>0.2205</td>   <td>False</td>\n",
       "</tr>\n",
       "<tr>\n",
       "    <td>CZ</td>     <td>DE</td>    <td>-0.0151</td> <td>-0.6976</td> <td>0.6674</td>   <td>False</td>\n",
       "</tr>\n",
       "<tr>\n",
       "    <td>CZ</td>     <td>ES</td>    <td>-0.098</td>  <td>-0.225</td>  <td>0.0291</td>   <td>False</td>\n",
       "</tr>\n",
       "<tr>\n",
       "    <td>CZ</td>     <td>NO</td>    <td>0.1316</td>  <td>-0.008</td>  <td>0.2711</td>   <td>False</td>\n",
       "</tr>\n",
       "<tr>\n",
       "    <td>CZ</td>     <td>SE</td>    <td>0.1495</td>  <td>0.0158</td>  <td>0.2832</td>   <td>True</td> \n",
       "</tr>\n",
       "<tr>\n",
       "    <td>DE</td>     <td>ES</td>    <td>-0.0829</td> <td>-0.7618</td>  <td>0.596</td>   <td>False</td>\n",
       "</tr>\n",
       "<tr>\n",
       "    <td>DE</td>     <td>NO</td>    <td>0.1467</td>  <td>-0.5347</td>  <td>0.828</td>   <td>False</td>\n",
       "</tr>\n",
       "<tr>\n",
       "    <td>DE</td>     <td>SE</td>    <td>0.1646</td>  <td>-0.5156</td> <td>0.8448</td>   <td>False</td>\n",
       "</tr>\n",
       "<tr>\n",
       "    <td>ES</td>     <td>NO</td>    <td>0.2296</td>  <td>0.1088</td>  <td>0.3503</td>   <td>True</td> \n",
       "</tr>\n",
       "<tr>\n",
       "    <td>ES</td>     <td>SE</td>    <td>0.2475</td>  <td>0.1336</td>  <td>0.3614</td>   <td>True</td> \n",
       "</tr>\n",
       "<tr>\n",
       "    <td>NO</td>     <td>SE</td>    <td>0.0179</td>  <td>-0.1097</td> <td>0.1456</td>   <td>False</td>\n",
       "</tr>\n",
       "</table>"
      ],
      "text/plain": [
       "<class 'statsmodels.iolib.table.SimpleTable'>"
      ]
     },
     "execution_count": 42,
     "metadata": {},
     "output_type": "execute_result"
    }
   ],
   "source": [
    "sclact = np.asarray(df_round7['sclact'].tolist())\n",
    "\n",
    "countries = df_round7['cntry']\n",
    "\n",
    "tukey = pairwise_tukeyhsd(endog=sclact,      # Data\n",
    "                          groups=countries,   # Groups\n",
    "                          alpha=0.05)         # Significance level\n",
    "\n",
    "tukey.summary()  "
   ]
  },
  {
   "cell_type": "code",
   "execution_count": 40,
   "metadata": {},
   "outputs": [
    {
     "name": "stdout",
     "output_type": "stream",
     "text": [
      "CH vs CZ: Ttest_indResult(statistic=1.148808631379681, pvalue=0.25083885461561173)\n",
      "CH vs DE: Ttest_indResult(statistic=0.28869953984944624, pvalue=0.7728905598034453)\n",
      "*CH vs ES: Ttest_indResult(statistic=3.478987931157087, pvalue=0.0005148090072335817)\n",
      "CH vs NO: Ttest_indResult(statistic=-1.680661879471351, pvalue=0.09304354378556014)\n",
      "CH vs SE: Ttest_indResult(statistic=-2.138086758045346, pvalue=0.03266006699743851)\n",
      "CZ vs DE: Ttest_indResult(statistic=0.06625763933618, pvalue=0.9471941363231762)\n",
      "CZ vs ES: Ttest_indResult(statistic=2.127732025799766, pvalue=0.03349971308846818)\n",
      "CZ vs NO: Ttest_indResult(statistic=-2.861670223005847, pvalue=0.004280825791403077)\n",
      "*CZ vs SE: Ttest_indResult(statistic=-3.308051048995222, pvalue=0.0009621646490513099)\n",
      "DE vs ES: Ttest_indResult(statistic=0.32503027389966244, pvalue=0.7452174850209412)\n",
      "DE vs NO: Ttest_indResult(statistic=-0.6632621751899663, pvalue=0.5073737764824289)\n",
      "DE vs SE: Ttest_indResult(statistic=-0.7120803198617717, pvalue=0.47660399113995766)\n",
      "*ES vs NO: Ttest_indResult(statistic=-5.31751240602575, pvalue=1.1799291265139793e-07)\n",
      "*ES vs SE: Ttest_indResult(statistic=-6.012700644386077, pvalue=2.163487662927079e-09)\n",
      "NO vs SE: Ttest_indResult(statistic=-0.42094459733257983, pvalue=0.6738528977365044)\n"
     ]
    }
   ],
   "source": [
    "print('CH vs CZ: ' + str(stats.ttest_ind(round7_CH['sclact'], round7_CZ['sclact'])))\n",
    "print('CH vs DE: ' + str(stats.ttest_ind(round7_CH['sclact'], round7_DE['sclact'])))\n",
    "print('*CH vs ES: ' + str(stats.ttest_ind(round7_CH['sclact'], round7_ES['sclact'])))\n",
    "print('CH vs NO: ' + str(stats.ttest_ind(round7_CH['sclact'], round7_NO['sclact'])))\n",
    "print('CH vs SE: ' + str(stats.ttest_ind(round7_CH['sclact'], round7_SE['sclact'])))\n",
    "print('CZ vs DE: ' + str(stats.ttest_ind(round7_CZ['sclact'], round7_DE['sclact'])))\n",
    "print('CZ vs ES: ' + str(stats.ttest_ind(round7_CZ['sclact'], round7_ES['sclact'])))\n",
    "print('CZ vs NO: ' + str(stats.ttest_ind(round7_CZ['sclact'], round7_NO['sclact'])))\n",
    "print('*CZ vs SE: ' + str(stats.ttest_ind(round7_CZ['sclact'], round7_SE['sclact'])))\n",
    "print('DE vs ES: ' + str(stats.ttest_ind(round7_DE['sclact'], round7_ES['sclact'])))\n",
    "print('DE vs NO: ' + str(stats.ttest_ind(round7_DE['sclact'], round7_NO['sclact'])))\n",
    "print('DE vs SE: ' + str(stats.ttest_ind(round7_DE['sclact'], round7_SE['sclact'])))\n",
    "print('*ES vs NO: ' + str(stats.ttest_ind(round7_ES['sclact'], round7_NO['sclact'])))\n",
    "print('*ES vs SE: ' + str(stats.ttest_ind(round7_ES['sclact'], round7_SE['sclact'])))\n",
    "print('NO vs SE: ' + str(stats.ttest_ind(round7_NO['sclact'], round7_SE['sclact'])))\n"
   ]
  },
  {
   "cell_type": "code",
   "execution_count": 37,
   "metadata": {},
   "outputs": [
    {
     "name": "stdout",
     "output_type": "stream",
     "text": [
      "CZ: 2.7293729372937294\n",
      "CH: 2.784656796769852\n",
      "DE: 2.7142857142857144\n",
      "ES: 2.631393298059965\n",
      "NO: 2.860955056179775\n",
      "SE: 2.878892733564014\n"
     ]
    }
   ],
   "source": [
    "print('CZ: ' + str(round7_CZ['sclact'].mean()))\n",
    "print('CH: ' + str(round7_CH['sclact'].mean()))\n",
    "print('DE: ' + str(round7_DE['sclact'].mean()))\n",
    "print('ES: ' + str(round7_ES['sclact'].mean()))\n",
    "print('NO: ' + str(round7_NO['sclact'].mean()))\n",
    "print('SE: ' + str(round7_SE['sclact'].mean()))\n"
   ]
  },
  {
   "cell_type": "markdown",
   "metadata": {},
   "source": [
    "#### Conclusion:\n",
    "ES seems to be the big standout in this comparison, having significant differences from NO, SE, and CH.  CZ and SE also seem to have significant differences, according to this test."
   ]
  }
 ],
 "metadata": {
  "kernelspec": {
   "display_name": "Python 3",
   "language": "python",
   "name": "python3"
  },
  "language_info": {
   "codemirror_mode": {
    "name": "ipython",
    "version": 3
   },
   "file_extension": ".py",
   "mimetype": "text/x-python",
   "name": "python",
   "nbconvert_exporter": "python",
   "pygments_lexer": "ipython3",
   "version": "3.7.0"
  }
 },
 "nbformat": 4,
 "nbformat_minor": 2
}
